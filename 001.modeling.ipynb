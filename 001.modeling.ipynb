{
  "nbformat": 4,
  "nbformat_minor": 0,
  "metadata": {
    "colab": {
      "name": "기말고사 소논문.ipynb",
      "provenance": [],
      "toc_visible": true,
      "collapsed_sections": [
        "k6sYOPX8pUEa",
        "AxqWTnomKPL7",
        "sYEtUSaFKSRV",
        "Kj_jrbmTKIWT",
        "xqbXQW5SKn_C",
        "WI0tpzrYLBvF"
      ]
    },
    "kernelspec": {
      "name": "python3",
      "display_name": "Python 3"
    },
    "language_info": {
      "name": "python"
    }
  },
  "cells": [
    {
      "cell_type": "markdown",
      "source": [
        "## 0 전처리"
      ],
      "metadata": {
        "id": "flmvYXu6LSYq"
      }
    },
    {
      "cell_type": "code",
      "execution_count": null,
      "metadata": {
        "id": "nXt7-BxvOxYG",
        "colab": {
          "base_uri": "https://localhost:8080/"
        },
        "outputId": "5b5baece-53c2-4d92-fc26-6dc5868668c7"
      },
      "outputs": [
        {
          "output_type": "stream",
          "name": "stdout",
          "text": [
            "Looking in indexes: https://pypi.org/simple, https://us-python.pkg.dev/colab-wheels/public/simple/\n",
            "Collecting mglearn\n",
            "  Downloading mglearn-0.1.9.tar.gz (540 kB)\n",
            "\u001b[K     |████████████████████████████████| 540 kB 8.5 MB/s \n",
            "\u001b[?25hRequirement already satisfied: numpy in /usr/local/lib/python3.7/dist-packages (from mglearn) (1.21.6)\n",
            "Requirement already satisfied: matplotlib in /usr/local/lib/python3.7/dist-packages (from mglearn) (3.2.2)\n",
            "Requirement already satisfied: scikit-learn in /usr/local/lib/python3.7/dist-packages (from mglearn) (1.0.2)\n",
            "Requirement already satisfied: pandas in /usr/local/lib/python3.7/dist-packages (from mglearn) (1.3.5)\n",
            "Requirement already satisfied: pillow in /usr/local/lib/python3.7/dist-packages (from mglearn) (7.1.2)\n",
            "Requirement already satisfied: cycler in /usr/local/lib/python3.7/dist-packages (from mglearn) (0.11.0)\n",
            "Requirement already satisfied: imageio in /usr/local/lib/python3.7/dist-packages (from mglearn) (2.4.1)\n",
            "Requirement already satisfied: joblib in /usr/local/lib/python3.7/dist-packages (from mglearn) (1.1.0)\n",
            "Requirement already satisfied: pyparsing!=2.0.4,!=2.1.2,!=2.1.6,>=2.0.1 in /usr/local/lib/python3.7/dist-packages (from matplotlib->mglearn) (3.0.9)\n",
            "Requirement already satisfied: kiwisolver>=1.0.1 in /usr/local/lib/python3.7/dist-packages (from matplotlib->mglearn) (1.4.2)\n",
            "Requirement already satisfied: python-dateutil>=2.1 in /usr/local/lib/python3.7/dist-packages (from matplotlib->mglearn) (2.8.2)\n",
            "Requirement already satisfied: typing-extensions in /usr/local/lib/python3.7/dist-packages (from kiwisolver>=1.0.1->matplotlib->mglearn) (4.2.0)\n",
            "Requirement already satisfied: six>=1.5 in /usr/local/lib/python3.7/dist-packages (from python-dateutil>=2.1->matplotlib->mglearn) (1.15.0)\n",
            "Requirement already satisfied: pytz>=2017.3 in /usr/local/lib/python3.7/dist-packages (from pandas->mglearn) (2022.1)\n",
            "Requirement already satisfied: threadpoolctl>=2.0.0 in /usr/local/lib/python3.7/dist-packages (from scikit-learn->mglearn) (3.1.0)\n",
            "Requirement already satisfied: scipy>=1.1.0 in /usr/local/lib/python3.7/dist-packages (from scikit-learn->mglearn) (1.4.1)\n",
            "Building wheels for collected packages: mglearn\n",
            "  Building wheel for mglearn (setup.py) ... \u001b[?25l\u001b[?25hdone\n",
            "  Created wheel for mglearn: filename=mglearn-0.1.9-py2.py3-none-any.whl size=582639 sha256=b1ec515da9b3a4dcb81b7719a55a7ae65ef0c65a2a1ca32c75ca1267316de29e\n",
            "  Stored in directory: /root/.cache/pip/wheels/f1/17/e1/1720d6dcd70187b6b6c3750cb3508798f2b1d57c9d3214b08b\n",
            "Successfully built mglearn\n",
            "Installing collected packages: mglearn\n",
            "Successfully installed mglearn-0.1.9\n"
          ]
        }
      ],
      "source": [
        "%matplotlib inline\n",
        "import pandas as pd\n",
        "import seaborn as sns           \n",
        "import matplotlib.pyplot as plt\n",
        "\n",
        "!pip install mglearn\n",
        "import mglearn"
      ]
    },
    {
      "cell_type": "code",
      "source": [
        "from google.colab import drive\n",
        "drive.mount('/content/drive')"
      ],
      "metadata": {
        "colab": {
          "base_uri": "https://localhost:8080/"
        },
        "id": "QbD6S_fDOzTD",
        "outputId": "74571bdf-8062-4a43-aa95-bfbe6fb6fb1f"
      },
      "execution_count": null,
      "outputs": [
        {
          "output_type": "stream",
          "name": "stdout",
          "text": [
            "Mounted at /content/drive\n"
          ]
        }
      ]
    },
    {
      "cell_type": "markdown",
      "source": [
        "### 0-1. 데이터 불러오기"
      ],
      "metadata": {
        "id": "k6sYOPX8pUEa"
      }
    },
    {
      "cell_type": "code",
      "source": [
        "df = pd.read_csv('/content/drive/MyDrive/[2학기] 2022-1/빅데이터마이닝/소논문/GOMS 데이터/reGP18_2019.csv')"
      ],
      "metadata": {
        "id": "3IwYmGTmO6Aw"
      },
      "execution_count": null,
      "outputs": []
    },
    {
      "cell_type": "code",
      "source": [
        "df = df.iloc[:, 1:]"
      ],
      "metadata": {
        "id": "SfaBcA8poXZE"
      },
      "execution_count": null,
      "outputs": []
    },
    {
      "cell_type": "code",
      "source": [
        "df.drop(['a140','a141'], axis = 'columns', inplace = True)"
      ],
      "metadata": {
        "id": "7yhbHWNJUR7X"
      },
      "execution_count": null,
      "outputs": []
    },
    {
      "cell_type": "code",
      "source": [
        "df.info()"
      ],
      "metadata": {
        "colab": {
          "base_uri": "https://localhost:8080/"
        },
        "id": "XbiHv7oIXch_",
        "outputId": "06bd8d3e-06a2-4bc3-9ad9-ae96fb6613ee"
      },
      "execution_count": null,
      "outputs": [
        {
          "output_type": "stream",
          "name": "stdout",
          "text": [
            "<class 'pandas.core.frame.DataFrame'>\n",
            "RangeIndex: 8611 entries, 0 to 8610\n",
            "Data columns (total 46 columns):\n",
            " #   Column      Non-Null Count  Dtype  \n",
            "---  ------      --------------  -----  \n",
            " 0   majorcat    8611 non-null   int64  \n",
            " 1   sex         8611 non-null   int64  \n",
            " 2   age         8611 non-null   float64\n",
            " 3   fam03       8611 non-null   int64  \n",
            " 4   gpa         8611 non-null   float64\n",
            " 5   loan01      8611 non-null   int64  \n",
            " 6   lan01       8611 non-null   int64  \n",
            " 7   lan02       8611 non-null   int64  \n",
            " 8   lan03       8611 non-null   int64  \n",
            " 9   licen02     8611 non-null   int64  \n",
            " 10  period      8611 non-null   int64  \n",
            " 11  a007a_2018  8611 non-null   int64  \n",
            " 12  regular     8611 non-null   int64  \n",
            " 13  com_size    8611 non-null   int64  \n",
            " 14  com_loc     8611 non-null   int64  \n",
            " 15  time        8611 non-null   int64  \n",
            " 16  work04      8611 non-null   int64  \n",
            " 17  work05      8611 non-null   int64  \n",
            " 18  payment01   8611 non-null   int64  \n",
            " 19  payment02   8611 non-null   int64  \n",
            " 20  enter01     8611 non-null   int64  \n",
            " 21  enter02     8611 non-null   int64  \n",
            " 22  b02         8611 non-null   int64  \n",
            " 23  b03         8611 non-null   int64  \n",
            " 24  b04         8611 non-null   int64  \n",
            " 25  b05         8611 non-null   int64  \n",
            " 26  b06         8611 non-null   int64  \n",
            " 27  b07         8611 non-null   int64  \n",
            " 28  ins02       8611 non-null   int64  \n",
            " 29  ins05       8611 non-null   int64  \n",
            " 30  a126        8611 non-null   int64  \n",
            " 31  a128        8611 non-null   int64  \n",
            " 32  a129        8611 non-null   int64  \n",
            " 33  a130        8611 non-null   int64  \n",
            " 34  a131        8611 non-null   int64  \n",
            " 35  a133        8611 non-null   int64  \n",
            " 36  a134        8611 non-null   int64  \n",
            " 37  a136        8611 non-null   int64  \n",
            " 38  a137        8611 non-null   int64  \n",
            " 39  a138        8611 non-null   int64  \n",
            " 40  a139        8611 non-null   int64  \n",
            " 41  a142        8611 non-null   int64  \n",
            " 42  a143        8611 non-null   int64  \n",
            " 43  a145        8611 non-null   int64  \n",
            " 44  a146        8611 non-null   int64  \n",
            " 45  target      8611 non-null   int64  \n",
            "dtypes: float64(2), int64(44)\n",
            "memory usage: 3.0 MB\n"
          ]
        }
      ]
    },
    {
      "cell_type": "code",
      "source": [
        "df['target'].value_counts()"
      ],
      "metadata": {
        "colab": {
          "base_uri": "https://localhost:8080/"
        },
        "id": "i0icYdhWZCBK",
        "outputId": "6ca8f5d1-7d34-41d1-e823-e44151aa507c"
      },
      "execution_count": null,
      "outputs": [
        {
          "output_type": "execute_result",
          "data": {
            "text/plain": [
              "0    6862\n",
              "1    1749\n",
              "Name: target, dtype: int64"
            ]
          },
          "metadata": {},
          "execution_count": 7
        }
      ]
    },
    {
      "cell_type": "code",
      "source": [
        "print(df['target'].value_counts())\n",
        "\n",
        "df['target'].value_counts().plot.bar()\n",
        "plt.ylabel('count')\n",
        "plt.title('Distribution of diagnosis')\n",
        "plt.show()"
      ],
      "metadata": {
        "colab": {
          "base_uri": "https://localhost:8080/"
        },
        "id": "11AuTUJunJo6",
        "outputId": "7b5e017c-e080-4074-b8cc-b61feee1c6ad"
      },
      "execution_count": null,
      "outputs": [
        {
          "output_type": "stream",
          "name": "stdout",
          "text": [
            "0    6862\n",
            "1    1749\n",
            "Name: target, dtype: int64\n"
          ]
        },
        {
          "output_type": "display_data",
          "data": {
            "text/plain": [
              "<Figure size 432x288 with 1 Axes>"
            ],
            "image/png": "[encoded data removed]"
          },
          "metadata": {
            "needs_background": "light"
          }
        }
      ]
    },
    {
      "cell_type": "code",
      "source": [
        "majorcat = pd.get_dummies(df.majorcat)\n",
        "majorcat.columns = ['majorcat1','majorcat2','majorcat3','majorcat4','majorcat5','majorcat6','majorcat7']\n",
        "majorcat"
      ],
      "metadata": {
        "colab": {
          "base_uri": "https://localhost:8080/"
        },
        "id": "wWVd6eWiog6x",
        "outputId": "6f4e9c60-c41d-4717-fcf0-af79f2536099"
      },
      "execution_count": null,
      "outputs": [
        {
          "output_type": "execute_result",
          "data": {
            "text/plain": [
              "      majorcat1  majorcat2  majorcat3  majorcat4  majorcat5  majorcat6  \\\n",
              "0             1          0          0          0          0          0   \n",
              "1             1          0          0          0          0          0   \n",
              "2             1          0          0          0          0          0   \n",
              "3             1          0          0          0          0          0   \n",
              "4             1          0          0          0          0          0   \n",
              "...         ...        ...        ...        ...        ...        ...   \n",
              "8606          0          0          0          0          0          0   \n",
              "8607          0          0          0          0          0          0   \n",
              "8608          0          0          0          0          0          0   \n",
              "8609          0          0          0          0          0          0   \n",
              "8610          0          0          1          0          0          0   \n",
              "\n",
              "      majorcat7  \n",
              "0             0  \n",
              "1             0  \n",
              "2             0  \n",
              "3             0  \n",
              "4             0  \n",
              "...         ...  \n",
              "8606          1  \n",
              "8607          1  \n",
              "8608          1  \n",
              "8609          1  \n",
              "8610          0  \n",
              "\n",
              "[8611 rows x 7 columns]"
            ],
            "text/html": [
              "\n",
              "  <div id=\"df-36bea492-bc74-4371-8448-0d2177288dba\">\n",
              "    <div class=\"colab-df-container\">\n",
              "      <div>\n",
              "<style scoped>\n",
              "    .dataframe tbody tr th:only-of-type {\n",
              "        vertical-align: middle;\n",
              "    }\n",
              "\n",
              "    .dataframe tbody tr th {\n",
              "        vertical-align: top;\n",
              "    }\n",
              "\n",
              "    .dataframe thead th {\n",
              "        text-align: right;\n",
              "    }\n",
              "</style>\n",
              "<table border=\"1\" class=\"dataframe\">\n",
              "  <thead>\n",
              "    <tr style=\"text-align: right;\">\n",
              "      <th></th>\n",
              "      <th>majorcat1</th>\n",
              "      <th>majorcat2</th>\n",
              "      <th>majorcat3</th>\n",
              "      <th>majorcat4</th>\n",
              "      <th>majorcat5</th>\n",
              "      <th>majorcat6</th>\n",
              "      <th>majorcat7</th>\n",
              "    </tr>\n",
              "  </thead>\n",
              "  <tbody>\n",
              "    <tr>\n",
              "      <th>0</th>\n",
              "      <td>1</td>\n",
              "      <td>0</td>\n",
              "      <td>0</td>\n",
              "      <td>0</td>\n",
              "      <td>0</td>\n",
              "      <td>0</td>\n",
              "      <td>0</td>\n",
              "    </tr>\n",
              "    <tr>\n",
              "      <th>1</th>\n",
              "      <td>1</td>\n",
              "      <td>0</td>\n",
              "      <td>0</td>\n",
              "      <td>0</td>\n",
              "      <td>0</td>\n",
              "      <td>0</td>\n",
              "      <td>0</td>\n",
              "    </tr>\n",
              "    <tr>\n",
              "      <th>2</th>\n",
              "      <td>1</td>\n",
              "      <td>0</td>\n",
              "      <td>0</td>\n",
              "      <td>0</td>\n",
              "      <td>0</td>\n",
              "      <td>0</td>\n",
              "      <td>0</td>\n",
              "    </tr>\n",
              "    <tr>\n",
              "      <th>3</th>\n",
              "      <td>1</td>\n",
              "      <td>0</td>\n",
              "      <td>0</td>\n",
              "      <td>0</td>\n",
              "      <td>0</td>\n",
              "      <td>0</td>\n",
              "      <td>0</td>\n",
              "    </tr>\n",
              "    <tr>\n",
              "      <th>4</th>\n",
              "      <td>1</td>\n",
              "      <td>0</td>\n",
              "      <td>0</td>\n",
              "      <td>0</td>\n",
              "      <td>0</td>\n",
              "      <td>0</td>\n",
              "      <td>0</td>\n",
              "    </tr>\n",
              "    <tr>\n",
              "      <th>...</th>\n",
              "      <td>...</td>\n",
              "      <td>...</td>\n",
              "      <td>...</td>\n",
              "      <td>...</td>\n",
              "      <td>...</td>\n",
              "      <td>...</td>\n",
              "      <td>...</td>\n",
              "    </tr>\n",
              "    <tr>\n",
              "      <th>8606</th>\n",
              "      <td>0</td>\n",
              "      <td>0</td>\n",
              "      <td>0</td>\n",
              "      <td>0</td>\n",
              "      <td>0</td>\n",
              "      <td>0</td>\n",
              "      <td>1</td>\n",
              "    </tr>\n",
              "    <tr>\n",
              "      <th>8607</th>\n",
              "      <td>0</td>\n",
              "      <td>0</td>\n",
              "      <td>0</td>\n",
              "      <td>0</td>\n",
              "      <td>0</td>\n",
              "      <td>0</td>\n",
              "      <td>1</td>\n",
              "    </tr>\n",
              "    <tr>\n",
              "      <th>8608</th>\n",
              "      <td>0</td>\n",
              "      <td>0</td>\n",
              "      <td>0</td>\n",
              "      <td>0</td>\n",
              "      <td>0</td>\n",
              "      <td>0</td>\n",
              "      <td>1</td>\n",
              "    </tr>\n",
              "    <tr>\n",
              "      <th>8609</th>\n",
              "      <td>0</td>\n",
              "      <td>0</td>\n",
              "      <td>0</td>\n",
              "      <td>0</td>\n",
              "      <td>0</td>\n",
              "      <td>0</td>\n",
              "      <td>1</td>\n",
              "    </tr>\n",
              "    <tr>\n",
              "      <th>8610</th>\n",
              "      <td>0</td>\n",
              "      <td>0</td>\n",
              "      <td>1</td>\n",
              "      <td>0</td>\n",
              "      <td>0</td>\n",
              "      <td>0</td>\n",
              "      <td>0</td>\n",
              "    </tr>\n",
              "  </tbody>\n",
              "</table>\n",
              "<p>8611 rows × 7 columns</p>\n",
              "</div>\n",
              "      <button class=\"colab-df-convert\" onclick=\"convertToInteractive('df-36bea492-bc74-4371-8448-0d2177288dba')\"\n",
              "              title=\"Convert this dataframe to an interactive table.\"\n",
              "              style=\"display:none;\">\n",
              "        \n",
              "  <svg xmlns=\"http://www.w3.org/2000/svg\" height=\"24px\"viewBox=\"0 0 24 24\"\n",
              "       width=\"24px\">\n",
              "    <path d=\"M0 0h24v24H0V0z\" fill=\"none\"/>\n",
              "    <path d=\"M18.56 5.44l.94 2.06.94-2.06 2.06-.94-2.06-.94-.94-2.06-.94 2.06-2.06.94zm-11 1L8.5 8.5l.94-2.06 2.06-.94-2.06-.94L8.5 2.5l-.94 2.06-2.06.94zm10 10l.94 2.06.94-2.06 2.06-.94-2.06-.94-.94-2.06-.94 2.06-2.06.94z\"/><path d=\"M17.41 7.96l-1.37-1.37c-.4-.4-.92-.59-1.43-.59-.52 0-1.04.2-1.43.59L10.3 9.45l-7.72 7.72c-.78.78-.78 2.05 0 2.83L4 21.41c.39.39.9.59 1.41.59.51 0 1.02-.2 1.41-.59l7.78-7.78 2.81-2.81c.8-.78.8-2.07 0-2.86zM5.41 20L4 18.59l7.72-7.72 1.47 1.35L5.41 20z\"/>\n",
              "  </svg>\n",
              "      </button>\n",
              "      \n",
              "  <style>\n",
              "    .colab-df-container {\n",
              "      display:flex;\n",
              "      flex-wrap:wrap;\n",
              "      gap: 12px;\n",
              "    }\n",
              "\n",
              "    .colab-df-convert {\n",
              "      background-color: #E8F0FE;\n",
              "      border: none;\n",
              "      border-radius: 50%;\n",
              "      cursor: pointer;\n",
              "      display: none;\n",
              "      fill: #1967D2;\n",
              "      height: 32px;\n",
              "      padding: 0 0 0 0;\n",
              "      width: 32px;\n",
              "    }\n",
              "\n",
              "    .colab-df-convert:hover {\n",
              "      background-color: #E2EBFA;\n",
              "      box-shadow: 0px 1px 2px rgba(60, 64, 67, 0.3), 0px 1px 3px 1px rgba(60, 64, 67, 0.15);\n",
              "      fill: #174EA6;\n",
              "    }\n",
              "\n",
              "    [theme=dark] .colab-df-convert {\n",
              "      background-color: #3B4455;\n",
              "      fill: #D2E3FC;\n",
              "    }\n",
              "\n",
              "    [theme=dark] .colab-df-convert:hover {\n",
              "      background-color: #434B5C;\n",
              "      box-shadow: 0px 1px 3px 1px rgba(0, 0, 0, 0.15);\n",
              "      filter: drop-shadow(0px 1px 2px rgba(0, 0, 0, 0.3));\n",
              "      fill: #FFFFFF;\n",
              "    }\n",
              "  </style>\n",
              "\n",
              "      <script>\n",
              "        const buttonEl =\n",
              "          document.querySelector('#df-36bea492-bc74-4371-8448-0d2177288dba button.colab-df-convert');\n",
              "        buttonEl.style.display =\n",
              "          google.colab.kernel.accessAllowed ? 'block' : 'none';\n",
              "\n",
              "        async function convertToInteractive(key) {\n",
              "          const element = document.querySelector('#df-36bea492-bc74-4371-8448-0d2177288dba');\n",
              "          const dataTable =\n",
              "            await google.colab.kernel.invokeFunction('convertToInteractive',\n",
              "                                                     [key], {});\n",
              "          if (!dataTable) return;\n",
              "\n",
              "          const docLinkHtml = 'Like what you see? Visit the ' +\n",
              "            '<a target=\"_blank\" href=https://colab.research.google.com/notebooks/data_table.ipynb>data table notebook</a>'\n",
              "            + ' to learn more about interactive tables.';\n",
              "          element.innerHTML = '';\n",
              "          dataTable['output_type'] = 'display_data';\n",
              "          await google.colab.output.renderOutput(dataTable, element);\n",
              "          const docLink = document.createElement('div');\n",
              "          docLink.innerHTML = docLinkHtml;\n",
              "          element.appendChild(docLink);\n",
              "        }\n",
              "      </script>\n",
              "    </div>\n",
              "  </div>\n",
              "  "
            ]
          },
          "metadata": {},
          "execution_count": 9
        }
      ]
    },
    {
      "cell_type": "code",
      "source": [
        "jobcode = pd.get_dummies(df.a007a_2018)\n",
        "jobcode.columns = ['jobcode1','jobcode2','jobcode3','jobcode4','jobcode5','jobcode6','jobcode7','jobcode8','jobcode9','jobcode10']\n",
        "jobcode"
      ],
      "metadata": {
        "colab": {
          "base_uri": "https://localhost:8080/"
        },
        "id": "HJgBUW3zc5e1",
        "outputId": "786a092b-71c5-489c-b01b-88853dd0bfd8"
      },
      "execution_count": null,
      "outputs": [
        {
          "output_type": "execute_result",
          "data": {
            "text/plain": [
              "      jobcode1  jobcode2  jobcode3  jobcode4  jobcode5  jobcode6  jobcode7  \\\n",
              "0            0         0         0         0         0         0         1   \n",
              "1            1         0         0         0         0         0         0   \n",
              "2            1         0         0         0         0         0         0   \n",
              "3            0         0         0         0         0         0         1   \n",
              "4            0         0         0         0         0         0         1   \n",
              "...        ...       ...       ...       ...       ...       ...       ...   \n",
              "8606         0         0         0         0         1         0         0   \n",
              "8607         1         0         0         0         0         0         0   \n",
              "8608         0         0         1         0         0         0         0   \n",
              "8609         1         0         0         0         0         0         0   \n",
              "8610         0         0         1         0         0         0         0   \n",
              "\n",
              "      jobcode8  jobcode9  jobcode10  \n",
              "0            0         0          0  \n",
              "1            0         0          0  \n",
              "2            0         0          0  \n",
              "3            0         0          0  \n",
              "4            0         0          0  \n",
              "...        ...       ...        ...  \n",
              "8606         0         0          0  \n",
              "8607         0         0          0  \n",
              "8608         0         0          0  \n",
              "8609         0         0          0  \n",
              "8610         0         0          0  \n",
              "\n",
              "[8611 rows x 10 columns]"
            ],
            "text/html": [
              "\n",
              "  <div id=\"df-48fc00c5-ad15-43bf-8e65-b636b2af051a\">\n",
              "    <div class=\"colab-df-container\">\n",
              "      <div>\n",
              "<style scoped>\n",
              "    .dataframe tbody tr th:only-of-type {\n",
              "        vertical-align: middle;\n",
              "    }\n",
              "\n",
              "    .dataframe tbody tr th {\n",
              "        vertical-align: top;\n",
              "    }\n",
              "\n",
              "    .dataframe thead th {\n",
              "        text-align: right;\n",
              "    }\n",
              "</style>\n",
              "<table border=\"1\" class=\"dataframe\">\n",
              "  <thead>\n",
              "    <tr style=\"text-align: right;\">\n",
              "      <th></th>\n",
              "      <th>jobcode1</th>\n",
              "      <th>jobcode2</th>\n",
              "      <th>jobcode3</th>\n",
              "      <th>jobcode4</th>\n",
              "      <th>jobcode5</th>\n",
              "      <th>jobcode6</th>\n",
              "      <th>jobcode7</th>\n",
              "      <th>jobcode8</th>\n",
              "      <th>jobcode9</th>\n",
              "      <th>jobcode10</th>\n",
              "    </tr>\n",
              "  </thead>\n",
              "  <tbody>\n",
              "    <tr>\n",
              "      <th>0</th>\n",
              "      <td>0</td>\n",
              "      <td>0</td>\n",
              "      <td>0</td>\n",
              "      <td>0</td>\n",
              "      <td>0</td>\n",
              "      <td>0</td>\n",
              "      <td>1</td>\n",
              "      <td>0</td>\n",
              "      <td>0</td>\n",
              "      <td>0</td>\n",
              "    </tr>\n",
              "    <tr>\n",
              "      <th>1</th>\n",
              "      <td>1</td>\n",
              "      <td>0</td>\n",
              "      <td>0</td>\n",
              "      <td>0</td>\n",
              "      <td>0</td>\n",
              "      <td>0</td>\n",
              "      <td>0</td>\n",
              "      <td>0</td>\n",
              "      <td>0</td>\n",
              "      <td>0</td>\n",
              "    </tr>\n",
              "    <tr>\n",
              "      <th>2</th>\n",
              "      <td>1</td>\n",
              "      <td>0</td>\n",
              "      <td>0</td>\n",
              "      <td>0</td>\n",
              "      <td>0</td>\n",
              "      <td>0</td>\n",
              "      <td>0</td>\n",
              "      <td>0</td>\n",
              "      <td>0</td>\n",
              "      <td>0</td>\n",
              "    </tr>\n",
              "    <tr>\n",
              "      <th>3</th>\n",
              "      <td>0</td>\n",
              "      <td>0</td>\n",
              "      <td>0</td>\n",
              "      <td>0</td>\n",
              "      <td>0</td>\n",
              "      <td>0</td>\n",
              "      <td>1</td>\n",
              "      <td>0</td>\n",
              "      <td>0</td>\n",
              "      <td>0</td>\n",
              "    </tr>\n",
              "    <tr>\n",
              "      <th>4</th>\n",
              "      <td>0</td>\n",
              "      <td>0</td>\n",
              "      <td>0</td>\n",
              "      <td>0</td>\n",
              "      <td>0</td>\n",
              "      <td>0</td>\n",
              "      <td>1</td>\n",
              "      <td>0</td>\n",
              "      <td>0</td>\n",
              "      <td>0</td>\n",
              "    </tr>\n",
              "    <tr>\n",
              "      <th>...</th>\n",
              "      <td>...</td>\n",
              "      <td>...</td>\n",
              "      <td>...</td>\n",
              "      <td>...</td>\n",
              "      <td>...</td>\n",
              "      <td>...</td>\n",
              "      <td>...</td>\n",
              "      <td>...</td>\n",
              "      <td>...</td>\n",
              "      <td>...</td>\n",
              "    </tr>\n",
              "    <tr>\n",
              "      <th>8606</th>\n",
              "      <td>0</td>\n",
              "      <td>0</td>\n",
              "      <td>0</td>\n",
              "      <td>0</td>\n",
              "      <td>1</td>\n",
              "      <td>0</td>\n",
              "      <td>0</td>\n",
              "      <td>0</td>\n",
              "      <td>0</td>\n",
              "      <td>0</td>\n",
              "    </tr>\n",
              "    <tr>\n",
              "      <th>8607</th>\n",
              "      <td>1</td>\n",
              "      <td>0</td>\n",
              "      <td>0</td>\n",
              "      <td>0</td>\n",
              "      <td>0</td>\n",
              "      <td>0</td>\n",
              "      <td>0</td>\n",
              "      <td>0</td>\n",
              "      <td>0</td>\n",
              "      <td>0</td>\n",
              "    </tr>\n",
              "    <tr>\n",
              "      <th>8608</th>\n",
              "      <td>0</td>\n",
              "      <td>0</td>\n",
              "      <td>1</td>\n",
              "      <td>0</td>\n",
              "      <td>0</td>\n",
              "      <td>0</td>\n",
              "      <td>0</td>\n",
              "      <td>0</td>\n",
              "      <td>0</td>\n",
              "      <td>0</td>\n",
              "    </tr>\n",
              "    <tr>\n",
              "      <th>8609</th>\n",
              "      <td>1</td>\n",
              "      <td>0</td>\n",
              "      <td>0</td>\n",
              "      <td>0</td>\n",
              "      <td>0</td>\n",
              "      <td>0</td>\n",
              "      <td>0</td>\n",
              "      <td>0</td>\n",
              "      <td>0</td>\n",
              "      <td>0</td>\n",
              "    </tr>\n",
              "    <tr>\n",
              "      <th>8610</th>\n",
              "      <td>0</td>\n",
              "      <td>0</td>\n",
              "      <td>1</td>\n",
              "      <td>0</td>\n",
              "      <td>0</td>\n",
              "      <td>0</td>\n",
              "      <td>0</td>\n",
              "      <td>0</td>\n",
              "      <td>0</td>\n",
              "      <td>0</td>\n",
              "    </tr>\n",
              "  </tbody>\n",
              "</table>\n",
              "<p>8611 rows × 10 columns</p>\n",
              "</div>\n",
              "      <button class=\"colab-df-convert\" onclick=\"convertToInteractive('df-48fc00c5-ad15-43bf-8e65-b636b2af051a')\"\n",
              "              title=\"Convert this dataframe to an interactive table.\"\n",
              "              style=\"display:none;\">\n",
              "        \n",
              "  <svg xmlns=\"http://www.w3.org/2000/svg\" height=\"24px\"viewBox=\"0 0 24 24\"\n",
              "       width=\"24px\">\n",
              "    <path d=\"M0 0h24v24H0V0z\" fill=\"none\"/>\n",
              "    <path d=\"M18.56 5.44l.94 2.06.94-2.06 2.06-.94-2.06-.94-.94-2.06-.94 2.06-2.06.94zm-11 1L8.5 8.5l.94-2.06 2.06-.94-2.06-.94L8.5 2.5l-.94 2.06-2.06.94zm10 10l.94 2.06.94-2.06 2.06-.94-2.06-.94-.94-2.06-.94 2.06-2.06.94z\"/><path d=\"M17.41 7.96l-1.37-1.37c-.4-.4-.92-.59-1.43-.59-.52 0-1.04.2-1.43.59L10.3 9.45l-7.72 7.72c-.78.78-.78 2.05 0 2.83L4 21.41c.39.39.9.59 1.41.59.51 0 1.02-.2 1.41-.59l7.78-7.78 2.81-2.81c.8-.78.8-2.07 0-2.86zM5.41 20L4 18.59l7.72-7.72 1.47 1.35L5.41 20z\"/>\n",
              "  </svg>\n",
              "      </button>\n",
              "      \n",
              "  <style>\n",
              "    .colab-df-container {\n",
              "      display:flex;\n",
              "      flex-wrap:wrap;\n",
              "      gap: 12px;\n",
              "    }\n",
              "\n",
              "    .colab-df-convert {\n",
              "      background-color: #E8F0FE;\n",
              "      border: none;\n",
              "      border-radius: 50%;\n",
              "      cursor: pointer;\n",
              "      display: none;\n",
              "      fill: #1967D2;\n",
              "      height: 32px;\n",
              "      padding: 0 0 0 0;\n",
              "      width: 32px;\n",
              "    }\n",
              "\n",
              "    .colab-df-convert:hover {\n",
              "      background-color: #E2EBFA;\n",
              "      box-shadow: 0px 1px 2px rgba(60, 64, 67, 0.3), 0px 1px 3px 1px rgba(60, 64, 67, 0.15);\n",
              "      fill: #174EA6;\n",
              "    }\n",
              "\n",
              "    [theme=dark] .colab-df-convert {\n",
              "      background-color: #3B4455;\n",
              "      fill: #D2E3FC;\n",
              "    }\n",
              "\n",
              "    [theme=dark] .colab-df-convert:hover {\n",
              "      background-color: #434B5C;\n",
              "      box-shadow: 0px 1px 3px 1px rgba(0, 0, 0, 0.15);\n",
              "      filter: drop-shadow(0px 1px 2px rgba(0, 0, 0, 0.3));\n",
              "      fill: #FFFFFF;\n",
              "    }\n",
              "  </style>\n",
              "\n",
              "      <script>\n",
              "        const buttonEl =\n",
              "          document.querySelector('#df-48fc00c5-ad15-43bf-8e65-b636b2af051a button.colab-df-convert');\n",
              "        buttonEl.style.display =\n",
              "          google.colab.kernel.accessAllowed ? 'block' : 'none';\n",
              "\n",
              "        async function convertToInteractive(key) {\n",
              "          const element = document.querySelector('#df-48fc00c5-ad15-43bf-8e65-b636b2af051a');\n",
              "          const dataTable =\n",
              "            await google.colab.kernel.invokeFunction('convertToInteractive',\n",
              "                                                     [key], {});\n",
              "          if (!dataTable) return;\n",
              "\n",
              "          const docLinkHtml = 'Like what you see? Visit the ' +\n",
              "            '<a target=\"_blank\" href=https://colab.research.google.com/notebooks/data_table.ipynb>data table notebook</a>'\n",
              "            + ' to learn more about interactive tables.';\n",
              "          element.innerHTML = '';\n",
              "          dataTable['output_type'] = 'display_data';\n",
              "          await google.colab.output.renderOutput(dataTable, element);\n",
              "          const docLink = document.createElement('div');\n",
              "          docLink.innerHTML = docLinkHtml;\n",
              "          element.appendChild(docLink);\n",
              "        }\n",
              "      </script>\n",
              "    </div>\n",
              "  </div>\n",
              "  "
            ]
          },
          "metadata": {},
          "execution_count": 10
        }
      ]
    },
    {
      "cell_type": "code",
      "source": [
        "df.iloc[:,:45]"
      ],
      "metadata": {
        "colab": {
          "base_uri": "https://localhost:8080/"
        },
        "id": "MY9Ppps7n3UF",
        "outputId": "f848e9fd-0f2a-4608-b6d2-cd0a78df3520"
      },
      "execution_count": null,
      "outputs": [
        {
          "output_type": "execute_result",
          "data": {
            "text/plain": [
              "      majorcat  sex        age  fam03    gpa  loan01  lan01  lan02  lan03  \\\n",
              "0            1    0  21.750000      0  4.100       0      0      0      1   \n",
              "1            1    0  25.250000      0  3.900       0      0      0      1   \n",
              "2            1    0  24.500000      0  3.800       0      0      0      0   \n",
              "3            1    0  26.000000      0  3.900       0      1      0      1   \n",
              "4            1    1  25.083333      0  3.375       0      1      0      0   \n",
              "...        ...  ...        ...    ...    ...     ...    ...    ...    ...   \n",
              "8606         7    0  28.333333      0  3.200       1      0      0      0   \n",
              "8607         7    1  25.833333      0  4.300       0      0      0      0   \n",
              "8608         7    1  24.000000      0  3.600       0      0      0      0   \n",
              "8609         7    1  25.833333      0  3.300       0      1      0      0   \n",
              "8610         3    0  27.166667      0  4.100       0      0      0      0   \n",
              "\n",
              "      licen02  ...  a133  a134  a136  a137  a138  a139  a142  a143  a145  a146  \n",
              "0           1  ...     3     3     3     3     3     3     3     3     6     1  \n",
              "1           1  ...     2     2     2     3     3     2     2     3     6     3  \n",
              "2           2  ...     5     5     4     3     5     4     3     2     6     5  \n",
              "3           2  ...     4     4     3     2     1     4     2     3     6     1  \n",
              "4           0  ...     2     2     3     3     4     3     2     1     6     2  \n",
              "...       ...  ...   ...   ...   ...   ...   ...   ...   ...   ...   ...   ...  \n",
              "8606        0  ...     4     3     4     4     4     3     3     3     4     3  \n",
              "8607        0  ...     5     5     5     5     5     5     3     3     6     1  \n",
              "8608        0  ...     2     3     4     4     4     4     2     2     6     4  \n",
              "8609        0  ...     4     4     5     4     4     4     3     3     6     3  \n",
              "8610        1  ...     3     3     5     5     5     5     3     3     6     5  \n",
              "\n",
              "[8611 rows x 45 columns]"
            ],
            "text/html": [
              "\n",
              "  <div id=\"df-3c83dd2b-2dc1-4d7c-833a-6c15cda70b32\">\n",
              "    <div class=\"colab-df-container\">\n",
              "      <div>\n",
              "<style scoped>\n",
              "    .dataframe tbody tr th:only-of-type {\n",
              "        vertical-align: middle;\n",
              "    }\n",
              "\n",
              "    .dataframe tbody tr th {\n",
              "        vertical-align: top;\n",
              "    }\n",
              "\n",
              "    .dataframe thead th {\n",
              "        text-align: right;\n",
              "    }\n",
              "</style>\n",
              "<table border=\"1\" class=\"dataframe\">\n",
              "  <thead>\n",
              "    <tr style=\"text-align: right;\">\n",
              "      <th></th>\n",
              "      <th>majorcat</th>\n",
              "      <th>sex</th>\n",
              "      <th>age</th>\n",
              "      <th>fam03</th>\n",
              "      <th>gpa</th>\n",
              "      <th>loan01</th>\n",
              "      <th>lan01</th>\n",
              "      <th>lan02</th>\n",
              "      <th>lan03</th>\n",
              "      <th>licen02</th>\n",
              "      <th>...</th>\n",
              "      <th>a133</th>\n",
              "      <th>a134</th>\n",
              "      <th>a136</th>\n",
              "      <th>a137</th>\n",
              "      <th>a138</th>\n",
              "      <th>a139</th>\n",
              "      <th>a142</th>\n",
              "      <th>a143</th>\n",
              "      <th>a145</th>\n",
              "      <th>a146</th>\n",
              "    </tr>\n",
              "  </thead>\n",
              "  <tbody>\n",
              "    <tr>\n",
              "      <th>0</th>\n",
              "      <td>1</td>\n",
              "      <td>0</td>\n",
              "      <td>21.750000</td>\n",
              "      <td>0</td>\n",
              "      <td>4.100</td>\n",
              "      <td>0</td>\n",
              "      <td>0</td>\n",
              "      <td>0</td>\n",
              "      <td>1</td>\n",
              "      <td>1</td>\n",
              "      <td>...</td>\n",
              "      <td>3</td>\n",
              "      <td>3</td>\n",
              "      <td>3</td>\n",
              "      <td>3</td>\n",
              "      <td>3</td>\n",
              "      <td>3</td>\n",
              "      <td>3</td>\n",
              "      <td>3</td>\n",
              "      <td>6</td>\n",
              "      <td>1</td>\n",
              "    </tr>\n",
              "    <tr>\n",
              "      <th>1</th>\n",
              "      <td>1</td>\n",
              "      <td>0</td>\n",
              "      <td>25.250000</td>\n",
              "      <td>0</td>\n",
              "      <td>3.900</td>\n",
              "      <td>0</td>\n",
              "      <td>0</td>\n",
              "      <td>0</td>\n",
              "      <td>1</td>\n",
              "      <td>1</td>\n",
              "      <td>...</td>\n",
              "      <td>2</td>\n",
              "      <td>2</td>\n",
              "      <td>2</td>\n",
              "      <td>3</td>\n",
              "      <td>3</td>\n",
              "      <td>2</td>\n",
              "      <td>2</td>\n",
              "      <td>3</td>\n",
              "      <td>6</td>\n",
              "      <td>3</td>\n",
              "    </tr>\n",
              "    <tr>\n",
              "      <th>2</th>\n",
              "      <td>1</td>\n",
              "      <td>0</td>\n",
              "      <td>24.500000</td>\n",
              "      <td>0</td>\n",
              "      <td>3.800</td>\n",
              "      <td>0</td>\n",
              "      <td>0</td>\n",
              "      <td>0</td>\n",
              "      <td>0</td>\n",
              "      <td>2</td>\n",
              "      <td>...</td>\n",
              "      <td>5</td>\n",
              "      <td>5</td>\n",
              "      <td>4</td>\n",
              "      <td>3</td>\n",
              "      <td>5</td>\n",
              "      <td>4</td>\n",
              "      <td>3</td>\n",
              "      <td>2</td>\n",
              "      <td>6</td>\n",
              "      <td>5</td>\n",
              "    </tr>\n",
              "    <tr>\n",
              "      <th>3</th>\n",
              "      <td>1</td>\n",
              "      <td>0</td>\n",
              "      <td>26.000000</td>\n",
              "      <td>0</td>\n",
              "      <td>3.900</td>\n",
              "      <td>0</td>\n",
              "      <td>1</td>\n",
              "      <td>0</td>\n",
              "      <td>1</td>\n",
              "      <td>2</td>\n",
              "      <td>...</td>\n",
              "      <td>4</td>\n",
              "      <td>4</td>\n",
              "      <td>3</td>\n",
              "      <td>2</td>\n",
              "      <td>1</td>\n",
              "      <td>4</td>\n",
              "      <td>2</td>\n",
              "      <td>3</td>\n",
              "      <td>6</td>\n",
              "      <td>1</td>\n",
              "    </tr>\n",
              "    <tr>\n",
              "      <th>4</th>\n",
              "      <td>1</td>\n",
              "      <td>1</td>\n",
              "      <td>25.083333</td>\n",
              "      <td>0</td>\n",
              "      <td>3.375</td>\n",
              "      <td>0</td>\n",
              "      <td>1</td>\n",
              "      <td>0</td>\n",
              "      <td>0</td>\n",
              "      <td>0</td>\n",
              "      <td>...</td>\n",
              "      <td>2</td>\n",
              "      <td>2</td>\n",
              "      <td>3</td>\n",
              "      <td>3</td>\n",
              "      <td>4</td>\n",
              "      <td>3</td>\n",
              "      <td>2</td>\n",
              "      <td>1</td>\n",
              "      <td>6</td>\n",
              "      <td>2</td>\n",
              "    </tr>\n",
              "    <tr>\n",
              "      <th>...</th>\n",
              "      <td>...</td>\n",
              "      <td>...</td>\n",
              "      <td>...</td>\n",
              "      <td>...</td>\n",
              "      <td>...</td>\n",
              "      <td>...</td>\n",
              "      <td>...</td>\n",
              "      <td>...</td>\n",
              "      <td>...</td>\n",
              "      <td>...</td>\n",
              "      <td>...</td>\n",
              "      <td>...</td>\n",
              "      <td>...</td>\n",
              "      <td>...</td>\n",
              "      <td>...</td>\n",
              "      <td>...</td>\n",
              "      <td>...</td>\n",
              "      <td>...</td>\n",
              "      <td>...</td>\n",
              "      <td>...</td>\n",
              "      <td>...</td>\n",
              "    </tr>\n",
              "    <tr>\n",
              "      <th>8606</th>\n",
              "      <td>7</td>\n",
              "      <td>0</td>\n",
              "      <td>28.333333</td>\n",
              "      <td>0</td>\n",
              "      <td>3.200</td>\n",
              "      <td>1</td>\n",
              "      <td>0</td>\n",
              "      <td>0</td>\n",
              "      <td>0</td>\n",
              "      <td>0</td>\n",
              "      <td>...</td>\n",
              "      <td>4</td>\n",
              "      <td>3</td>\n",
              "      <td>4</td>\n",
              "      <td>4</td>\n",
              "      <td>4</td>\n",
              "      <td>3</td>\n",
              "      <td>3</td>\n",
              "      <td>3</td>\n",
              "      <td>4</td>\n",
              "      <td>3</td>\n",
              "    </tr>\n",
              "    <tr>\n",
              "      <th>8607</th>\n",
              "      <td>7</td>\n",
              "      <td>1</td>\n",
              "      <td>25.833333</td>\n",
              "      <td>0</td>\n",
              "      <td>4.300</td>\n",
              "      <td>0</td>\n",
              "      <td>0</td>\n",
              "      <td>0</td>\n",
              "      <td>0</td>\n",
              "      <td>0</td>\n",
              "      <td>...</td>\n",
              "      <td>5</td>\n",
              "      <td>5</td>\n",
              "      <td>5</td>\n",
              "      <td>5</td>\n",
              "      <td>5</td>\n",
              "      <td>5</td>\n",
              "      <td>3</td>\n",
              "      <td>3</td>\n",
              "      <td>6</td>\n",
              "      <td>1</td>\n",
              "    </tr>\n",
              "    <tr>\n",
              "      <th>8608</th>\n",
              "      <td>7</td>\n",
              "      <td>1</td>\n",
              "      <td>24.000000</td>\n",
              "      <td>0</td>\n",
              "      <td>3.600</td>\n",
              "      <td>0</td>\n",
              "      <td>0</td>\n",
              "      <td>0</td>\n",
              "      <td>0</td>\n",
              "      <td>0</td>\n",
              "      <td>...</td>\n",
              "      <td>2</td>\n",
              "      <td>3</td>\n",
              "      <td>4</td>\n",
              "      <td>4</td>\n",
              "      <td>4</td>\n",
              "      <td>4</td>\n",
              "      <td>2</td>\n",
              "      <td>2</td>\n",
              "      <td>6</td>\n",
              "      <td>4</td>\n",
              "    </tr>\n",
              "    <tr>\n",
              "      <th>8609</th>\n",
              "      <td>7</td>\n",
              "      <td>1</td>\n",
              "      <td>25.833333</td>\n",
              "      <td>0</td>\n",
              "      <td>3.300</td>\n",
              "      <td>0</td>\n",
              "      <td>1</td>\n",
              "      <td>0</td>\n",
              "      <td>0</td>\n",
              "      <td>0</td>\n",
              "      <td>...</td>\n",
              "      <td>4</td>\n",
              "      <td>4</td>\n",
              "      <td>5</td>\n",
              "      <td>4</td>\n",
              "      <td>4</td>\n",
              "      <td>4</td>\n",
              "      <td>3</td>\n",
              "      <td>3</td>\n",
              "      <td>6</td>\n",
              "      <td>3</td>\n",
              "    </tr>\n",
              "    <tr>\n",
              "      <th>8610</th>\n",
              "      <td>3</td>\n",
              "      <td>0</td>\n",
              "      <td>27.166667</td>\n",
              "      <td>0</td>\n",
              "      <td>4.100</td>\n",
              "      <td>0</td>\n",
              "      <td>0</td>\n",
              "      <td>0</td>\n",
              "      <td>0</td>\n",
              "      <td>1</td>\n",
              "      <td>...</td>\n",
              "      <td>3</td>\n",
              "      <td>3</td>\n",
              "      <td>5</td>\n",
              "      <td>5</td>\n",
              "      <td>5</td>\n",
              "      <td>5</td>\n",
              "      <td>3</td>\n",
              "      <td>3</td>\n",
              "      <td>6</td>\n",
              "      <td>5</td>\n",
              "    </tr>\n",
              "  </tbody>\n",
              "</table>\n",
              "<p>8611 rows × 45 columns</p>\n",
              "</div>\n",
              "      <button class=\"colab-df-convert\" onclick=\"convertToInteractive('df-3c83dd2b-2dc1-4d7c-833a-6c15cda70b32')\"\n",
              "              title=\"Convert this dataframe to an interactive table.\"\n",
              "              style=\"display:none;\">\n",
              "        \n",
              "  <svg xmlns=\"http://www.w3.org/2000/svg\" height=\"24px\"viewBox=\"0 0 24 24\"\n",
              "       width=\"24px\">\n",
              "    <path d=\"M0 0h24v24H0V0z\" fill=\"none\"/>\n",
              "    <path d=\"M18.56 5.44l.94 2.06.94-2.06 2.06-.94-2.06-.94-.94-2.06-.94 2.06-2.06.94zm-11 1L8.5 8.5l.94-2.06 2.06-.94-2.06-.94L8.5 2.5l-.94 2.06-2.06.94zm10 10l.94 2.06.94-2.06 2.06-.94-2.06-.94-.94-2.06-.94 2.06-2.06.94z\"/><path d=\"M17.41 7.96l-1.37-1.37c-.4-.4-.92-.59-1.43-.59-.52 0-1.04.2-1.43.59L10.3 9.45l-7.72 7.72c-.78.78-.78 2.05 0 2.83L4 21.41c.39.39.9.59 1.41.59.51 0 1.02-.2 1.41-.59l7.78-7.78 2.81-2.81c.8-.78.8-2.07 0-2.86zM5.41 20L4 18.59l7.72-7.72 1.47 1.35L5.41 20z\"/>\n",
              "  </svg>\n",
              "      </button>\n",
              "      \n",
              "  <style>\n",
              "    .colab-df-container {\n",
              "      display:flex;\n",
              "      flex-wrap:wrap;\n",
              "      gap: 12px;\n",
              "    }\n",
              "\n",
              "    .colab-df-convert {\n",
              "      background-color: #E8F0FE;\n",
              "      border: none;\n",
              "      border-radius: 50%;\n",
              "      cursor: pointer;\n",
              "      display: none;\n",
              "      fill: #1967D2;\n",
              "      height: 32px;\n",
              "      padding: 0 0 0 0;\n",
              "      width: 32px;\n",
              "    }\n",
              "\n",
              "    .colab-df-convert:hover {\n",
              "      background-color: #E2EBFA;\n",
              "      box-shadow: 0px 1px 2px rgba(60, 64, 67, 0.3), 0px 1px 3px 1px rgba(60, 64, 67, 0.15);\n",
              "      fill: #174EA6;\n",
              "    }\n",
              "\n",
              "    [theme=dark] .colab-df-convert {\n",
              "      background-color: #3B4455;\n",
              "      fill: #D2E3FC;\n",
              "    }\n",
              "\n",
              "    [theme=dark] .colab-df-convert:hover {\n",
              "      background-color: #434B5C;\n",
              "      box-shadow: 0px 1px 3px 1px rgba(0, 0, 0, 0.15);\n",
              "      filter: drop-shadow(0px 1px 2px rgba(0, 0, 0, 0.3));\n",
              "      fill: #FFFFFF;\n",
              "    }\n",
              "  </style>\n",
              "\n",
              "      <script>\n",
              "        const buttonEl =\n",
              "          document.querySelector('#df-3c83dd2b-2dc1-4d7c-833a-6c15cda70b32 button.colab-df-convert');\n",
              "        buttonEl.style.display =\n",
              "          google.colab.kernel.accessAllowed ? 'block' : 'none';\n",
              "\n",
              "        async function convertToInteractive(key) {\n",
              "          const element = document.querySelector('#df-3c83dd2b-2dc1-4d7c-833a-6c15cda70b32');\n",
              "          const dataTable =\n",
              "            await google.colab.kernel.invokeFunction('convertToInteractive',\n",
              "                                                     [key], {});\n",
              "          if (!dataTable) return;\n",
              "\n",
              "          const docLinkHtml = 'Like what you see? Visit the ' +\n",
              "            '<a target=\"_blank\" href=https://colab.research.google.com/notebooks/data_table.ipynb>data table notebook</a>'\n",
              "            + ' to learn more about interactive tables.';\n",
              "          element.innerHTML = '';\n",
              "          dataTable['output_type'] = 'display_data';\n",
              "          await google.colab.output.renderOutput(dataTable, element);\n",
              "          const docLink = document.createElement('div');\n",
              "          docLink.innerHTML = docLinkHtml;\n",
              "          element.appendChild(docLink);\n",
              "        }\n",
              "      </script>\n",
              "    </div>\n",
              "  </div>\n",
              "  "
            ]
          },
          "metadata": {},
          "execution_count": 11
        }
      ]
    },
    {
      "cell_type": "code",
      "source": [
        "raw_df = df\n",
        "df = pd.concat([raw_df.iloc[:,1:45], majorcat], axis = 1)\n",
        "df = pd.concat([df, jobcode], axis = 1)\n",
        "df = df.drop(['a007a_2018'], axis = 1)\n",
        "df = pd.concat([df, raw_df.iloc[:,-1]], axis = 1)"
      ],
      "metadata": {
        "id": "xjYO241q2nDS"
      },
      "execution_count": null,
      "outputs": []
    },
    {
      "cell_type": "code",
      "source": [
        ""
      ],
      "metadata": {
        "id": "C1SqDmcS2xZh"
      },
      "execution_count": null,
      "outputs": []
    },
    {
      "cell_type": "markdown",
      "source": [
        "### 0-2. 평가함수"
      ],
      "metadata": {
        "id": "60U73E62vScX"
      }
    },
    {
      "cell_type": "code",
      "source": [
        "from sklearn.metrics import accuracy_score, precision_score, recall_score, f1_score, confusion_matrix, roc_auc_score, roc_curve\n",
        "\n",
        "def get_eval(y_test, pred=None, pred_proba=None):\n",
        "  confusion = confusion_matrix(y_test, pred)\n",
        "  accuracy = accuracy_score(y_test, pred)\n",
        "  precision = precision_score(y_test, pred)\n",
        "  recall = recall_score(y_test, pred)\n",
        "  f1 = f1_score(y_test, pred)\n",
        "  roc_auc = roc_auc_score(y_test, pred_proba)\n",
        "  print('오차행렬')\n",
        "  print(confusion)\n",
        "  print('정확도: {0: .3f}, 정밀도: {1: .3f}, 재현율: {2: .3f}, F1: {3: .3f}, AUC: {4: .3f}'.format(accuracy, precision, recall, f1, roc_auc))"
      ],
      "metadata": {
        "id": "RRGKZcL2vUfd"
      },
      "execution_count": null,
      "outputs": []
    },
    {
      "cell_type": "code",
      "source": [
        ""
      ],
      "metadata": {
        "id": "K9M6Wzlb7SXA"
      },
      "execution_count": null,
      "outputs": []
    },
    {
      "cell_type": "markdown",
      "source": [
        "## 1 over sampling"
      ],
      "metadata": {
        "id": "xOtACmHLw5xJ"
      }
    },
    {
      "cell_type": "code",
      "source": [
        "from sklearn.model_selection import train_test_split\n",
        "X = df.iloc[:, :60] \n",
        "y = df.iloc[:, -1]   \n",
        "X_train, X_test, y_train, y_test = train_test_split(X, y, test_size = 0.3, random_state=60)"
      ],
      "metadata": {
        "id": "wfivonGT3QwA"
      },
      "execution_count": null,
      "outputs": []
    },
    {
      "cell_type": "markdown",
      "source": [
        "### 1-0. 기본모델"
      ],
      "metadata": {
        "id": "Yoowf7_v2uz1"
      }
    },
    {
      "cell_type": "markdown",
      "source": [
        "#### DecisionTree"
      ],
      "metadata": {
        "id": "-LsC1u219S0V"
      }
    },
    {
      "cell_type": "code",
      "source": [
        "from sklearn.tree import DecisionTreeClassifier\n",
        "tree = DecisionTreeClassifier(random_state=60)  \n",
        "tree.fit(X_train, y_train) \n",
        "print(\"-----학습용-----\")\n",
        "pred = tree.predict(X_train)\n",
        "get_eval(y_train, pred, pred)\n",
        "\n",
        "print(\"-----시험용-----\")\n",
        "pred = tree.predict(X_test)\n",
        "get_eval(y_test, pred, pred)"
      ],
      "metadata": {
        "colab": {
          "base_uri": "https://localhost:8080/"
        },
        "id": "_mUge33_6Tot",
        "outputId": "9728d0ea-1bf3-4400-d997-be98b9c6e630"
      },
      "execution_count": null,
      "outputs": [
        {
          "output_type": "stream",
          "name": "stdout",
          "text": [
            "-----학습용-----\n",
            "오차행렬\n",
            "[[4806    0]\n",
            " [   0 1221]]\n",
            "정확도:  1.000, 정밀도:  1.000, 재현율:  1.000, F1:  1.000, AUC:  1.000\n",
            "-----시험용-----\n",
            "오차행렬\n",
            "[[1676  380]\n",
            " [ 321  207]]\n",
            "정확도:  0.729, 정밀도:  0.353, 재현율:  0.392, F1:  0.371, AUC:  0.604\n"
          ]
        }
      ]
    },
    {
      "cell_type": "markdown",
      "source": [
        "#### RandomForest"
      ],
      "metadata": {
        "id": "Vy8t-iSA9Vcd"
      }
    },
    {
      "cell_type": "code",
      "source": [
        "from sklearn.ensemble import RandomForestClassifier\n",
        "forest = RandomForestClassifier(random_state=60)\n",
        "forest.fit(X_train, y_train)\n",
        "print(\"-----학습용-----\")\n",
        "pred = forest.predict(X_train)\n",
        "get_eval(y_train, pred, pred)\n",
        "\n",
        "print(\"-----시험용-----\")\n",
        "pred = forest.predict(X_test)\n",
        "get_eval(y_test, pred, pred)"
      ],
      "metadata": {
        "colab": {
          "base_uri": "https://localhost:8080/"
        },
        "id": "t1DNiyqF6oKq",
        "outputId": "9b3ef4d0-fe65-4093-f676-794d8cd3d1c3"
      },
      "execution_count": null,
      "outputs": [
        {
          "output_type": "stream",
          "name": "stdout",
          "text": [
            "-----학습용-----\n",
            "오차행렬\n",
            "[[4806    0]\n",
            " [   0 1221]]\n",
            "정확도:  1.000, 정밀도:  1.000, 재현율:  1.000, F1:  1.000, AUC:  1.000\n",
            "-----시험용-----\n",
            "오차행렬\n",
            "[[2005   51]\n",
            " [ 417  111]]\n",
            "정확도:  0.819, 정밀도:  0.685, 재현율:  0.210, F1:  0.322, AUC:  0.593\n"
          ]
        }
      ]
    },
    {
      "cell_type": "markdown",
      "source": [
        "####XGBoost"
      ],
      "metadata": {
        "id": "8uQ3RLTZ9XSj"
      }
    },
    {
      "cell_type": "code",
      "source": [
        "from xgboost import XGBClassifier\n",
        "xgb_ = XGBClassifier(learning_rate = 0.05)\n",
        "eval_set = [(X_test, y_test)]\n",
        "xgb_.fit(X_train, y_train, eval_metric='error', eval_set = eval_set, verbose=True)\n",
        "w_preds = xgb_.predict(X_test)\n",
        "w_pred_proba = xgb_.predict_proba(X_test)[:,1]"
      ],
      "metadata": {
        "colab": {
          "base_uri": "https://localhost:8080/"
        },
        "id": "b1o2HU1f6-0L",
        "outputId": "2e94c63a-cf3c-4ff8-8455-402f5c7ef4a0"
      },
      "execution_count": null,
      "outputs": [
        {
          "output_type": "stream",
          "name": "stdout",
          "text": [
            "[0]\tvalidation_0-error:0.183824\n",
            "[1]\tvalidation_0-error:0.183824\n",
            "[2]\tvalidation_0-error:0.183824\n",
            "[3]\tvalidation_0-error:0.183824\n",
            "[4]\tvalidation_0-error:0.182276\n",
            "[5]\tvalidation_0-error:0.182276\n",
            "[6]\tvalidation_0-error:0.183824\n",
            "[7]\tvalidation_0-error:0.183824\n",
            "[8]\tvalidation_0-error:0.184211\n",
            "[9]\tvalidation_0-error:0.184211\n",
            "[10]\tvalidation_0-error:0.183824\n",
            "[11]\tvalidation_0-error:0.183824\n",
            "[12]\tvalidation_0-error:0.183824\n",
            "[13]\tvalidation_0-error:0.182663\n",
            "[14]\tvalidation_0-error:0.182663\n",
            "[15]\tvalidation_0-error:0.18305\n",
            "[16]\tvalidation_0-error:0.183824\n",
            "[17]\tvalidation_0-error:0.18305\n",
            "[18]\tvalidation_0-error:0.183437\n",
            "[19]\tvalidation_0-error:0.183437\n",
            "[20]\tvalidation_0-error:0.18305\n",
            "[21]\tvalidation_0-error:0.18305\n",
            "[22]\tvalidation_0-error:0.18305\n",
            "[23]\tvalidation_0-error:0.18305\n",
            "[24]\tvalidation_0-error:0.182663\n",
            "[25]\tvalidation_0-error:0.182276\n",
            "[26]\tvalidation_0-error:0.181889\n",
            "[27]\tvalidation_0-error:0.181889\n",
            "[28]\tvalidation_0-error:0.181889\n",
            "[29]\tvalidation_0-error:0.182276\n",
            "[30]\tvalidation_0-error:0.182276\n",
            "[31]\tvalidation_0-error:0.182663\n",
            "[32]\tvalidation_0-error:0.182663\n",
            "[33]\tvalidation_0-error:0.182663\n",
            "[34]\tvalidation_0-error:0.182663\n",
            "[35]\tvalidation_0-error:0.182276\n",
            "[36]\tvalidation_0-error:0.182276\n",
            "[37]\tvalidation_0-error:0.181889\n",
            "[38]\tvalidation_0-error:0.182276\n",
            "[39]\tvalidation_0-error:0.181889\n",
            "[40]\tvalidation_0-error:0.182276\n",
            "[41]\tvalidation_0-error:0.181889\n",
            "[42]\tvalidation_0-error:0.181889\n",
            "[43]\tvalidation_0-error:0.181889\n",
            "[44]\tvalidation_0-error:0.181502\n",
            "[45]\tvalidation_0-error:0.181115\n",
            "[46]\tvalidation_0-error:0.180728\n",
            "[47]\tvalidation_0-error:0.179954\n",
            "[48]\tvalidation_0-error:0.181115\n",
            "[49]\tvalidation_0-error:0.180341\n",
            "[50]\tvalidation_0-error:0.181115\n",
            "[51]\tvalidation_0-error:0.179954\n",
            "[52]\tvalidation_0-error:0.180341\n",
            "[53]\tvalidation_0-error:0.181502\n",
            "[54]\tvalidation_0-error:0.181889\n",
            "[55]\tvalidation_0-error:0.180341\n",
            "[56]\tvalidation_0-error:0.180341\n",
            "[57]\tvalidation_0-error:0.180728\n",
            "[58]\tvalidation_0-error:0.181889\n",
            "[59]\tvalidation_0-error:0.181889\n",
            "[60]\tvalidation_0-error:0.182663\n",
            "[61]\tvalidation_0-error:0.18305\n",
            "[62]\tvalidation_0-error:0.18305\n",
            "[63]\tvalidation_0-error:0.18305\n",
            "[64]\tvalidation_0-error:0.183437\n",
            "[65]\tvalidation_0-error:0.183437\n",
            "[66]\tvalidation_0-error:0.18305\n",
            "[67]\tvalidation_0-error:0.18305\n",
            "[68]\tvalidation_0-error:0.18305\n",
            "[69]\tvalidation_0-error:0.18305\n",
            "[70]\tvalidation_0-error:0.18305\n",
            "[71]\tvalidation_0-error:0.183824\n",
            "[72]\tvalidation_0-error:0.183437\n",
            "[73]\tvalidation_0-error:0.184211\n",
            "[74]\tvalidation_0-error:0.183824\n",
            "[75]\tvalidation_0-error:0.182663\n",
            "[76]\tvalidation_0-error:0.181502\n",
            "[77]\tvalidation_0-error:0.181502\n",
            "[78]\tvalidation_0-error:0.181115\n",
            "[79]\tvalidation_0-error:0.180341\n",
            "[80]\tvalidation_0-error:0.179954\n",
            "[81]\tvalidation_0-error:0.179567\n",
            "[82]\tvalidation_0-error:0.17918\n",
            "[83]\tvalidation_0-error:0.180728\n",
            "[84]\tvalidation_0-error:0.17918\n",
            "[85]\tvalidation_0-error:0.179567\n",
            "[86]\tvalidation_0-error:0.178793\n",
            "[87]\tvalidation_0-error:0.17918\n",
            "[88]\tvalidation_0-error:0.17918\n",
            "[89]\tvalidation_0-error:0.178793\n",
            "[90]\tvalidation_0-error:0.17918\n",
            "[91]\tvalidation_0-error:0.178793\n",
            "[92]\tvalidation_0-error:0.178793\n",
            "[93]\tvalidation_0-error:0.178793\n",
            "[94]\tvalidation_0-error:0.179954\n",
            "[95]\tvalidation_0-error:0.17918\n",
            "[96]\tvalidation_0-error:0.178793\n",
            "[97]\tvalidation_0-error:0.17918\n",
            "[98]\tvalidation_0-error:0.17918\n",
            "[99]\tvalidation_0-error:0.178019\n"
          ]
        }
      ]
    },
    {
      "cell_type": "code",
      "source": [
        "print(\"-----학습용-----\")\n",
        "tw_preds = xgb_.predict(X_train)\n",
        "tw_pred_proba = xgb_.predict_proba(X_train)[:,1]\n",
        "get_eval(y_train, tw_preds, tw_pred_proba)\n",
        "print(\"-----시험용-----\")\n",
        "get_eval(y_test, w_preds, w_pred_proba)"
      ],
      "metadata": {
        "colab": {
          "base_uri": "https://localhost:8080/"
        },
        "id": "jp21hlYH9f-L",
        "outputId": "03e5c81b-22a3-4c5b-cef1-47c36ecf7a49"
      },
      "execution_count": null,
      "outputs": [
        {
          "output_type": "stream",
          "name": "stdout",
          "text": [
            "-----학습용-----\n",
            "오차행렬\n",
            "[[4694  112]\n",
            " [ 936  285]]\n",
            "정확도:  0.826, 정밀도:  0.718, 재현율:  0.233, F1:  0.352, AUC:  0.818\n",
            "-----시험용-----\n",
            "오차행렬\n",
            "[[2002   54]\n",
            " [ 406  122]]\n",
            "정확도:  0.822, 정밀도:  0.693, 재현율:  0.231, F1:  0.347, AUC:  0.792\n"
          ]
        }
      ]
    },
    {
      "cell_type": "markdown",
      "source": [
        "#### LightGBM"
      ],
      "metadata": {
        "id": "MnSj-Pld9awh"
      }
    },
    {
      "cell_type": "code",
      "source": [
        "from lightgbm import LGBMClassifier\n",
        "lgbm_wrapper = LGBMClassifier(learning_Rate=0.05)\n",
        "X_tr, X_val, y_tr, y_val = train_test_split(X_train, y_train, test_size = 0.1, random_state = 60)\n",
        "\n",
        "eval_set = [(X_tr,y_tr), (X_val,y_val)]\n",
        "lgbm_wrapper.fit(X_tr, y_tr, eval_set = eval_set, eval_metric=\"error\",verbose=1)\n",
        "preds = lgbm_wrapper.predict(X_test)\n",
        "pred_proba = lgbm_wrapper.predict_proba(X_test)[:,1]\n",
        "w_pred_proba = xgb_.predict_proba(X_test)[:,1]\n"
      ],
      "metadata": {
        "colab": {
          "base_uri": "https://localhost:8080/"
        },
        "id": "CxI6ZA5f7Uxn",
        "outputId": "ceacd0b1-b2bb-4e57-d222-048995e1dccc"
      },
      "execution_count": null,
      "outputs": [
        {
          "output_type": "stream",
          "name": "stdout",
          "text": [
            "[1]\ttraining's binary_error: 0.203724\ttraining's binary_logloss: 0.486671\tvalid_1's binary_error: 0.192371\tvalid_1's binary_logloss: 0.476952\n",
            "[2]\ttraining's binary_error: 0.203724\ttraining's binary_logloss: 0.471174\tvalid_1's binary_error: 0.192371\tvalid_1's binary_logloss: 0.468186\n",
            "[3]\ttraining's binary_error: 0.203724\ttraining's binary_logloss: 0.459261\tvalid_1's binary_error: 0.192371\tvalid_1's binary_logloss: 0.459647\n",
            "[4]\ttraining's binary_error: 0.203724\ttraining's binary_logloss: 0.448722\tvalid_1's binary_error: 0.192371\tvalid_1's binary_logloss: 0.454179\n",
            "[5]\ttraining's binary_error: 0.203724\ttraining's binary_logloss: 0.439167\tvalid_1's binary_error: 0.192371\tvalid_1's binary_logloss: 0.448398\n",
            "[6]\ttraining's binary_error: 0.203724\ttraining's binary_logloss: 0.430974\tvalid_1's binary_error: 0.192371\tvalid_1's binary_logloss: 0.444981\n",
            "[7]\ttraining's binary_error: 0.202065\ttraining's binary_logloss: 0.422861\tvalid_1's binary_error: 0.192371\tvalid_1's binary_logloss: 0.441059\n",
            "[8]\ttraining's binary_error: 0.195796\ttraining's binary_logloss: 0.416418\tvalid_1's binary_error: 0.185738\tvalid_1's binary_logloss: 0.438134\n",
            "[9]\ttraining's binary_error: 0.191003\ttraining's binary_logloss: 0.410106\tvalid_1's binary_error: 0.18408\tvalid_1's binary_logloss: 0.436439\n",
            "[10]\ttraining's binary_error: 0.184181\ttraining's binary_logloss: 0.404197\tvalid_1's binary_error: 0.179104\tvalid_1's binary_logloss: 0.43477\n",
            "[11]\ttraining's binary_error: 0.179572\ttraining's binary_logloss: 0.398998\tvalid_1's binary_error: 0.179104\tvalid_1's binary_logloss: 0.433361\n",
            "[12]\ttraining's binary_error: 0.17441\ttraining's binary_logloss: 0.394251\tvalid_1's binary_error: 0.179104\tvalid_1's binary_logloss: 0.431164\n",
            "[13]\ttraining's binary_error: 0.171645\ttraining's binary_logloss: 0.389508\tvalid_1's binary_error: 0.179104\tvalid_1's binary_logloss: 0.428979\n",
            "[14]\ttraining's binary_error: 0.168142\ttraining's binary_logloss: 0.384959\tvalid_1's binary_error: 0.177446\tvalid_1's binary_logloss: 0.428461\n",
            "[15]\ttraining's binary_error: 0.164639\ttraining's binary_logloss: 0.380844\tvalid_1's binary_error: 0.179104\tvalid_1's binary_logloss: 0.427938\n",
            "[16]\ttraining's binary_error: 0.162426\ttraining's binary_logloss: 0.377151\tvalid_1's binary_error: 0.177446\tvalid_1's binary_logloss: 0.426093\n",
            "[17]\ttraining's binary_error: 0.160398\ttraining's binary_logloss: 0.373289\tvalid_1's binary_error: 0.179104\tvalid_1's binary_logloss: 0.425531\n",
            "[18]\ttraining's binary_error: 0.158186\ttraining's binary_logloss: 0.369696\tvalid_1's binary_error: 0.174129\tvalid_1's binary_logloss: 0.425771\n",
            "[19]\ttraining's binary_error: 0.158001\ttraining's binary_logloss: 0.366625\tvalid_1's binary_error: 0.177446\tvalid_1's binary_logloss: 0.425551\n",
            "[20]\ttraining's binary_error: 0.156895\ttraining's binary_logloss: 0.362927\tvalid_1's binary_error: 0.174129\tvalid_1's binary_logloss: 0.425145\n",
            "[21]\ttraining's binary_error: 0.154683\ttraining's binary_logloss: 0.35976\tvalid_1's binary_error: 0.175788\tvalid_1's binary_logloss: 0.424446\n",
            "[22]\ttraining's binary_error: 0.151733\ttraining's binary_logloss: 0.356489\tvalid_1's binary_error: 0.175788\tvalid_1's binary_logloss: 0.424008\n",
            "[23]\ttraining's binary_error: 0.151549\ttraining's binary_logloss: 0.353329\tvalid_1's binary_error: 0.177446\tvalid_1's binary_logloss: 0.424543\n",
            "[24]\ttraining's binary_error: 0.149889\ttraining's binary_logloss: 0.350349\tvalid_1's binary_error: 0.175788\tvalid_1's binary_logloss: 0.424062\n",
            "[25]\ttraining's binary_error: 0.147124\ttraining's binary_logloss: 0.347412\tvalid_1's binary_error: 0.177446\tvalid_1's binary_logloss: 0.423273\n",
            "[26]\ttraining's binary_error: 0.143252\ttraining's binary_logloss: 0.344433\tvalid_1's binary_error: 0.182421\tvalid_1's binary_logloss: 0.423383\n",
            "[27]\ttraining's binary_error: 0.141593\ttraining's binary_logloss: 0.341676\tvalid_1's binary_error: 0.18408\tvalid_1's binary_logloss: 0.423651\n",
            "[28]\ttraining's binary_error: 0.139381\ttraining's binary_logloss: 0.338849\tvalid_1's binary_error: 0.18408\tvalid_1's binary_logloss: 0.424369\n",
            "[29]\ttraining's binary_error: 0.140302\ttraining's binary_logloss: 0.335992\tvalid_1's binary_error: 0.185738\tvalid_1's binary_logloss: 0.424214\n",
            "[30]\ttraining's binary_error: 0.140302\ttraining's binary_logloss: 0.333325\tvalid_1's binary_error: 0.180763\tvalid_1's binary_logloss: 0.424255\n",
            "[31]\ttraining's binary_error: 0.137906\ttraining's binary_logloss: 0.331178\tvalid_1's binary_error: 0.18408\tvalid_1's binary_logloss: 0.424214\n",
            "[32]\ttraining's binary_error: 0.136615\ttraining's binary_logloss: 0.328769\tvalid_1's binary_error: 0.185738\tvalid_1's binary_logloss: 0.424517\n",
            "[33]\ttraining's binary_error: 0.134771\ttraining's binary_logloss: 0.326128\tvalid_1's binary_error: 0.185738\tvalid_1's binary_logloss: 0.425346\n",
            "[34]\ttraining's binary_error: 0.134034\ttraining's binary_logloss: 0.32384\tvalid_1's binary_error: 0.189055\tvalid_1's binary_logloss: 0.425544\n",
            "[35]\ttraining's binary_error: 0.132928\ttraining's binary_logloss: 0.321769\tvalid_1's binary_error: 0.190713\tvalid_1's binary_logloss: 0.425928\n",
            "[36]\ttraining's binary_error: 0.1309\ttraining's binary_logloss: 0.319765\tvalid_1's binary_error: 0.190713\tvalid_1's binary_logloss: 0.426876\n",
            "[37]\ttraining's binary_error: 0.129609\ttraining's binary_logloss: 0.31752\tvalid_1's binary_error: 0.189055\tvalid_1's binary_logloss: 0.426453\n",
            "[38]\ttraining's binary_error: 0.12795\ttraining's binary_logloss: 0.315713\tvalid_1's binary_error: 0.189055\tvalid_1's binary_logloss: 0.426745\n",
            "[39]\ttraining's binary_error: 0.127581\ttraining's binary_logloss: 0.313899\tvalid_1's binary_error: 0.189055\tvalid_1's binary_logloss: 0.426463\n",
            "[40]\ttraining's binary_error: 0.127212\ttraining's binary_logloss: 0.311631\tvalid_1's binary_error: 0.187396\tvalid_1's binary_logloss: 0.425956\n",
            "[41]\ttraining's binary_error: 0.127212\ttraining's binary_logloss: 0.309911\tvalid_1's binary_error: 0.187396\tvalid_1's binary_logloss: 0.42682\n",
            "[42]\ttraining's binary_error: 0.125737\ttraining's binary_logloss: 0.307302\tvalid_1's binary_error: 0.185738\tvalid_1's binary_logloss: 0.426653\n",
            "[43]\ttraining's binary_error: 0.123341\ttraining's binary_logloss: 0.304872\tvalid_1's binary_error: 0.182421\tvalid_1's binary_logloss: 0.425876\n",
            "[44]\ttraining's binary_error: 0.121497\ttraining's binary_logloss: 0.302441\tvalid_1's binary_error: 0.185738\tvalid_1's binary_logloss: 0.425965\n",
            "[45]\ttraining's binary_error: 0.12076\ttraining's binary_logloss: 0.300811\tvalid_1's binary_error: 0.185738\tvalid_1's binary_logloss: 0.426891\n",
            "[46]\ttraining's binary_error: 0.117994\ttraining's binary_logloss: 0.298954\tvalid_1's binary_error: 0.189055\tvalid_1's binary_logloss: 0.427432\n",
            "[47]\ttraining's binary_error: 0.117441\ttraining's binary_logloss: 0.296725\tvalid_1's binary_error: 0.187396\tvalid_1's binary_logloss: 0.427752\n",
            "[48]\ttraining's binary_error: 0.115966\ttraining's binary_logloss: 0.294639\tvalid_1's binary_error: 0.185738\tvalid_1's binary_logloss: 0.427349\n",
            "[49]\ttraining's binary_error: 0.115229\ttraining's binary_logloss: 0.293068\tvalid_1's binary_error: 0.187396\tvalid_1's binary_logloss: 0.428193\n",
            "[50]\ttraining's binary_error: 0.114307\ttraining's binary_logloss: 0.291396\tvalid_1's binary_error: 0.190713\tvalid_1's binary_logloss: 0.429038\n",
            "[51]\ttraining's binary_error: 0.113938\ttraining's binary_logloss: 0.289833\tvalid_1's binary_error: 0.190713\tvalid_1's binary_logloss: 0.429464\n",
            "[52]\ttraining's binary_error: 0.112832\ttraining's binary_logloss: 0.288089\tvalid_1's binary_error: 0.190713\tvalid_1's binary_logloss: 0.429747\n",
            "[53]\ttraining's binary_error: 0.111357\ttraining's binary_logloss: 0.286169\tvalid_1's binary_error: 0.190713\tvalid_1's binary_logloss: 0.429289\n",
            "[54]\ttraining's binary_error: 0.110619\ttraining's binary_logloss: 0.284679\tvalid_1's binary_error: 0.189055\tvalid_1's binary_logloss: 0.430043\n",
            "[55]\ttraining's binary_error: 0.110988\ttraining's binary_logloss: 0.282484\tvalid_1's binary_error: 0.189055\tvalid_1's binary_logloss: 0.429729\n",
            "[56]\ttraining's binary_error: 0.110435\ttraining's binary_logloss: 0.280867\tvalid_1's binary_error: 0.187396\tvalid_1's binary_logloss: 0.429079\n",
            "[57]\ttraining's binary_error: 0.109329\ttraining's binary_logloss: 0.279572\tvalid_1's binary_error: 0.187396\tvalid_1's binary_logloss: 0.429988\n",
            "[58]\ttraining's binary_error: 0.108038\ttraining's binary_logloss: 0.278075\tvalid_1's binary_error: 0.185738\tvalid_1's binary_logloss: 0.430563\n",
            "[59]\ttraining's binary_error: 0.107301\ttraining's binary_logloss: 0.276221\tvalid_1's binary_error: 0.185738\tvalid_1's binary_logloss: 0.43098\n",
            "[60]\ttraining's binary_error: 0.105642\ttraining's binary_logloss: 0.274668\tvalid_1's binary_error: 0.18408\tvalid_1's binary_logloss: 0.430011\n",
            "[61]\ttraining's binary_error: 0.103614\ttraining's binary_logloss: 0.272594\tvalid_1's binary_error: 0.18408\tvalid_1's binary_logloss: 0.429998\n",
            "[62]\ttraining's binary_error: 0.104167\ttraining's binary_logloss: 0.271026\tvalid_1's binary_error: 0.18408\tvalid_1's binary_logloss: 0.429923\n",
            "[63]\ttraining's binary_error: 0.102507\ttraining's binary_logloss: 0.269273\tvalid_1's binary_error: 0.182421\tvalid_1's binary_logloss: 0.430263\n",
            "[64]\ttraining's binary_error: 0.0991888\ttraining's binary_logloss: 0.267585\tvalid_1's binary_error: 0.182421\tvalid_1's binary_logloss: 0.430153\n",
            "[65]\ttraining's binary_error: 0.0999263\ttraining's binary_logloss: 0.265993\tvalid_1's binary_error: 0.18408\tvalid_1's binary_logloss: 0.430764\n",
            "[66]\ttraining's binary_error: 0.0984513\ttraining's binary_logloss: 0.263872\tvalid_1's binary_error: 0.185738\tvalid_1's binary_logloss: 0.430403\n",
            "[67]\ttraining's binary_error: 0.0977139\ttraining's binary_logloss: 0.26238\tvalid_1's binary_error: 0.185738\tvalid_1's binary_logloss: 0.430001\n",
            "[68]\ttraining's binary_error: 0.096792\ttraining's binary_logloss: 0.260984\tvalid_1's binary_error: 0.187396\tvalid_1's binary_logloss: 0.431009\n",
            "[69]\ttraining's binary_error: 0.0956858\ttraining's binary_logloss: 0.259483\tvalid_1's binary_error: 0.187396\tvalid_1's binary_logloss: 0.431671\n",
            "[70]\ttraining's binary_error: 0.0938422\ttraining's binary_logloss: 0.258182\tvalid_1's binary_error: 0.185738\tvalid_1's binary_logloss: 0.431501\n",
            "[71]\ttraining's binary_error: 0.0931047\ttraining's binary_logloss: 0.256464\tvalid_1's binary_error: 0.185738\tvalid_1's binary_logloss: 0.43301\n",
            "[72]\ttraining's binary_error: 0.0923673\ttraining's binary_logloss: 0.255027\tvalid_1's binary_error: 0.187396\tvalid_1's binary_logloss: 0.432767\n",
            "[73]\ttraining's binary_error: 0.092736\ttraining's binary_logloss: 0.253492\tvalid_1's binary_error: 0.185738\tvalid_1's binary_logloss: 0.432785\n",
            "[74]\ttraining's binary_error: 0.090708\ttraining's binary_logloss: 0.252018\tvalid_1's binary_error: 0.187396\tvalid_1's binary_logloss: 0.433687\n",
            "[75]\ttraining's binary_error: 0.0890487\ttraining's binary_logloss: 0.250375\tvalid_1's binary_error: 0.18408\tvalid_1's binary_logloss: 0.433449\n",
            "[76]\ttraining's binary_error: 0.0884956\ttraining's binary_logloss: 0.248738\tvalid_1's binary_error: 0.18408\tvalid_1's binary_logloss: 0.434065\n",
            "[77]\ttraining's binary_error: 0.0866519\ttraining's binary_logloss: 0.2475\tvalid_1's binary_error: 0.185738\tvalid_1's binary_logloss: 0.434873\n",
            "[78]\ttraining's binary_error: 0.0860988\ttraining's binary_logloss: 0.246183\tvalid_1's binary_error: 0.185738\tvalid_1's binary_logloss: 0.435631\n",
            "[79]\ttraining's binary_error: 0.0848083\ttraining's binary_logloss: 0.244876\tvalid_1's binary_error: 0.18408\tvalid_1's binary_logloss: 0.435036\n",
            "[80]\ttraining's binary_error: 0.0844395\ttraining's binary_logloss: 0.243754\tvalid_1's binary_error: 0.18408\tvalid_1's binary_logloss: 0.434927\n",
            "[81]\ttraining's binary_error: 0.083149\ttraining's binary_logloss: 0.24234\tvalid_1's binary_error: 0.182421\tvalid_1's binary_logloss: 0.436682\n",
            "[82]\ttraining's binary_error: 0.0825959\ttraining's binary_logloss: 0.240816\tvalid_1's binary_error: 0.182421\tvalid_1's binary_logloss: 0.437249\n",
            "[83]\ttraining's binary_error: 0.0825959\ttraining's binary_logloss: 0.239772\tvalid_1's binary_error: 0.185738\tvalid_1's binary_logloss: 0.43835\n",
            "[84]\ttraining's binary_error: 0.0820428\ttraining's binary_logloss: 0.238528\tvalid_1's binary_error: 0.18408\tvalid_1's binary_logloss: 0.438925\n",
            "[85]\ttraining's binary_error: 0.0813053\ttraining's binary_logloss: 0.237292\tvalid_1's binary_error: 0.18408\tvalid_1's binary_logloss: 0.438663\n",
            "[86]\ttraining's binary_error: 0.0803835\ttraining's binary_logloss: 0.235844\tvalid_1's binary_error: 0.18408\tvalid_1's binary_logloss: 0.438582\n",
            "[87]\ttraining's binary_error: 0.0798304\ttraining's binary_logloss: 0.234694\tvalid_1's binary_error: 0.18408\tvalid_1's binary_logloss: 0.439233\n",
            "[88]\ttraining's binary_error: 0.0779867\ttraining's binary_logloss: 0.233175\tvalid_1's binary_error: 0.185738\tvalid_1's binary_logloss: 0.439642\n",
            "[89]\ttraining's binary_error: 0.0774336\ttraining's binary_logloss: 0.232107\tvalid_1's binary_error: 0.187396\tvalid_1's binary_logloss: 0.438956\n",
            "[90]\ttraining's binary_error: 0.0761431\ttraining's binary_logloss: 0.230573\tvalid_1's binary_error: 0.185738\tvalid_1's binary_logloss: 0.43938\n",
            "[91]\ttraining's binary_error: 0.0759587\ttraining's binary_logloss: 0.229122\tvalid_1's binary_error: 0.18408\tvalid_1's binary_logloss: 0.439335\n",
            "[92]\ttraining's binary_error: 0.0746681\ttraining's binary_logloss: 0.227795\tvalid_1's binary_error: 0.18408\tvalid_1's binary_logloss: 0.43992\n",
            "[93]\ttraining's binary_error: 0.0737463\ttraining's binary_logloss: 0.226101\tvalid_1's binary_error: 0.18408\tvalid_1's binary_logloss: 0.43908\n",
            "[94]\ttraining's binary_error: 0.0726401\ttraining's binary_logloss: 0.22489\tvalid_1's binary_error: 0.18408\tvalid_1's binary_logloss: 0.439594\n",
            "[95]\ttraining's binary_error: 0.072087\ttraining's binary_logloss: 0.223434\tvalid_1's binary_error: 0.18408\tvalid_1's binary_logloss: 0.440221\n",
            "[96]\ttraining's binary_error: 0.0702434\ttraining's binary_logloss: 0.222108\tvalid_1's binary_error: 0.182421\tvalid_1's binary_logloss: 0.440475\n",
            "[97]\ttraining's binary_error: 0.0691372\ttraining's binary_logloss: 0.221103\tvalid_1's binary_error: 0.18408\tvalid_1's binary_logloss: 0.441182\n",
            "[98]\ttraining's binary_error: 0.0691372\ttraining's binary_logloss: 0.220103\tvalid_1's binary_error: 0.18408\tvalid_1's binary_logloss: 0.441743\n",
            "[99]\ttraining's binary_error: 0.0689528\ttraining's binary_logloss: 0.218811\tvalid_1's binary_error: 0.18408\tvalid_1's binary_logloss: 0.4419\n",
            "[100]\ttraining's binary_error: 0.0685841\ttraining's binary_logloss: 0.2176\tvalid_1's binary_error: 0.182421\tvalid_1's binary_logloss: 0.441236\n"
          ]
        }
      ]
    },
    {
      "cell_type": "code",
      "source": [
        "print(\"-----학습용-----\")\n",
        "tpreds = lgbm_wrapper.predict(X_train)\n",
        "tpred_proba = lgbm_wrapper.predict_proba(X_train)[:,1]\n",
        "get_eval(y_train, tpreds, tpred_proba)\n",
        "print(\"-----시험용-----\")\n",
        "get_eval(y_test, preds, pred_proba)"
      ],
      "metadata": {
        "colab": {
          "base_uri": "https://localhost:8080/"
        },
        "id": "xHEtcIs59hnU",
        "outputId": "da866947-7b40-400e-feea-8c4060238e6f"
      },
      "execution_count": null,
      "outputs": [
        {
          "output_type": "stream",
          "name": "stdout",
          "text": [
            "-----학습용-----\n",
            "오차행렬\n",
            "[[4770   36]\n",
            " [ 446  775]]\n",
            "정확도:  0.920, 정밀도:  0.956, 재현율:  0.635, F1:  0.763, AUC:  0.963\n",
            "-----시험용-----\n",
            "오차행렬\n",
            "[[1951  105]\n",
            " [ 370  158]]\n",
            "정확도:  0.816, 정밀도:  0.601, 재현율:  0.299, F1:  0.399, AUC:  0.778\n"
          ]
        }
      ]
    },
    {
      "cell_type": "code",
      "source": [
        ""
      ],
      "metadata": {
        "id": "4wnYJRs187Wl"
      },
      "execution_count": null,
      "outputs": []
    },
    {
      "cell_type": "markdown",
      "source": [
        "### 1-1. SMOTE"
      ],
      "metadata": {
        "id": "ri7QTaxXGXKD"
      }
    },
    {
      "cell_type": "code",
      "source": [
        "from imblearn.over_sampling import *"
      ],
      "metadata": {
        "id": "lo-A7YWmw6ut"
      },
      "execution_count": null,
      "outputs": []
    },
    {
      "cell_type": "code",
      "source": [
        "pd.Series(y_train).value_counts()"
      ],
      "metadata": {
        "id": "ltqgNF7Fsn_D",
        "outputId": "46ec8d76-138b-439b-f60c-4c92bc2249c7",
        "colab": {
          "base_uri": "https://localhost:8080/"
        }
      },
      "execution_count": null,
      "outputs": [
        {
          "output_type": "execute_result",
          "data": {
            "text/plain": [
              "0    4806\n",
              "1    1221\n",
              "Name: target, dtype: int64"
            ]
          },
          "metadata": {},
          "execution_count": 22
        }
      ]
    },
    {
      "cell_type": "code",
      "source": [
        "over = SMOTE(random_state=60)\n",
        "X_train_over, y_train_over = over.fit_resample(X_train, y_train)\n",
        "print('SMOTE 적용 전 학습용 피처/레이블 데이터 세트:', X_train.shape, y_train.shape)\n",
        "print('SMOTE 적용 후 학습용 피처/레이블 데이터 세트:', X_train_over.shape, y_train_over.shape)\n",
        "print('SMOTE 적용 후 레이블 값 분포:\\n', pd.Series(y_train_over).value_counts())"
      ],
      "metadata": {
        "colab": {
          "base_uri": "https://localhost:8080/"
        },
        "id": "EHNfAIw5xeLu",
        "outputId": "36d4b826-7515-4b4d-ee74-23374cfb3db0"
      },
      "execution_count": null,
      "outputs": [
        {
          "output_type": "stream",
          "name": "stdout",
          "text": [
            "SMOTE 적용 전 학습용 피처/레이블 데이터 세트: (6027, 60) (6027,)\n",
            "SMOTE 적용 후 학습용 피처/레이블 데이터 세트: (9612, 60) (9612,)\n",
            "SMOTE 적용 후 레이블 값 분포:\n",
            " 1    4806\n",
            "0    4806\n",
            "Name: target, dtype: int64\n"
          ]
        }
      ]
    },
    {
      "cell_type": "markdown",
      "source": [
        "##### DecisionTree"
      ],
      "metadata": {
        "id": "LfC2evk9LZwJ"
      }
    },
    {
      "cell_type": "code",
      "source": [
        "tree = DecisionTreeClassifier(random_state=60)  \n",
        "tree.fit(X_train_over, y_train_over)\n",
        "print(\"학습용 데이터 정확도: {:.3f}\".format(tree.score(X_train_over, y_train_over)))\n",
        "print(\"시험용 데이터 정확도: {:.3f}\".format(tree.score(X_test, y_test)))"
      ],
      "metadata": {
        "colab": {
          "base_uri": "https://localhost:8080/"
        },
        "id": "bJqriHjvzaU7",
        "outputId": "f2725bf4-ac8f-4f21-8e1f-f629786e5c50"
      },
      "execution_count": null,
      "outputs": [
        {
          "output_type": "stream",
          "name": "stdout",
          "text": [
            "학습용 데이터 정확도: 1.000\n",
            "시험용 데이터 정확도: 0.691\n"
          ]
        }
      ]
    },
    {
      "cell_type": "code",
      "source": [
        "print(\"-----학습용-----\")\n",
        "pred = tree.predict(X_train_over)\n",
        "get_eval(y_train_over, pred, pred)\n",
        "\n",
        "print(\"-----시험용-----\")\n",
        "pred = tree.predict(X_test)\n",
        "get_eval(y_test, pred, pred)"
      ],
      "metadata": {
        "colab": {
          "base_uri": "https://localhost:8080/"
        },
        "id": "RjWS14U0WDDm",
        "outputId": "208bacba-ba3e-48a9-f0d3-adffc1076517"
      },
      "execution_count": null,
      "outputs": [
        {
          "output_type": "stream",
          "name": "stdout",
          "text": [
            "-----학습용-----\n",
            "오차행렬\n",
            "[[4806    0]\n",
            " [   0 4806]]\n",
            "정확도:  1.000, 정밀도:  1.000, 재현율:  1.000, F1:  1.000, AUC:  1.000\n",
            "-----시험용-----\n",
            "오차행렬\n",
            "[[1571  485]\n",
            " [ 313  215]]\n",
            "정확도:  0.691, 정밀도:  0.307, 재현율:  0.407, F1:  0.350, AUC:  0.586\n"
          ]
        }
      ]
    },
    {
      "cell_type": "markdown",
      "source": [
        "##### RandomForest"
      ],
      "metadata": {
        "id": "shEKhSkvLcll"
      }
    },
    {
      "cell_type": "code",
      "source": [
        "forest = RandomForestClassifier(random_state=60 )\n",
        "forest.fit(X_train_over, y_train_over)\n",
        "\n",
        "print(\"학습용 데이터 세트 정확도: {:.3f}\".format(forest.score(X_train_over, y_train_over)))\n",
        "print(\"시험용 데이터 세트 정확도: {:.3f}\".format(forest.score(X_test, y_test)))"
      ],
      "metadata": {
        "colab": {
          "base_uri": "https://localhost:8080/"
        },
        "id": "IcvglgUGyJn1",
        "outputId": "8c4b3d8b-2ea8-4747-d3a4-27e5ae819412"
      },
      "execution_count": null,
      "outputs": [
        {
          "output_type": "stream",
          "name": "stdout",
          "text": [
            "학습용 데이터 세트 정확도: 1.000\n",
            "시험용 데이터 세트 정확도: 0.793\n"
          ]
        }
      ]
    },
    {
      "cell_type": "code",
      "source": [
        "print(\"-----학습용-----\")\n",
        "pred = forest.predict(X_train_over)\n",
        "get_eval(y_train_over, pred, pred)\n",
        "\n",
        "print(\"-----시험용-----\")\n",
        "pred = forest.predict(X_test)\n",
        "get_eval(y_test, pred, pred)"
      ],
      "metadata": {
        "colab": {
          "base_uri": "https://localhost:8080/"
        },
        "id": "Sf7tYGlyWHl1",
        "outputId": "c7c9c62d-888b-42a6-d0a5-7335b115b4dc"
      },
      "execution_count": null,
      "outputs": [
        {
          "output_type": "stream",
          "name": "stdout",
          "text": [
            "-----학습용-----\n",
            "오차행렬\n",
            "[[4806    0]\n",
            " [   0 4806]]\n",
            "정확도:  1.000, 정밀도:  1.000, 재현율:  1.000, F1:  1.000, AUC:  1.000\n",
            "-----시험용-----\n",
            "오차행렬\n",
            "[[1832  224]\n",
            " [ 312  216]]\n",
            "정확도:  0.793, 정밀도:  0.491, 재현율:  0.409, F1:  0.446, AUC:  0.650\n"
          ]
        }
      ]
    },
    {
      "cell_type": "markdown",
      "source": [
        "##### XGBoost"
      ],
      "metadata": {
        "id": "-XYk7g36LfDZ"
      }
    },
    {
      "cell_type": "code",
      "source": [
        "X_tr, X_val, y_tr, y_val = train_test_split(X_train_over, y_train_over, test_size = 0.1, random_state = 60)"
      ],
      "metadata": {
        "id": "JVJqacVlRxqU"
      },
      "execution_count": null,
      "outputs": []
    },
    {
      "cell_type": "code",
      "source": [
        "xgb_wrapper =  XGBClassifier( learning_rate = 0.05)\n",
        "xgb_wrapper.fit(X_train_over, y_train_over, verbose=True)\n",
        "w_preds = xgb_wrapper.predict(X_test)\n",
        "w_pred_proba = xgb_wrapper.predict_proba(X_test)[:,1]\n",
        "\n",
        "#학습용데이터\n",
        "tw_preds = xgb_wrapper.predict(X_train_over)\n",
        "tw_pred_proba = xgb_wrapper.predict_proba(X_train_over)[:,1]\n",
        "print(\"----학습용데이터-----\")\n",
        "get_eval(y_train_over, tw_preds, tw_pred_proba)\n",
        "\n",
        "#시험용데이터\n",
        "print(\"-----시험용데이터-----\")\n",
        "get_eval(y_test, w_preds, w_pred_proba)"
      ],
      "metadata": {
        "colab": {
          "base_uri": "https://localhost:8080/"
        },
        "id": "LCJCKinrHGqc",
        "outputId": "c531951d-3708-4af1-97c4-4a346c087a12"
      },
      "execution_count": null,
      "outputs": [
        {
          "output_type": "stream",
          "name": "stdout",
          "text": [
            "----학습용데이터-----\n",
            "오차행렬\n",
            "[[4128  678]\n",
            " [ 802 4004]]\n",
            "정확도:  0.846, 정밀도:  0.855, 재현율:  0.833, F1:  0.844, AUC:  0.929\n",
            "-----시험용데이터-----\n",
            "오차행렬\n",
            "[[1739  317]\n",
            " [ 260  268]]\n",
            "정확도:  0.777, 정밀도:  0.458, 재현율:  0.508, F1:  0.482, AUC:  0.764\n"
          ]
        }
      ]
    },
    {
      "cell_type": "code",
      "source": [
        ""
      ],
      "metadata": {
        "id": "IIcYpcax8AFJ"
      },
      "execution_count": null,
      "outputs": []
    },
    {
      "cell_type": "markdown",
      "source": [
        "#### LightGBM"
      ],
      "metadata": {
        "id": "iBM5BAvvLiBW"
      }
    },
    {
      "cell_type": "code",
      "source": [
        "lgbm_wrapper = LGBMClassifier(learning_Rate=0.05)\n",
        "\n",
        "evals = [(X_tr,y_tr), (X_val,y_val)]\n",
        "lgbm_wrapper.fit(X_tr, y_tr, eval_set = evals, eval_metric=\"error\",verbose=True)\n",
        "preds = lgbm_wrapper.predict(X_test)\n",
        "pred_proba = lgbm_wrapper.predict_proba(X_test)[:,1]"
      ],
      "metadata": {
        "colab": {
          "base_uri": "https://localhost:8080/"
        },
        "id": "zw3AqyIAHGn7",
        "outputId": "bac480f3-1fd9-431a-caa7-e232c9778d8f"
      },
      "execution_count": null,
      "outputs": [
        {
          "output_type": "stream",
          "name": "stdout",
          "text": [
            "[1]\ttraining's binary_error: 0.195607\ttraining's binary_logloss: 0.652523\tvalid_1's binary_error: 0.233888\tvalid_1's binary_logloss: 0.6581\n",
            "[2]\ttraining's binary_error: 0.191329\ttraining's binary_logloss: 0.618836\tvalid_1's binary_error: 0.234927\tvalid_1's binary_logloss: 0.628674\n",
            "[3]\ttraining's binary_error: 0.187861\ttraining's binary_logloss: 0.590287\tvalid_1's binary_error: 0.230769\tvalid_1's binary_logloss: 0.604244\n",
            "[4]\ttraining's binary_error: 0.184277\ttraining's binary_logloss: 0.565261\tvalid_1's binary_error: 0.22973\tvalid_1's binary_logloss: 0.581413\n",
            "[5]\ttraining's binary_error: 0.176994\ttraining's binary_logloss: 0.540888\tvalid_1's binary_error: 0.224532\tvalid_1's binary_logloss: 0.561681\n",
            "[6]\ttraining's binary_error: 0.173526\ttraining's binary_logloss: 0.521201\tvalid_1's binary_error: 0.22973\tvalid_1's binary_logloss: 0.545238\n",
            "[7]\ttraining's binary_error: 0.167399\ttraining's binary_logloss: 0.503664\tvalid_1's binary_error: 0.220374\tvalid_1's binary_logloss: 0.530656\n",
            "[8]\ttraining's binary_error: 0.165434\ttraining's binary_logloss: 0.48766\tvalid_1's binary_error: 0.222453\tvalid_1's binary_logloss: 0.520122\n",
            "[9]\ttraining's binary_error: 0.163699\ttraining's binary_logloss: 0.472903\tvalid_1's binary_error: 0.219335\tvalid_1's binary_logloss: 0.508288\n",
            "[10]\ttraining's binary_error: 0.159653\ttraining's binary_logloss: 0.460193\tvalid_1's binary_error: 0.219335\tvalid_1's binary_logloss: 0.49883\n",
            "[11]\ttraining's binary_error: 0.156301\ttraining's binary_logloss: 0.446012\tvalid_1's binary_error: 0.213098\tvalid_1's binary_logloss: 0.48598\n",
            "[12]\ttraining's binary_error: 0.154566\ttraining's binary_logloss: 0.434667\tvalid_1's binary_error: 0.213098\tvalid_1's binary_logloss: 0.476743\n",
            "[13]\ttraining's binary_error: 0.154335\ttraining's binary_logloss: 0.425264\tvalid_1's binary_error: 0.212058\tvalid_1's binary_logloss: 0.46944\n",
            "[14]\ttraining's binary_error: 0.150636\ttraining's binary_logloss: 0.416471\tvalid_1's binary_error: 0.213098\tvalid_1's binary_logloss: 0.462917\n",
            "[15]\ttraining's binary_error: 0.146474\ttraining's binary_logloss: 0.40537\tvalid_1's binary_error: 0.205821\tvalid_1's binary_logloss: 0.452446\n",
            "[16]\ttraining's binary_error: 0.146012\ttraining's binary_logloss: 0.396457\tvalid_1's binary_error: 0.204782\tvalid_1's binary_logloss: 0.445409\n",
            "[17]\ttraining's binary_error: 0.143121\ttraining's binary_logloss: 0.388738\tvalid_1's binary_error: 0.200624\tvalid_1's binary_logloss: 0.439667\n",
            "[18]\ttraining's binary_error: 0.140347\ttraining's binary_logloss: 0.379655\tvalid_1's binary_error: 0.195426\tvalid_1's binary_logloss: 0.430337\n",
            "[19]\ttraining's binary_error: 0.138035\ttraining's binary_logloss: 0.372916\tvalid_1's binary_error: 0.193347\tvalid_1's binary_logloss: 0.424155\n",
            "[20]\ttraining's binary_error: 0.135376\ttraining's binary_logloss: 0.364998\tvalid_1's binary_error: 0.189189\tvalid_1's binary_logloss: 0.417052\n",
            "[21]\ttraining's binary_error: 0.133526\ttraining's binary_logloss: 0.357877\tvalid_1's binary_error: 0.18815\tvalid_1's binary_logloss: 0.410956\n",
            "[22]\ttraining's binary_error: 0.129827\ttraining's binary_logloss: 0.350023\tvalid_1's binary_error: 0.185031\tvalid_1's binary_logloss: 0.404102\n",
            "[23]\ttraining's binary_error: 0.127283\ttraining's binary_logloss: 0.343889\tvalid_1's binary_error: 0.180873\tvalid_1's binary_logloss: 0.399055\n",
            "[24]\ttraining's binary_error: 0.126127\ttraining's binary_logloss: 0.338252\tvalid_1's binary_error: 0.180873\tvalid_1's binary_logloss: 0.393938\n",
            "[25]\ttraining's binary_error: 0.125087\ttraining's binary_logloss: 0.333619\tvalid_1's binary_error: 0.178794\tvalid_1's binary_logloss: 0.390205\n",
            "[26]\ttraining's binary_error: 0.124046\ttraining's binary_logloss: 0.328919\tvalid_1's binary_error: 0.175676\tvalid_1's binary_logloss: 0.386875\n",
            "[27]\ttraining's binary_error: 0.123353\ttraining's binary_logloss: 0.324473\tvalid_1's binary_error: 0.175676\tvalid_1's binary_logloss: 0.384248\n",
            "[28]\ttraining's binary_error: 0.120231\ttraining's binary_logloss: 0.319164\tvalid_1's binary_error: 0.172557\tvalid_1's binary_logloss: 0.379342\n",
            "[29]\ttraining's binary_error: 0.118497\ttraining's binary_logloss: 0.314629\tvalid_1's binary_error: 0.170478\tvalid_1's binary_logloss: 0.376515\n",
            "[30]\ttraining's binary_error: 0.11526\ttraining's binary_logloss: 0.30722\tvalid_1's binary_error: 0.169439\tvalid_1's binary_logloss: 0.369951\n",
            "[31]\ttraining's binary_error: 0.112139\ttraining's binary_logloss: 0.302669\tvalid_1's binary_error: 0.168399\tvalid_1's binary_logloss: 0.366486\n",
            "[32]\ttraining's binary_error: 0.11052\ttraining's binary_logloss: 0.296816\tvalid_1's binary_error: 0.16632\tvalid_1's binary_logloss: 0.361775\n",
            "[33]\ttraining's binary_error: 0.109133\ttraining's binary_logloss: 0.292229\tvalid_1's binary_error: 0.165281\tvalid_1's binary_logloss: 0.358041\n",
            "[34]\ttraining's binary_error: 0.107052\ttraining's binary_logloss: 0.288174\tvalid_1's binary_error: 0.162162\tvalid_1's binary_logloss: 0.355298\n",
            "[35]\ttraining's binary_error: 0.104624\ttraining's binary_logloss: 0.284549\tvalid_1's binary_error: 0.160083\tvalid_1's binary_logloss: 0.352435\n",
            "[36]\ttraining's binary_error: 0.103006\ttraining's binary_logloss: 0.280439\tvalid_1's binary_error: 0.160083\tvalid_1's binary_logloss: 0.348856\n",
            "[37]\ttraining's binary_error: 0.101272\ttraining's binary_logloss: 0.276114\tvalid_1's binary_error: 0.156965\tvalid_1's binary_logloss: 0.345001\n",
            "[38]\ttraining's binary_error: 0.100347\ttraining's binary_logloss: 0.272768\tvalid_1's binary_error: 0.153846\tvalid_1's binary_logloss: 0.342447\n",
            "[39]\ttraining's binary_error: 0.1\ttraining's binary_logloss: 0.269707\tvalid_1's binary_error: 0.154886\tvalid_1's binary_logloss: 0.339335\n",
            "[40]\ttraining's binary_error: 0.0990751\ttraining's binary_logloss: 0.26591\tvalid_1's binary_error: 0.152807\tvalid_1's binary_logloss: 0.336006\n",
            "[41]\ttraining's binary_error: 0.0974566\ttraining's binary_logloss: 0.26324\tvalid_1's binary_error: 0.154886\tvalid_1's binary_logloss: 0.335284\n",
            "[42]\ttraining's binary_error: 0.096185\ttraining's binary_logloss: 0.259876\tvalid_1's binary_error: 0.151767\tvalid_1's binary_logloss: 0.333049\n",
            "[43]\ttraining's binary_error: 0.0950289\ttraining's binary_logloss: 0.257572\tvalid_1's binary_error: 0.155925\tvalid_1's binary_logloss: 0.3327\n",
            "[44]\ttraining's binary_error: 0.0942197\ttraining's binary_logloss: 0.254034\tvalid_1's binary_error: 0.152807\tvalid_1's binary_logloss: 0.330415\n",
            "[45]\ttraining's binary_error: 0.092948\ttraining's binary_logloss: 0.251091\tvalid_1's binary_error: 0.149688\tvalid_1's binary_logloss: 0.328406\n",
            "[46]\ttraining's binary_error: 0.0936416\ttraining's binary_logloss: 0.248363\tvalid_1's binary_error: 0.149688\tvalid_1's binary_logloss: 0.326504\n",
            "[47]\ttraining's binary_error: 0.0927168\ttraining's binary_logloss: 0.246285\tvalid_1's binary_error: 0.14657\tvalid_1's binary_logloss: 0.325996\n",
            "[48]\ttraining's binary_error: 0.0923699\ttraining's binary_logloss: 0.244066\tvalid_1's binary_error: 0.144491\tvalid_1's binary_logloss: 0.324861\n",
            "[49]\ttraining's binary_error: 0.090289\ttraining's binary_logloss: 0.241851\tvalid_1's binary_error: 0.141372\tvalid_1's binary_logloss: 0.324814\n",
            "[50]\ttraining's binary_error: 0.0898266\ttraining's binary_logloss: 0.239828\tvalid_1's binary_error: 0.141372\tvalid_1's binary_logloss: 0.324231\n",
            "[51]\ttraining's binary_error: 0.0890173\ttraining's binary_logloss: 0.238229\tvalid_1's binary_error: 0.139293\tvalid_1's binary_logloss: 0.323551\n",
            "[52]\ttraining's binary_error: 0.0875145\ttraining's binary_logloss: 0.235718\tvalid_1's binary_error: 0.142412\tvalid_1's binary_logloss: 0.322527\n",
            "[53]\ttraining's binary_error: 0.0868208\ttraining's binary_logloss: 0.233914\tvalid_1's binary_error: 0.142412\tvalid_1's binary_logloss: 0.322915\n",
            "[54]\ttraining's binary_error: 0.0868208\ttraining's binary_logloss: 0.231651\tvalid_1's binary_error: 0.144491\tvalid_1's binary_logloss: 0.32183\n",
            "[55]\ttraining's binary_error: 0.0847399\ttraining's binary_logloss: 0.229925\tvalid_1's binary_error: 0.142412\tvalid_1's binary_logloss: 0.322313\n",
            "[56]\ttraining's binary_error: 0.0842775\ttraining's binary_logloss: 0.228431\tvalid_1's binary_error: 0.142412\tvalid_1's binary_logloss: 0.321666\n",
            "[57]\ttraining's binary_error: 0.0834682\ttraining's binary_logloss: 0.226771\tvalid_1's binary_error: 0.139293\tvalid_1's binary_logloss: 0.321695\n",
            "[58]\ttraining's binary_error: 0.0828902\ttraining's binary_logloss: 0.225199\tvalid_1's binary_error: 0.140333\tvalid_1's binary_logloss: 0.322651\n",
            "[59]\ttraining's binary_error: 0.0821965\ttraining's binary_logloss: 0.223078\tvalid_1's binary_error: 0.139293\tvalid_1's binary_logloss: 0.321362\n",
            "[60]\ttraining's binary_error: 0.0809249\ttraining's binary_logloss: 0.221643\tvalid_1's binary_error: 0.138254\tvalid_1's binary_logloss: 0.320876\n",
            "[61]\ttraining's binary_error: 0.0796532\ttraining's binary_logloss: 0.220087\tvalid_1's binary_error: 0.141372\tvalid_1's binary_logloss: 0.320328\n",
            "[62]\ttraining's binary_error: 0.0793064\ttraining's binary_logloss: 0.218659\tvalid_1's binary_error: 0.143451\tvalid_1's binary_logloss: 0.319917\n",
            "[63]\ttraining's binary_error: 0.0784971\ttraining's binary_logloss: 0.217181\tvalid_1's binary_error: 0.142412\tvalid_1's binary_logloss: 0.319123\n",
            "[64]\ttraining's binary_error: 0.0776879\ttraining's binary_logloss: 0.215911\tvalid_1's binary_error: 0.142412\tvalid_1's binary_logloss: 0.319047\n",
            "[65]\ttraining's binary_error: 0.0768786\ttraining's binary_logloss: 0.214552\tvalid_1's binary_error: 0.141372\tvalid_1's binary_logloss: 0.319684\n",
            "[66]\ttraining's binary_error: 0.0765318\ttraining's binary_logloss: 0.213168\tvalid_1's binary_error: 0.140333\tvalid_1's binary_logloss: 0.319793\n",
            "[67]\ttraining's binary_error: 0.0756069\ttraining's binary_logloss: 0.211795\tvalid_1's binary_error: 0.140333\tvalid_1's binary_logloss: 0.319531\n",
            "[68]\ttraining's binary_error: 0.0746821\ttraining's binary_logloss: 0.210441\tvalid_1's binary_error: 0.141372\tvalid_1's binary_logloss: 0.319769\n",
            "[69]\ttraining's binary_error: 0.0737572\ttraining's binary_logloss: 0.209117\tvalid_1's binary_error: 0.142412\tvalid_1's binary_logloss: 0.319531\n",
            "[70]\ttraining's binary_error: 0.0734104\ttraining's binary_logloss: 0.207977\tvalid_1's binary_error: 0.144491\tvalid_1's binary_logloss: 0.319496\n",
            "[71]\ttraining's binary_error: 0.0727168\ttraining's binary_logloss: 0.20671\tvalid_1's binary_error: 0.140333\tvalid_1's binary_logloss: 0.318971\n",
            "[72]\ttraining's binary_error: 0.0723699\ttraining's binary_logloss: 0.205689\tvalid_1's binary_error: 0.141372\tvalid_1's binary_logloss: 0.318875\n",
            "[73]\ttraining's binary_error: 0.0717919\ttraining's binary_logloss: 0.204451\tvalid_1's binary_error: 0.139293\tvalid_1's binary_logloss: 0.318883\n",
            "[74]\ttraining's binary_error: 0.0708671\ttraining's binary_logloss: 0.203201\tvalid_1's binary_error: 0.139293\tvalid_1's binary_logloss: 0.318045\n",
            "[75]\ttraining's binary_error: 0.0698266\ttraining's binary_logloss: 0.202147\tvalid_1's binary_error: 0.140333\tvalid_1's binary_logloss: 0.318479\n",
            "[76]\ttraining's binary_error: 0.0686705\ttraining's binary_logloss: 0.200986\tvalid_1's binary_error: 0.140333\tvalid_1's binary_logloss: 0.318486\n",
            "[77]\ttraining's binary_error: 0.0683237\ttraining's binary_logloss: 0.199907\tvalid_1's binary_error: 0.141372\tvalid_1's binary_logloss: 0.318363\n",
            "[78]\ttraining's binary_error: 0.0675145\ttraining's binary_logloss: 0.198885\tvalid_1's binary_error: 0.140333\tvalid_1's binary_logloss: 0.318686\n",
            "[79]\ttraining's binary_error: 0.0672832\ttraining's binary_logloss: 0.197762\tvalid_1's binary_error: 0.140333\tvalid_1's binary_logloss: 0.318443\n",
            "[80]\ttraining's binary_error: 0.0669364\ttraining's binary_logloss: 0.196432\tvalid_1's binary_error: 0.137214\tvalid_1's binary_logloss: 0.318102\n",
            "[81]\ttraining's binary_error: 0.0662428\ttraining's binary_logloss: 0.195065\tvalid_1's binary_error: 0.135135\tvalid_1's binary_logloss: 0.317634\n",
            "[82]\ttraining's binary_error: 0.065896\ttraining's binary_logloss: 0.194205\tvalid_1's binary_error: 0.135135\tvalid_1's binary_logloss: 0.317714\n",
            "[83]\ttraining's binary_error: 0.0654335\ttraining's binary_logloss: 0.192764\tvalid_1's binary_error: 0.136175\tvalid_1's binary_logloss: 0.316592\n",
            "[84]\ttraining's binary_error: 0.0645087\ttraining's binary_logloss: 0.191565\tvalid_1's binary_error: 0.136175\tvalid_1's binary_logloss: 0.316719\n",
            "[85]\ttraining's binary_error: 0.0636994\ttraining's binary_logloss: 0.190526\tvalid_1's binary_error: 0.136175\tvalid_1's binary_logloss: 0.316795\n",
            "[86]\ttraining's binary_error: 0.0628902\ttraining's binary_logloss: 0.189177\tvalid_1's binary_error: 0.138254\tvalid_1's binary_logloss: 0.316341\n",
            "[87]\ttraining's binary_error: 0.0619653\ttraining's binary_logloss: 0.188099\tvalid_1's binary_error: 0.134096\tvalid_1's binary_logloss: 0.316339\n",
            "[88]\ttraining's binary_error: 0.0610405\ttraining's binary_logloss: 0.187176\tvalid_1's binary_error: 0.135135\tvalid_1's binary_logloss: 0.316652\n",
            "[89]\ttraining's binary_error: 0.0604624\ttraining's binary_logloss: 0.186002\tvalid_1's binary_error: 0.135135\tvalid_1's binary_logloss: 0.316617\n",
            "[90]\ttraining's binary_error: 0.0597688\ttraining's binary_logloss: 0.184847\tvalid_1's binary_error: 0.133056\tvalid_1's binary_logloss: 0.316595\n",
            "[91]\ttraining's binary_error: 0.0589595\ttraining's binary_logloss: 0.183851\tvalid_1's binary_error: 0.130977\tvalid_1's binary_logloss: 0.316018\n",
            "[92]\ttraining's binary_error: 0.0586127\ttraining's binary_logloss: 0.182815\tvalid_1's binary_error: 0.134096\tvalid_1's binary_logloss: 0.31605\n",
            "[93]\ttraining's binary_error: 0.0582659\ttraining's binary_logloss: 0.181913\tvalid_1's binary_error: 0.134096\tvalid_1's binary_logloss: 0.316219\n",
            "[94]\ttraining's binary_error: 0.0578035\ttraining's binary_logloss: 0.180737\tvalid_1's binary_error: 0.135135\tvalid_1's binary_logloss: 0.316356\n",
            "[95]\ttraining's binary_error: 0.0564162\ttraining's binary_logloss: 0.179591\tvalid_1's binary_error: 0.137214\tvalid_1's binary_logloss: 0.316612\n",
            "[96]\ttraining's binary_error: 0.0560694\ttraining's binary_logloss: 0.178504\tvalid_1's binary_error: 0.138254\tvalid_1's binary_logloss: 0.316694\n",
            "[97]\ttraining's binary_error: 0.0547977\ttraining's binary_logloss: 0.177383\tvalid_1's binary_error: 0.137214\tvalid_1's binary_logloss: 0.316455\n",
            "[98]\ttraining's binary_error: 0.0544509\ttraining's binary_logloss: 0.176533\tvalid_1's binary_error: 0.139293\tvalid_1's binary_logloss: 0.316475\n",
            "[99]\ttraining's binary_error: 0.0534104\ttraining's binary_logloss: 0.175677\tvalid_1's binary_error: 0.139293\tvalid_1's binary_logloss: 0.316374\n",
            "[100]\ttraining's binary_error: 0.0537572\ttraining's binary_logloss: 0.17456\tvalid_1's binary_error: 0.138254\tvalid_1's binary_logloss: 0.315832\n"
          ]
        }
      ]
    },
    {
      "cell_type": "code",
      "source": [
        "# 학습용데이터\n",
        "print(\"----학습용데이터----\")\n",
        "tpreds = lgbm_wrapper.predict(X_train_over)\n",
        "tpred_proba = lgbm_wrapper.predict_proba(X_train_over)[:,1]\n",
        "get_eval(y_train_over, tpreds, tpred_proba)\n",
        "\n",
        "#시험용데이터\n",
        "print(\"----시험용데이터----\")\n",
        "get_eval(y_test, preds, pred_proba)"
      ],
      "metadata": {
        "id": "mqUkph7NSs8w",
        "colab": {
          "base_uri": "https://localhost:8080/"
        },
        "outputId": "9f16ff7e-8acb-4924-f24e-02e2b533211d"
      },
      "execution_count": null,
      "outputs": [
        {
          "output_type": "stream",
          "name": "stdout",
          "text": [
            "----학습용데이터----\n",
            "오차행렬\n",
            "[[4675  131]\n",
            " [ 467 4339]]\n",
            "정확도:  0.938, 정밀도:  0.971, 재현율:  0.903, F1:  0.936, AUC:  0.984\n",
            "----시험용데이터----\n",
            "오차행렬\n",
            "[[1872  184]\n",
            " [ 326  202]]\n",
            "정확도:  0.803, 정밀도:  0.523, 재현율:  0.383, F1:  0.442, AUC:  0.769\n"
          ]
        }
      ]
    },
    {
      "cell_type": "code",
      "source": [
        ""
      ],
      "metadata": {
        "id": "Z23-TJJdIM-A"
      },
      "execution_count": null,
      "outputs": []
    },
    {
      "cell_type": "markdown",
      "source": [
        "### 1-2. SMOTE+ENN\n",
        "- SMOTE+ENN 방법은 SMOTE(Synthetic Minority Over-sampling Technique) 방법과 ENN(Edited Nearest Neighbours) 방법을 섞은 것"
      ],
      "metadata": {
        "id": "tpmV45kZ0Zl3"
      }
    },
    {
      "cell_type": "code",
      "source": [
        "from imblearn.combine import *"
      ],
      "metadata": {
        "id": "gWYnHQPlzt10"
      },
      "execution_count": null,
      "outputs": []
    },
    {
      "cell_type": "code",
      "source": [
        "over = SMOTEENN(random_state=0)\n",
        "X_train_over, y_train_over = over.fit_resample(X_train, y_train)\n",
        "print('SMOTEENN 적용 전 학습용 피처/레이블 데이터 세트:', X_train.shape, y_train.shape)\n",
        "print('SMOTEENN 적용 후 학습용 피처/레이블 데이터 세트:', X_train_over.shape, y_train_over.shape)\n",
        "print('SMOTEENN 적용 후 레이블 값 분포:\\n', pd.Series(y_train_over).value_counts())"
      ],
      "metadata": {
        "colab": {
          "base_uri": "https://localhost:8080/"
        },
        "id": "kmpUva3-zuYv",
        "outputId": "57256fd2-a3d3-43c9-a810-6c596ec0a138"
      },
      "execution_count": null,
      "outputs": [
        {
          "output_type": "stream",
          "name": "stdout",
          "text": [
            "SMOTEENN 적용 전 학습용 피처/레이블 데이터 세트: (6027, 60) (6027,)\n",
            "SMOTEENN 적용 후 학습용 피처/레이블 데이터 세트: (6331, 60) (6331,)\n",
            "SMOTEENN 적용 후 레이블 값 분포:\n",
            " 1    4121\n",
            "0    2210\n",
            "Name: target, dtype: int64\n"
          ]
        }
      ]
    },
    {
      "cell_type": "markdown",
      "source": [
        "##### DecisionTree"
      ],
      "metadata": {
        "id": "_WxKYxXLLm-L"
      }
    },
    {
      "cell_type": "code",
      "source": [
        "tree = DecisionTreeClassifier(random_state=60)  \n",
        "tree.fit(X_train_over, y_train_over)\n",
        "print(\"학습용 데이터 정확도: {:.3f}\".format(tree.score(X_train_over, y_train_over)))\n",
        "print(\"시험용 데이터 정확도: {:.3f}\".format(tree.score(X_test, y_test)))"
      ],
      "metadata": {
        "colab": {
          "base_uri": "https://localhost:8080/"
        },
        "id": "bwBj4bP-0N5s",
        "outputId": "4e2efeed-cee6-4227-e8cd-c6c270b3f084"
      },
      "execution_count": null,
      "outputs": [
        {
          "output_type": "stream",
          "name": "stdout",
          "text": [
            "학습용 데이터 정확도: 1.000\n",
            "시험용 데이터 정확도: 0.660\n"
          ]
        }
      ]
    },
    {
      "cell_type": "code",
      "source": [
        "print(\"-----학습용-----\")\n",
        "pred = tree.predict(X_train_over)\n",
        "get_eval(y_train_over, pred, pred)\n",
        "\n",
        "print(\"-----시험용-----\")\n",
        "pred = tree.predict(X_test)\n",
        "get_eval(y_test, pred, pred)"
      ],
      "metadata": {
        "colab": {
          "base_uri": "https://localhost:8080/"
        },
        "id": "NahXRHxpWSlf",
        "outputId": "e567efcf-aa16-4a4b-e616-eb6731ebdea0"
      },
      "execution_count": null,
      "outputs": [
        {
          "output_type": "stream",
          "name": "stdout",
          "text": [
            "-----학습용-----\n",
            "오차행렬\n",
            "[[2210    0]\n",
            " [   0 4121]]\n",
            "정확도:  1.000, 정밀도:  1.000, 재현율:  1.000, F1:  1.000, AUC:  1.000\n",
            "-----시험용-----\n",
            "오차행렬\n",
            "[[1410  646]\n",
            " [ 233  295]]\n",
            "정확도:  0.660, 정밀도:  0.313, 재현율:  0.559, F1:  0.402, AUC:  0.622\n"
          ]
        }
      ]
    },
    {
      "cell_type": "markdown",
      "source": [
        "##### RandomForest"
      ],
      "metadata": {
        "id": "hyVqu7fnLqV_"
      }
    },
    {
      "cell_type": "code",
      "source": [
        "forest = RandomForestClassifier(random_state=60)\n",
        "forest.fit(X_train_over, y_train_over)\n",
        "\n",
        "print(\"학습용 데이터 세트 정확도: {:.3f}\".format(forest.score(X_train_over, y_train_over)))\n",
        "print(\"시험용 데이터 세트 정확도: {:.3f}\".format(forest.score(X_test, y_test)))"
      ],
      "metadata": {
        "colab": {
          "base_uri": "https://localhost:8080/"
        },
        "id": "xv29AG0d0EvS",
        "outputId": "56ff353c-d5bd-4bb8-fd62-1d8b9adbe31e"
      },
      "execution_count": null,
      "outputs": [
        {
          "output_type": "stream",
          "name": "stdout",
          "text": [
            "학습용 데이터 세트 정확도: 1.000\n",
            "시험용 데이터 세트 정확도: 0.709\n"
          ]
        }
      ]
    },
    {
      "cell_type": "code",
      "source": [
        "print(\"-----학습용-----\")\n",
        "pred = forest.predict(X_train_over)\n",
        "get_eval(y_train_over, pred, pred)\n",
        "\n",
        "print(\"-----시험용-----\")\n",
        "pred = forest.predict(X_test)\n",
        "get_eval(y_test, pred, pred)"
      ],
      "metadata": {
        "colab": {
          "base_uri": "https://localhost:8080/"
        },
        "id": "ZewJ8pkdWUWY",
        "outputId": "dd9c4c90-9307-420e-daa3-8c9d6d694591"
      },
      "execution_count": null,
      "outputs": [
        {
          "output_type": "stream",
          "name": "stdout",
          "text": [
            "-----학습용-----\n",
            "오차행렬\n",
            "[[2210    0]\n",
            " [   0 4121]]\n",
            "정확도:  1.000, 정밀도:  1.000, 재현율:  1.000, F1:  1.000, AUC:  1.000\n",
            "-----시험용-----\n",
            "오차행렬\n",
            "[[1460  596]\n",
            " [ 157  371]]\n",
            "정확도:  0.709, 정밀도:  0.384, 재현율:  0.703, F1:  0.496, AUC:  0.706\n"
          ]
        }
      ]
    },
    {
      "cell_type": "markdown",
      "source": [
        "##### XGBoost"
      ],
      "metadata": {
        "id": "-IHTFFvDLs8B"
      }
    },
    {
      "cell_type": "code",
      "source": [
        "xgb_wrapper =  XGBClassifier(earning_rate = 0.05)\n",
        "xgb_wrapper.fit(X_train_over, y_train_over, verbose=True)\n",
        "w_preds = xgb_wrapper.predict(X_test)\n",
        "w_pred_proba = xgb_wrapper.predict_proba(X_test)[:,1]\n"
      ],
      "metadata": {
        "id": "XMneQUE-0HcM"
      },
      "execution_count": null,
      "outputs": []
    },
    {
      "cell_type": "code",
      "source": [
        "#학습용데이터\n",
        "tw_preds = xgb_wrapper.predict(X_train_over)\n",
        "tw_pred_proba = xgb_wrapper.predict_proba(X_train_over)[:,1]\n",
        "print(\"----학습용데이터-----\")\n",
        "get_eval(y_train_over, tw_preds, tw_pred_proba)\n",
        "\n",
        "#시험용데이터\n",
        "print(\"-----시험용데이터-----\")\n",
        "get_eval(y_test, w_preds, w_pred_proba)"
      ],
      "metadata": {
        "colab": {
          "base_uri": "https://localhost:8080/"
        },
        "id": "zgD72ARX-sN9",
        "outputId": "fd1fc558-a76a-43ce-f146-34c986d4e131"
      },
      "execution_count": null,
      "outputs": [
        {
          "output_type": "stream",
          "name": "stdout",
          "text": [
            "----학습용데이터-----\n",
            "오차행렬\n",
            "[[1879  331]\n",
            " [ 235 3886]]\n",
            "정확도:  0.911, 정밀도:  0.922, 재현율:  0.943, F1:  0.932, AUC:  0.972\n",
            "-----시험용데이터-----\n",
            "오차행렬\n",
            "[[1446  610]\n",
            " [ 170  358]]\n",
            "정확도:  0.698, 정밀도:  0.370, 재현율:  0.678, F1:  0.479, AUC:  0.767\n"
          ]
        }
      ]
    },
    {
      "cell_type": "markdown",
      "source": [
        "##### LightGBM"
      ],
      "metadata": {
        "id": "9hnmNo9OLvtV"
      }
    },
    {
      "cell_type": "code",
      "source": [
        "lgbm_wrapper = LGBMClassifier(learning_Rate=0.05)\n",
        "\n",
        "evals = [(X_tr,y_tr), (X_val,y_val)]\n",
        "lgbm_wrapper.fit(X_tr, y_tr, eval_set = evals, eval_metric=\"error\",verbose=True)\n",
        "preds = lgbm_wrapper.predict(X_test)\n",
        "pred_proba = lgbm_wrapper.predict_proba(X_test)[:,1]"
      ],
      "metadata": {
        "colab": {
          "base_uri": "https://localhost:8080/"
        },
        "id": "Ly_ynR3_HrLI",
        "outputId": "c1183d70-d673-4b02-9e85-1f9437c57ae4"
      },
      "execution_count": null,
      "outputs": [
        {
          "output_type": "stream",
          "name": "stdout",
          "text": [
            "[1]\ttraining's binary_error: 0.195607\ttraining's binary_logloss: 0.652523\tvalid_1's binary_error: 0.233888\tvalid_1's binary_logloss: 0.6581\n",
            "[2]\ttraining's binary_error: 0.191329\ttraining's binary_logloss: 0.618836\tvalid_1's binary_error: 0.234927\tvalid_1's binary_logloss: 0.628674\n",
            "[3]\ttraining's binary_error: 0.187861\ttraining's binary_logloss: 0.590287\tvalid_1's binary_error: 0.230769\tvalid_1's binary_logloss: 0.604244\n",
            "[4]\ttraining's binary_error: 0.184277\ttraining's binary_logloss: 0.565261\tvalid_1's binary_error: 0.22973\tvalid_1's binary_logloss: 0.581413\n",
            "[5]\ttraining's binary_error: 0.176994\ttraining's binary_logloss: 0.540888\tvalid_1's binary_error: 0.224532\tvalid_1's binary_logloss: 0.561681\n",
            "[6]\ttraining's binary_error: 0.173526\ttraining's binary_logloss: 0.521201\tvalid_1's binary_error: 0.22973\tvalid_1's binary_logloss: 0.545238\n",
            "[7]\ttraining's binary_error: 0.167399\ttraining's binary_logloss: 0.503664\tvalid_1's binary_error: 0.220374\tvalid_1's binary_logloss: 0.530656\n",
            "[8]\ttraining's binary_error: 0.165434\ttraining's binary_logloss: 0.48766\tvalid_1's binary_error: 0.222453\tvalid_1's binary_logloss: 0.520122\n",
            "[9]\ttraining's binary_error: 0.163699\ttraining's binary_logloss: 0.472903\tvalid_1's binary_error: 0.219335\tvalid_1's binary_logloss: 0.508288\n",
            "[10]\ttraining's binary_error: 0.159653\ttraining's binary_logloss: 0.460193\tvalid_1's binary_error: 0.219335\tvalid_1's binary_logloss: 0.49883\n",
            "[11]\ttraining's binary_error: 0.156301\ttraining's binary_logloss: 0.446012\tvalid_1's binary_error: 0.213098\tvalid_1's binary_logloss: 0.48598\n",
            "[12]\ttraining's binary_error: 0.154566\ttraining's binary_logloss: 0.434667\tvalid_1's binary_error: 0.213098\tvalid_1's binary_logloss: 0.476743\n",
            "[13]\ttraining's binary_error: 0.154335\ttraining's binary_logloss: 0.425264\tvalid_1's binary_error: 0.212058\tvalid_1's binary_logloss: 0.46944\n",
            "[14]\ttraining's binary_error: 0.150636\ttraining's binary_logloss: 0.416471\tvalid_1's binary_error: 0.213098\tvalid_1's binary_logloss: 0.462917\n",
            "[15]\ttraining's binary_error: 0.146474\ttraining's binary_logloss: 0.40537\tvalid_1's binary_error: 0.205821\tvalid_1's binary_logloss: 0.452446\n",
            "[16]\ttraining's binary_error: 0.146012\ttraining's binary_logloss: 0.396457\tvalid_1's binary_error: 0.204782\tvalid_1's binary_logloss: 0.445409\n",
            "[17]\ttraining's binary_error: 0.143121\ttraining's binary_logloss: 0.388738\tvalid_1's binary_error: 0.200624\tvalid_1's binary_logloss: 0.439667\n",
            "[18]\ttraining's binary_error: 0.140347\ttraining's binary_logloss: 0.379655\tvalid_1's binary_error: 0.195426\tvalid_1's binary_logloss: 0.430337\n",
            "[19]\ttraining's binary_error: 0.138035\ttraining's binary_logloss: 0.372916\tvalid_1's binary_error: 0.193347\tvalid_1's binary_logloss: 0.424155\n",
            "[20]\ttraining's binary_error: 0.135376\ttraining's binary_logloss: 0.364998\tvalid_1's binary_error: 0.189189\tvalid_1's binary_logloss: 0.417052\n",
            "[21]\ttraining's binary_error: 0.133526\ttraining's binary_logloss: 0.357877\tvalid_1's binary_error: 0.18815\tvalid_1's binary_logloss: 0.410956\n",
            "[22]\ttraining's binary_error: 0.129827\ttraining's binary_logloss: 0.350023\tvalid_1's binary_error: 0.185031\tvalid_1's binary_logloss: 0.404102\n",
            "[23]\ttraining's binary_error: 0.127283\ttraining's binary_logloss: 0.343889\tvalid_1's binary_error: 0.180873\tvalid_1's binary_logloss: 0.399055\n",
            "[24]\ttraining's binary_error: 0.126127\ttraining's binary_logloss: 0.338252\tvalid_1's binary_error: 0.180873\tvalid_1's binary_logloss: 0.393938\n",
            "[25]\ttraining's binary_error: 0.125087\ttraining's binary_logloss: 0.333619\tvalid_1's binary_error: 0.178794\tvalid_1's binary_logloss: 0.390205\n",
            "[26]\ttraining's binary_error: 0.124046\ttraining's binary_logloss: 0.328919\tvalid_1's binary_error: 0.175676\tvalid_1's binary_logloss: 0.386875\n",
            "[27]\ttraining's binary_error: 0.123353\ttraining's binary_logloss: 0.324473\tvalid_1's binary_error: 0.175676\tvalid_1's binary_logloss: 0.384248\n",
            "[28]\ttraining's binary_error: 0.120231\ttraining's binary_logloss: 0.319164\tvalid_1's binary_error: 0.172557\tvalid_1's binary_logloss: 0.379342\n",
            "[29]\ttraining's binary_error: 0.118497\ttraining's binary_logloss: 0.314629\tvalid_1's binary_error: 0.170478\tvalid_1's binary_logloss: 0.376515\n",
            "[30]\ttraining's binary_error: 0.11526\ttraining's binary_logloss: 0.30722\tvalid_1's binary_error: 0.169439\tvalid_1's binary_logloss: 0.369951\n",
            "[31]\ttraining's binary_error: 0.112139\ttraining's binary_logloss: 0.302669\tvalid_1's binary_error: 0.168399\tvalid_1's binary_logloss: 0.366486\n",
            "[32]\ttraining's binary_error: 0.11052\ttraining's binary_logloss: 0.296816\tvalid_1's binary_error: 0.16632\tvalid_1's binary_logloss: 0.361775\n",
            "[33]\ttraining's binary_error: 0.109133\ttraining's binary_logloss: 0.292229\tvalid_1's binary_error: 0.165281\tvalid_1's binary_logloss: 0.358041\n",
            "[34]\ttraining's binary_error: 0.107052\ttraining's binary_logloss: 0.288174\tvalid_1's binary_error: 0.162162\tvalid_1's binary_logloss: 0.355298\n",
            "[35]\ttraining's binary_error: 0.104624\ttraining's binary_logloss: 0.284549\tvalid_1's binary_error: 0.160083\tvalid_1's binary_logloss: 0.352435\n",
            "[36]\ttraining's binary_error: 0.103006\ttraining's binary_logloss: 0.280439\tvalid_1's binary_error: 0.160083\tvalid_1's binary_logloss: 0.348856\n",
            "[37]\ttraining's binary_error: 0.101272\ttraining's binary_logloss: 0.276114\tvalid_1's binary_error: 0.156965\tvalid_1's binary_logloss: 0.345001\n",
            "[38]\ttraining's binary_error: 0.100347\ttraining's binary_logloss: 0.272768\tvalid_1's binary_error: 0.153846\tvalid_1's binary_logloss: 0.342447\n",
            "[39]\ttraining's binary_error: 0.1\ttraining's binary_logloss: 0.269707\tvalid_1's binary_error: 0.154886\tvalid_1's binary_logloss: 0.339335\n",
            "[40]\ttraining's binary_error: 0.0990751\ttraining's binary_logloss: 0.26591\tvalid_1's binary_error: 0.152807\tvalid_1's binary_logloss: 0.336006\n",
            "[41]\ttraining's binary_error: 0.0974566\ttraining's binary_logloss: 0.26324\tvalid_1's binary_error: 0.154886\tvalid_1's binary_logloss: 0.335284\n",
            "[42]\ttraining's binary_error: 0.096185\ttraining's binary_logloss: 0.259876\tvalid_1's binary_error: 0.151767\tvalid_1's binary_logloss: 0.333049\n",
            "[43]\ttraining's binary_error: 0.0950289\ttraining's binary_logloss: 0.257572\tvalid_1's binary_error: 0.155925\tvalid_1's binary_logloss: 0.3327\n",
            "[44]\ttraining's binary_error: 0.0942197\ttraining's binary_logloss: 0.254034\tvalid_1's binary_error: 0.152807\tvalid_1's binary_logloss: 0.330415\n",
            "[45]\ttraining's binary_error: 0.092948\ttraining's binary_logloss: 0.251091\tvalid_1's binary_error: 0.149688\tvalid_1's binary_logloss: 0.328406\n",
            "[46]\ttraining's binary_error: 0.0936416\ttraining's binary_logloss: 0.248363\tvalid_1's binary_error: 0.149688\tvalid_1's binary_logloss: 0.326504\n",
            "[47]\ttraining's binary_error: 0.0927168\ttraining's binary_logloss: 0.246285\tvalid_1's binary_error: 0.14657\tvalid_1's binary_logloss: 0.325996\n",
            "[48]\ttraining's binary_error: 0.0923699\ttraining's binary_logloss: 0.244066\tvalid_1's binary_error: 0.144491\tvalid_1's binary_logloss: 0.324861\n",
            "[49]\ttraining's binary_error: 0.090289\ttraining's binary_logloss: 0.241851\tvalid_1's binary_error: 0.141372\tvalid_1's binary_logloss: 0.324814\n",
            "[50]\ttraining's binary_error: 0.0898266\ttraining's binary_logloss: 0.239828\tvalid_1's binary_error: 0.141372\tvalid_1's binary_logloss: 0.324231\n",
            "[51]\ttraining's binary_error: 0.0890173\ttraining's binary_logloss: 0.238229\tvalid_1's binary_error: 0.139293\tvalid_1's binary_logloss: 0.323551\n",
            "[52]\ttraining's binary_error: 0.0875145\ttraining's binary_logloss: 0.235718\tvalid_1's binary_error: 0.142412\tvalid_1's binary_logloss: 0.322527\n",
            "[53]\ttraining's binary_error: 0.0868208\ttraining's binary_logloss: 0.233914\tvalid_1's binary_error: 0.142412\tvalid_1's binary_logloss: 0.322915\n",
            "[54]\ttraining's binary_error: 0.0868208\ttraining's binary_logloss: 0.231651\tvalid_1's binary_error: 0.144491\tvalid_1's binary_logloss: 0.32183\n",
            "[55]\ttraining's binary_error: 0.0847399\ttraining's binary_logloss: 0.229925\tvalid_1's binary_error: 0.142412\tvalid_1's binary_logloss: 0.322313\n",
            "[56]\ttraining's binary_error: 0.0842775\ttraining's binary_logloss: 0.228431\tvalid_1's binary_error: 0.142412\tvalid_1's binary_logloss: 0.321666\n",
            "[57]\ttraining's binary_error: 0.0834682\ttraining's binary_logloss: 0.226771\tvalid_1's binary_error: 0.139293\tvalid_1's binary_logloss: 0.321695\n",
            "[58]\ttraining's binary_error: 0.0828902\ttraining's binary_logloss: 0.225199\tvalid_1's binary_error: 0.140333\tvalid_1's binary_logloss: 0.322651\n",
            "[59]\ttraining's binary_error: 0.0821965\ttraining's binary_logloss: 0.223078\tvalid_1's binary_error: 0.139293\tvalid_1's binary_logloss: 0.321362\n",
            "[60]\ttraining's binary_error: 0.0809249\ttraining's binary_logloss: 0.221643\tvalid_1's binary_error: 0.138254\tvalid_1's binary_logloss: 0.320876\n",
            "[61]\ttraining's binary_error: 0.0796532\ttraining's binary_logloss: 0.220087\tvalid_1's binary_error: 0.141372\tvalid_1's binary_logloss: 0.320328\n",
            "[62]\ttraining's binary_error: 0.0793064\ttraining's binary_logloss: 0.218659\tvalid_1's binary_error: 0.143451\tvalid_1's binary_logloss: 0.319917\n",
            "[63]\ttraining's binary_error: 0.0784971\ttraining's binary_logloss: 0.217181\tvalid_1's binary_error: 0.142412\tvalid_1's binary_logloss: 0.319123\n",
            "[64]\ttraining's binary_error: 0.0776879\ttraining's binary_logloss: 0.215911\tvalid_1's binary_error: 0.142412\tvalid_1's binary_logloss: 0.319047\n",
            "[65]\ttraining's binary_error: 0.0768786\ttraining's binary_logloss: 0.214552\tvalid_1's binary_error: 0.141372\tvalid_1's binary_logloss: 0.319684\n",
            "[66]\ttraining's binary_error: 0.0765318\ttraining's binary_logloss: 0.213168\tvalid_1's binary_error: 0.140333\tvalid_1's binary_logloss: 0.319793\n",
            "[67]\ttraining's binary_error: 0.0756069\ttraining's binary_logloss: 0.211795\tvalid_1's binary_error: 0.140333\tvalid_1's binary_logloss: 0.319531\n",
            "[68]\ttraining's binary_error: 0.0746821\ttraining's binary_logloss: 0.210441\tvalid_1's binary_error: 0.141372\tvalid_1's binary_logloss: 0.319769\n",
            "[69]\ttraining's binary_error: 0.0737572\ttraining's binary_logloss: 0.209117\tvalid_1's binary_error: 0.142412\tvalid_1's binary_logloss: 0.319531\n",
            "[70]\ttraining's binary_error: 0.0734104\ttraining's binary_logloss: 0.207977\tvalid_1's binary_error: 0.144491\tvalid_1's binary_logloss: 0.319496\n",
            "[71]\ttraining's binary_error: 0.0727168\ttraining's binary_logloss: 0.20671\tvalid_1's binary_error: 0.140333\tvalid_1's binary_logloss: 0.318971\n",
            "[72]\ttraining's binary_error: 0.0723699\ttraining's binary_logloss: 0.205689\tvalid_1's binary_error: 0.141372\tvalid_1's binary_logloss: 0.318875\n",
            "[73]\ttraining's binary_error: 0.0717919\ttraining's binary_logloss: 0.204451\tvalid_1's binary_error: 0.139293\tvalid_1's binary_logloss: 0.318883\n",
            "[74]\ttraining's binary_error: 0.0708671\ttraining's binary_logloss: 0.203201\tvalid_1's binary_error: 0.139293\tvalid_1's binary_logloss: 0.318045\n",
            "[75]\ttraining's binary_error: 0.0698266\ttraining's binary_logloss: 0.202147\tvalid_1's binary_error: 0.140333\tvalid_1's binary_logloss: 0.318479\n",
            "[76]\ttraining's binary_error: 0.0686705\ttraining's binary_logloss: 0.200986\tvalid_1's binary_error: 0.140333\tvalid_1's binary_logloss: 0.318486\n",
            "[77]\ttraining's binary_error: 0.0683237\ttraining's binary_logloss: 0.199907\tvalid_1's binary_error: 0.141372\tvalid_1's binary_logloss: 0.318363\n",
            "[78]\ttraining's binary_error: 0.0675145\ttraining's binary_logloss: 0.198885\tvalid_1's binary_error: 0.140333\tvalid_1's binary_logloss: 0.318686\n",
            "[79]\ttraining's binary_error: 0.0672832\ttraining's binary_logloss: 0.197762\tvalid_1's binary_error: 0.140333\tvalid_1's binary_logloss: 0.318443\n",
            "[80]\ttraining's binary_error: 0.0669364\ttraining's binary_logloss: 0.196432\tvalid_1's binary_error: 0.137214\tvalid_1's binary_logloss: 0.318102\n",
            "[81]\ttraining's binary_error: 0.0662428\ttraining's binary_logloss: 0.195065\tvalid_1's binary_error: 0.135135\tvalid_1's binary_logloss: 0.317634\n",
            "[82]\ttraining's binary_error: 0.065896\ttraining's binary_logloss: 0.194205\tvalid_1's binary_error: 0.135135\tvalid_1's binary_logloss: 0.317714\n",
            "[83]\ttraining's binary_error: 0.0654335\ttraining's binary_logloss: 0.192764\tvalid_1's binary_error: 0.136175\tvalid_1's binary_logloss: 0.316592\n",
            "[84]\ttraining's binary_error: 0.0645087\ttraining's binary_logloss: 0.191565\tvalid_1's binary_error: 0.136175\tvalid_1's binary_logloss: 0.316719\n",
            "[85]\ttraining's binary_error: 0.0636994\ttraining's binary_logloss: 0.190526\tvalid_1's binary_error: 0.136175\tvalid_1's binary_logloss: 0.316795\n",
            "[86]\ttraining's binary_error: 0.0628902\ttraining's binary_logloss: 0.189177\tvalid_1's binary_error: 0.138254\tvalid_1's binary_logloss: 0.316341\n",
            "[87]\ttraining's binary_error: 0.0619653\ttraining's binary_logloss: 0.188099\tvalid_1's binary_error: 0.134096\tvalid_1's binary_logloss: 0.316339\n",
            "[88]\ttraining's binary_error: 0.0610405\ttraining's binary_logloss: 0.187176\tvalid_1's binary_error: 0.135135\tvalid_1's binary_logloss: 0.316652\n",
            "[89]\ttraining's binary_error: 0.0604624\ttraining's binary_logloss: 0.186002\tvalid_1's binary_error: 0.135135\tvalid_1's binary_logloss: 0.316617\n",
            "[90]\ttraining's binary_error: 0.0597688\ttraining's binary_logloss: 0.184847\tvalid_1's binary_error: 0.133056\tvalid_1's binary_logloss: 0.316595\n",
            "[91]\ttraining's binary_error: 0.0589595\ttraining's binary_logloss: 0.183851\tvalid_1's binary_error: 0.130977\tvalid_1's binary_logloss: 0.316018\n",
            "[92]\ttraining's binary_error: 0.0586127\ttraining's binary_logloss: 0.182815\tvalid_1's binary_error: 0.134096\tvalid_1's binary_logloss: 0.31605\n",
            "[93]\ttraining's binary_error: 0.0582659\ttraining's binary_logloss: 0.181913\tvalid_1's binary_error: 0.134096\tvalid_1's binary_logloss: 0.316219\n",
            "[94]\ttraining's binary_error: 0.0578035\ttraining's binary_logloss: 0.180737\tvalid_1's binary_error: 0.135135\tvalid_1's binary_logloss: 0.316356\n",
            "[95]\ttraining's binary_error: 0.0564162\ttraining's binary_logloss: 0.179591\tvalid_1's binary_error: 0.137214\tvalid_1's binary_logloss: 0.316612\n",
            "[96]\ttraining's binary_error: 0.0560694\ttraining's binary_logloss: 0.178504\tvalid_1's binary_error: 0.138254\tvalid_1's binary_logloss: 0.316694\n",
            "[97]\ttraining's binary_error: 0.0547977\ttraining's binary_logloss: 0.177383\tvalid_1's binary_error: 0.137214\tvalid_1's binary_logloss: 0.316455\n",
            "[98]\ttraining's binary_error: 0.0544509\ttraining's binary_logloss: 0.176533\tvalid_1's binary_error: 0.139293\tvalid_1's binary_logloss: 0.316475\n",
            "[99]\ttraining's binary_error: 0.0534104\ttraining's binary_logloss: 0.175677\tvalid_1's binary_error: 0.139293\tvalid_1's binary_logloss: 0.316374\n",
            "[100]\ttraining's binary_error: 0.0537572\ttraining's binary_logloss: 0.17456\tvalid_1's binary_error: 0.138254\tvalid_1's binary_logloss: 0.315832\n"
          ]
        }
      ]
    },
    {
      "cell_type": "code",
      "source": [
        "# 학습용데이터\n",
        "print(\"----학습용데이터----\")\n",
        "tpreds = lgbm_wrapper.predict(X_train_over)\n",
        "tpred_proba = lgbm_wrapper.predict_proba(X_train_over)[:,1]\n",
        "get_eval(y_train_over, tpreds, tpred_proba)\n",
        "\n",
        "#시험용데이터\n",
        "print(\"----시험용데이터----\")\n",
        "get_eval(y_test, preds, pred_proba)"
      ],
      "metadata": {
        "id": "kMBaui3jS-Hl",
        "colab": {
          "base_uri": "https://localhost:8080/"
        },
        "outputId": "5e68c865-823c-45d4-a49a-9b281af0a968"
      },
      "execution_count": null,
      "outputs": [
        {
          "output_type": "stream",
          "name": "stdout",
          "text": [
            "----학습용데이터----\n",
            "오차행렬\n",
            "[[2175   35]\n",
            " [ 347 3774]]\n",
            "정확도:  0.940, 정밀도:  0.991, 재현율:  0.916, F1:  0.952, AUC:  0.991\n",
            "----시험용데이터----\n",
            "오차행렬\n",
            "[[1872  184]\n",
            " [ 326  202]]\n",
            "정확도:  0.803, 정밀도:  0.523, 재현율:  0.383, F1:  0.442, AUC:  0.769\n"
          ]
        }
      ]
    },
    {
      "cell_type": "markdown",
      "source": [
        "### 1-3. SMOTE+Tomek\n",
        "- SMOTE+Tomek 방법은 SMOTE(Synthetic Minority Over-sampling Technique) 방법과 토멕링크 방법을 섞은 것이다."
      ],
      "metadata": {
        "id": "qS1sclhs05oN"
      }
    },
    {
      "cell_type": "code",
      "source": [
        "over = SMOTETomek(random_state=0)\n",
        "X_train_over, y_train_over = over.fit_resample(X_train, y_train)\n",
        "print('SMOTETomek 적용 전 학습용 피처/레이블 데이터 세트:', X_train.shape, y_train.shape)\n",
        "print('SMOTETomek 적용 후 학습용 피처/레이블 데이터 세트:', X_train_over.shape, y_train_over.shape)\n",
        "print('SMOTETomek 적용 후 레이블 값 분포:\\n', pd.Series(y_train_over).value_counts())"
      ],
      "metadata": {
        "colab": {
          "base_uri": "https://localhost:8080/"
        },
        "id": "c0i0ls7I08CC",
        "outputId": "15814813-8b74-496a-bfbc-14177b08f070"
      },
      "execution_count": null,
      "outputs": [
        {
          "output_type": "stream",
          "name": "stdout",
          "text": [
            "SMOTETomek 적용 전 학습용 피처/레이블 데이터 세트: (6027, 60) (6027,)\n",
            "SMOTETomek 적용 후 학습용 피처/레이블 데이터 세트: (9530, 60) (9530,)\n",
            "SMOTETomek 적용 후 레이블 값 분포:\n",
            " 1    4765\n",
            "0    4765\n",
            "Name: target, dtype: int64\n"
          ]
        }
      ]
    },
    {
      "cell_type": "markdown",
      "source": [
        "##### DecisionTree"
      ],
      "metadata": {
        "id": "4cyGZwgoLyi_"
      }
    },
    {
      "cell_type": "code",
      "source": [
        "tree = DecisionTreeClassifier(random_state=60)  \n",
        "tree.fit(X_train_over, y_train_over)\n",
        "print(\"학습용 데이터 정확도: {:.3f}\".format(tree.score(X_train_over, y_train_over)))\n",
        "print(\"시험용 데이터 정확도: {:.3f}\".format(tree.score(X_test, y_test)))"
      ],
      "metadata": {
        "colab": {
          "base_uri": "https://localhost:8080/"
        },
        "id": "Vm_J3EXD1HMW",
        "outputId": "7e5f3cf6-834b-4467-c70a-1ab7f1a4ee86"
      },
      "execution_count": null,
      "outputs": [
        {
          "output_type": "stream",
          "name": "stdout",
          "text": [
            "학습용 데이터 정확도: 1.000\n",
            "시험용 데이터 정확도: 0.697\n"
          ]
        }
      ]
    },
    {
      "cell_type": "code",
      "source": [
        "print(\"-----학습용-----\")\n",
        "pred = tree.predict(X_train_over)\n",
        "get_eval(y_train_over, pred, pred)\n",
        "\n",
        "print(\"-----시험용-----\")\n",
        "pred = tree.predict(X_test)\n",
        "get_eval(y_test, pred, pred)"
      ],
      "metadata": {
        "colab": {
          "base_uri": "https://localhost:8080/"
        },
        "id": "I8xUKQSHWVfb",
        "outputId": "4a609511-da1a-4f6d-efb4-f55ecb3e7742"
      },
      "execution_count": null,
      "outputs": [
        {
          "output_type": "stream",
          "name": "stdout",
          "text": [
            "-----학습용-----\n",
            "오차행렬\n",
            "[[4765    0]\n",
            " [   0 4765]]\n",
            "정확도:  1.000, 정밀도:  1.000, 재현율:  1.000, F1:  1.000, AUC:  1.000\n",
            "-----시험용-----\n",
            "오차행렬\n",
            "[[1594  462]\n",
            " [ 322  206]]\n",
            "정확도:  0.697, 정밀도:  0.308, 재현율:  0.390, F1:  0.344, AUC:  0.583\n"
          ]
        }
      ]
    },
    {
      "cell_type": "markdown",
      "source": [
        "##### RandomForest"
      ],
      "metadata": {
        "id": "v4ue-RkOL06o"
      }
    },
    {
      "cell_type": "code",
      "source": [
        "forest = RandomForestClassifier(random_state=60)\n",
        "forest.fit(X_train_over, y_train_over)\n",
        "\n",
        "print(\"학습용 데이터 세트 정확도: {:.3f}\".format(forest.score(X_train_over, y_train_over)))\n",
        "print(\"시험용 데이터 세트 정확도: {:.3f}\".format(forest.score(X_test, y_test)))"
      ],
      "metadata": {
        "colab": {
          "base_uri": "https://localhost:8080/"
        },
        "id": "7N5GZ7Rl1J15",
        "outputId": "bd048039-55e3-4527-bcaf-e9772ea11552"
      },
      "execution_count": null,
      "outputs": [
        {
          "output_type": "stream",
          "name": "stdout",
          "text": [
            "학습용 데이터 세트 정확도: 1.000\n",
            "시험용 데이터 세트 정확도: 0.795\n"
          ]
        }
      ]
    },
    {
      "cell_type": "code",
      "source": [
        "print(\"-----학습용-----\")\n",
        "pred = forest.predict(X_train_over)\n",
        "get_eval(y_train_over, pred, pred)\n",
        "\n",
        "print(\"-----시험용-----\")\n",
        "pred = forest.predict(X_test)\n",
        "get_eval(y_test, pred, pred)"
      ],
      "metadata": {
        "colab": {
          "base_uri": "https://localhost:8080/"
        },
        "id": "Uk7btbowWWfI",
        "outputId": "d48aa862-80b4-4961-d730-cea9771e3e09"
      },
      "execution_count": null,
      "outputs": [
        {
          "output_type": "stream",
          "name": "stdout",
          "text": [
            "-----학습용-----\n",
            "오차행렬\n",
            "[[4765    0]\n",
            " [   0 4765]]\n",
            "정확도:  1.000, 정밀도:  1.000, 재현율:  1.000, F1:  1.000, AUC:  1.000\n",
            "-----시험용-----\n",
            "오차행렬\n",
            "[[1836  220]\n",
            " [ 311  217]]\n",
            "정확도:  0.795, 정밀도:  0.497, 재현율:  0.411, F1:  0.450, AUC:  0.652\n"
          ]
        }
      ]
    },
    {
      "cell_type": "markdown",
      "source": [
        "##### XGBoost"
      ],
      "metadata": {
        "id": "k3neANFPL3dB"
      }
    },
    {
      "cell_type": "code",
      "source": [
        "xgb_wrapper =  XGBClassifier(learning_rate = 0.05)\n",
        "xgb_wrapper.fit(X_train_over, y_train_over, verbose=True)\n",
        "w_preds = xgb_wrapper.predict(X_test)\n",
        "w_pred_proba = xgb_wrapper.predict_proba(X_test)[:,1]\n"
      ],
      "metadata": {
        "id": "tsIiYvqrZimb"
      },
      "execution_count": null,
      "outputs": []
    },
    {
      "cell_type": "code",
      "source": [
        "#학습용데이터\n",
        "tw_preds = xgb_wrapper.predict(X_train_over)\n",
        "tw_pred_proba = xgb_wrapper.predict_proba(X_train_over)[:,1]\n",
        "print(\"----학습용데이터-----\")\n",
        "get_eval(y_train_over, tw_preds, tw_pred_proba)\n",
        "\n",
        "#시험용데이터\n",
        "print(\"-----시험용데이터-----\")\n",
        "get_eval(y_test, w_preds, w_pred_proba)"
      ],
      "metadata": {
        "colab": {
          "base_uri": "https://localhost:8080/"
        },
        "id": "N1xJjlW2-1eX",
        "outputId": "fb6ed755-8797-4c10-fa30-a7d188f4c285"
      },
      "execution_count": null,
      "outputs": [
        {
          "output_type": "stream",
          "name": "stdout",
          "text": [
            "----학습용데이터-----\n",
            "오차행렬\n",
            "[[4071  694]\n",
            " [ 768 3997]]\n",
            "정확도:  0.847, 정밀도:  0.852, 재현율:  0.839, F1:  0.845, AUC:  0.929\n",
            "-----시험용데이터-----\n",
            "오차행렬\n",
            "[[1737  319]\n",
            " [ 266  262]]\n",
            "정확도:  0.774, 정밀도:  0.451, 재현율:  0.496, F1:  0.472, AUC:  0.762\n"
          ]
        }
      ]
    },
    {
      "cell_type": "markdown",
      "source": [
        "##### LightGBM"
      ],
      "metadata": {
        "id": "rBoWGydgL5sb"
      }
    },
    {
      "cell_type": "code",
      "source": [
        "lgbm_wrapper = LGBMClassifier(learning_Rate=0.05)\n",
        "\n",
        "evals = [(X_tr,y_tr), (X_val,y_val)]\n",
        "lgbm_wrapper.fit(X_tr, y_tr, eval_set = evals, eval_metric=\"error\",verbose=True)\n",
        "preds = lgbm_wrapper.predict(X_test)\n",
        "pred_proba = lgbm_wrapper.predict_proba(X_test)[:,1]"
      ],
      "metadata": {
        "colab": {
          "base_uri": "https://localhost:8080/"
        },
        "id": "z1PW24OgHtps",
        "outputId": "0a94b490-61c4-4870-f867-727da17bc22b"
      },
      "execution_count": null,
      "outputs": [
        {
          "output_type": "stream",
          "name": "stdout",
          "text": [
            "[1]\ttraining's binary_error: 0.195607\ttraining's binary_logloss: 0.652523\tvalid_1's binary_error: 0.233888\tvalid_1's binary_logloss: 0.6581\n",
            "[2]\ttraining's binary_error: 0.191329\ttraining's binary_logloss: 0.618836\tvalid_1's binary_error: 0.234927\tvalid_1's binary_logloss: 0.628674\n",
            "[3]\ttraining's binary_error: 0.187861\ttraining's binary_logloss: 0.590287\tvalid_1's binary_error: 0.230769\tvalid_1's binary_logloss: 0.604244\n",
            "[4]\ttraining's binary_error: 0.184277\ttraining's binary_logloss: 0.565261\tvalid_1's binary_error: 0.22973\tvalid_1's binary_logloss: 0.581413\n",
            "[5]\ttraining's binary_error: 0.176994\ttraining's binary_logloss: 0.540888\tvalid_1's binary_error: 0.224532\tvalid_1's binary_logloss: 0.561681\n",
            "[6]\ttraining's binary_error: 0.173526\ttraining's binary_logloss: 0.521201\tvalid_1's binary_error: 0.22973\tvalid_1's binary_logloss: 0.545238\n",
            "[7]\ttraining's binary_error: 0.167399\ttraining's binary_logloss: 0.503664\tvalid_1's binary_error: 0.220374\tvalid_1's binary_logloss: 0.530656\n",
            "[8]\ttraining's binary_error: 0.165434\ttraining's binary_logloss: 0.48766\tvalid_1's binary_error: 0.222453\tvalid_1's binary_logloss: 0.520122\n",
            "[9]\ttraining's binary_error: 0.163699\ttraining's binary_logloss: 0.472903\tvalid_1's binary_error: 0.219335\tvalid_1's binary_logloss: 0.508288\n",
            "[10]\ttraining's binary_error: 0.159653\ttraining's binary_logloss: 0.460193\tvalid_1's binary_error: 0.219335\tvalid_1's binary_logloss: 0.49883\n",
            "[11]\ttraining's binary_error: 0.156301\ttraining's binary_logloss: 0.446012\tvalid_1's binary_error: 0.213098\tvalid_1's binary_logloss: 0.48598\n",
            "[12]\ttraining's binary_error: 0.154566\ttraining's binary_logloss: 0.434667\tvalid_1's binary_error: 0.213098\tvalid_1's binary_logloss: 0.476743\n",
            "[13]\ttraining's binary_error: 0.154335\ttraining's binary_logloss: 0.425264\tvalid_1's binary_error: 0.212058\tvalid_1's binary_logloss: 0.46944\n",
            "[14]\ttraining's binary_error: 0.150636\ttraining's binary_logloss: 0.416471\tvalid_1's binary_error: 0.213098\tvalid_1's binary_logloss: 0.462917\n",
            "[15]\ttraining's binary_error: 0.146474\ttraining's binary_logloss: 0.40537\tvalid_1's binary_error: 0.205821\tvalid_1's binary_logloss: 0.452446\n",
            "[16]\ttraining's binary_error: 0.146012\ttraining's binary_logloss: 0.396457\tvalid_1's binary_error: 0.204782\tvalid_1's binary_logloss: 0.445409\n",
            "[17]\ttraining's binary_error: 0.143121\ttraining's binary_logloss: 0.388738\tvalid_1's binary_error: 0.200624\tvalid_1's binary_logloss: 0.439667\n",
            "[18]\ttraining's binary_error: 0.140347\ttraining's binary_logloss: 0.379655\tvalid_1's binary_error: 0.195426\tvalid_1's binary_logloss: 0.430337\n",
            "[19]\ttraining's binary_error: 0.138035\ttraining's binary_logloss: 0.372916\tvalid_1's binary_error: 0.193347\tvalid_1's binary_logloss: 0.424155\n",
            "[20]\ttraining's binary_error: 0.135376\ttraining's binary_logloss: 0.364998\tvalid_1's binary_error: 0.189189\tvalid_1's binary_logloss: 0.417052\n",
            "[21]\ttraining's binary_error: 0.133526\ttraining's binary_logloss: 0.357877\tvalid_1's binary_error: 0.18815\tvalid_1's binary_logloss: 0.410956\n",
            "[22]\ttraining's binary_error: 0.129827\ttraining's binary_logloss: 0.350023\tvalid_1's binary_error: 0.185031\tvalid_1's binary_logloss: 0.404102\n",
            "[23]\ttraining's binary_error: 0.127283\ttraining's binary_logloss: 0.343889\tvalid_1's binary_error: 0.180873\tvalid_1's binary_logloss: 0.399055\n",
            "[24]\ttraining's binary_error: 0.126127\ttraining's binary_logloss: 0.338252\tvalid_1's binary_error: 0.180873\tvalid_1's binary_logloss: 0.393938\n",
            "[25]\ttraining's binary_error: 0.125087\ttraining's binary_logloss: 0.333619\tvalid_1's binary_error: 0.178794\tvalid_1's binary_logloss: 0.390205\n",
            "[26]\ttraining's binary_error: 0.124046\ttraining's binary_logloss: 0.328919\tvalid_1's binary_error: 0.175676\tvalid_1's binary_logloss: 0.386875\n",
            "[27]\ttraining's binary_error: 0.123353\ttraining's binary_logloss: 0.324473\tvalid_1's binary_error: 0.175676\tvalid_1's binary_logloss: 0.384248\n",
            "[28]\ttraining's binary_error: 0.120231\ttraining's binary_logloss: 0.319164\tvalid_1's binary_error: 0.172557\tvalid_1's binary_logloss: 0.379342\n",
            "[29]\ttraining's binary_error: 0.118497\ttraining's binary_logloss: 0.314629\tvalid_1's binary_error: 0.170478\tvalid_1's binary_logloss: 0.376515\n",
            "[30]\ttraining's binary_error: 0.11526\ttraining's binary_logloss: 0.30722\tvalid_1's binary_error: 0.169439\tvalid_1's binary_logloss: 0.369951\n",
            "[31]\ttraining's binary_error: 0.112139\ttraining's binary_logloss: 0.302669\tvalid_1's binary_error: 0.168399\tvalid_1's binary_logloss: 0.366486\n",
            "[32]\ttraining's binary_error: 0.11052\ttraining's binary_logloss: 0.296816\tvalid_1's binary_error: 0.16632\tvalid_1's binary_logloss: 0.361775\n",
            "[33]\ttraining's binary_error: 0.109133\ttraining's binary_logloss: 0.292229\tvalid_1's binary_error: 0.165281\tvalid_1's binary_logloss: 0.358041\n",
            "[34]\ttraining's binary_error: 0.107052\ttraining's binary_logloss: 0.288174\tvalid_1's binary_error: 0.162162\tvalid_1's binary_logloss: 0.355298\n",
            "[35]\ttraining's binary_error: 0.104624\ttraining's binary_logloss: 0.284549\tvalid_1's binary_error: 0.160083\tvalid_1's binary_logloss: 0.352435\n",
            "[36]\ttraining's binary_error: 0.103006\ttraining's binary_logloss: 0.280439\tvalid_1's binary_error: 0.160083\tvalid_1's binary_logloss: 0.348856\n",
            "[37]\ttraining's binary_error: 0.101272\ttraining's binary_logloss: 0.276114\tvalid_1's binary_error: 0.156965\tvalid_1's binary_logloss: 0.345001\n",
            "[38]\ttraining's binary_error: 0.100347\ttraining's binary_logloss: 0.272768\tvalid_1's binary_error: 0.153846\tvalid_1's binary_logloss: 0.342447\n",
            "[39]\ttraining's binary_error: 0.1\ttraining's binary_logloss: 0.269707\tvalid_1's binary_error: 0.154886\tvalid_1's binary_logloss: 0.339335\n",
            "[40]\ttraining's binary_error: 0.0990751\ttraining's binary_logloss: 0.26591\tvalid_1's binary_error: 0.152807\tvalid_1's binary_logloss: 0.336006\n",
            "[41]\ttraining's binary_error: 0.0974566\ttraining's binary_logloss: 0.26324\tvalid_1's binary_error: 0.154886\tvalid_1's binary_logloss: 0.335284\n",
            "[42]\ttraining's binary_error: 0.096185\ttraining's binary_logloss: 0.259876\tvalid_1's binary_error: 0.151767\tvalid_1's binary_logloss: 0.333049\n",
            "[43]\ttraining's binary_error: 0.0950289\ttraining's binary_logloss: 0.257572\tvalid_1's binary_error: 0.155925\tvalid_1's binary_logloss: 0.3327\n",
            "[44]\ttraining's binary_error: 0.0942197\ttraining's binary_logloss: 0.254034\tvalid_1's binary_error: 0.152807\tvalid_1's binary_logloss: 0.330415\n",
            "[45]\ttraining's binary_error: 0.092948\ttraining's binary_logloss: 0.251091\tvalid_1's binary_error: 0.149688\tvalid_1's binary_logloss: 0.328406\n",
            "[46]\ttraining's binary_error: 0.0936416\ttraining's binary_logloss: 0.248363\tvalid_1's binary_error: 0.149688\tvalid_1's binary_logloss: 0.326504\n",
            "[47]\ttraining's binary_error: 0.0927168\ttraining's binary_logloss: 0.246285\tvalid_1's binary_error: 0.14657\tvalid_1's binary_logloss: 0.325996\n",
            "[48]\ttraining's binary_error: 0.0923699\ttraining's binary_logloss: 0.244066\tvalid_1's binary_error: 0.144491\tvalid_1's binary_logloss: 0.324861\n",
            "[49]\ttraining's binary_error: 0.090289\ttraining's binary_logloss: 0.241851\tvalid_1's binary_error: 0.141372\tvalid_1's binary_logloss: 0.324814\n",
            "[50]\ttraining's binary_error: 0.0898266\ttraining's binary_logloss: 0.239828\tvalid_1's binary_error: 0.141372\tvalid_1's binary_logloss: 0.324231\n",
            "[51]\ttraining's binary_error: 0.0890173\ttraining's binary_logloss: 0.238229\tvalid_1's binary_error: 0.139293\tvalid_1's binary_logloss: 0.323551\n",
            "[52]\ttraining's binary_error: 0.0875145\ttraining's binary_logloss: 0.235718\tvalid_1's binary_error: 0.142412\tvalid_1's binary_logloss: 0.322527\n",
            "[53]\ttraining's binary_error: 0.0868208\ttraining's binary_logloss: 0.233914\tvalid_1's binary_error: 0.142412\tvalid_1's binary_logloss: 0.322915\n",
            "[54]\ttraining's binary_error: 0.0868208\ttraining's binary_logloss: 0.231651\tvalid_1's binary_error: 0.144491\tvalid_1's binary_logloss: 0.32183\n",
            "[55]\ttraining's binary_error: 0.0847399\ttraining's binary_logloss: 0.229925\tvalid_1's binary_error: 0.142412\tvalid_1's binary_logloss: 0.322313\n",
            "[56]\ttraining's binary_error: 0.0842775\ttraining's binary_logloss: 0.228431\tvalid_1's binary_error: 0.142412\tvalid_1's binary_logloss: 0.321666\n",
            "[57]\ttraining's binary_error: 0.0834682\ttraining's binary_logloss: 0.226771\tvalid_1's binary_error: 0.139293\tvalid_1's binary_logloss: 0.321695\n",
            "[58]\ttraining's binary_error: 0.0828902\ttraining's binary_logloss: 0.225199\tvalid_1's binary_error: 0.140333\tvalid_1's binary_logloss: 0.322651\n",
            "[59]\ttraining's binary_error: 0.0821965\ttraining's binary_logloss: 0.223078\tvalid_1's binary_error: 0.139293\tvalid_1's binary_logloss: 0.321362\n",
            "[60]\ttraining's binary_error: 0.0809249\ttraining's binary_logloss: 0.221643\tvalid_1's binary_error: 0.138254\tvalid_1's binary_logloss: 0.320876\n",
            "[61]\ttraining's binary_error: 0.0796532\ttraining's binary_logloss: 0.220087\tvalid_1's binary_error: 0.141372\tvalid_1's binary_logloss: 0.320328\n",
            "[62]\ttraining's binary_error: 0.0793064\ttraining's binary_logloss: 0.218659\tvalid_1's binary_error: 0.143451\tvalid_1's binary_logloss: 0.319917\n",
            "[63]\ttraining's binary_error: 0.0784971\ttraining's binary_logloss: 0.217181\tvalid_1's binary_error: 0.142412\tvalid_1's binary_logloss: 0.319123\n",
            "[64]\ttraining's binary_error: 0.0776879\ttraining's binary_logloss: 0.215911\tvalid_1's binary_error: 0.142412\tvalid_1's binary_logloss: 0.319047\n",
            "[65]\ttraining's binary_error: 0.0768786\ttraining's binary_logloss: 0.214552\tvalid_1's binary_error: 0.141372\tvalid_1's binary_logloss: 0.319684\n",
            "[66]\ttraining's binary_error: 0.0765318\ttraining's binary_logloss: 0.213168\tvalid_1's binary_error: 0.140333\tvalid_1's binary_logloss: 0.319793\n",
            "[67]\ttraining's binary_error: 0.0756069\ttraining's binary_logloss: 0.211795\tvalid_1's binary_error: 0.140333\tvalid_1's binary_logloss: 0.319531\n",
            "[68]\ttraining's binary_error: 0.0746821\ttraining's binary_logloss: 0.210441\tvalid_1's binary_error: 0.141372\tvalid_1's binary_logloss: 0.319769\n",
            "[69]\ttraining's binary_error: 0.0737572\ttraining's binary_logloss: 0.209117\tvalid_1's binary_error: 0.142412\tvalid_1's binary_logloss: 0.319531\n",
            "[70]\ttraining's binary_error: 0.0734104\ttraining's binary_logloss: 0.207977\tvalid_1's binary_error: 0.144491\tvalid_1's binary_logloss: 0.319496\n",
            "[71]\ttraining's binary_error: 0.0727168\ttraining's binary_logloss: 0.20671\tvalid_1's binary_error: 0.140333\tvalid_1's binary_logloss: 0.318971\n",
            "[72]\ttraining's binary_error: 0.0723699\ttraining's binary_logloss: 0.205689\tvalid_1's binary_error: 0.141372\tvalid_1's binary_logloss: 0.318875\n",
            "[73]\ttraining's binary_error: 0.0717919\ttraining's binary_logloss: 0.204451\tvalid_1's binary_error: 0.139293\tvalid_1's binary_logloss: 0.318883\n",
            "[74]\ttraining's binary_error: 0.0708671\ttraining's binary_logloss: 0.203201\tvalid_1's binary_error: 0.139293\tvalid_1's binary_logloss: 0.318045\n",
            "[75]\ttraining's binary_error: 0.0698266\ttraining's binary_logloss: 0.202147\tvalid_1's binary_error: 0.140333\tvalid_1's binary_logloss: 0.318479\n",
            "[76]\ttraining's binary_error: 0.0686705\ttraining's binary_logloss: 0.200986\tvalid_1's binary_error: 0.140333\tvalid_1's binary_logloss: 0.318486\n",
            "[77]\ttraining's binary_error: 0.0683237\ttraining's binary_logloss: 0.199907\tvalid_1's binary_error: 0.141372\tvalid_1's binary_logloss: 0.318363\n",
            "[78]\ttraining's binary_error: 0.0675145\ttraining's binary_logloss: 0.198885\tvalid_1's binary_error: 0.140333\tvalid_1's binary_logloss: 0.318686\n",
            "[79]\ttraining's binary_error: 0.0672832\ttraining's binary_logloss: 0.197762\tvalid_1's binary_error: 0.140333\tvalid_1's binary_logloss: 0.318443\n",
            "[80]\ttraining's binary_error: 0.0669364\ttraining's binary_logloss: 0.196432\tvalid_1's binary_error: 0.137214\tvalid_1's binary_logloss: 0.318102\n",
            "[81]\ttraining's binary_error: 0.0662428\ttraining's binary_logloss: 0.195065\tvalid_1's binary_error: 0.135135\tvalid_1's binary_logloss: 0.317634\n",
            "[82]\ttraining's binary_error: 0.065896\ttraining's binary_logloss: 0.194205\tvalid_1's binary_error: 0.135135\tvalid_1's binary_logloss: 0.317714\n",
            "[83]\ttraining's binary_error: 0.0654335\ttraining's binary_logloss: 0.192764\tvalid_1's binary_error: 0.136175\tvalid_1's binary_logloss: 0.316592\n",
            "[84]\ttraining's binary_error: 0.0645087\ttraining's binary_logloss: 0.191565\tvalid_1's binary_error: 0.136175\tvalid_1's binary_logloss: 0.316719\n",
            "[85]\ttraining's binary_error: 0.0636994\ttraining's binary_logloss: 0.190526\tvalid_1's binary_error: 0.136175\tvalid_1's binary_logloss: 0.316795\n",
            "[86]\ttraining's binary_error: 0.0628902\ttraining's binary_logloss: 0.189177\tvalid_1's binary_error: 0.138254\tvalid_1's binary_logloss: 0.316341\n",
            "[87]\ttraining's binary_error: 0.0619653\ttraining's binary_logloss: 0.188099\tvalid_1's binary_error: 0.134096\tvalid_1's binary_logloss: 0.316339\n",
            "[88]\ttraining's binary_error: 0.0610405\ttraining's binary_logloss: 0.187176\tvalid_1's binary_error: 0.135135\tvalid_1's binary_logloss: 0.316652\n",
            "[89]\ttraining's binary_error: 0.0604624\ttraining's binary_logloss: 0.186002\tvalid_1's binary_error: 0.135135\tvalid_1's binary_logloss: 0.316617\n",
            "[90]\ttraining's binary_error: 0.0597688\ttraining's binary_logloss: 0.184847\tvalid_1's binary_error: 0.133056\tvalid_1's binary_logloss: 0.316595\n",
            "[91]\ttraining's binary_error: 0.0589595\ttraining's binary_logloss: 0.183851\tvalid_1's binary_error: 0.130977\tvalid_1's binary_logloss: 0.316018\n",
            "[92]\ttraining's binary_error: 0.0586127\ttraining's binary_logloss: 0.182815\tvalid_1's binary_error: 0.134096\tvalid_1's binary_logloss: 0.31605\n",
            "[93]\ttraining's binary_error: 0.0582659\ttraining's binary_logloss: 0.181913\tvalid_1's binary_error: 0.134096\tvalid_1's binary_logloss: 0.316219\n",
            "[94]\ttraining's binary_error: 0.0578035\ttraining's binary_logloss: 0.180737\tvalid_1's binary_error: 0.135135\tvalid_1's binary_logloss: 0.316356\n",
            "[95]\ttraining's binary_error: 0.0564162\ttraining's binary_logloss: 0.179591\tvalid_1's binary_error: 0.137214\tvalid_1's binary_logloss: 0.316612\n",
            "[96]\ttraining's binary_error: 0.0560694\ttraining's binary_logloss: 0.178504\tvalid_1's binary_error: 0.138254\tvalid_1's binary_logloss: 0.316694\n",
            "[97]\ttraining's binary_error: 0.0547977\ttraining's binary_logloss: 0.177383\tvalid_1's binary_error: 0.137214\tvalid_1's binary_logloss: 0.316455\n",
            "[98]\ttraining's binary_error: 0.0544509\ttraining's binary_logloss: 0.176533\tvalid_1's binary_error: 0.139293\tvalid_1's binary_logloss: 0.316475\n",
            "[99]\ttraining's binary_error: 0.0534104\ttraining's binary_logloss: 0.175677\tvalid_1's binary_error: 0.139293\tvalid_1's binary_logloss: 0.316374\n",
            "[100]\ttraining's binary_error: 0.0537572\ttraining's binary_logloss: 0.17456\tvalid_1's binary_error: 0.138254\tvalid_1's binary_logloss: 0.315832\n"
          ]
        }
      ]
    },
    {
      "cell_type": "code",
      "source": [
        "# 학습용데이터\n",
        "print(\"----학습용데이터----\")\n",
        "tpreds = lgbm_wrapper.predict(X_train_over)\n",
        "tpred_proba = lgbm_wrapper.predict_proba(X_train_over)[:,1]\n",
        "get_eval(y_train_over, tpreds, tpred_proba)\n",
        "\n",
        "#시험용데이터\n",
        "print(\"----시험용데이터----\")\n",
        "get_eval(y_test, preds, pred_proba)"
      ],
      "metadata": {
        "id": "ce0PH5QpHtnT",
        "colab": {
          "base_uri": "https://localhost:8080/"
        },
        "outputId": "f05196d8-0a3a-49ab-df60-499b61a1ab8f"
      },
      "execution_count": null,
      "outputs": [
        {
          "output_type": "stream",
          "name": "stdout",
          "text": [
            "----학습용데이터----\n",
            "오차행렬\n",
            "[[4634  131]\n",
            " [ 479 4286]]\n",
            "정확도:  0.936, 정밀도:  0.970, 재현율:  0.899, F1:  0.934, AUC:  0.983\n",
            "----시험용데이터----\n",
            "오차행렬\n",
            "[[1872  184]\n",
            " [ 326  202]]\n",
            "정확도:  0.803, 정밀도:  0.523, 재현율:  0.383, F1:  0.442, AUC:  0.769\n"
          ]
        }
      ]
    },
    {
      "cell_type": "code",
      "source": [
        ""
      ],
      "metadata": {
        "id": "V1HkScL_9OBZ"
      },
      "execution_count": null,
      "outputs": []
    },
    {
      "cell_type": "markdown",
      "source": [
        "## 2 모델링"
      ],
      "metadata": {
        "id": "31luP8THpwYA"
      }
    },
    {
      "cell_type": "code",
      "source": [
        "over = SMOTE(random_state=60)\n",
        "X_train_over, y_train_over = over.fit_resample(X_train, y_train)\n",
        "print('SMOTE 적용 전 학습용 피처/레이블 데이터 세트:', X_train.shape, y_train.shape)\n",
        "print('SMOTE 적용 후 학습용 피처/레이블 데이터 세트:', X_train_over.shape, y_train_over.shape)\n",
        "print('SMOTE 적용 후 레이블 값 분포:\\n', pd.Series(y_train_over).value_counts())"
      ],
      "metadata": {
        "colab": {
          "base_uri": "https://localhost:8080/"
        },
        "id": "jWFuYPGo9OmK",
        "outputId": "9fcaf68f-a33c-48e3-8d7c-e238f0afb92d"
      },
      "execution_count": null,
      "outputs": [
        {
          "output_type": "stream",
          "name": "stdout",
          "text": [
            "SMOTE 적용 전 학습용 피처/레이블 데이터 세트: (6027, 60) (6027,)\n",
            "SMOTE 적용 후 학습용 피처/레이블 데이터 세트: (9612, 60) (9612,)\n",
            "SMOTE 적용 후 레이블 값 분포:\n",
            " 1    4806\n",
            "0    4806\n",
            "Name: target, dtype: int64\n"
          ]
        }
      ]
    },
    {
      "cell_type": "code",
      "source": [
        "X_train = X_train_over\n",
        "y_train = y_train_over"
      ],
      "metadata": {
        "id": "DT3XFZd6_Urm"
      },
      "execution_count": null,
      "outputs": []
    },
    {
      "cell_type": "markdown",
      "source": [
        "### 2-1. DecisionTree"
      ],
      "metadata": {
        "id": "S-wWqWeepyu_"
      }
    },
    {
      "cell_type": "code",
      "source": [
        "# GridSearchCV\n",
        "from sklearn.model_selection import GridSearchCV\n",
        "\n",
        "tree = DecisionTreeClassifier(random_state=60)  \n",
        "params = {\n",
        "    'max_depth' : [4,5,6],\n",
        "    'min_samples_split': [16,24,48]\n",
        "}\n",
        "grid_cv = GridSearchCV(tree, param_grid=params, scoring = 'accuracy', cv=10, verbose=1)\n",
        "grid_cv.fit(X_train, y_train)\n",
        "print('GridSearchCV 최고 평균 정확도 수치: {0: .3f}'.format(grid_cv.best_score_))\n",
        "print('GridSearchCV 최적 하이퍼 파라미터:', grid_cv.best_params_)"
      ],
      "metadata": {
        "colab": {
          "base_uri": "https://localhost:8080/"
        },
        "id": "WAvAprc52OgJ",
        "outputId": "838320b9-fb1c-475f-ef0a-8e679e533de9"
      },
      "execution_count": null,
      "outputs": [
        {
          "output_type": "stream",
          "name": "stdout",
          "text": [
            "Fitting 10 folds for each of 9 candidates, totalling 90 fits\n",
            "GridSearchCV 최고 평균 정확도 수치:  0.783\n",
            "GridSearchCV 최적 하이퍼 파라미터: {'max_depth': 6, 'min_samples_split': 24}\n"
          ]
        }
      ]
    },
    {
      "cell_type": "markdown",
      "source": [
        "#### 평가"
      ],
      "metadata": {
        "id": "Grw3Ob7eKNXg"
      }
    },
    {
      "cell_type": "code",
      "source": [
        "tree = DecisionTreeClassifier(random_state=60, max_depth= 6, min_samples_split=24)  \n",
        "tree.fit(X_train, y_train)\n",
        "print(\"학습용 데이터 정확도: {:.3f}\".format(tree.score(X_train, y_train)))\n",
        "print(\"시험용 데이터 정확도: {:.3f}\".format(tree.score(X_test, y_test)))"
      ],
      "metadata": {
        "colab": {
          "base_uri": "https://localhost:8080/"
        },
        "id": "FOuYOAniFKkp",
        "outputId": "c28227c5-7377-4308-ad42-76ff566230b4"
      },
      "execution_count": null,
      "outputs": [
        {
          "output_type": "stream",
          "name": "stdout",
          "text": [
            "학습용 데이터 정확도: 0.804\n",
            "시험용 데이터 정확도: 0.733\n"
          ]
        }
      ]
    },
    {
      "cell_type": "code",
      "source": [
        "print(\"-----학습용-----\")\n",
        "pred = tree.predict(X_train)\n",
        "get_eval(y_train, pred, pred)\n",
        "\n",
        "print(\"-----시험용-----\")\n",
        "pred = tree.predict(X_test)\n",
        "get_eval(y_test, pred, pred)"
      ],
      "metadata": {
        "id": "YjLh2dgsW5O-",
        "colab": {
          "base_uri": "https://localhost:8080/"
        },
        "outputId": "f485ce9e-9e7c-4570-ec41-daa5dafcb44f"
      },
      "execution_count": null,
      "outputs": [
        {
          "output_type": "stream",
          "name": "stdout",
          "text": [
            "-----학습용-----\n",
            "오차행렬\n",
            "[[3879  927]\n",
            " [ 961 3845]]\n",
            "정확도:  0.804, 정밀도:  0.806, 재현율:  0.800, F1:  0.803, AUC:  0.804\n",
            "-----시험용-----\n",
            "오차행렬\n",
            "[[1610  446]\n",
            " [ 243  285]]\n",
            "정확도:  0.733, 정밀도:  0.390, 재현율:  0.540, F1:  0.453, AUC:  0.661\n"
          ]
        }
      ]
    },
    {
      "cell_type": "markdown",
      "source": [
        "#### 시각화"
      ],
      "metadata": {
        "id": "AxqWTnomKPL7"
      }
    },
    {
      "cell_type": "code",
      "source": [
        "from sklearn.tree import export_graphviz\n",
        "import graphviz\n",
        "\n",
        "export_graphviz(tree, out_file=\"tree.dot\",\n",
        "                feature_names=df.columns[:60], impurity=False, filled=True)\n",
        "\n",
        "with open(\"tree.dot\") as f:\n",
        "    dot_graph = f.read()\n",
        "\n",
        "display(graphviz.Source(dot_graph))"
      ],
      "metadata": {
        "colab": {
          "base_uri": "https://localhost:8080/",
          "height": 814
        },
        "id": "wGI5aJYfpSPW",
        "outputId": "2947c16d-51af-4a18-e7a3-9aa10f663d70"
      },
      "execution_count": null,
      "outputs": [
        {
          "output_type": "display_data",
          "data": {
            "text/plain": [
              "<graphviz.files.Source at 0x7f3e00bcc650>"
            ],
            "image/svg+xml": "<?xml version=\"1.0\" encoding=\"UTF-8\" standalone=\"no\"?>\n<!DOCTYPE svg PUBLIC \"-//W3C//DTD SVG 1.1//EN\"\n \"http://www.w3.org/Graphics/SVG/1.1/DTD/svg11.dtd\">\n<!-- Generated by graphviz version 2.40.1 (20161225.0304)\n -->\n<!-- Title: Tree Pages: 1 -->\n<svg width=\"7177pt\" height=\"580pt\"\n viewBox=\"0.00 0.00 7177.00 580.00\" xmlns=\"http://www.w3.org/2000/svg\" xmlns:xlink=\"http://www.w3.org/1999/xlink\">\n<g id=\"graph0\" class=\"graph\" transform=\"scale(1 1) rotate(0) translate(4 576)\">\n<title>Tree</title>\n<polygon fill=\"#ffffff\" stroke=\"transparent\" points=\"-4,4 -4,-576 7173,-576 7173,4 -4,4\"/>\n<!-- 0 -->\n<g id=\"node1\" class=\"node\">\n<title>0</title>\n<polygon fill=\"#ffffff\" stroke=\"#000000\" points=\"3821.5,-572 3672.5,-572 3672.5,-519 3821.5,-519 3821.5,-572\"/>\n<text text-anchor=\"middle\" x=\"3747\" y=\"-556.8\" font-family=\"Helvetica,sans-Serif\" font-size=\"14.00\" fill=\"#000000\">a131 &lt;= 3.5</text>\n<text text-anchor=\"middle\" x=\"3747\" y=\"-541.8\" font-family=\"Helvetica,sans-Serif\" font-size=\"14.00\" fill=\"#000000\">samples = 9612</text>\n<text text-anchor=\"middle\" x=\"3747\" y=\"-526.8\" font-family=\"Helvetica,sans-Serif\" font-size=\"14.00\" fill=\"#000000\">value = [4806, 4806]</text>\n</g>\n<!-- 1 -->\n<g id=\"node2\" class=\"node\">\n<title>1</title>\n<polygon fill=\"#92c9f1\" stroke=\"#000000\" points=\"2550.5,-483 2401.5,-483 2401.5,-430 2550.5,-430 2550.5,-483\"/>\n<text text-anchor=\"middle\" x=\"2476\" y=\"-467.8\" font-family=\"Helvetica,sans-Serif\" font-size=\"14.00\" fill=\"#000000\">a142 &lt;= 2.5</text>\n<text text-anchor=\"middle\" x=\"2476\" y=\"-452.8\" font-family=\"Helvetica,sans-Serif\" font-size=\"14.00\" fill=\"#000000\">samples = 5370</text>\n<text text-anchor=\"middle\" x=\"2476\" y=\"-437.8\" font-family=\"Helvetica,sans-Serif\" font-size=\"14.00\" fill=\"#000000\">value = [1669, 3701]</text>\n</g>\n<!-- 0&#45;&gt;1 -->\n<g id=\"edge1\" class=\"edge\">\n<title>0&#45;&gt;1</title>\n<path fill=\"none\" stroke=\"#000000\" d=\"M3672.2383,-540.2649C3450.1857,-524.716 2795.4593,-478.8697 2560.8495,-462.4415\"/>\n<polygon fill=\"#000000\" stroke=\"#000000\" points=\"2560.8877,-458.9357 2550.6676,-461.7285 2560.3986,-465.9186 2560.8877,-458.9357\"/>\n<text text-anchor=\"middle\" x=\"2567.0672\" y=\"-476.8978\" font-family=\"Helvetica,sans-Serif\" font-size=\"14.00\" fill=\"#000000\">True</text>\n</g>\n<!-- 56 -->\n<g id=\"node57\" class=\"node\">\n<title>56</title>\n<polygon fill=\"#eead7f\" stroke=\"#000000\" points=\"4304.5,-483 4155.5,-483 4155.5,-430 4304.5,-430 4304.5,-483\"/>\n<text text-anchor=\"middle\" x=\"4230\" y=\"-467.8\" font-family=\"Helvetica,sans-Serif\" font-size=\"14.00\" fill=\"#000000\">a133 &lt;= 3.5</text>\n<text text-anchor=\"middle\" x=\"4230\" y=\"-452.8\" font-family=\"Helvetica,sans-Serif\" font-size=\"14.00\" fill=\"#000000\">samples = 4242</text>\n<text text-anchor=\"middle\" x=\"4230\" y=\"-437.8\" font-family=\"Helvetica,sans-Serif\" font-size=\"14.00\" fill=\"#000000\">value = [3137, 1105]</text>\n</g>\n<!-- 0&#45;&gt;56 -->\n<g id=\"edge56\" class=\"edge\">\n<title>0&#45;&gt;56</title>\n<path fill=\"none\" stroke=\"#000000\" d=\"M3821.6743,-531.7401C3909.0902,-515.6325 4053.5339,-489.0165 4145.1235,-472.1398\"/>\n<polygon fill=\"#000000\" stroke=\"#000000\" points=\"4145.9951,-475.5382 4155.1953,-470.2839 4144.7266,-468.6541 4145.9951,-475.5382\"/>\n<text text-anchor=\"middle\" x=\"4141.0137\" y=\"-487.1723\" font-family=\"Helvetica,sans-Serif\" font-size=\"14.00\" fill=\"#000000\">False</text>\n</g>\n<!-- 2 -->\n<g id=\"node3\" class=\"node\">\n<title>2</title>\n<polygon fill=\"#5fb0ea\" stroke=\"#000000\" points=\"1083,-394 943,-394 943,-341 1083,-341 1083,-394\"/>\n<text text-anchor=\"middle\" x=\"1013\" y=\"-378.8\" font-family=\"Helvetica,sans-Serif\" font-size=\"14.00\" fill=\"#000000\">a130 &lt;= 4.5</text>\n<text text-anchor=\"middle\" x=\"1013\" y=\"-363.8\" font-family=\"Helvetica,sans-Serif\" font-size=\"14.00\" fill=\"#000000\">samples = 2354</text>\n<text text-anchor=\"middle\" x=\"1013\" y=\"-348.8\" font-family=\"Helvetica,sans-Serif\" font-size=\"14.00\" fill=\"#000000\">value = [381, 1973]</text>\n</g>\n<!-- 1&#45;&gt;2 -->\n<g id=\"edge2\" class=\"edge\">\n<title>1&#45;&gt;2</title>\n<path fill=\"none\" stroke=\"#000000\" d=\"M2401.4383,-451.9641C2152.3447,-436.8108 1350.2412,-388.0157 1093.1162,-372.3738\"/>\n<polygon fill=\"#000000\" stroke=\"#000000\" points=\"1093.2994,-368.8785 1083.1053,-371.7648 1092.8742,-375.8656 1093.2994,-368.8785\"/>\n</g>\n<!-- 25 -->\n<g id=\"node26\" class=\"node\">\n<title>25</title>\n<polygon fill=\"#cde6f8\" stroke=\"#000000\" points=\"2550.5,-394 2401.5,-394 2401.5,-341 2550.5,-341 2550.5,-394\"/>\n<text text-anchor=\"middle\" x=\"2476\" y=\"-378.8\" font-family=\"Helvetica,sans-Serif\" font-size=\"14.00\" fill=\"#000000\">work04 &lt;= 0.5</text>\n<text text-anchor=\"middle\" x=\"2476\" y=\"-363.8\" font-family=\"Helvetica,sans-Serif\" font-size=\"14.00\" fill=\"#000000\">samples = 3016</text>\n<text text-anchor=\"middle\" x=\"2476\" y=\"-348.8\" font-family=\"Helvetica,sans-Serif\" font-size=\"14.00\" fill=\"#000000\">value = [1288, 1728]</text>\n</g>\n<!-- 1&#45;&gt;25 -->\n<g id=\"edge25\" class=\"edge\">\n<title>1&#45;&gt;25</title>\n<path fill=\"none\" stroke=\"#000000\" d=\"M2476,-429.7971C2476,-421.7887 2476,-412.8597 2476,-404.3198\"/>\n<polygon fill=\"#000000\" stroke=\"#000000\" points=\"2479.5001,-404.1841 2476,-394.1841 2472.5001,-404.1841 2479.5001,-404.1841\"/>\n</g>\n<!-- 3 -->\n<g id=\"node4\" class=\"node\">\n<title>3</title>\n<polygon fill=\"#59ade9\" stroke=\"#000000\" points=\"880,-305 740,-305 740,-252 880,-252 880,-305\"/>\n<text text-anchor=\"middle\" x=\"810\" y=\"-289.8\" font-family=\"Helvetica,sans-Serif\" font-size=\"14.00\" fill=\"#000000\">jobcode1 &lt;= 0.5</text>\n<text text-anchor=\"middle\" x=\"810\" y=\"-274.8\" font-family=\"Helvetica,sans-Serif\" font-size=\"14.00\" fill=\"#000000\">samples = 2197</text>\n<text text-anchor=\"middle\" x=\"810\" y=\"-259.8\" font-family=\"Helvetica,sans-Serif\" font-size=\"14.00\" fill=\"#000000\">value = [303, 1894]</text>\n</g>\n<!-- 2&#45;&gt;3 -->\n<g id=\"edge3\" class=\"edge\">\n<title>2&#45;&gt;3</title>\n<path fill=\"none\" stroke=\"#000000\" d=\"M952.3683,-340.9176C929.5745,-330.9243 903.4796,-319.4837 879.9092,-309.1498\"/>\n<polygon fill=\"#000000\" stroke=\"#000000\" points=\"881.2337,-305.909 870.6698,-305.0991 878.4229,-312.3199 881.2337,-305.909\"/>\n</g>\n<!-- 18 -->\n<g id=\"node19\" class=\"node\">\n<title>18</title>\n<polygon fill=\"#fcfeff\" stroke=\"#000000\" points=\"1071,-305 955,-305 955,-252 1071,-252 1071,-305\"/>\n<text text-anchor=\"middle\" x=\"1013\" y=\"-289.8\" font-family=\"Helvetica,sans-Serif\" font-size=\"14.00\" fill=\"#000000\">a133 &lt;= 1.5</text>\n<text text-anchor=\"middle\" x=\"1013\" y=\"-274.8\" font-family=\"Helvetica,sans-Serif\" font-size=\"14.00\" fill=\"#000000\">samples = 157</text>\n<text text-anchor=\"middle\" x=\"1013\" y=\"-259.8\" font-family=\"Helvetica,sans-Serif\" font-size=\"14.00\" fill=\"#000000\">value = [78, 79]</text>\n</g>\n<!-- 2&#45;&gt;18 -->\n<g id=\"edge18\" class=\"edge\">\n<title>2&#45;&gt;18</title>\n<path fill=\"none\" stroke=\"#000000\" d=\"M1013,-340.7971C1013,-332.7887 1013,-323.8597 1013,-315.3198\"/>\n<polygon fill=\"#000000\" stroke=\"#000000\" points=\"1016.5001,-315.1841 1013,-305.1841 1009.5001,-315.1841 1016.5001,-315.1841\"/>\n</g>\n<!-- 4 -->\n<g id=\"node5\" class=\"node\">\n<title>4</title>\n<polygon fill=\"#4fa8e8\" stroke=\"#000000\" points=\"483,-216 343,-216 343,-163 483,-163 483,-216\"/>\n<text text-anchor=\"middle\" x=\"413\" y=\"-200.8\" font-family=\"Helvetica,sans-Serif\" font-size=\"14.00\" fill=\"#000000\">jobcode9 &lt;= 0.5</text>\n<text text-anchor=\"middle\" x=\"413\" y=\"-185.8\" font-family=\"Helvetica,sans-Serif\" font-size=\"14.00\" fill=\"#000000\">samples = 1715</text>\n<text text-anchor=\"middle\" x=\"413\" y=\"-170.8\" font-family=\"Helvetica,sans-Serif\" font-size=\"14.00\" fill=\"#000000\">value = [169, 1546]</text>\n</g>\n<!-- 3&#45;&gt;4 -->\n<g id=\"edge4\" class=\"edge\">\n<title>3&#45;&gt;4</title>\n<path fill=\"none\" stroke=\"#000000\" d=\"M739.9382,-262.7935C670.8433,-247.3037 565.3632,-223.657 493.0102,-207.4368\"/>\n<polygon fill=\"#000000\" stroke=\"#000000\" points=\"493.5514,-203.9713 483.0279,-205.199 492.0201,-210.8018 493.5514,-203.9713\"/>\n</g>\n<!-- 11 -->\n<g id=\"node12\" class=\"node\">\n<title>11</title>\n<polygon fill=\"#85c3ef\" stroke=\"#000000\" points=\"876,-216 744,-216 744,-163 876,-163 876,-216\"/>\n<text text-anchor=\"middle\" x=\"810\" y=\"-200.8\" font-family=\"Helvetica,sans-Serif\" font-size=\"14.00\" fill=\"#000000\">a126 &lt;= 2.5</text>\n<text text-anchor=\"middle\" x=\"810\" y=\"-185.8\" font-family=\"Helvetica,sans-Serif\" font-size=\"14.00\" fill=\"#000000\">samples = 482</text>\n<text text-anchor=\"middle\" x=\"810\" y=\"-170.8\" font-family=\"Helvetica,sans-Serif\" font-size=\"14.00\" fill=\"#000000\">value = [134, 348]</text>\n</g>\n<!-- 3&#45;&gt;11 -->\n<g id=\"edge11\" class=\"edge\">\n<title>3&#45;&gt;11</title>\n<path fill=\"none\" stroke=\"#000000\" d=\"M810,-251.7971C810,-243.7887 810,-234.8597 810,-226.3198\"/>\n<polygon fill=\"#000000\" stroke=\"#000000\" points=\"813.5001,-226.1841 810,-216.1841 806.5001,-226.1841 813.5001,-226.1841\"/>\n</g>\n<!-- 5 -->\n<g id=\"node6\" class=\"node\">\n<title>5</title>\n<polygon fill=\"#4aa6e7\" stroke=\"#000000\" points=\"282,-127 142,-127 142,-74 282,-74 282,-127\"/>\n<text text-anchor=\"middle\" x=\"212\" y=\"-111.8\" font-family=\"Helvetica,sans-Serif\" font-size=\"14.00\" fill=\"#000000\">jobcode3 &lt;= 0.5</text>\n<text text-anchor=\"middle\" x=\"212\" y=\"-96.8\" font-family=\"Helvetica,sans-Serif\" font-size=\"14.00\" fill=\"#000000\">samples = 1647</text>\n<text text-anchor=\"middle\" x=\"212\" y=\"-81.8\" font-family=\"Helvetica,sans-Serif\" font-size=\"14.00\" fill=\"#000000\">value = [133, 1514]</text>\n</g>\n<!-- 4&#45;&gt;5 -->\n<g id=\"edge5\" class=\"edge\">\n<title>4&#45;&gt;5</title>\n<path fill=\"none\" stroke=\"#000000\" d=\"M352.9656,-162.9176C330.3964,-152.9243 304.5586,-141.4837 281.2204,-131.1498\"/>\n<polygon fill=\"#000000\" stroke=\"#000000\" points=\"282.6329,-127.9476 272.0721,-127.0991 279.7988,-134.3482 282.6329,-127.9476\"/>\n</g>\n<!-- 8 -->\n<g id=\"node9\" class=\"node\">\n<title>8</title>\n<polygon fill=\"#fcf1e9\" stroke=\"#000000\" points=\"471,-127 355,-127 355,-74 471,-74 471,-127\"/>\n<text text-anchor=\"middle\" x=\"413\" y=\"-111.8\" font-family=\"Helvetica,sans-Serif\" font-size=\"14.00\" fill=\"#000000\">time &lt;= 15.5</text>\n<text text-anchor=\"middle\" x=\"413\" y=\"-96.8\" font-family=\"Helvetica,sans-Serif\" font-size=\"14.00\" fill=\"#000000\">samples = 68</text>\n<text text-anchor=\"middle\" x=\"413\" y=\"-81.8\" font-family=\"Helvetica,sans-Serif\" font-size=\"14.00\" fill=\"#000000\">value = [36, 32]</text>\n</g>\n<!-- 4&#45;&gt;8 -->\n<g id=\"edge8\" class=\"edge\">\n<title>4&#45;&gt;8</title>\n<path fill=\"none\" stroke=\"#000000\" d=\"M413,-162.7971C413,-154.7887 413,-145.8597 413,-137.3198\"/>\n<polygon fill=\"#000000\" stroke=\"#000000\" points=\"416.5001,-137.1841 413,-127.1841 409.5001,-137.1841 416.5001,-137.1841\"/>\n</g>\n<!-- 6 -->\n<g id=\"node7\" class=\"node\">\n<title>6</title>\n<polygon fill=\"#49a5e7\" stroke=\"#000000\" points=\"140,-38 0,-38 0,0 140,0 140,-38\"/>\n<text text-anchor=\"middle\" x=\"70\" y=\"-22.8\" font-family=\"Helvetica,sans-Serif\" font-size=\"14.00\" fill=\"#000000\">samples = 1628</text>\n<text text-anchor=\"middle\" x=\"70\" y=\"-7.8\" font-family=\"Helvetica,sans-Serif\" font-size=\"14.00\" fill=\"#000000\">value = [119, 1509]</text>\n</g>\n<!-- 5&#45;&gt;6 -->\n<g id=\"edge6\" class=\"edge\">\n<title>5&#45;&gt;6</title>\n<path fill=\"none\" stroke=\"#000000\" d=\"M165.5039,-73.8139C148.4422,-64.0214 129.2287,-52.9939 112.5323,-43.4112\"/>\n<polygon fill=\"#000000\" stroke=\"#000000\" points=\"113.9605,-40.1954 103.5452,-38.2531 110.476,-46.2665 113.9605,-40.1954\"/>\n</g>\n<!-- 7 -->\n<g id=\"node8\" class=\"node\">\n<title>7</title>\n<polygon fill=\"#eeae80\" stroke=\"#000000\" points=\"265.5,-38 158.5,-38 158.5,0 265.5,0 265.5,-38\"/>\n<text text-anchor=\"middle\" x=\"212\" y=\"-22.8\" font-family=\"Helvetica,sans-Serif\" font-size=\"14.00\" fill=\"#000000\">samples = 19</text>\n<text text-anchor=\"middle\" x=\"212\" y=\"-7.8\" font-family=\"Helvetica,sans-Serif\" font-size=\"14.00\" fill=\"#000000\">value = [14, 5]</text>\n</g>\n<!-- 5&#45;&gt;7 -->\n<g id=\"edge7\" class=\"edge\">\n<title>5&#45;&gt;7</title>\n<path fill=\"none\" stroke=\"#000000\" d=\"M212,-73.8139C212,-65.6535 212,-56.6354 212,-48.3105\"/>\n<polygon fill=\"#000000\" stroke=\"#000000\" points=\"215.5001,-48.253 212,-38.2531 208.5001,-48.2531 215.5001,-48.253\"/>\n</g>\n<!-- 9 -->\n<g id=\"node10\" class=\"node\">\n<title>9</title>\n<polygon fill=\"#eca26d\" stroke=\"#000000\" points=\"390.5,-38 283.5,-38 283.5,0 390.5,0 390.5,-38\"/>\n<text text-anchor=\"middle\" x=\"337\" y=\"-22.8\" font-family=\"Helvetica,sans-Serif\" font-size=\"14.00\" fill=\"#000000\">samples = 24</text>\n<text text-anchor=\"middle\" x=\"337\" y=\"-7.8\" font-family=\"Helvetica,sans-Serif\" font-size=\"14.00\" fill=\"#000000\">value = [19, 5]</text>\n</g>\n<!-- 8&#45;&gt;9 -->\n<g id=\"edge9\" class=\"edge\">\n<title>8&#45;&gt;9</title>\n<path fill=\"none\" stroke=\"#000000\" d=\"M388.1148,-73.8139C379.7441,-64.8374 370.4057,-54.8233 362.0244,-45.8354\"/>\n<polygon fill=\"#000000\" stroke=\"#000000\" points=\"364.3335,-43.1796 354.9538,-38.2531 359.214,-47.9536 364.3335,-43.1796\"/>\n</g>\n<!-- 10 -->\n<g id=\"node11\" class=\"node\">\n<title>10</title>\n<polygon fill=\"#b6dbf5\" stroke=\"#000000\" points=\"525,-38 409,-38 409,0 525,0 525,-38\"/>\n<text text-anchor=\"middle\" x=\"467\" y=\"-22.8\" font-family=\"Helvetica,sans-Serif\" font-size=\"14.00\" fill=\"#000000\">samples = 44</text>\n<text text-anchor=\"middle\" x=\"467\" y=\"-7.8\" font-family=\"Helvetica,sans-Serif\" font-size=\"14.00\" fill=\"#000000\">value = [17, 27]</text>\n</g>\n<!-- 8&#45;&gt;10 -->\n<g id=\"edge10\" class=\"edge\">\n<title>8&#45;&gt;10</title>\n<path fill=\"none\" stroke=\"#000000\" d=\"M430.6816,-73.8139C436.449,-65.1094 442.8628,-55.4292 448.6763,-46.6553\"/>\n<polygon fill=\"#000000\" stroke=\"#000000\" points=\"451.6376,-48.5225 454.2434,-38.2531 445.8023,-44.6561 451.6376,-48.5225\"/>\n</g>\n<!-- 12 -->\n<g id=\"node13\" class=\"node\">\n<title>12</title>\n<polygon fill=\"#5dafea\" stroke=\"#000000\" points=\"794,-127 670,-127 670,-74 794,-74 794,-127\"/>\n<text text-anchor=\"middle\" x=\"732\" y=\"-111.8\" font-family=\"Helvetica,sans-Serif\" font-size=\"14.00\" fill=\"#000000\">ins02 &lt;= 0.5</text>\n<text text-anchor=\"middle\" x=\"732\" y=\"-96.8\" font-family=\"Helvetica,sans-Serif\" font-size=\"14.00\" fill=\"#000000\">samples = 227</text>\n<text text-anchor=\"middle\" x=\"732\" y=\"-81.8\" font-family=\"Helvetica,sans-Serif\" font-size=\"14.00\" fill=\"#000000\">value = [35, 192]</text>\n</g>\n<!-- 11&#45;&gt;12 -->\n<g id=\"edge12\" class=\"edge\">\n<title>11&#45;&gt;12</title>\n<path fill=\"none\" stroke=\"#000000\" d=\"M786.5974,-162.7971C778.8847,-153.9967 770.1977,-144.0845 762.0595,-134.7987\"/>\n<polygon fill=\"#000000\" stroke=\"#000000\" points=\"764.6093,-132.3978 755.3861,-127.1841 759.3449,-137.0115 764.6093,-132.3978\"/>\n</g>\n<!-- 15 -->\n<g id=\"node16\" class=\"node\">\n<title>15</title>\n<polygon fill=\"#b7dbf6\" stroke=\"#000000\" points=\"936,-127 812,-127 812,-74 936,-74 936,-127\"/>\n<text text-anchor=\"middle\" x=\"874\" y=\"-111.8\" font-family=\"Helvetica,sans-Serif\" font-size=\"14.00\" fill=\"#000000\">licen02 &lt;= 2.5</text>\n<text text-anchor=\"middle\" x=\"874\" y=\"-96.8\" font-family=\"Helvetica,sans-Serif\" font-size=\"14.00\" fill=\"#000000\">samples = 255</text>\n<text text-anchor=\"middle\" x=\"874\" y=\"-81.8\" font-family=\"Helvetica,sans-Serif\" font-size=\"14.00\" fill=\"#000000\">value = [99, 156]</text>\n</g>\n<!-- 11&#45;&gt;15 -->\n<g id=\"edge15\" class=\"edge\">\n<title>11&#45;&gt;15</title>\n<path fill=\"none\" stroke=\"#000000\" d=\"M829.2021,-162.7971C835.4039,-154.1727 842.3735,-144.4806 848.9346,-135.3566\"/>\n<polygon fill=\"#000000\" stroke=\"#000000\" points=\"851.8147,-137.3463 854.8114,-127.1841 846.1316,-133.2595 851.8147,-137.3463\"/>\n</g>\n<!-- 13 -->\n<g id=\"node14\" class=\"node\">\n<title>13</title>\n<polygon fill=\"#55abe9\" stroke=\"#000000\" points=\"667,-38 543,-38 543,0 667,0 667,-38\"/>\n<text text-anchor=\"middle\" x=\"605\" y=\"-22.8\" font-family=\"Helvetica,sans-Serif\" font-size=\"14.00\" fill=\"#000000\">samples = 217</text>\n<text text-anchor=\"middle\" x=\"605\" y=\"-7.8\" font-family=\"Helvetica,sans-Serif\" font-size=\"14.00\" fill=\"#000000\">value = [27, 190]</text>\n</g>\n<!-- 12&#45;&gt;13 -->\n<g id=\"edge13\" class=\"edge\">\n<title>12&#45;&gt;13</title>\n<path fill=\"none\" stroke=\"#000000\" d=\"M690.4155,-73.8139C675.2973,-64.1121 658.2902,-53.198 643.4549,-43.6777\"/>\n<polygon fill=\"#000000\" stroke=\"#000000\" points=\"645.3081,-40.7083 635.0017,-38.2531 641.5275,-46.5996 645.3081,-40.7083\"/>\n</g>\n<!-- 14 -->\n<g id=\"node15\" class=\"node\">\n<title>14</title>\n<polygon fill=\"#eca06a\" stroke=\"#000000\" points=\"789,-38 685,-38 685,0 789,0 789,-38\"/>\n<text text-anchor=\"middle\" x=\"737\" y=\"-22.8\" font-family=\"Helvetica,sans-Serif\" font-size=\"14.00\" fill=\"#000000\">samples = 10</text>\n<text text-anchor=\"middle\" x=\"737\" y=\"-7.8\" font-family=\"Helvetica,sans-Serif\" font-size=\"14.00\" fill=\"#000000\">value = [8, 2]</text>\n</g>\n<!-- 12&#45;&gt;14 -->\n<g id=\"edge14\" class=\"edge\">\n<title>12&#45;&gt;14</title>\n<path fill=\"none\" stroke=\"#000000\" d=\"M733.6372,-73.8139C734.1378,-65.6535 734.6911,-56.6354 735.2018,-48.3105\"/>\n<polygon fill=\"#000000\" stroke=\"#000000\" points=\"738.6998,-48.4487 735.8188,-38.2531 731.713,-48.0199 738.6998,-48.4487\"/>\n</g>\n<!-- 16 -->\n<g id=\"node17\" class=\"node\">\n<title>16</title>\n<polygon fill=\"#a2d1f3\" stroke=\"#000000\" points=\"931,-38 807,-38 807,0 931,0 931,-38\"/>\n<text text-anchor=\"middle\" x=\"869\" y=\"-22.8\" font-family=\"Helvetica,sans-Serif\" font-size=\"14.00\" fill=\"#000000\">samples = 231</text>\n<text text-anchor=\"middle\" x=\"869\" y=\"-7.8\" font-family=\"Helvetica,sans-Serif\" font-size=\"14.00\" fill=\"#000000\">value = [80, 151]</text>\n</g>\n<!-- 15&#45;&gt;16 -->\n<g id=\"edge16\" class=\"edge\">\n<title>15&#45;&gt;16</title>\n<path fill=\"none\" stroke=\"#000000\" d=\"M872.3628,-73.8139C871.8622,-65.6535 871.3089,-56.6354 870.7982,-48.3105\"/>\n<polygon fill=\"#000000\" stroke=\"#000000\" points=\"874.287,-48.0199 870.1812,-38.2531 867.3002,-48.4487 874.287,-48.0199\"/>\n</g>\n<!-- 17 -->\n<g id=\"node18\" class=\"node\">\n<title>17</title>\n<polygon fill=\"#eca26d\" stroke=\"#000000\" points=\"1056.5,-38 949.5,-38 949.5,0 1056.5,0 1056.5,-38\"/>\n<text text-anchor=\"middle\" x=\"1003\" y=\"-22.8\" font-family=\"Helvetica,sans-Serif\" font-size=\"14.00\" fill=\"#000000\">samples = 24</text>\n<text text-anchor=\"middle\" x=\"1003\" y=\"-7.8\" font-family=\"Helvetica,sans-Serif\" font-size=\"14.00\" fill=\"#000000\">value = [19, 5]</text>\n</g>\n<!-- 15&#45;&gt;17 -->\n<g id=\"edge17\" class=\"edge\">\n<title>15&#45;&gt;17</title>\n<path fill=\"none\" stroke=\"#000000\" d=\"M916.2394,-73.8139C931.5956,-64.1121 948.8706,-53.198 963.9396,-43.6777\"/>\n<polygon fill=\"#000000\" stroke=\"#000000\" points=\"965.9411,-46.5532 972.5258,-38.2531 962.2023,-40.6353 965.9411,-46.5532\"/>\n</g>\n<!-- 19 -->\n<g id=\"node20\" class=\"node\">\n<title>19</title>\n<polygon fill=\"#399de5\" stroke=\"#000000\" points=\"995.5,-208.5 896.5,-208.5 896.5,-170.5 995.5,-170.5 995.5,-208.5\"/>\n<text text-anchor=\"middle\" x=\"946\" y=\"-193.3\" font-family=\"Helvetica,sans-Serif\" font-size=\"14.00\" fill=\"#000000\">samples = 9</text>\n<text text-anchor=\"middle\" x=\"946\" y=\"-178.3\" font-family=\"Helvetica,sans-Serif\" font-size=\"14.00\" fill=\"#000000\">value = [0, 9]</text>\n</g>\n<!-- 18&#45;&gt;19 -->\n<g id=\"edge19\" class=\"edge\">\n<title>18&#45;&gt;19</title>\n<path fill=\"none\" stroke=\"#000000\" d=\"M992.8978,-251.7971C984.5431,-240.699 974.8573,-227.8328 966.4647,-216.6844\"/>\n<polygon fill=\"#000000\" stroke=\"#000000\" points=\"969.153,-214.436 960.3423,-208.5518 963.5605,-218.646 969.153,-214.436\"/>\n</g>\n<!-- 20 -->\n<g id=\"node21\" class=\"node\">\n<title>20</title>\n<polygon fill=\"#fcf2eb\" stroke=\"#000000\" points=\"1130,-216 1014,-216 1014,-163 1130,-163 1130,-216\"/>\n<text text-anchor=\"middle\" x=\"1072\" y=\"-200.8\" font-family=\"Helvetica,sans-Serif\" font-size=\"14.00\" fill=\"#000000\">a143 &lt;= 1.5</text>\n<text text-anchor=\"middle\" x=\"1072\" y=\"-185.8\" font-family=\"Helvetica,sans-Serif\" font-size=\"14.00\" fill=\"#000000\">samples = 148</text>\n<text text-anchor=\"middle\" x=\"1072\" y=\"-170.8\" font-family=\"Helvetica,sans-Serif\" font-size=\"14.00\" fill=\"#000000\">value = [78, 70]</text>\n</g>\n<!-- 18&#45;&gt;20 -->\n<g id=\"edge20\" class=\"edge\">\n<title>18&#45;&gt;20</title>\n<path fill=\"none\" stroke=\"#000000\" d=\"M1030.7019,-251.7971C1036.3609,-243.2607 1042.7133,-233.6782 1048.7076,-224.6361\"/>\n<polygon fill=\"#000000\" stroke=\"#000000\" points=\"1051.7023,-226.4529 1054.3105,-216.1841 1045.8679,-222.5851 1051.7023,-226.4529\"/>\n</g>\n<!-- 21 -->\n<g id=\"node22\" class=\"node\">\n<title>21</title>\n<polygon fill=\"#6ab6ec\" stroke=\"#000000\" points=\"1093.5,-119.5 986.5,-119.5 986.5,-81.5 1093.5,-81.5 1093.5,-119.5\"/>\n<text text-anchor=\"middle\" x=\"1040\" y=\"-104.3\" font-family=\"Helvetica,sans-Serif\" font-size=\"14.00\" fill=\"#000000\">samples = 15</text>\n<text text-anchor=\"middle\" x=\"1040\" y=\"-89.3\" font-family=\"Helvetica,sans-Serif\" font-size=\"14.00\" fill=\"#000000\">value = [3, 12]</text>\n</g>\n<!-- 20&#45;&gt;21 -->\n<g id=\"edge21\" class=\"edge\">\n<title>20&#45;&gt;21</title>\n<path fill=\"none\" stroke=\"#000000\" d=\"M1062.3989,-162.7971C1058.5651,-152.1342 1054.1444,-139.8392 1050.2485,-129.0037\"/>\n<polygon fill=\"#000000\" stroke=\"#000000\" points=\"1053.5272,-127.7778 1046.8501,-119.5518 1046.94,-130.1462 1053.5272,-127.7778\"/>\n</g>\n<!-- 22 -->\n<g id=\"node23\" class=\"node\">\n<title>22</title>\n<polygon fill=\"#f9e2d2\" stroke=\"#000000\" points=\"1228,-127 1112,-127 1112,-74 1228,-74 1228,-127\"/>\n<text text-anchor=\"middle\" x=\"1170\" y=\"-111.8\" font-family=\"Helvetica,sans-Serif\" font-size=\"14.00\" fill=\"#000000\">period &lt;= 13.5</text>\n<text text-anchor=\"middle\" x=\"1170\" y=\"-96.8\" font-family=\"Helvetica,sans-Serif\" font-size=\"14.00\" fill=\"#000000\">samples = 133</text>\n<text text-anchor=\"middle\" x=\"1170\" y=\"-81.8\" font-family=\"Helvetica,sans-Serif\" font-size=\"14.00\" fill=\"#000000\">value = [75, 58]</text>\n</g>\n<!-- 20&#45;&gt;22 -->\n<g id=\"edge22\" class=\"edge\">\n<title>20&#45;&gt;22</title>\n<path fill=\"none\" stroke=\"#000000\" d=\"M1101.4032,-162.7971C1111.3842,-153.7327 1122.664,-143.4888 1133.1512,-133.9647\"/>\n<polygon fill=\"#000000\" stroke=\"#000000\" points=\"1135.5677,-136.4981 1140.6175,-127.1841 1130.8616,-131.3161 1135.5677,-136.4981\"/>\n</g>\n<!-- 23 -->\n<g id=\"node24\" class=\"node\">\n<title>23</title>\n<polygon fill=\"#ea9a61\" stroke=\"#000000\" points=\"1181.5,-38 1074.5,-38 1074.5,0 1181.5,0 1181.5,-38\"/>\n<text text-anchor=\"middle\" x=\"1128\" y=\"-22.8\" font-family=\"Helvetica,sans-Serif\" font-size=\"14.00\" fill=\"#000000\">samples = 36</text>\n<text text-anchor=\"middle\" x=\"1128\" y=\"-7.8\" font-family=\"Helvetica,sans-Serif\" font-size=\"14.00\" fill=\"#000000\">value = [30, 6]</text>\n</g>\n<!-- 22&#45;&gt;23 -->\n<g id=\"edge23\" class=\"edge\">\n<title>22&#45;&gt;23</title>\n<path fill=\"none\" stroke=\"#000000\" d=\"M1156.2476,-73.8139C1151.8554,-65.2908 1146.981,-55.8321 1142.535,-47.2048\"/>\n<polygon fill=\"#000000\" stroke=\"#000000\" points=\"1145.6139,-45.5388 1137.9218,-38.2531 1139.3916,-48.7455 1145.6139,-45.5388\"/>\n</g>\n<!-- 24 -->\n<g id=\"node25\" class=\"node\">\n<title>24</title>\n<polygon fill=\"#e4f2fc\" stroke=\"#000000\" points=\"1316,-38 1200,-38 1200,0 1316,0 1316,-38\"/>\n<text text-anchor=\"middle\" x=\"1258\" y=\"-22.8\" font-family=\"Helvetica,sans-Serif\" font-size=\"14.00\" fill=\"#000000\">samples = 97</text>\n<text text-anchor=\"middle\" x=\"1258\" y=\"-7.8\" font-family=\"Helvetica,sans-Serif\" font-size=\"14.00\" fill=\"#000000\">value = [45, 52]</text>\n</g>\n<!-- 22&#45;&gt;24 -->\n<g id=\"edge24\" class=\"edge\">\n<title>22&#45;&gt;24</title>\n<path fill=\"none\" stroke=\"#000000\" d=\"M1198.8145,-73.8139C1208.7026,-64.6561 1219.757,-54.4182 1229.6111,-45.292\"/>\n<polygon fill=\"#000000\" stroke=\"#000000\" points=\"1232.2528,-47.6159 1237.2114,-38.2531 1227.4963,-42.4801 1232.2528,-47.6159\"/>\n</g>\n<!-- 26 -->\n<g id=\"node27\" class=\"node\">\n<title>26</title>\n<polygon fill=\"#97ccf1\" stroke=\"#000000\" points=\"2188,-305 2048,-305 2048,-252 2188,-252 2188,-305\"/>\n<text text-anchor=\"middle\" x=\"2118\" y=\"-289.8\" font-family=\"Helvetica,sans-Serif\" font-size=\"14.00\" fill=\"#000000\">a126 &lt;= 3.5</text>\n<text text-anchor=\"middle\" x=\"2118\" y=\"-274.8\" font-family=\"Helvetica,sans-Serif\" font-size=\"14.00\" fill=\"#000000\">samples = 1892</text>\n<text text-anchor=\"middle\" x=\"2118\" y=\"-259.8\" font-family=\"Helvetica,sans-Serif\" font-size=\"14.00\" fill=\"#000000\">value = [609, 1283]</text>\n</g>\n<!-- 25&#45;&gt;26 -->\n<g id=\"edge26\" class=\"edge\">\n<title>25&#45;&gt;26</title>\n<path fill=\"none\" stroke=\"#000000\" d=\"M2401.3872,-348.951C2341.9882,-334.1842 2259.0159,-313.557 2198.2001,-298.438\"/>\n<polygon fill=\"#000000\" stroke=\"#000000\" points=\"2198.8062,-294.9822 2188.2571,-295.9662 2197.1173,-301.7754 2198.8062,-294.9822\"/>\n</g>\n<!-- 41 -->\n<g id=\"node42\" class=\"node\">\n<title>41</title>\n<polygon fill=\"#f6d4bb\" stroke=\"#000000\" points=\"2722,-305 2590,-305 2590,-252 2722,-252 2722,-305\"/>\n<text text-anchor=\"middle\" x=\"2656\" y=\"-289.8\" font-family=\"Helvetica,sans-Serif\" font-size=\"14.00\" fill=\"#000000\">a126 &lt;= 2.5</text>\n<text text-anchor=\"middle\" x=\"2656\" y=\"-274.8\" font-family=\"Helvetica,sans-Serif\" font-size=\"14.00\" fill=\"#000000\">samples = 1124</text>\n<text text-anchor=\"middle\" x=\"2656\" y=\"-259.8\" font-family=\"Helvetica,sans-Serif\" font-size=\"14.00\" fill=\"#000000\">value = [679, 445]</text>\n</g>\n<!-- 25&#45;&gt;41 -->\n<g id=\"edge41\" class=\"edge\">\n<title>25&#45;&gt;41</title>\n<path fill=\"none\" stroke=\"#000000\" d=\"M2530.0059,-340.7971C2549.9415,-330.94 2572.698,-319.6882 2593.3357,-309.484\"/>\n<polygon fill=\"#000000\" stroke=\"#000000\" points=\"2594.9298,-312.6004 2602.3426,-305.0306 2591.8271,-306.3255 2594.9298,-312.6004\"/>\n</g>\n<!-- 27 -->\n<g id=\"node28\" class=\"node\">\n<title>27</title>\n<polygon fill=\"#81c1ee\" stroke=\"#000000\" points=\"1815,-216 1675,-216 1675,-163 1815,-163 1815,-216\"/>\n<text text-anchor=\"middle\" x=\"1745\" y=\"-200.8\" font-family=\"Helvetica,sans-Serif\" font-size=\"14.00\" fill=\"#000000\">ins02 &lt;= 0.5</text>\n<text text-anchor=\"middle\" x=\"1745\" y=\"-185.8\" font-family=\"Helvetica,sans-Serif\" font-size=\"14.00\" fill=\"#000000\">samples = 1534</text>\n<text text-anchor=\"middle\" x=\"1745\" y=\"-170.8\" font-family=\"Helvetica,sans-Serif\" font-size=\"14.00\" fill=\"#000000\">value = [410, 1124]</text>\n</g>\n<!-- 26&#45;&gt;27 -->\n<g id=\"edge27\" class=\"edge\">\n<title>26&#45;&gt;27</title>\n<path fill=\"none\" stroke=\"#000000\" d=\"M2047.8416,-261.7598C1984.5116,-246.6489 1891.3818,-224.4276 1825.1412,-208.6222\"/>\n<polygon fill=\"#000000\" stroke=\"#000000\" points=\"1825.6994,-205.1572 1815.1602,-206.2406 1824.0748,-211.966 1825.6994,-205.1572\"/>\n</g>\n<!-- 34 -->\n<g id=\"node35\" class=\"node\">\n<title>34</title>\n<polygon fill=\"#fae6d7\" stroke=\"#000000\" points=\"2184,-216 2052,-216 2052,-163 2184,-163 2184,-216\"/>\n<text text-anchor=\"middle\" x=\"2118\" y=\"-200.8\" font-family=\"Helvetica,sans-Serif\" font-size=\"14.00\" fill=\"#000000\">a131 &lt;= 2.5</text>\n<text text-anchor=\"middle\" x=\"2118\" y=\"-185.8\" font-family=\"Helvetica,sans-Serif\" font-size=\"14.00\" fill=\"#000000\">samples = 358</text>\n<text text-anchor=\"middle\" x=\"2118\" y=\"-170.8\" font-family=\"Helvetica,sans-Serif\" font-size=\"14.00\" fill=\"#000000\">value = [199, 159]</text>\n</g>\n<!-- 26&#45;&gt;34 -->\n<g id=\"edge34\" class=\"edge\">\n<title>26&#45;&gt;34</title>\n<path fill=\"none\" stroke=\"#000000\" d=\"M2118,-251.7971C2118,-243.7887 2118,-234.8597 2118,-226.3198\"/>\n<polygon fill=\"#000000\" stroke=\"#000000\" points=\"2121.5001,-226.1841 2118,-216.1841 2114.5001,-226.1841 2121.5001,-226.1841\"/>\n</g>\n<!-- 28 -->\n<g id=\"node29\" class=\"node\">\n<title>28</title>\n<polygon fill=\"#7abded\" stroke=\"#000000\" points=\"1620,-127 1480,-127 1480,-74 1620,-74 1620,-127\"/>\n<text text-anchor=\"middle\" x=\"1550\" y=\"-111.8\" font-family=\"Helvetica,sans-Serif\" font-size=\"14.00\" fill=\"#000000\">majorcat5 &lt;= 0.5</text>\n<text text-anchor=\"middle\" x=\"1550\" y=\"-96.8\" font-family=\"Helvetica,sans-Serif\" font-size=\"14.00\" fill=\"#000000\">samples = 1487</text>\n<text text-anchor=\"middle\" x=\"1550\" y=\"-81.8\" font-family=\"Helvetica,sans-Serif\" font-size=\"14.00\" fill=\"#000000\">value = [366, 1121]</text>\n</g>\n<!-- 27&#45;&gt;28 -->\n<g id=\"edge28\" class=\"edge\">\n<title>27&#45;&gt;28</title>\n<path fill=\"none\" stroke=\"#000000\" d=\"M1686.7577,-162.9176C1664.959,-152.9685 1640.0174,-141.5849 1617.4548,-131.2871\"/>\n<polygon fill=\"#000000\" stroke=\"#000000\" points=\"1618.8294,-128.0672 1608.2789,-127.0991 1615.9229,-134.4353 1618.8294,-128.0672\"/>\n</g>\n<!-- 31 -->\n<g id=\"node32\" class=\"node\">\n<title>31</title>\n<polygon fill=\"#e78a46\" stroke=\"#000000\" points=\"1798.5,-127 1691.5,-127 1691.5,-74 1798.5,-74 1798.5,-127\"/>\n<text text-anchor=\"middle\" x=\"1745\" y=\"-111.8\" font-family=\"Helvetica,sans-Serif\" font-size=\"14.00\" fill=\"#000000\">regular &lt;= 0.5</text>\n<text text-anchor=\"middle\" x=\"1745\" y=\"-96.8\" font-family=\"Helvetica,sans-Serif\" font-size=\"14.00\" fill=\"#000000\">samples = 47</text>\n<text text-anchor=\"middle\" x=\"1745\" y=\"-81.8\" font-family=\"Helvetica,sans-Serif\" font-size=\"14.00\" fill=\"#000000\">value = [44, 3]</text>\n</g>\n<!-- 27&#45;&gt;31 -->\n<g id=\"edge31\" class=\"edge\">\n<title>27&#45;&gt;31</title>\n<path fill=\"none\" stroke=\"#000000\" d=\"M1745,-162.7971C1745,-154.7887 1745,-145.8597 1745,-137.3198\"/>\n<polygon fill=\"#000000\" stroke=\"#000000\" points=\"1748.5001,-137.1841 1745,-127.1841 1741.5001,-137.1841 1748.5001,-137.1841\"/>\n</g>\n<!-- 29 -->\n<g id=\"node30\" class=\"node\">\n<title>29</title>\n<polygon fill=\"#72b9ed\" stroke=\"#000000\" points=\"1474,-38 1334,-38 1334,0 1474,0 1474,-38\"/>\n<text text-anchor=\"middle\" x=\"1404\" y=\"-22.8\" font-family=\"Helvetica,sans-Serif\" font-size=\"14.00\" fill=\"#000000\">samples = 1402</text>\n<text text-anchor=\"middle\" x=\"1404\" y=\"-7.8\" font-family=\"Helvetica,sans-Serif\" font-size=\"14.00\" fill=\"#000000\">value = [315, 1087]</text>\n</g>\n<!-- 28&#45;&gt;29 -->\n<g id=\"edge29\" class=\"edge\">\n<title>28&#45;&gt;29</title>\n<path fill=\"none\" stroke=\"#000000\" d=\"M1502.1941,-73.8139C1484.4894,-63.9307 1464.5311,-52.7896 1447.2543,-43.1454\"/>\n<polygon fill=\"#000000\" stroke=\"#000000\" points=\"1448.9278,-40.0712 1438.4902,-38.2531 1445.5159,-46.1834 1448.9278,-40.0712\"/>\n</g>\n<!-- 30 -->\n<g id=\"node31\" class=\"node\">\n<title>30</title>\n<polygon fill=\"#f6d5bd\" stroke=\"#000000\" points=\"1608,-38 1492,-38 1492,0 1608,0 1608,-38\"/>\n<text text-anchor=\"middle\" x=\"1550\" y=\"-22.8\" font-family=\"Helvetica,sans-Serif\" font-size=\"14.00\" fill=\"#000000\">samples = 85</text>\n<text text-anchor=\"middle\" x=\"1550\" y=\"-7.8\" font-family=\"Helvetica,sans-Serif\" font-size=\"14.00\" fill=\"#000000\">value = [51, 34]</text>\n</g>\n<!-- 28&#45;&gt;30 -->\n<g id=\"edge30\" class=\"edge\">\n<title>28&#45;&gt;30</title>\n<path fill=\"none\" stroke=\"#000000\" d=\"M1550,-73.8139C1550,-65.6535 1550,-56.6354 1550,-48.3105\"/>\n<polygon fill=\"#000000\" stroke=\"#000000\" points=\"1553.5001,-48.253 1550,-38.2531 1546.5001,-48.2531 1553.5001,-48.253\"/>\n</g>\n<!-- 32 -->\n<g id=\"node33\" class=\"node\">\n<title>32</title>\n<polygon fill=\"#399de5\" stroke=\"#000000\" points=\"1725.5,-38 1626.5,-38 1626.5,0 1725.5,0 1725.5,-38\"/>\n<text text-anchor=\"middle\" x=\"1676\" y=\"-22.8\" font-family=\"Helvetica,sans-Serif\" font-size=\"14.00\" fill=\"#000000\">samples = 2</text>\n<text text-anchor=\"middle\" x=\"1676\" y=\"-7.8\" font-family=\"Helvetica,sans-Serif\" font-size=\"14.00\" fill=\"#000000\">value = [0, 2]</text>\n</g>\n<!-- 31&#45;&gt;32 -->\n<g id=\"edge32\" class=\"edge\">\n<title>31&#45;&gt;32</title>\n<path fill=\"none\" stroke=\"#000000\" d=\"M1722.4068,-73.8139C1714.8839,-64.9281 1706.5001,-55.0255 1698.9504,-46.1081\"/>\n<polygon fill=\"#000000\" stroke=\"#000000\" points=\"1701.4329,-43.6236 1692.3001,-38.2531 1696.0905,-48.1467 1701.4329,-43.6236\"/>\n</g>\n<!-- 33 -->\n<g id=\"node34\" class=\"node\">\n<title>33</title>\n<polygon fill=\"#e6843d\" stroke=\"#000000\" points=\"1850.5,-38 1743.5,-38 1743.5,0 1850.5,0 1850.5,-38\"/>\n<text text-anchor=\"middle\" x=\"1797\" y=\"-22.8\" font-family=\"Helvetica,sans-Serif\" font-size=\"14.00\" fill=\"#000000\">samples = 45</text>\n<text text-anchor=\"middle\" x=\"1797\" y=\"-7.8\" font-family=\"Helvetica,sans-Serif\" font-size=\"14.00\" fill=\"#000000\">value = [44, 1]</text>\n</g>\n<!-- 31&#45;&gt;33 -->\n<g id=\"edge33\" class=\"edge\">\n<title>31&#45;&gt;33</title>\n<path fill=\"none\" stroke=\"#000000\" d=\"M1762.0267,-73.8139C1767.5226,-65.2001 1773.6282,-55.6308 1779.1798,-46.9297\"/>\n<polygon fill=\"#000000\" stroke=\"#000000\" points=\"1782.2876,-48.5659 1784.7158,-38.2531 1776.3864,-44.8007 1782.2876,-48.5659\"/>\n</g>\n<!-- 35 -->\n<g id=\"node36\" class=\"node\">\n<title>35</title>\n<polygon fill=\"#93c9f1\" stroke=\"#000000\" points=\"2101.5,-127 1980.5,-127 1980.5,-74 2101.5,-74 2101.5,-127\"/>\n<text text-anchor=\"middle\" x=\"2041\" y=\"-111.8\" font-family=\"Helvetica,sans-Serif\" font-size=\"14.00\" fill=\"#000000\">jobcode9 &lt;= 0.5</text>\n<text text-anchor=\"middle\" x=\"2041\" y=\"-96.8\" font-family=\"Helvetica,sans-Serif\" font-size=\"14.00\" fill=\"#000000\">samples = 109</text>\n<text text-anchor=\"middle\" x=\"2041\" y=\"-81.8\" font-family=\"Helvetica,sans-Serif\" font-size=\"14.00\" fill=\"#000000\">value = [34, 75]</text>\n</g>\n<!-- 34&#45;&gt;35 -->\n<g id=\"edge35\" class=\"edge\">\n<title>34&#45;&gt;35</title>\n<path fill=\"none\" stroke=\"#000000\" d=\"M2094.8975,-162.7971C2087.2837,-153.9967 2078.708,-144.0845 2070.6742,-134.7987\"/>\n<polygon fill=\"#000000\" stroke=\"#000000\" points=\"2073.276,-132.4566 2064.0862,-127.1841 2067.9822,-137.0366 2073.276,-132.4566\"/>\n</g>\n<!-- 38 -->\n<g id=\"node39\" class=\"node\">\n<title>38</title>\n<polygon fill=\"#f2c19e\" stroke=\"#000000\" points=\"2270,-127 2120,-127 2120,-74 2270,-74 2270,-127\"/>\n<text text-anchor=\"middle\" x=\"2195\" y=\"-111.8\" font-family=\"Helvetica,sans-Serif\" font-size=\"14.00\" fill=\"#000000\">payment02 &lt;= 394.5</text>\n<text text-anchor=\"middle\" x=\"2195\" y=\"-96.8\" font-family=\"Helvetica,sans-Serif\" font-size=\"14.00\" fill=\"#000000\">samples = 249</text>\n<text text-anchor=\"middle\" x=\"2195\" y=\"-81.8\" font-family=\"Helvetica,sans-Serif\" font-size=\"14.00\" fill=\"#000000\">value = [165, 84]</text>\n</g>\n<!-- 34&#45;&gt;38 -->\n<g id=\"edge38\" class=\"edge\">\n<title>34&#45;&gt;38</title>\n<path fill=\"none\" stroke=\"#000000\" d=\"M2141.1025,-162.7971C2148.7163,-153.9967 2157.292,-144.0845 2165.3258,-134.7987\"/>\n<polygon fill=\"#000000\" stroke=\"#000000\" points=\"2168.0178,-137.0366 2171.9138,-127.1841 2162.724,-132.4566 2168.0178,-137.0366\"/>\n</g>\n<!-- 36 -->\n<g id=\"node37\" class=\"node\">\n<title>36</title>\n<polygon fill=\"#80c0ee\" stroke=\"#000000\" points=\"1985,-38 1869,-38 1869,0 1985,0 1985,-38\"/>\n<text text-anchor=\"middle\" x=\"1927\" y=\"-22.8\" font-family=\"Helvetica,sans-Serif\" font-size=\"14.00\" fill=\"#000000\">samples = 102</text>\n<text text-anchor=\"middle\" x=\"1927\" y=\"-7.8\" font-family=\"Helvetica,sans-Serif\" font-size=\"14.00\" fill=\"#000000\">value = [27, 75]</text>\n</g>\n<!-- 35&#45;&gt;36 -->\n<g id=\"edge36\" class=\"edge\">\n<title>35&#45;&gt;36</title>\n<path fill=\"none\" stroke=\"#000000\" d=\"M2003.6721,-73.8139C1990.3552,-64.2934 1975.4054,-53.6056 1962.2673,-44.213\"/>\n<polygon fill=\"#000000\" stroke=\"#000000\" points=\"1964.1011,-41.2216 1953.9307,-38.2531 1960.0301,-46.9161 1964.1011,-41.2216\"/>\n</g>\n<!-- 37 -->\n<g id=\"node38\" class=\"node\">\n<title>37</title>\n<polygon fill=\"#e58139\" stroke=\"#000000\" points=\"2102.5,-38 2003.5,-38 2003.5,0 2102.5,0 2102.5,-38\"/>\n<text text-anchor=\"middle\" x=\"2053\" y=\"-22.8\" font-family=\"Helvetica,sans-Serif\" font-size=\"14.00\" fill=\"#000000\">samples = 7</text>\n<text text-anchor=\"middle\" x=\"2053\" y=\"-7.8\" font-family=\"Helvetica,sans-Serif\" font-size=\"14.00\" fill=\"#000000\">value = [7, 0]</text>\n</g>\n<!-- 35&#45;&gt;37 -->\n<g id=\"edge37\" class=\"edge\">\n<title>35&#45;&gt;37</title>\n<path fill=\"none\" stroke=\"#000000\" d=\"M2044.9292,-73.8139C2046.1308,-65.6535 2047.4586,-56.6354 2048.6843,-48.3105\"/>\n<polygon fill=\"#000000\" stroke=\"#000000\" points=\"2052.1711,-48.6563 2050.1652,-38.2531 2045.2458,-47.6365 2052.1711,-48.6563\"/>\n</g>\n<!-- 39 -->\n<g id=\"node40\" class=\"node\">\n<title>39</title>\n<polygon fill=\"#efb184\" stroke=\"#000000\" points=\"2245,-38 2121,-38 2121,0 2245,0 2245,-38\"/>\n<text text-anchor=\"middle\" x=\"2183\" y=\"-22.8\" font-family=\"Helvetica,sans-Serif\" font-size=\"14.00\" fill=\"#000000\">samples = 203</text>\n<text text-anchor=\"middle\" x=\"2183\" y=\"-7.8\" font-family=\"Helvetica,sans-Serif\" font-size=\"14.00\" fill=\"#000000\">value = [147, 56]</text>\n</g>\n<!-- 38&#45;&gt;39 -->\n<g id=\"edge39\" class=\"edge\">\n<title>38&#45;&gt;39</title>\n<path fill=\"none\" stroke=\"#000000\" d=\"M2191.0708,-73.8139C2189.8692,-65.6535 2188.5414,-56.6354 2187.3157,-48.3105\"/>\n<polygon fill=\"#000000\" stroke=\"#000000\" points=\"2190.7542,-47.6365 2185.8348,-38.2531 2183.8289,-48.6563 2190.7542,-47.6365\"/>\n</g>\n<!-- 40 -->\n<g id=\"node41\" class=\"node\">\n<title>40</title>\n<polygon fill=\"#b8dcf6\" stroke=\"#000000\" points=\"2379,-38 2263,-38 2263,0 2379,0 2379,-38\"/>\n<text text-anchor=\"middle\" x=\"2321\" y=\"-22.8\" font-family=\"Helvetica,sans-Serif\" font-size=\"14.00\" fill=\"#000000\">samples = 46</text>\n<text text-anchor=\"middle\" x=\"2321\" y=\"-7.8\" font-family=\"Helvetica,sans-Serif\" font-size=\"14.00\" fill=\"#000000\">value = [18, 28]</text>\n</g>\n<!-- 38&#45;&gt;40 -->\n<g id=\"edge40\" class=\"edge\">\n<title>38&#45;&gt;40</title>\n<path fill=\"none\" stroke=\"#000000\" d=\"M2236.2571,-73.8139C2251.116,-64.2027 2267.8142,-53.4019 2282.4347,-43.945\"/>\n<polygon fill=\"#000000\" stroke=\"#000000\" points=\"2284.7388,-46.6231 2291.2345,-38.2531 2280.937,-40.7454 2284.7388,-46.6231\"/>\n</g>\n<!-- 42 -->\n<g id=\"node43\" class=\"node\">\n<title>42</title>\n<polygon fill=\"#b2d9f5\" stroke=\"#000000\" points=\"2722,-216 2590,-216 2590,-163 2722,-163 2722,-216\"/>\n<text text-anchor=\"middle\" x=\"2656\" y=\"-200.8\" font-family=\"Helvetica,sans-Serif\" font-size=\"14.00\" fill=\"#000000\">jobcode1 &lt;= 0.5</text>\n<text text-anchor=\"middle\" x=\"2656\" y=\"-185.8\" font-family=\"Helvetica,sans-Serif\" font-size=\"14.00\" fill=\"#000000\">samples = 282</text>\n<text text-anchor=\"middle\" x=\"2656\" y=\"-170.8\" font-family=\"Helvetica,sans-Serif\" font-size=\"14.00\" fill=\"#000000\">value = [107, 175]</text>\n</g>\n<!-- 41&#45;&gt;42 -->\n<g id=\"edge42\" class=\"edge\">\n<title>41&#45;&gt;42</title>\n<path fill=\"none\" stroke=\"#000000\" d=\"M2656,-251.7971C2656,-243.7887 2656,-234.8597 2656,-226.3198\"/>\n<polygon fill=\"#000000\" stroke=\"#000000\" points=\"2659.5001,-226.1841 2656,-216.1841 2652.5001,-226.1841 2659.5001,-226.1841\"/>\n</g>\n<!-- 49 -->\n<g id=\"node50\" class=\"node\">\n<title>49</title>\n<polygon fill=\"#f1bc96\" stroke=\"#000000\" points=\"3103,-216 2971,-216 2971,-163 3103,-163 3103,-216\"/>\n<text text-anchor=\"middle\" x=\"3037\" y=\"-200.8\" font-family=\"Helvetica,sans-Serif\" font-size=\"14.00\" fill=\"#000000\">a146 &lt;= 2.5</text>\n<text text-anchor=\"middle\" x=\"3037\" y=\"-185.8\" font-family=\"Helvetica,sans-Serif\" font-size=\"14.00\" fill=\"#000000\">samples = 842</text>\n<text text-anchor=\"middle\" x=\"3037\" y=\"-170.8\" font-family=\"Helvetica,sans-Serif\" font-size=\"14.00\" fill=\"#000000\">value = [572, 270]</text>\n</g>\n<!-- 41&#45;&gt;49 -->\n<g id=\"edge49\" class=\"edge\">\n<title>41&#45;&gt;49</title>\n<path fill=\"none\" stroke=\"#000000\" d=\"M2722.3651,-262.9974C2788.814,-247.4752 2890.9537,-223.6158 2960.7087,-207.3213\"/>\n<polygon fill=\"#000000\" stroke=\"#000000\" points=\"2961.8156,-210.6571 2970.7573,-204.974 2960.2233,-203.8406 2961.8156,-210.6571\"/>\n</g>\n<!-- 43 -->\n<g id=\"node44\" class=\"node\">\n<title>43</title>\n<polygon fill=\"#90c8f0\" stroke=\"#000000\" points=\"2640,-127 2516,-127 2516,-74 2640,-74 2640,-127\"/>\n<text text-anchor=\"middle\" x=\"2578\" y=\"-111.8\" font-family=\"Helvetica,sans-Serif\" font-size=\"14.00\" fill=\"#000000\">jobcode9 &lt;= 0.5</text>\n<text text-anchor=\"middle\" x=\"2578\" y=\"-96.8\" font-family=\"Helvetica,sans-Serif\" font-size=\"14.00\" fill=\"#000000\">samples = 222</text>\n<text text-anchor=\"middle\" x=\"2578\" y=\"-81.8\" font-family=\"Helvetica,sans-Serif\" font-size=\"14.00\" fill=\"#000000\">value = [68, 154]</text>\n</g>\n<!-- 42&#45;&gt;43 -->\n<g id=\"edge43\" class=\"edge\">\n<title>42&#45;&gt;43</title>\n<path fill=\"none\" stroke=\"#000000\" d=\"M2632.5974,-162.7971C2624.8847,-153.9967 2616.1977,-144.0845 2608.0595,-134.7987\"/>\n<polygon fill=\"#000000\" stroke=\"#000000\" points=\"2610.6093,-132.3978 2601.3861,-127.1841 2605.3449,-137.0115 2610.6093,-132.3978\"/>\n</g>\n<!-- 46 -->\n<g id=\"node47\" class=\"node\">\n<title>46</title>\n<polygon fill=\"#f3c5a4\" stroke=\"#000000\" points=\"2808,-127 2658,-127 2658,-74 2808,-74 2808,-127\"/>\n<text text-anchor=\"middle\" x=\"2733\" y=\"-111.8\" font-family=\"Helvetica,sans-Serif\" font-size=\"14.00\" fill=\"#000000\">payment02 &lt;= 205.0</text>\n<text text-anchor=\"middle\" x=\"2733\" y=\"-96.8\" font-family=\"Helvetica,sans-Serif\" font-size=\"14.00\" fill=\"#000000\">samples = 60</text>\n<text text-anchor=\"middle\" x=\"2733\" y=\"-81.8\" font-family=\"Helvetica,sans-Serif\" font-size=\"14.00\" fill=\"#000000\">value = [39, 21]</text>\n</g>\n<!-- 42&#45;&gt;46 -->\n<g id=\"edge46\" class=\"edge\">\n<title>42&#45;&gt;46</title>\n<path fill=\"none\" stroke=\"#000000\" d=\"M2679.1025,-162.7971C2686.7163,-153.9967 2695.292,-144.0845 2703.3258,-134.7987\"/>\n<polygon fill=\"#000000\" stroke=\"#000000\" points=\"2706.0178,-137.0366 2709.9138,-127.1841 2700.724,-132.4566 2706.0178,-137.0366\"/>\n</g>\n<!-- 44 -->\n<g id=\"node45\" class=\"node\">\n<title>44</title>\n<polygon fill=\"#85c3ef\" stroke=\"#000000\" points=\"2521,-38 2397,-38 2397,0 2521,0 2521,-38\"/>\n<text text-anchor=\"middle\" x=\"2459\" y=\"-22.8\" font-family=\"Helvetica,sans-Serif\" font-size=\"14.00\" fill=\"#000000\">samples = 212</text>\n<text text-anchor=\"middle\" x=\"2459\" y=\"-7.8\" font-family=\"Helvetica,sans-Serif\" font-size=\"14.00\" fill=\"#000000\">value = [59, 153]</text>\n</g>\n<!-- 43&#45;&gt;44 -->\n<g id=\"edge44\" class=\"edge\">\n<title>43&#45;&gt;44</title>\n<path fill=\"none\" stroke=\"#000000\" d=\"M2539.0349,-73.8139C2525.0015,-64.2027 2509.231,-53.4019 2495.4228,-43.945\"/>\n<polygon fill=\"#000000\" stroke=\"#000000\" points=\"2497.3401,-41.016 2487.1118,-38.2531 2493.3847,-46.7914 2497.3401,-41.016\"/>\n</g>\n<!-- 45 -->\n<g id=\"node46\" class=\"node\">\n<title>45</title>\n<polygon fill=\"#e88f4f\" stroke=\"#000000\" points=\"2643,-38 2539,-38 2539,0 2643,0 2643,-38\"/>\n<text text-anchor=\"middle\" x=\"2591\" y=\"-22.8\" font-family=\"Helvetica,sans-Serif\" font-size=\"14.00\" fill=\"#000000\">samples = 10</text>\n<text text-anchor=\"middle\" x=\"2591\" y=\"-7.8\" font-family=\"Helvetica,sans-Serif\" font-size=\"14.00\" fill=\"#000000\">value = [9, 1]</text>\n</g>\n<!-- 43&#45;&gt;45 -->\n<g id=\"edge45\" class=\"edge\">\n<title>43&#45;&gt;45</title>\n<path fill=\"none\" stroke=\"#000000\" d=\"M2582.2567,-73.8139C2583.5583,-65.6535 2584.9968,-56.6354 2586.3247,-48.3105\"/>\n<polygon fill=\"#000000\" stroke=\"#000000\" points=\"2589.81,-48.6796 2587.929,-38.2531 2582.8974,-47.5769 2589.81,-48.6796\"/>\n</g>\n<!-- 47 -->\n<g id=\"node48\" class=\"node\">\n<title>47</title>\n<polygon fill=\"#f3f9fd\" stroke=\"#000000\" points=\"2777,-38 2661,-38 2661,0 2777,0 2777,-38\"/>\n<text text-anchor=\"middle\" x=\"2719\" y=\"-22.8\" font-family=\"Helvetica,sans-Serif\" font-size=\"14.00\" fill=\"#000000\">samples = 33</text>\n<text text-anchor=\"middle\" x=\"2719\" y=\"-7.8\" font-family=\"Helvetica,sans-Serif\" font-size=\"14.00\" fill=\"#000000\">value = [16, 17]</text>\n</g>\n<!-- 46&#45;&gt;47 -->\n<g id=\"edge47\" class=\"edge\">\n<title>46&#45;&gt;47</title>\n<path fill=\"none\" stroke=\"#000000\" d=\"M2728.4159,-73.8139C2727.0141,-65.6535 2725.465,-56.6354 2724.0349,-48.3105\"/>\n<polygon fill=\"#000000\" stroke=\"#000000\" points=\"2727.4498,-47.5161 2722.3073,-38.2531 2720.5509,-48.7013 2727.4498,-47.5161\"/>\n</g>\n<!-- 48 -->\n<g id=\"node49\" class=\"node\">\n<title>48</title>\n<polygon fill=\"#ea975b\" stroke=\"#000000\" points=\"2902.5,-38 2795.5,-38 2795.5,0 2902.5,0 2902.5,-38\"/>\n<text text-anchor=\"middle\" x=\"2849\" y=\"-22.8\" font-family=\"Helvetica,sans-Serif\" font-size=\"14.00\" fill=\"#000000\">samples = 27</text>\n<text text-anchor=\"middle\" x=\"2849\" y=\"-7.8\" font-family=\"Helvetica,sans-Serif\" font-size=\"14.00\" fill=\"#000000\">value = [23, 4]</text>\n</g>\n<!-- 46&#45;&gt;48 -->\n<g id=\"edge48\" class=\"edge\">\n<title>46&#45;&gt;48</title>\n<path fill=\"none\" stroke=\"#000000\" d=\"M2770.9827,-73.8139C2784.5333,-64.2934 2799.7454,-53.6056 2813.114,-44.213\"/>\n<polygon fill=\"#000000\" stroke=\"#000000\" points=\"2815.4266,-46.8658 2821.5969,-38.2531 2811.4024,-41.1381 2815.4266,-46.8658\"/>\n</g>\n<!-- 50 -->\n<g id=\"node51\" class=\"node\">\n<title>50</title>\n<polygon fill=\"#fdf3ec\" stroke=\"#000000\" points=\"3103,-127 2971,-127 2971,-74 3103,-74 3103,-127\"/>\n<text text-anchor=\"middle\" x=\"3037\" y=\"-111.8\" font-family=\"Helvetica,sans-Serif\" font-size=\"14.00\" fill=\"#000000\">a130 &lt;= 2.5</text>\n<text text-anchor=\"middle\" x=\"3037\" y=\"-96.8\" font-family=\"Helvetica,sans-Serif\" font-size=\"14.00\" fill=\"#000000\">samples = 238</text>\n<text text-anchor=\"middle\" x=\"3037\" y=\"-81.8\" font-family=\"Helvetica,sans-Serif\" font-size=\"14.00\" fill=\"#000000\">value = [125, 113]</text>\n</g>\n<!-- 49&#45;&gt;50 -->\n<g id=\"edge50\" class=\"edge\">\n<title>49&#45;&gt;50</title>\n<path fill=\"none\" stroke=\"#000000\" d=\"M3037,-162.7971C3037,-154.7887 3037,-145.8597 3037,-137.3198\"/>\n<polygon fill=\"#000000\" stroke=\"#000000\" points=\"3040.5001,-137.1841 3037,-127.1841 3033.5001,-137.1841 3040.5001,-137.1841\"/>\n</g>\n<!-- 53 -->\n<g id=\"node54\" class=\"node\">\n<title>53</title>\n<polygon fill=\"#eead7f\" stroke=\"#000000\" points=\"3316,-127 3184,-127 3184,-74 3316,-74 3316,-127\"/>\n<text text-anchor=\"middle\" x=\"3250\" y=\"-111.8\" font-family=\"Helvetica,sans-Serif\" font-size=\"14.00\" fill=\"#000000\">b04 &lt;= 0.5</text>\n<text text-anchor=\"middle\" x=\"3250\" y=\"-96.8\" font-family=\"Helvetica,sans-Serif\" font-size=\"14.00\" fill=\"#000000\">samples = 604</text>\n<text text-anchor=\"middle\" x=\"3250\" y=\"-81.8\" font-family=\"Helvetica,sans-Serif\" font-size=\"14.00\" fill=\"#000000\">value = [447, 157]</text>\n</g>\n<!-- 49&#45;&gt;53 -->\n<g id=\"edge53\" class=\"edge\">\n<title>49&#45;&gt;53</title>\n<path fill=\"none\" stroke=\"#000000\" d=\"M3100.6185,-162.9176C3124.641,-152.88 3152.1579,-141.3824 3176.9751,-131.0127\"/>\n<polygon fill=\"#000000\" stroke=\"#000000\" points=\"3178.464,-134.184 3186.3415,-127.0991 3175.7652,-127.7251 3178.464,-134.184\"/>\n</g>\n<!-- 51 -->\n<g id=\"node52\" class=\"node\">\n<title>51</title>\n<polygon fill=\"#4ea7e8\" stroke=\"#000000\" points=\"3027.5,-38 2920.5,-38 2920.5,0 3027.5,0 3027.5,-38\"/>\n<text text-anchor=\"middle\" x=\"2974\" y=\"-22.8\" font-family=\"Helvetica,sans-Serif\" font-size=\"14.00\" fill=\"#000000\">samples = 21</text>\n<text text-anchor=\"middle\" x=\"2974\" y=\"-7.8\" font-family=\"Helvetica,sans-Serif\" font-size=\"14.00\" fill=\"#000000\">value = [2, 19]</text>\n</g>\n<!-- 50&#45;&gt;51 -->\n<g id=\"edge51\" class=\"edge\">\n<title>50&#45;&gt;51</title>\n<path fill=\"none\" stroke=\"#000000\" d=\"M3016.3714,-73.8139C3009.5728,-65.0188 3002.004,-55.2274 2995.166,-46.3814\"/>\n<polygon fill=\"#000000\" stroke=\"#000000\" points=\"2997.7678,-44.0243 2988.8827,-38.2531 2992.2295,-48.3054 2997.7678,-44.0243\"/>\n</g>\n<!-- 52 -->\n<g id=\"node53\" class=\"node\">\n<title>52</title>\n<polygon fill=\"#f9e1d0\" stroke=\"#000000\" points=\"3170,-38 3046,-38 3046,0 3170,0 3170,-38\"/>\n<text text-anchor=\"middle\" x=\"3108\" y=\"-22.8\" font-family=\"Helvetica,sans-Serif\" font-size=\"14.00\" fill=\"#000000\">samples = 217</text>\n<text text-anchor=\"middle\" x=\"3108\" y=\"-7.8\" font-family=\"Helvetica,sans-Serif\" font-size=\"14.00\" fill=\"#000000\">value = [123, 94]</text>\n</g>\n<!-- 50&#45;&gt;52 -->\n<g id=\"edge52\" class=\"edge\">\n<title>50&#45;&gt;52</title>\n<path fill=\"none\" stroke=\"#000000\" d=\"M3060.2481,-73.8139C3068.068,-64.8374 3076.792,-54.8233 3084.6219,-45.8354\"/>\n<polygon fill=\"#000000\" stroke=\"#000000\" points=\"3087.2977,-48.0922 3091.2274,-38.2531 3082.0197,-43.4941 3087.2977,-48.0922\"/>\n</g>\n<!-- 54 -->\n<g id=\"node55\" class=\"node\">\n<title>54</title>\n<polygon fill=\"#f5d0b4\" stroke=\"#000000\" points=\"3312,-38 3188,-38 3188,0 3312,0 3312,-38\"/>\n<text text-anchor=\"middle\" x=\"3250\" y=\"-22.8\" font-family=\"Helvetica,sans-Serif\" font-size=\"14.00\" fill=\"#000000\">samples = 237</text>\n<text text-anchor=\"middle\" x=\"3250\" y=\"-7.8\" font-family=\"Helvetica,sans-Serif\" font-size=\"14.00\" fill=\"#000000\">value = [146, 91]</text>\n</g>\n<!-- 53&#45;&gt;54 -->\n<g id=\"edge54\" class=\"edge\">\n<title>53&#45;&gt;54</title>\n<path fill=\"none\" stroke=\"#000000\" d=\"M3250,-73.8139C3250,-65.6535 3250,-56.6354 3250,-48.3105\"/>\n<polygon fill=\"#000000\" stroke=\"#000000\" points=\"3253.5001,-48.253 3250,-38.2531 3246.5001,-48.2531 3253.5001,-48.253\"/>\n</g>\n<!-- 55 -->\n<g id=\"node56\" class=\"node\">\n<title>55</title>\n<polygon fill=\"#eb9d64\" stroke=\"#000000\" points=\"3454,-38 3330,-38 3330,0 3454,0 3454,-38\"/>\n<text text-anchor=\"middle\" x=\"3392\" y=\"-22.8\" font-family=\"Helvetica,sans-Serif\" font-size=\"14.00\" fill=\"#000000\">samples = 367</text>\n<text text-anchor=\"middle\" x=\"3392\" y=\"-7.8\" font-family=\"Helvetica,sans-Serif\" font-size=\"14.00\" fill=\"#000000\">value = [301, 66]</text>\n</g>\n<!-- 53&#45;&gt;55 -->\n<g id=\"edge55\" class=\"edge\">\n<title>53&#45;&gt;55</title>\n<path fill=\"none\" stroke=\"#000000\" d=\"M3296.4961,-73.8139C3313.5578,-64.0214 3332.7713,-52.9939 3349.4677,-43.4112\"/>\n<polygon fill=\"#000000\" stroke=\"#000000\" points=\"3351.524,-46.2665 3358.4548,-38.2531 3348.0395,-40.1954 3351.524,-46.2665\"/>\n</g>\n<!-- 57 -->\n<g id=\"node58\" class=\"node\">\n<title>57</title>\n<polygon fill=\"#fbeee4\" stroke=\"#000000\" points=\"4296,-394 4164,-394 4164,-341 4296,-341 4296,-394\"/>\n<text text-anchor=\"middle\" x=\"4230\" y=\"-378.8\" font-family=\"Helvetica,sans-Serif\" font-size=\"14.00\" fill=\"#000000\">a126 &lt;= 2.5</text>\n<text text-anchor=\"middle\" x=\"4230\" y=\"-363.8\" font-family=\"Helvetica,sans-Serif\" font-size=\"14.00\" fill=\"#000000\">samples = 1394</text>\n<text text-anchor=\"middle\" x=\"4230\" y=\"-348.8\" font-family=\"Helvetica,sans-Serif\" font-size=\"14.00\" fill=\"#000000\">value = [749, 645]</text>\n</g>\n<!-- 56&#45;&gt;57 -->\n<g id=\"edge57\" class=\"edge\">\n<title>56&#45;&gt;57</title>\n<path fill=\"none\" stroke=\"#000000\" d=\"M4230,-429.7971C4230,-421.7887 4230,-412.8597 4230,-404.3198\"/>\n<polygon fill=\"#000000\" stroke=\"#000000\" points=\"4233.5001,-404.1841 4230,-394.1841 4226.5001,-404.1841 4233.5001,-404.1841\"/>\n</g>\n<!-- 86 -->\n<g id=\"node87\" class=\"node\">\n<title>86</title>\n<polygon fill=\"#ea995f\" stroke=\"#000000\" points=\"5759,-394 5619,-394 5619,-341 5759,-341 5759,-394\"/>\n<text text-anchor=\"middle\" x=\"5689\" y=\"-378.8\" font-family=\"Helvetica,sans-Serif\" font-size=\"14.00\" fill=\"#000000\">a138 &lt;= 3.5</text>\n<text text-anchor=\"middle\" x=\"5689\" y=\"-363.8\" font-family=\"Helvetica,sans-Serif\" font-size=\"14.00\" fill=\"#000000\">samples = 2848</text>\n<text text-anchor=\"middle\" x=\"5689\" y=\"-348.8\" font-family=\"Helvetica,sans-Serif\" font-size=\"14.00\" fill=\"#000000\">value = [2388, 460]</text>\n</g>\n<!-- 56&#45;&gt;86 -->\n<g id=\"edge86\" class=\"edge\">\n<title>56&#45;&gt;86</title>\n<path fill=\"none\" stroke=\"#000000\" d=\"M4304.6103,-451.9487C4553.1822,-436.7857 5351.9347,-388.0612 5608.7017,-372.3982\"/>\n<polygon fill=\"#000000\" stroke=\"#000000\" points=\"5608.9316,-375.8908 5618.6999,-371.7884 5608.5053,-368.9038 5608.9316,-375.8908\"/>\n</g>\n<!-- 58 -->\n<g id=\"node59\" class=\"node\">\n<title>58</title>\n<polygon fill=\"#abd5f4\" stroke=\"#000000\" points=\"4228,-305 4096,-305 4096,-252 4228,-252 4228,-305\"/>\n<text text-anchor=\"middle\" x=\"4162\" y=\"-289.8\" font-family=\"Helvetica,sans-Serif\" font-size=\"14.00\" fill=\"#000000\">a138 &lt;= 4.5</text>\n<text text-anchor=\"middle\" x=\"4162\" y=\"-274.8\" font-family=\"Helvetica,sans-Serif\" font-size=\"14.00\" fill=\"#000000\">samples = 460</text>\n<text text-anchor=\"middle\" x=\"4162\" y=\"-259.8\" font-family=\"Helvetica,sans-Serif\" font-size=\"14.00\" fill=\"#000000\">value = [168, 292]</text>\n</g>\n<!-- 57&#45;&gt;58 -->\n<g id=\"edge58\" class=\"edge\">\n<title>57&#45;&gt;58</title>\n<path fill=\"none\" stroke=\"#000000\" d=\"M4209.5978,-340.7971C4203.0084,-332.1727 4195.6031,-322.4806 4188.632,-313.3566\"/>\n<polygon fill=\"#000000\" stroke=\"#000000\" points=\"4191.2402,-311.0053 4182.3878,-305.1841 4185.6779,-315.2551 4191.2402,-311.0053\"/>\n</g>\n<!-- 71 -->\n<g id=\"node72\" class=\"node\">\n<title>71</title>\n<polygon fill=\"#f5ceb1\" stroke=\"#000000\" points=\"4561,-305 4429,-305 4429,-252 4561,-252 4561,-305\"/>\n<text text-anchor=\"middle\" x=\"4495\" y=\"-289.8\" font-family=\"Helvetica,sans-Serif\" font-size=\"14.00\" fill=\"#000000\">b04 &lt;= 0.5</text>\n<text text-anchor=\"middle\" x=\"4495\" y=\"-274.8\" font-family=\"Helvetica,sans-Serif\" font-size=\"14.00\" fill=\"#000000\">samples = 934</text>\n<text text-anchor=\"middle\" x=\"4495\" y=\"-259.8\" font-family=\"Helvetica,sans-Serif\" font-size=\"14.00\" fill=\"#000000\">value = [581, 353]</text>\n</g>\n<!-- 57&#45;&gt;71 -->\n<g id=\"edge71\" class=\"edge\">\n<title>57&#45;&gt;71</title>\n<path fill=\"none\" stroke=\"#000000\" d=\"M4296.1871,-345.2711C4333.4972,-332.7406 4380.259,-317.0357 4419.0566,-304.0055\"/>\n<polygon fill=\"#000000\" stroke=\"#000000\" points=\"4420.3729,-307.2556 4428.7382,-300.754 4418.1442,-300.6199 4420.3729,-307.2556\"/>\n</g>\n<!-- 59 -->\n<g id=\"node60\" class=\"node\">\n<title>59</title>\n<polygon fill=\"#8ec7f0\" stroke=\"#000000\" points=\"3918,-216 3786,-216 3786,-163 3918,-163 3918,-216\"/>\n<text text-anchor=\"middle\" x=\"3852\" y=\"-200.8\" font-family=\"Helvetica,sans-Serif\" font-size=\"14.00\" fill=\"#000000\">majorcat5 &lt;= 0.5</text>\n<text text-anchor=\"middle\" x=\"3852\" y=\"-185.8\" font-family=\"Helvetica,sans-Serif\" font-size=\"14.00\" fill=\"#000000\">samples = 396</text>\n<text text-anchor=\"middle\" x=\"3852\" y=\"-170.8\" font-family=\"Helvetica,sans-Serif\" font-size=\"14.00\" fill=\"#000000\">value = [119, 277]</text>\n</g>\n<!-- 58&#45;&gt;59 -->\n<g id=\"edge59\" class=\"edge\">\n<title>58&#45;&gt;59</title>\n<path fill=\"none\" stroke=\"#000000\" d=\"M4095.8775,-259.5164C4046.5968,-245.3681 3979.2121,-226.0222 3927.7612,-211.2508\"/>\n<polygon fill=\"#000000\" stroke=\"#000000\" points=\"3928.5985,-207.8499 3918.0209,-208.4544 3926.6668,-214.5781 3928.5985,-207.8499\"/>\n</g>\n<!-- 66 -->\n<g id=\"node67\" class=\"node\">\n<title>66</title>\n<polygon fill=\"#eda876\" stroke=\"#000000\" points=\"4220,-216 4104,-216 4104,-163 4220,-163 4220,-216\"/>\n<text text-anchor=\"middle\" x=\"4162\" y=\"-200.8\" font-family=\"Helvetica,sans-Serif\" font-size=\"14.00\" fill=\"#000000\">period &lt;= 20.5</text>\n<text text-anchor=\"middle\" x=\"4162\" y=\"-185.8\" font-family=\"Helvetica,sans-Serif\" font-size=\"14.00\" fill=\"#000000\">samples = 64</text>\n<text text-anchor=\"middle\" x=\"4162\" y=\"-170.8\" font-family=\"Helvetica,sans-Serif\" font-size=\"14.00\" fill=\"#000000\">value = [49, 15]</text>\n</g>\n<!-- 58&#45;&gt;66 -->\n<g id=\"edge66\" class=\"edge\">\n<title>58&#45;&gt;66</title>\n<path fill=\"none\" stroke=\"#000000\" d=\"M4162,-251.7971C4162,-243.7887 4162,-234.8597 4162,-226.3198\"/>\n<polygon fill=\"#000000\" stroke=\"#000000\" points=\"4165.5001,-226.1841 4162,-216.1841 4158.5001,-226.1841 4165.5001,-226.1841\"/>\n</g>\n<!-- 60 -->\n<g id=\"node61\" class=\"node\">\n<title>60</title>\n<polygon fill=\"#7fc0ee\" stroke=\"#000000\" points=\"3734,-127 3610,-127 3610,-74 3734,-74 3734,-127\"/>\n<text text-anchor=\"middle\" x=\"3672\" y=\"-111.8\" font-family=\"Helvetica,sans-Serif\" font-size=\"14.00\" fill=\"#000000\">sex &lt;= 0.5</text>\n<text text-anchor=\"middle\" x=\"3672\" y=\"-96.8\" font-family=\"Helvetica,sans-Serif\" font-size=\"14.00\" fill=\"#000000\">samples = 371</text>\n<text text-anchor=\"middle\" x=\"3672\" y=\"-81.8\" font-family=\"Helvetica,sans-Serif\" font-size=\"14.00\" fill=\"#000000\">value = [97, 274]</text>\n</g>\n<!-- 59&#45;&gt;60 -->\n<g id=\"edge60\" class=\"edge\">\n<title>59&#45;&gt;60</title>\n<path fill=\"none\" stroke=\"#000000\" d=\"M3797.9941,-162.7971C3778.0585,-152.94 3755.302,-141.6882 3734.6643,-131.484\"/>\n<polygon fill=\"#000000\" stroke=\"#000000\" points=\"3736.1729,-128.3255 3725.6574,-127.0306 3733.0702,-134.6004 3736.1729,-128.3255\"/>\n</g>\n<!-- 63 -->\n<g id=\"node64\" class=\"node\">\n<title>63</title>\n<polygon fill=\"#e99254\" stroke=\"#000000\" points=\"3905.5,-127 3798.5,-127 3798.5,-74 3905.5,-74 3905.5,-127\"/>\n<text text-anchor=\"middle\" x=\"3852\" y=\"-111.8\" font-family=\"Helvetica,sans-Serif\" font-size=\"14.00\" fill=\"#000000\">gpa &lt;= 4.232</text>\n<text text-anchor=\"middle\" x=\"3852\" y=\"-96.8\" font-family=\"Helvetica,sans-Serif\" font-size=\"14.00\" fill=\"#000000\">samples = 25</text>\n<text text-anchor=\"middle\" x=\"3852\" y=\"-81.8\" font-family=\"Helvetica,sans-Serif\" font-size=\"14.00\" fill=\"#000000\">value = [22, 3]</text>\n</g>\n<!-- 59&#45;&gt;63 -->\n<g id=\"edge63\" class=\"edge\">\n<title>59&#45;&gt;63</title>\n<path fill=\"none\" stroke=\"#000000\" d=\"M3852,-162.7971C3852,-154.7887 3852,-145.8597 3852,-137.3198\"/>\n<polygon fill=\"#000000\" stroke=\"#000000\" points=\"3855.5001,-137.1841 3852,-127.1841 3848.5001,-137.1841 3855.5001,-137.1841\"/>\n</g>\n<!-- 61 -->\n<g id=\"node62\" class=\"node\">\n<title>61</title>\n<polygon fill=\"#60b0ea\" stroke=\"#000000\" points=\"3596,-38 3472,-38 3472,0 3596,0 3596,-38\"/>\n<text text-anchor=\"middle\" x=\"3534\" y=\"-22.8\" font-family=\"Helvetica,sans-Serif\" font-size=\"14.00\" fill=\"#000000\">samples = 226</text>\n<text text-anchor=\"middle\" x=\"3534\" y=\"-7.8\" font-family=\"Helvetica,sans-Serif\" font-size=\"14.00\" fill=\"#000000\">value = [37, 189]</text>\n</g>\n<!-- 60&#45;&gt;61 -->\n<g id=\"edge61\" class=\"edge\">\n<title>60&#45;&gt;61</title>\n<path fill=\"none\" stroke=\"#000000\" d=\"M3626.8136,-73.8139C3610.2325,-64.0214 3591.5603,-52.9939 3575.3342,-43.4112\"/>\n<polygon fill=\"#000000\" stroke=\"#000000\" points=\"3576.9906,-40.3246 3566.6003,-38.2531 3573.431,-46.352 3576.9906,-40.3246\"/>\n</g>\n<!-- 62 -->\n<g id=\"node63\" class=\"node\">\n<title>62</title>\n<polygon fill=\"#c5e2f7\" stroke=\"#000000\" points=\"3730,-38 3614,-38 3614,0 3730,0 3730,-38\"/>\n<text text-anchor=\"middle\" x=\"3672\" y=\"-22.8\" font-family=\"Helvetica,sans-Serif\" font-size=\"14.00\" fill=\"#000000\">samples = 145</text>\n<text text-anchor=\"middle\" x=\"3672\" y=\"-7.8\" font-family=\"Helvetica,sans-Serif\" font-size=\"14.00\" fill=\"#000000\">value = [60, 85]</text>\n</g>\n<!-- 60&#45;&gt;62 -->\n<g id=\"edge62\" class=\"edge\">\n<title>60&#45;&gt;62</title>\n<path fill=\"none\" stroke=\"#000000\" d=\"M3672,-73.8139C3672,-65.6535 3672,-56.6354 3672,-48.3105\"/>\n<polygon fill=\"#000000\" stroke=\"#000000\" points=\"3675.5001,-48.253 3672,-38.2531 3668.5001,-48.2531 3675.5001,-48.253\"/>\n</g>\n<!-- 64 -->\n<g id=\"node65\" class=\"node\">\n<title>64</title>\n<polygon fill=\"#e78c4b\" stroke=\"#000000\" points=\"3855.5,-38 3748.5,-38 3748.5,0 3855.5,0 3855.5,-38\"/>\n<text text-anchor=\"middle\" x=\"3802\" y=\"-22.8\" font-family=\"Helvetica,sans-Serif\" font-size=\"14.00\" fill=\"#000000\">samples = 24</text>\n<text text-anchor=\"middle\" x=\"3802\" y=\"-7.8\" font-family=\"Helvetica,sans-Serif\" font-size=\"14.00\" fill=\"#000000\">value = [22, 2]</text>\n</g>\n<!-- 63&#45;&gt;64 -->\n<g id=\"edge64\" class=\"edge\">\n<title>63&#45;&gt;64</title>\n<path fill=\"none\" stroke=\"#000000\" d=\"M3835.6281,-73.8139C3830.3436,-65.2001 3824.4729,-55.6308 3819.1348,-46.9297\"/>\n<polygon fill=\"#000000\" stroke=\"#000000\" points=\"3822.0244,-44.9466 3813.8117,-38.2531 3816.0577,-48.6071 3822.0244,-44.9466\"/>\n</g>\n<!-- 65 -->\n<g id=\"node66\" class=\"node\">\n<title>65</title>\n<polygon fill=\"#399de5\" stroke=\"#000000\" points=\"3972.5,-38 3873.5,-38 3873.5,0 3972.5,0 3972.5,-38\"/>\n<text text-anchor=\"middle\" x=\"3923\" y=\"-22.8\" font-family=\"Helvetica,sans-Serif\" font-size=\"14.00\" fill=\"#000000\">samples = 1</text>\n<text text-anchor=\"middle\" x=\"3923\" y=\"-7.8\" font-family=\"Helvetica,sans-Serif\" font-size=\"14.00\" fill=\"#000000\">value = [0, 1]</text>\n</g>\n<!-- 63&#45;&gt;65 -->\n<g id=\"edge65\" class=\"edge\">\n<title>63&#45;&gt;65</title>\n<path fill=\"none\" stroke=\"#000000\" d=\"M3875.2481,-73.8139C3883.068,-64.8374 3891.792,-54.8233 3899.6219,-45.8354\"/>\n<polygon fill=\"#000000\" stroke=\"#000000\" points=\"3902.2977,-48.0922 3906.2274,-38.2531 3897.0197,-43.4941 3902.2977,-48.0922\"/>\n</g>\n<!-- 67 -->\n<g id=\"node68\" class=\"node\">\n<title>67</title>\n<polygon fill=\"#ea985d\" stroke=\"#000000\" points=\"4153.5,-127 4046.5,-127 4046.5,-74 4153.5,-74 4153.5,-127\"/>\n<text text-anchor=\"middle\" x=\"4100\" y=\"-111.8\" font-family=\"Helvetica,sans-Serif\" font-size=\"14.00\" fill=\"#000000\">a145 &lt;= 3.5</text>\n<text text-anchor=\"middle\" x=\"4100\" y=\"-96.8\" font-family=\"Helvetica,sans-Serif\" font-size=\"14.00\" fill=\"#000000\">samples = 52</text>\n<text text-anchor=\"middle\" x=\"4100\" y=\"-81.8\" font-family=\"Helvetica,sans-Serif\" font-size=\"14.00\" fill=\"#000000\">value = [44, 8]</text>\n</g>\n<!-- 66&#45;&gt;67 -->\n<g id=\"edge67\" class=\"edge\">\n<title>66&#45;&gt;67</title>\n<path fill=\"none\" stroke=\"#000000\" d=\"M4143.398,-162.7971C4137.4513,-154.2607 4130.7759,-144.6782 4124.4768,-135.6361\"/>\n<polygon fill=\"#000000\" stroke=\"#000000\" points=\"4127.1769,-133.3888 4118.5889,-127.1841 4121.4331,-137.39 4127.1769,-133.3888\"/>\n</g>\n<!-- 70 -->\n<g id=\"node71\" class=\"node\">\n<title>70</title>\n<polygon fill=\"#c6e3f8\" stroke=\"#000000\" points=\"4276,-119.5 4172,-119.5 4172,-81.5 4276,-81.5 4276,-119.5\"/>\n<text text-anchor=\"middle\" x=\"4224\" y=\"-104.3\" font-family=\"Helvetica,sans-Serif\" font-size=\"14.00\" fill=\"#000000\">samples = 12</text>\n<text text-anchor=\"middle\" x=\"4224\" y=\"-89.3\" font-family=\"Helvetica,sans-Serif\" font-size=\"14.00\" fill=\"#000000\">value = [5, 7]</text>\n</g>\n<!-- 66&#45;&gt;70 -->\n<g id=\"edge70\" class=\"edge\">\n<title>66&#45;&gt;70</title>\n<path fill=\"none\" stroke=\"#000000\" d=\"M4180.602,-162.7971C4188.2575,-151.8078 4197.1206,-139.0849 4204.8338,-128.0128\"/>\n<polygon fill=\"#000000\" stroke=\"#000000\" points=\"4207.8837,-129.7577 4210.728,-119.5518 4202.14,-125.7565 4207.8837,-129.7577\"/>\n</g>\n<!-- 68 -->\n<g id=\"node69\" class=\"node\">\n<title>68</title>\n<polygon fill=\"#7bbeee\" stroke=\"#000000\" points=\"4089.5,-38 3990.5,-38 3990.5,0 4089.5,0 4089.5,-38\"/>\n<text text-anchor=\"middle\" x=\"4040\" y=\"-22.8\" font-family=\"Helvetica,sans-Serif\" font-size=\"14.00\" fill=\"#000000\">samples = 4</text>\n<text text-anchor=\"middle\" x=\"4040\" y=\"-7.8\" font-family=\"Helvetica,sans-Serif\" font-size=\"14.00\" fill=\"#000000\">value = [1, 3]</text>\n</g>\n<!-- 67&#45;&gt;68 -->\n<g id=\"edge68\" class=\"edge\">\n<title>67&#45;&gt;68</title>\n<path fill=\"none\" stroke=\"#000000\" d=\"M4080.3538,-73.8139C4073.8789,-65.0188 4066.6705,-55.2274 4060.1581,-46.3814\"/>\n<polygon fill=\"#000000\" stroke=\"#000000\" points=\"4062.9213,-44.2311 4054.174,-38.2531 4057.2841,-48.3812 4062.9213,-44.2311\"/>\n</g>\n<!-- 69 -->\n<g id=\"node70\" class=\"node\">\n<title>69</title>\n<polygon fill=\"#e89050\" stroke=\"#000000\" points=\"4214.5,-38 4107.5,-38 4107.5,0 4214.5,0 4214.5,-38\"/>\n<text text-anchor=\"middle\" x=\"4161\" y=\"-22.8\" font-family=\"Helvetica,sans-Serif\" font-size=\"14.00\" fill=\"#000000\">samples = 48</text>\n<text text-anchor=\"middle\" x=\"4161\" y=\"-7.8\" font-family=\"Helvetica,sans-Serif\" font-size=\"14.00\" fill=\"#000000\">value = [43, 5]</text>\n</g>\n<!-- 67&#45;&gt;69 -->\n<g id=\"edge69\" class=\"edge\">\n<title>67&#45;&gt;69</title>\n<path fill=\"none\" stroke=\"#000000\" d=\"M4119.9737,-73.8139C4126.5565,-65.0188 4133.885,-55.2274 4140.506,-46.3814\"/>\n<polygon fill=\"#000000\" stroke=\"#000000\" points=\"4143.3996,-48.3562 4146.5897,-38.2531 4137.7955,-44.1617 4143.3996,-48.3562\"/>\n</g>\n<!-- 72 -->\n<g id=\"node73\" class=\"node\">\n<title>72</title>\n<polygon fill=\"#fcefe6\" stroke=\"#000000\" points=\"4561,-216 4429,-216 4429,-163 4561,-163 4561,-216\"/>\n<text text-anchor=\"middle\" x=\"4495\" y=\"-200.8\" font-family=\"Helvetica,sans-Serif\" font-size=\"14.00\" fill=\"#000000\">period &lt;= 12.5</text>\n<text text-anchor=\"middle\" x=\"4495\" y=\"-185.8\" font-family=\"Helvetica,sans-Serif\" font-size=\"14.00\" fill=\"#000000\">samples = 539</text>\n<text text-anchor=\"middle\" x=\"4495\" y=\"-170.8\" font-family=\"Helvetica,sans-Serif\" font-size=\"14.00\" fill=\"#000000\">value = [288, 251]</text>\n</g>\n<!-- 71&#45;&gt;72 -->\n<g id=\"edge72\" class=\"edge\">\n<title>71&#45;&gt;72</title>\n<path fill=\"none\" stroke=\"#000000\" d=\"M4495,-251.7971C4495,-243.7887 4495,-234.8597 4495,-226.3198\"/>\n<polygon fill=\"#000000\" stroke=\"#000000\" points=\"4498.5001,-226.1841 4495,-216.1841 4491.5001,-226.1841 4498.5001,-226.1841\"/>\n</g>\n<!-- 79 -->\n<g id=\"node80\" class=\"node\">\n<title>79</title>\n<polygon fill=\"#eead7e\" stroke=\"#000000\" points=\"4975,-216 4843,-216 4843,-163 4975,-163 4975,-216\"/>\n<text text-anchor=\"middle\" x=\"4909\" y=\"-200.8\" font-family=\"Helvetica,sans-Serif\" font-size=\"14.00\" fill=\"#000000\">age &lt;= 26.597</text>\n<text text-anchor=\"middle\" x=\"4909\" y=\"-185.8\" font-family=\"Helvetica,sans-Serif\" font-size=\"14.00\" fill=\"#000000\">samples = 395</text>\n<text text-anchor=\"middle\" x=\"4909\" y=\"-170.8\" font-family=\"Helvetica,sans-Serif\" font-size=\"14.00\" fill=\"#000000\">value = [293, 102]</text>\n</g>\n<!-- 71&#45;&gt;79 -->\n<g id=\"edge79\" class=\"edge\">\n<title>71&#45;&gt;79</title>\n<path fill=\"none\" stroke=\"#000000\" d=\"M4561.0573,-264.2993C4635.0124,-248.4007 4754.6766,-222.6758 4832.6002,-205.9241\"/>\n<polygon fill=\"#000000\" stroke=\"#000000\" points=\"4833.7947,-209.2474 4842.8357,-203.7237 4832.3234,-202.4037 4833.7947,-209.2474\"/>\n</g>\n<!-- 73 -->\n<g id=\"node74\" class=\"node\">\n<title>73</title>\n<polygon fill=\"#eead7e\" stroke=\"#000000\" points=\"4483,-127 4359,-127 4359,-74 4483,-74 4483,-127\"/>\n<text text-anchor=\"middle\" x=\"4421\" y=\"-111.8\" font-family=\"Helvetica,sans-Serif\" font-size=\"14.00\" fill=\"#000000\">a137 &lt;= 3.5</text>\n<text text-anchor=\"middle\" x=\"4421\" y=\"-96.8\" font-family=\"Helvetica,sans-Serif\" font-size=\"14.00\" fill=\"#000000\">samples = 170</text>\n<text text-anchor=\"middle\" x=\"4421\" y=\"-81.8\" font-family=\"Helvetica,sans-Serif\" font-size=\"14.00\" fill=\"#000000\">value = [126, 44]</text>\n</g>\n<!-- 72&#45;&gt;73 -->\n<g id=\"edge73\" class=\"edge\">\n<title>72&#45;&gt;73</title>\n<path fill=\"none\" stroke=\"#000000\" d=\"M4472.7976,-162.7971C4465.5536,-154.0847 4457.4036,-144.2826 4449.7498,-135.0775\"/>\n<polygon fill=\"#000000\" stroke=\"#000000\" points=\"4452.2714,-132.6357 4443.1868,-127.1841 4446.8889,-137.1111 4452.2714,-132.6357\"/>\n</g>\n<!-- 76 -->\n<g id=\"node77\" class=\"node\">\n<title>76</title>\n<polygon fill=\"#d4eaf9\" stroke=\"#000000\" points=\"4633,-127 4501,-127 4501,-74 4633,-74 4633,-127\"/>\n<text text-anchor=\"middle\" x=\"4567\" y=\"-111.8\" font-family=\"Helvetica,sans-Serif\" font-size=\"14.00\" fill=\"#000000\">work04 &lt;= 0.5</text>\n<text text-anchor=\"middle\" x=\"4567\" y=\"-96.8\" font-family=\"Helvetica,sans-Serif\" font-size=\"14.00\" fill=\"#000000\">samples = 369</text>\n<text text-anchor=\"middle\" x=\"4567\" y=\"-81.8\" font-family=\"Helvetica,sans-Serif\" font-size=\"14.00\" fill=\"#000000\">value = [162, 207]</text>\n</g>\n<!-- 72&#45;&gt;76 -->\n<g id=\"edge76\" class=\"edge\">\n<title>72&#45;&gt;76</title>\n<path fill=\"none\" stroke=\"#000000\" d=\"M4516.6024,-162.7971C4523.6506,-154.0847 4531.5803,-144.2826 4539.0272,-135.0775\"/>\n<polygon fill=\"#000000\" stroke=\"#000000\" points=\"4541.8444,-137.1599 4545.4129,-127.1841 4536.4023,-132.7573 4541.8444,-137.1599\"/>\n</g>\n<!-- 74 -->\n<g id=\"node75\" class=\"node\">\n<title>74</title>\n<polygon fill=\"#f7d9c3\" stroke=\"#000000\" points=\"4349,-38 4233,-38 4233,0 4349,0 4349,-38\"/>\n<text text-anchor=\"middle\" x=\"4291\" y=\"-22.8\" font-family=\"Helvetica,sans-Serif\" font-size=\"14.00\" fill=\"#000000\">samples = 78</text>\n<text text-anchor=\"middle\" x=\"4291\" y=\"-7.8\" font-family=\"Helvetica,sans-Serif\" font-size=\"14.00\" fill=\"#000000\">value = [46, 32]</text>\n</g>\n<!-- 73&#45;&gt;74 -->\n<g id=\"edge74\" class=\"edge\">\n<title>73&#45;&gt;74</title>\n<path fill=\"none\" stroke=\"#000000\" d=\"M4378.4331,-73.8139C4362.9579,-64.1121 4345.549,-53.198 4330.3632,-43.6777\"/>\n<polygon fill=\"#000000\" stroke=\"#000000\" points=\"4332.0422,-40.5994 4321.7104,-38.2531 4328.324,-46.5302 4332.0422,-40.5994\"/>\n</g>\n<!-- 75 -->\n<g id=\"node76\" class=\"node\">\n<title>75</title>\n<polygon fill=\"#e99457\" stroke=\"#000000\" points=\"4483,-38 4367,-38 4367,0 4483,0 4483,-38\"/>\n<text text-anchor=\"middle\" x=\"4425\" y=\"-22.8\" font-family=\"Helvetica,sans-Serif\" font-size=\"14.00\" fill=\"#000000\">samples = 92</text>\n<text text-anchor=\"middle\" x=\"4425\" y=\"-7.8\" font-family=\"Helvetica,sans-Serif\" font-size=\"14.00\" fill=\"#000000\">value = [80, 12]</text>\n</g>\n<!-- 73&#45;&gt;75 -->\n<g id=\"edge75\" class=\"edge\">\n<title>73&#45;&gt;75</title>\n<path fill=\"none\" stroke=\"#000000\" d=\"M4422.3097,-73.8139C4422.7103,-65.6535 4423.1529,-56.6354 4423.5614,-48.3105\"/>\n<polygon fill=\"#000000\" stroke=\"#000000\" points=\"4427.0606,-48.4126 4424.0551,-38.2531 4420.069,-48.0694 4427.0606,-48.4126\"/>\n</g>\n<!-- 77 -->\n<g id=\"node78\" class=\"node\">\n<title>77</title>\n<polygon fill=\"#91c9f1\" stroke=\"#000000\" points=\"4625,-38 4501,-38 4501,0 4625,0 4625,-38\"/>\n<text text-anchor=\"middle\" x=\"4563\" y=\"-22.8\" font-family=\"Helvetica,sans-Serif\" font-size=\"14.00\" fill=\"#000000\">samples = 198</text>\n<text text-anchor=\"middle\" x=\"4563\" y=\"-7.8\" font-family=\"Helvetica,sans-Serif\" font-size=\"14.00\" fill=\"#000000\">value = [61, 137]</text>\n</g>\n<!-- 76&#45;&gt;77 -->\n<g id=\"edge77\" class=\"edge\">\n<title>76&#45;&gt;77</title>\n<path fill=\"none\" stroke=\"#000000\" d=\"M4565.6903,-73.8139C4565.2897,-65.6535 4564.8471,-56.6354 4564.4386,-48.3105\"/>\n<polygon fill=\"#000000\" stroke=\"#000000\" points=\"4567.931,-48.0694 4563.9449,-38.2531 4560.9394,-48.4126 4567.931,-48.0694\"/>\n</g>\n<!-- 78 -->\n<g id=\"node79\" class=\"node\">\n<title>78</title>\n<polygon fill=\"#f7d8c2\" stroke=\"#000000\" points=\"4767,-38 4643,-38 4643,0 4767,0 4767,-38\"/>\n<text text-anchor=\"middle\" x=\"4705\" y=\"-22.8\" font-family=\"Helvetica,sans-Serif\" font-size=\"14.00\" fill=\"#000000\">samples = 171</text>\n<text text-anchor=\"middle\" x=\"4705\" y=\"-7.8\" font-family=\"Helvetica,sans-Serif\" font-size=\"14.00\" fill=\"#000000\">value = [101, 70]</text>\n</g>\n<!-- 76&#45;&gt;78 -->\n<g id=\"edge78\" class=\"edge\">\n<title>76&#45;&gt;78</title>\n<path fill=\"none\" stroke=\"#000000\" d=\"M4612.1864,-73.8139C4628.7675,-64.0214 4647.4397,-52.9939 4663.6658,-43.4112\"/>\n<polygon fill=\"#000000\" stroke=\"#000000\" points=\"4665.569,-46.352 4672.3997,-38.2531 4662.0094,-40.3246 4665.569,-46.352\"/>\n</g>\n<!-- 80 -->\n<g id=\"node81\" class=\"node\">\n<title>80</title>\n<polygon fill=\"#eb9d64\" stroke=\"#000000\" points=\"4971,-127 4847,-127 4847,-74 4971,-74 4971,-127\"/>\n<text text-anchor=\"middle\" x=\"4909\" y=\"-111.8\" font-family=\"Helvetica,sans-Serif\" font-size=\"14.00\" fill=\"#000000\">a146 &lt;= 3.5</text>\n<text text-anchor=\"middle\" x=\"4909\" y=\"-96.8\" font-family=\"Helvetica,sans-Serif\" font-size=\"14.00\" fill=\"#000000\">samples = 223</text>\n<text text-anchor=\"middle\" x=\"4909\" y=\"-81.8\" font-family=\"Helvetica,sans-Serif\" font-size=\"14.00\" fill=\"#000000\">value = [183, 40]</text>\n</g>\n<!-- 79&#45;&gt;80 -->\n<g id=\"edge80\" class=\"edge\">\n<title>79&#45;&gt;80</title>\n<path fill=\"none\" stroke=\"#000000\" d=\"M4909,-162.7971C4909,-154.7887 4909,-145.8597 4909,-137.3198\"/>\n<polygon fill=\"#000000\" stroke=\"#000000\" points=\"4912.5001,-137.1841 4909,-127.1841 4905.5001,-137.1841 4912.5001,-137.1841\"/>\n</g>\n<!-- 83 -->\n<g id=\"node84\" class=\"node\">\n<title>83</title>\n<polygon fill=\"#f4c8a9\" stroke=\"#000000\" points=\"5181.5,-127 5056.5,-127 5056.5,-74 5181.5,-74 5181.5,-127\"/>\n<text text-anchor=\"middle\" x=\"5119\" y=\"-111.8\" font-family=\"Helvetica,sans-Serif\" font-size=\"14.00\" fill=\"#000000\">majorcat4 &lt;= 0.5</text>\n<text text-anchor=\"middle\" x=\"5119\" y=\"-96.8\" font-family=\"Helvetica,sans-Serif\" font-size=\"14.00\" fill=\"#000000\">samples = 172</text>\n<text text-anchor=\"middle\" x=\"5119\" y=\"-81.8\" font-family=\"Helvetica,sans-Serif\" font-size=\"14.00\" fill=\"#000000\">value = [110, 62]</text>\n</g>\n<!-- 79&#45;&gt;83 -->\n<g id=\"edge83\" class=\"edge\">\n<title>79&#45;&gt;83</title>\n<path fill=\"none\" stroke=\"#000000\" d=\"M4971.7225,-162.9176C4995.4066,-152.88 5022.536,-141.3824 5047.0037,-131.0127\"/>\n<polygon fill=\"#000000\" stroke=\"#000000\" points=\"5048.3966,-134.2238 5056.2381,-127.0991 5045.6651,-127.7787 5048.3966,-134.2238\"/>\n</g>\n<!-- 81 -->\n<g id=\"node82\" class=\"node\">\n<title>81</title>\n<polygon fill=\"#eeaf81\" stroke=\"#000000\" points=\"4901,-38 4785,-38 4785,0 4901,0 4901,-38\"/>\n<text text-anchor=\"middle\" x=\"4843\" y=\"-22.8\" font-family=\"Helvetica,sans-Serif\" font-size=\"14.00\" fill=\"#000000\">samples = 94</text>\n<text text-anchor=\"middle\" x=\"4843\" y=\"-7.8\" font-family=\"Helvetica,sans-Serif\" font-size=\"14.00\" fill=\"#000000\">value = [69, 25]</text>\n</g>\n<!-- 80&#45;&gt;81 -->\n<g id=\"edge81\" class=\"edge\">\n<title>80&#45;&gt;81</title>\n<path fill=\"none\" stroke=\"#000000\" d=\"M4887.3891,-73.8139C4880.1933,-64.9281 4872.174,-55.0255 4864.9526,-46.1081\"/>\n<polygon fill=\"#000000\" stroke=\"#000000\" points=\"4867.6048,-43.8217 4858.5914,-38.2531 4862.1649,-48.2271 4867.6048,-43.8217\"/>\n</g>\n<!-- 82 -->\n<g id=\"node83\" class=\"node\">\n<title>82</title>\n<polygon fill=\"#e89253\" stroke=\"#000000\" points=\"5043,-38 4919,-38 4919,0 5043,0 5043,-38\"/>\n<text text-anchor=\"middle\" x=\"4981\" y=\"-22.8\" font-family=\"Helvetica,sans-Serif\" font-size=\"14.00\" fill=\"#000000\">samples = 129</text>\n<text text-anchor=\"middle\" x=\"4981\" y=\"-7.8\" font-family=\"Helvetica,sans-Serif\" font-size=\"14.00\" fill=\"#000000\">value = [114, 15]</text>\n</g>\n<!-- 80&#45;&gt;82 -->\n<g id=\"edge82\" class=\"edge\">\n<title>80&#45;&gt;82</title>\n<path fill=\"none\" stroke=\"#000000\" d=\"M4932.5755,-73.8139C4940.5056,-64.8374 4949.3525,-54.8233 4957.2927,-45.8354\"/>\n<polygon fill=\"#000000\" stroke=\"#000000\" points=\"4959.9934,-48.0647 4963.9912,-38.2531 4954.7473,-43.4302 4959.9934,-48.0647\"/>\n</g>\n<!-- 84 -->\n<g id=\"node85\" class=\"node\">\n<title>84</title>\n<polygon fill=\"#fae7d9\" stroke=\"#000000\" points=\"5177,-38 5061,-38 5061,0 5177,0 5177,-38\"/>\n<text text-anchor=\"middle\" x=\"5119\" y=\"-22.8\" font-family=\"Helvetica,sans-Serif\" font-size=\"14.00\" fill=\"#000000\">samples = 114</text>\n<text text-anchor=\"middle\" x=\"5119\" y=\"-7.8\" font-family=\"Helvetica,sans-Serif\" font-size=\"14.00\" fill=\"#000000\">value = [63, 51]</text>\n</g>\n<!-- 83&#45;&gt;84 -->\n<g id=\"edge84\" class=\"edge\">\n<title>83&#45;&gt;84</title>\n<path fill=\"none\" stroke=\"#000000\" d=\"M5119,-73.8139C5119,-65.6535 5119,-56.6354 5119,-48.3105\"/>\n<polygon fill=\"#000000\" stroke=\"#000000\" points=\"5122.5001,-48.253 5119,-38.2531 5115.5001,-48.2531 5122.5001,-48.253\"/>\n</g>\n<!-- 85 -->\n<g id=\"node86\" class=\"node\">\n<title>85</title>\n<polygon fill=\"#eb9e67\" stroke=\"#000000\" points=\"5311,-38 5195,-38 5195,0 5311,0 5311,-38\"/>\n<text text-anchor=\"middle\" x=\"5253\" y=\"-22.8\" font-family=\"Helvetica,sans-Serif\" font-size=\"14.00\" fill=\"#000000\">samples = 58</text>\n<text text-anchor=\"middle\" x=\"5253\" y=\"-7.8\" font-family=\"Helvetica,sans-Serif\" font-size=\"14.00\" fill=\"#000000\">value = [47, 11]</text>\n</g>\n<!-- 83&#45;&gt;85 -->\n<g id=\"edge85\" class=\"edge\">\n<title>83&#45;&gt;85</title>\n<path fill=\"none\" stroke=\"#000000\" d=\"M5162.8766,-73.8139C5178.828,-64.1121 5196.7726,-53.198 5212.4256,-43.6777\"/>\n<polygon fill=\"#000000\" stroke=\"#000000\" points=\"5214.6196,-46.4399 5221.3447,-38.2531 5210.982,-40.4592 5214.6196,-46.4399\"/>\n</g>\n<!-- 87 -->\n<g id=\"node88\" class=\"node\">\n<title>87</title>\n<polygon fill=\"#f4c9aa\" stroke=\"#000000\" points=\"5755,-305 5623,-305 5623,-252 5755,-252 5755,-305\"/>\n<text text-anchor=\"middle\" x=\"5689\" y=\"-289.8\" font-family=\"Helvetica,sans-Serif\" font-size=\"14.00\" fill=\"#000000\">b05 &lt;= 0.5</text>\n<text text-anchor=\"middle\" x=\"5689\" y=\"-274.8\" font-family=\"Helvetica,sans-Serif\" font-size=\"14.00\" fill=\"#000000\">samples = 426</text>\n<text text-anchor=\"middle\" x=\"5689\" y=\"-259.8\" font-family=\"Helvetica,sans-Serif\" font-size=\"14.00\" fill=\"#000000\">value = [271, 155]</text>\n</g>\n<!-- 86&#45;&gt;87 -->\n<g id=\"edge87\" class=\"edge\">\n<title>86&#45;&gt;87</title>\n<path fill=\"none\" stroke=\"#000000\" d=\"M5689,-340.7971C5689,-332.7887 5689,-323.8597 5689,-315.3198\"/>\n<polygon fill=\"#000000\" stroke=\"#000000\" points=\"5692.5001,-315.1841 5689,-305.1841 5685.5001,-315.1841 5692.5001,-315.1841\"/>\n</g>\n<!-- 100 -->\n<g id=\"node101\" class=\"node\">\n<title>100</title>\n<polygon fill=\"#e99356\" stroke=\"#000000\" points=\"6429,-305 6289,-305 6289,-252 6429,-252 6429,-305\"/>\n<text text-anchor=\"middle\" x=\"6359\" y=\"-289.8\" font-family=\"Helvetica,sans-Serif\" font-size=\"14.00\" fill=\"#000000\">a126 &lt;= 3.5</text>\n<text text-anchor=\"middle\" x=\"6359\" y=\"-274.8\" font-family=\"Helvetica,sans-Serif\" font-size=\"14.00\" fill=\"#000000\">samples = 2422</text>\n<text text-anchor=\"middle\" x=\"6359\" y=\"-259.8\" font-family=\"Helvetica,sans-Serif\" font-size=\"14.00\" fill=\"#000000\">value = [2117, 305]</text>\n</g>\n<!-- 86&#45;&gt;100 -->\n<g id=\"edge100\" class=\"edge\">\n<title>86&#45;&gt;100</title>\n<path fill=\"none\" stroke=\"#000000\" d=\"M5759.1203,-358.1855C5884.5441,-341.5247 6146.5283,-306.7238 6278.854,-289.1463\"/>\n<polygon fill=\"#000000\" stroke=\"#000000\" points=\"6279.4754,-292.5946 6288.9274,-287.8082 6278.5536,-285.6555 6279.4754,-292.5946\"/>\n</g>\n<!-- 88 -->\n<g id=\"node89\" class=\"node\">\n<title>88</title>\n<polygon fill=\"#83c2ef\" stroke=\"#000000\" points=\"5678.5,-216 5553.5,-216 5553.5,-163 5678.5,-163 5678.5,-216\"/>\n<text text-anchor=\"middle\" x=\"5616\" y=\"-200.8\" font-family=\"Helvetica,sans-Serif\" font-size=\"14.00\" fill=\"#000000\">majorcat6 &lt;= 0.5</text>\n<text text-anchor=\"middle\" x=\"5616\" y=\"-185.8\" font-family=\"Helvetica,sans-Serif\" font-size=\"14.00\" fill=\"#000000\">samples = 55</text>\n<text text-anchor=\"middle\" x=\"5616\" y=\"-170.8\" font-family=\"Helvetica,sans-Serif\" font-size=\"14.00\" fill=\"#000000\">value = [15, 40]</text>\n</g>\n<!-- 87&#45;&gt;88 -->\n<g id=\"edge88\" class=\"edge\">\n<title>87&#45;&gt;88</title>\n<path fill=\"none\" stroke=\"#000000\" d=\"M5667.0976,-251.7971C5659.9515,-243.0847 5651.9116,-233.2826 5644.3613,-224.0775\"/>\n<polygon fill=\"#000000\" stroke=\"#000000\" points=\"5646.935,-221.6963 5637.8869,-216.1841 5641.5227,-226.1356 5646.935,-221.6963\"/>\n</g>\n<!-- 93 -->\n<g id=\"node94\" class=\"node\">\n<title>93</title>\n<polygon fill=\"#f1ba92\" stroke=\"#000000\" points=\"5829,-216 5697,-216 5697,-163 5829,-163 5829,-216\"/>\n<text text-anchor=\"middle\" x=\"5763\" y=\"-200.8\" font-family=\"Helvetica,sans-Serif\" font-size=\"14.00\" fill=\"#000000\">a126 &lt;= 2.5</text>\n<text text-anchor=\"middle\" x=\"5763\" y=\"-185.8\" font-family=\"Helvetica,sans-Serif\" font-size=\"14.00\" fill=\"#000000\">samples = 371</text>\n<text text-anchor=\"middle\" x=\"5763\" y=\"-170.8\" font-family=\"Helvetica,sans-Serif\" font-size=\"14.00\" fill=\"#000000\">value = [256, 115]</text>\n</g>\n<!-- 87&#45;&gt;93 -->\n<g id=\"edge93\" class=\"edge\">\n<title>87&#45;&gt;93</title>\n<path fill=\"none\" stroke=\"#000000\" d=\"M5711.2024,-251.7971C5718.4464,-243.0847 5726.5964,-233.2826 5734.2502,-224.0775\"/>\n<polygon fill=\"#000000\" stroke=\"#000000\" points=\"5737.1111,-226.1111 5740.8132,-216.1841 5731.7286,-221.6357 5737.1111,-226.1111\"/>\n</g>\n<!-- 89 -->\n<g id=\"node90\" class=\"node\">\n<title>89</title>\n<polygon fill=\"#6fb8ec\" stroke=\"#000000\" points=\"5554.5,-127 5431.5,-127 5431.5,-74 5554.5,-74 5554.5,-127\"/>\n<text text-anchor=\"middle\" x=\"5493\" y=\"-111.8\" font-family=\"Helvetica,sans-Serif\" font-size=\"14.00\" fill=\"#000000\">com_size &lt;= 3.5</text>\n<text text-anchor=\"middle\" x=\"5493\" y=\"-96.8\" font-family=\"Helvetica,sans-Serif\" font-size=\"14.00\" fill=\"#000000\">samples = 51</text>\n<text text-anchor=\"middle\" x=\"5493\" y=\"-81.8\" font-family=\"Helvetica,sans-Serif\" font-size=\"14.00\" fill=\"#000000\">value = [11, 40]</text>\n</g>\n<!-- 88&#45;&gt;89 -->\n<g id=\"edge89\" class=\"edge\">\n<title>88&#45;&gt;89</title>\n<path fill=\"none\" stroke=\"#000000\" d=\"M5579.0959,-162.7971C5566.2039,-153.4687 5551.5854,-142.8911 5538.1015,-133.1344\"/>\n<polygon fill=\"#000000\" stroke=\"#000000\" points=\"5540.0314,-130.2107 5529.878,-127.1841 5535.9279,-135.8818 5540.0314,-130.2107\"/>\n</g>\n<!-- 92 -->\n<g id=\"node93\" class=\"node\">\n<title>92</title>\n<polygon fill=\"#e58139\" stroke=\"#000000\" points=\"5671.5,-119.5 5572.5,-119.5 5572.5,-81.5 5671.5,-81.5 5671.5,-119.5\"/>\n<text text-anchor=\"middle\" x=\"5622\" y=\"-104.3\" font-family=\"Helvetica,sans-Serif\" font-size=\"14.00\" fill=\"#000000\">samples = 4</text>\n<text text-anchor=\"middle\" x=\"5622\" y=\"-89.3\" font-family=\"Helvetica,sans-Serif\" font-size=\"14.00\" fill=\"#000000\">value = [4, 0]</text>\n</g>\n<!-- 88&#45;&gt;92 -->\n<g id=\"edge92\" class=\"edge\">\n<title>88&#45;&gt;92</title>\n<path fill=\"none\" stroke=\"#000000\" d=\"M5617.8002,-162.7971C5618.5044,-152.3518 5619.3141,-140.3403 5620.0336,-129.6689\"/>\n<polygon fill=\"#000000\" stroke=\"#000000\" points=\"5623.535,-129.7646 5620.7156,-119.5518 5616.5508,-129.2937 5623.535,-129.7646\"/>\n</g>\n<!-- 90 -->\n<g id=\"node91\" class=\"node\">\n<title>90</title>\n<polygon fill=\"#58ace9\" stroke=\"#000000\" points=\"5436.5,-38 5329.5,-38 5329.5,0 5436.5,0 5436.5,-38\"/>\n<text text-anchor=\"middle\" x=\"5383\" y=\"-22.8\" font-family=\"Helvetica,sans-Serif\" font-size=\"14.00\" fill=\"#000000\">samples = 44</text>\n<text text-anchor=\"middle\" x=\"5383\" y=\"-7.8\" font-family=\"Helvetica,sans-Serif\" font-size=\"14.00\" fill=\"#000000\">value = [6, 38]</text>\n</g>\n<!-- 89&#45;&gt;90 -->\n<g id=\"edge90\" class=\"edge\">\n<title>89&#45;&gt;90</title>\n<path fill=\"none\" stroke=\"#000000\" d=\"M5456.9819,-73.8139C5444.1322,-64.2934 5429.707,-53.6056 5417.0298,-44.213\"/>\n<polygon fill=\"#000000\" stroke=\"#000000\" points=\"5419.1043,-41.394 5408.9857,-38.2531 5414.9371,-47.0185 5419.1043,-41.394\"/>\n</g>\n<!-- 91 -->\n<g id=\"node92\" class=\"node\">\n<title>91</title>\n<polygon fill=\"#efb388\" stroke=\"#000000\" points=\"5553.5,-38 5454.5,-38 5454.5,0 5553.5,0 5553.5,-38\"/>\n<text text-anchor=\"middle\" x=\"5504\" y=\"-22.8\" font-family=\"Helvetica,sans-Serif\" font-size=\"14.00\" fill=\"#000000\">samples = 7</text>\n<text text-anchor=\"middle\" x=\"5504\" y=\"-7.8\" font-family=\"Helvetica,sans-Serif\" font-size=\"14.00\" fill=\"#000000\">value = [5, 2]</text>\n</g>\n<!-- 89&#45;&gt;91 -->\n<g id=\"edge91\" class=\"edge\">\n<title>89&#45;&gt;91</title>\n<path fill=\"none\" stroke=\"#000000\" d=\"M5496.6018,-73.8139C5497.7032,-65.6535 5498.9204,-56.6354 5500.044,-48.3105\"/>\n<polygon fill=\"#000000\" stroke=\"#000000\" points=\"5503.5323,-48.6314 5501.4014,-38.2531 5496.5952,-47.695 5503.5323,-48.6314\"/>\n</g>\n<!-- 94 -->\n<g id=\"node95\" class=\"node\">\n<title>94</title>\n<polygon fill=\"#ebf5fc\" stroke=\"#000000\" points=\"5816,-127 5700,-127 5700,-74 5816,-74 5816,-127\"/>\n<text text-anchor=\"middle\" x=\"5758\" y=\"-111.8\" font-family=\"Helvetica,sans-Serif\" font-size=\"14.00\" fill=\"#000000\">gpa &lt;= 3.85</text>\n<text text-anchor=\"middle\" x=\"5758\" y=\"-96.8\" font-family=\"Helvetica,sans-Serif\" font-size=\"14.00\" fill=\"#000000\">samples = 55</text>\n<text text-anchor=\"middle\" x=\"5758\" y=\"-81.8\" font-family=\"Helvetica,sans-Serif\" font-size=\"14.00\" fill=\"#000000\">value = [26, 29]</text>\n</g>\n<!-- 93&#45;&gt;94 -->\n<g id=\"edge94\" class=\"edge\">\n<title>93&#45;&gt;94</title>\n<path fill=\"none\" stroke=\"#000000\" d=\"M5761.4998,-162.7971C5761.0499,-154.7887 5760.5483,-145.8597 5760.0685,-137.3198\"/>\n<polygon fill=\"#000000\" stroke=\"#000000\" points=\"5763.5546,-136.972 5759.4991,-127.1841 5756.5656,-137.3647 5763.5546,-136.972\"/>\n</g>\n<!-- 97 -->\n<g id=\"node98\" class=\"node\">\n<title>97</title>\n<polygon fill=\"#efb083\" stroke=\"#000000\" points=\"5958,-127 5834,-127 5834,-74 5958,-74 5958,-127\"/>\n<text text-anchor=\"middle\" x=\"5896\" y=\"-111.8\" font-family=\"Helvetica,sans-Serif\" font-size=\"14.00\" fill=\"#000000\">a131 &lt;= 4.5</text>\n<text text-anchor=\"middle\" x=\"5896\" y=\"-96.8\" font-family=\"Helvetica,sans-Serif\" font-size=\"14.00\" fill=\"#000000\">samples = 316</text>\n<text text-anchor=\"middle\" x=\"5896\" y=\"-81.8\" font-family=\"Helvetica,sans-Serif\" font-size=\"14.00\" fill=\"#000000\">value = [230, 86]</text>\n</g>\n<!-- 93&#45;&gt;97 -->\n<g id=\"edge97\" class=\"edge\">\n<title>93&#45;&gt;97</title>\n<path fill=\"none\" stroke=\"#000000\" d=\"M5802.9044,-162.7971C5816.9761,-153.3807 5832.95,-142.6914 5847.6441,-132.8585\"/>\n<polygon fill=\"#000000\" stroke=\"#000000\" points=\"5849.7594,-135.6544 5856.1238,-127.1841 5845.8664,-129.8367 5849.7594,-135.6544\"/>\n</g>\n<!-- 95 -->\n<g id=\"node96\" class=\"node\">\n<title>95</title>\n<polygon fill=\"#9ccef2\" stroke=\"#000000\" points=\"5688,-38 5572,-38 5572,0 5688,0 5688,-38\"/>\n<text text-anchor=\"middle\" x=\"5630\" y=\"-22.8\" font-family=\"Helvetica,sans-Serif\" font-size=\"14.00\" fill=\"#000000\">samples = 36</text>\n<text text-anchor=\"middle\" x=\"5630\" y=\"-7.8\" font-family=\"Helvetica,sans-Serif\" font-size=\"14.00\" fill=\"#000000\">value = [12, 24]</text>\n</g>\n<!-- 94&#45;&gt;95 -->\n<g id=\"edge95\" class=\"edge\">\n<title>94&#45;&gt;95</title>\n<path fill=\"none\" stroke=\"#000000\" d=\"M5716.088,-73.8139C5700.8508,-64.1121 5683.7098,-53.198 5668.7577,-43.6777\"/>\n<polygon fill=\"#000000\" stroke=\"#000000\" points=\"5670.553,-40.6717 5660.2379,-38.2531 5666.7934,-46.5763 5670.553,-40.6717\"/>\n</g>\n<!-- 96 -->\n<g id=\"node97\" class=\"node\">\n<title>96</title>\n<polygon fill=\"#eeae80\" stroke=\"#000000\" points=\"5813.5,-38 5706.5,-38 5706.5,0 5813.5,0 5813.5,-38\"/>\n<text text-anchor=\"middle\" x=\"5760\" y=\"-22.8\" font-family=\"Helvetica,sans-Serif\" font-size=\"14.00\" fill=\"#000000\">samples = 19</text>\n<text text-anchor=\"middle\" x=\"5760\" y=\"-7.8\" font-family=\"Helvetica,sans-Serif\" font-size=\"14.00\" fill=\"#000000\">value = [14, 5]</text>\n</g>\n<!-- 94&#45;&gt;96 -->\n<g id=\"edge96\" class=\"edge\">\n<title>94&#45;&gt;96</title>\n<path fill=\"none\" stroke=\"#000000\" d=\"M5758.6549,-73.8139C5758.8551,-65.6535 5759.0764,-56.6354 5759.2807,-48.3105\"/>\n<polygon fill=\"#000000\" stroke=\"#000000\" points=\"5762.7811,-48.336 5759.5275,-38.2531 5755.7832,-48.1642 5762.7811,-48.336\"/>\n</g>\n<!-- 98 -->\n<g id=\"node99\" class=\"node\">\n<title>98</title>\n<polygon fill=\"#f1b991\" stroke=\"#000000\" points=\"5956,-38 5832,-38 5832,0 5956,0 5956,-38\"/>\n<text text-anchor=\"middle\" x=\"5894\" y=\"-22.8\" font-family=\"Helvetica,sans-Serif\" font-size=\"14.00\" fill=\"#000000\">samples = 272</text>\n<text text-anchor=\"middle\" x=\"5894\" y=\"-7.8\" font-family=\"Helvetica,sans-Serif\" font-size=\"14.00\" fill=\"#000000\">value = [188, 84]</text>\n</g>\n<!-- 97&#45;&gt;98 -->\n<g id=\"edge98\" class=\"edge\">\n<title>97&#45;&gt;98</title>\n<path fill=\"none\" stroke=\"#000000\" d=\"M5895.3451,-73.8139C5895.1449,-65.6535 5894.9236,-56.6354 5894.7193,-48.3105\"/>\n<polygon fill=\"#000000\" stroke=\"#000000\" points=\"5898.2168,-48.1642 5894.4725,-38.2531 5891.2189,-48.336 5898.2168,-48.1642\"/>\n</g>\n<!-- 99 -->\n<g id=\"node100\" class=\"node\">\n<title>99</title>\n<polygon fill=\"#e68742\" stroke=\"#000000\" points=\"6081.5,-38 5974.5,-38 5974.5,0 6081.5,0 6081.5,-38\"/>\n<text text-anchor=\"middle\" x=\"6028\" y=\"-22.8\" font-family=\"Helvetica,sans-Serif\" font-size=\"14.00\" fill=\"#000000\">samples = 44</text>\n<text text-anchor=\"middle\" x=\"6028\" y=\"-7.8\" font-family=\"Helvetica,sans-Serif\" font-size=\"14.00\" fill=\"#000000\">value = [42, 2]</text>\n</g>\n<!-- 97&#45;&gt;99 -->\n<g id=\"edge99\" class=\"edge\">\n<title>97&#45;&gt;99</title>\n<path fill=\"none\" stroke=\"#000000\" d=\"M5939.2217,-73.8139C5954.9351,-64.1121 5972.6118,-53.198 5988.0312,-43.6777\"/>\n<polygon fill=\"#000000\" stroke=\"#000000\" points=\"5990.147,-46.4848 5996.8171,-38.2531 5986.4695,-40.5286 5990.147,-46.4848\"/>\n</g>\n<!-- 101 -->\n<g id=\"node102\" class=\"node\">\n<title>101</title>\n<polygon fill=\"#eca470\" stroke=\"#000000\" points=\"6425,-216 6293,-216 6293,-163 6425,-163 6425,-216\"/>\n<text text-anchor=\"middle\" x=\"6359\" y=\"-200.8\" font-family=\"Helvetica,sans-Serif\" font-size=\"14.00\" fill=\"#000000\">b06 &lt;= 0.5</text>\n<text text-anchor=\"middle\" x=\"6359\" y=\"-185.8\" font-family=\"Helvetica,sans-Serif\" font-size=\"14.00\" fill=\"#000000\">samples = 775</text>\n<text text-anchor=\"middle\" x=\"6359\" y=\"-170.8\" font-family=\"Helvetica,sans-Serif\" font-size=\"14.00\" fill=\"#000000\">value = [607, 168]</text>\n</g>\n<!-- 100&#45;&gt;101 -->\n<g id=\"edge101\" class=\"edge\">\n<title>100&#45;&gt;101</title>\n<path fill=\"none\" stroke=\"#000000\" d=\"M6359,-251.7971C6359,-243.7887 6359,-234.8597 6359,-226.3198\"/>\n<polygon fill=\"#000000\" stroke=\"#000000\" points=\"6362.5001,-226.1841 6359,-216.1841 6355.5001,-226.1841 6362.5001,-226.1841\"/>\n</g>\n<!-- 108 -->\n<g id=\"node109\" class=\"node\">\n<title>108</title>\n<polygon fill=\"#e78c4b\" stroke=\"#000000\" points=\"6829,-216 6679,-216 6679,-163 6829,-163 6829,-216\"/>\n<text text-anchor=\"middle\" x=\"6754\" y=\"-200.8\" font-family=\"Helvetica,sans-Serif\" font-size=\"14.00\" fill=\"#000000\">payment02 &lt;= 115.0</text>\n<text text-anchor=\"middle\" x=\"6754\" y=\"-185.8\" font-family=\"Helvetica,sans-Serif\" font-size=\"14.00\" fill=\"#000000\">samples = 1647</text>\n<text text-anchor=\"middle\" x=\"6754\" y=\"-170.8\" font-family=\"Helvetica,sans-Serif\" font-size=\"14.00\" fill=\"#000000\">value = [1510, 137]</text>\n</g>\n<!-- 100&#45;&gt;108 -->\n<g id=\"edge108\" class=\"edge\">\n<title>100&#45;&gt;108</title>\n<path fill=\"none\" stroke=\"#000000\" d=\"M6429.1629,-262.6911C6496.177,-247.5918 6597.2888,-224.8096 6668.8772,-208.6796\"/>\n<polygon fill=\"#000000\" stroke=\"#000000\" points=\"6669.79,-212.0617 6678.776,-206.4492 6668.2513,-205.2329 6669.79,-212.0617\"/>\n</g>\n<!-- 102 -->\n<g id=\"node103\" class=\"node\">\n<title>102</title>\n<polygon fill=\"#f2c09b\" stroke=\"#000000\" points=\"6350,-127 6226,-127 6226,-74 6350,-74 6350,-127\"/>\n<text text-anchor=\"middle\" x=\"6288\" y=\"-111.8\" font-family=\"Helvetica,sans-Serif\" font-size=\"14.00\" fill=\"#000000\">work04 &lt;= 0.5</text>\n<text text-anchor=\"middle\" x=\"6288\" y=\"-96.8\" font-family=\"Helvetica,sans-Serif\" font-size=\"14.00\" fill=\"#000000\">samples = 265</text>\n<text text-anchor=\"middle\" x=\"6288\" y=\"-81.8\" font-family=\"Helvetica,sans-Serif\" font-size=\"14.00\" fill=\"#000000\">value = [177, 88]</text>\n</g>\n<!-- 101&#45;&gt;102 -->\n<g id=\"edge102\" class=\"edge\">\n<title>101&#45;&gt;102</title>\n<path fill=\"none\" stroke=\"#000000\" d=\"M6337.6977,-162.7971C6330.7473,-154.0847 6322.9277,-144.2826 6315.5843,-135.0775\"/>\n<polygon fill=\"#000000\" stroke=\"#000000\" points=\"6318.2596,-132.8187 6309.2873,-127.1841 6312.7875,-137.1841 6318.2596,-132.8187\"/>\n</g>\n<!-- 105 -->\n<g id=\"node106\" class=\"node\">\n<title>105</title>\n<polygon fill=\"#ea985e\" stroke=\"#000000\" points=\"6492,-127 6368,-127 6368,-74 6492,-74 6492,-127\"/>\n<text text-anchor=\"middle\" x=\"6430\" y=\"-111.8\" font-family=\"Helvetica,sans-Serif\" font-size=\"14.00\" fill=\"#000000\">a139 &lt;= 2.5</text>\n<text text-anchor=\"middle\" x=\"6430\" y=\"-96.8\" font-family=\"Helvetica,sans-Serif\" font-size=\"14.00\" fill=\"#000000\">samples = 510</text>\n<text text-anchor=\"middle\" x=\"6430\" y=\"-81.8\" font-family=\"Helvetica,sans-Serif\" font-size=\"14.00\" fill=\"#000000\">value = [430, 80]</text>\n</g>\n<!-- 101&#45;&gt;105 -->\n<g id=\"edge105\" class=\"edge\">\n<title>101&#45;&gt;105</title>\n<path fill=\"none\" stroke=\"#000000\" d=\"M6380.3023,-162.7971C6387.2527,-154.0847 6395.0723,-144.2826 6402.4157,-135.0775\"/>\n<polygon fill=\"#000000\" stroke=\"#000000\" points=\"6405.2125,-137.1841 6408.7127,-127.1841 6399.7404,-132.8187 6405.2125,-137.1841\"/>\n</g>\n<!-- 103 -->\n<g id=\"node104\" class=\"node\">\n<title>103</title>\n<polygon fill=\"#fbeee4\" stroke=\"#000000\" points=\"6216,-38 6100,-38 6100,0 6216,0 6216,-38\"/>\n<text text-anchor=\"middle\" x=\"6158\" y=\"-22.8\" font-family=\"Helvetica,sans-Serif\" font-size=\"14.00\" fill=\"#000000\">samples = 151</text>\n<text text-anchor=\"middle\" x=\"6158\" y=\"-7.8\" font-family=\"Helvetica,sans-Serif\" font-size=\"14.00\" fill=\"#000000\">value = [81, 70]</text>\n</g>\n<!-- 102&#45;&gt;103 -->\n<g id=\"edge103\" class=\"edge\">\n<title>102&#45;&gt;103</title>\n<path fill=\"none\" stroke=\"#000000\" d=\"M6245.4331,-73.8139C6229.9579,-64.1121 6212.549,-53.198 6197.3632,-43.6777\"/>\n<polygon fill=\"#000000\" stroke=\"#000000\" points=\"6199.0422,-40.5994 6188.7104,-38.2531 6195.324,-46.5302 6199.0422,-40.5994\"/>\n</g>\n<!-- 104 -->\n<g id=\"node105\" class=\"node\">\n<title>104</title>\n<polygon fill=\"#ea995e\" stroke=\"#000000\" points=\"6350,-38 6234,-38 6234,0 6350,0 6350,-38\"/>\n<text text-anchor=\"middle\" x=\"6292\" y=\"-22.8\" font-family=\"Helvetica,sans-Serif\" font-size=\"14.00\" fill=\"#000000\">samples = 114</text>\n<text text-anchor=\"middle\" x=\"6292\" y=\"-7.8\" font-family=\"Helvetica,sans-Serif\" font-size=\"14.00\" fill=\"#000000\">value = [96, 18]</text>\n</g>\n<!-- 102&#45;&gt;104 -->\n<g id=\"edge104\" class=\"edge\">\n<title>102&#45;&gt;104</title>\n<path fill=\"none\" stroke=\"#000000\" d=\"M6289.3097,-73.8139C6289.7103,-65.6535 6290.1529,-56.6354 6290.5614,-48.3105\"/>\n<polygon fill=\"#000000\" stroke=\"#000000\" points=\"6294.0606,-48.4126 6291.0551,-38.2531 6287.069,-48.0694 6294.0606,-48.4126\"/>\n</g>\n<!-- 106 -->\n<g id=\"node107\" class=\"node\">\n<title>106</title>\n<polygon fill=\"#f3f9fd\" stroke=\"#000000\" points=\"6484,-38 6368,-38 6368,0 6484,0 6484,-38\"/>\n<text text-anchor=\"middle\" x=\"6426\" y=\"-22.8\" font-family=\"Helvetica,sans-Serif\" font-size=\"14.00\" fill=\"#000000\">samples = 33</text>\n<text text-anchor=\"middle\" x=\"6426\" y=\"-7.8\" font-family=\"Helvetica,sans-Serif\" font-size=\"14.00\" fill=\"#000000\">value = [16, 17]</text>\n</g>\n<!-- 105&#45;&gt;106 -->\n<g id=\"edge106\" class=\"edge\">\n<title>105&#45;&gt;106</title>\n<path fill=\"none\" stroke=\"#000000\" d=\"M6428.6903,-73.8139C6428.2897,-65.6535 6427.8471,-56.6354 6427.4386,-48.3105\"/>\n<polygon fill=\"#000000\" stroke=\"#000000\" points=\"6430.931,-48.0694 6426.9449,-38.2531 6423.9394,-48.4126 6430.931,-48.0694\"/>\n</g>\n<!-- 107 -->\n<g id=\"node108\" class=\"node\">\n<title>107</title>\n<polygon fill=\"#e99457\" stroke=\"#000000\" points=\"6626,-38 6502,-38 6502,0 6626,0 6626,-38\"/>\n<text text-anchor=\"middle\" x=\"6564\" y=\"-22.8\" font-family=\"Helvetica,sans-Serif\" font-size=\"14.00\" fill=\"#000000\">samples = 477</text>\n<text text-anchor=\"middle\" x=\"6564\" y=\"-7.8\" font-family=\"Helvetica,sans-Serif\" font-size=\"14.00\" fill=\"#000000\">value = [414, 63]</text>\n</g>\n<!-- 105&#45;&gt;107 -->\n<g id=\"edge107\" class=\"edge\">\n<title>105&#45;&gt;107</title>\n<path fill=\"none\" stroke=\"#000000\" d=\"M6473.8766,-73.8139C6489.828,-64.1121 6507.7726,-53.198 6523.4256,-43.6777\"/>\n<polygon fill=\"#000000\" stroke=\"#000000\" points=\"6525.6196,-46.4399 6532.3447,-38.2531 6521.982,-40.4592 6525.6196,-46.4399\"/>\n</g>\n<!-- 109 -->\n<g id=\"node110\" class=\"node\">\n<title>109</title>\n<polygon fill=\"#fdf4ee\" stroke=\"#000000\" points=\"6812,-127 6696,-127 6696,-74 6812,-74 6812,-127\"/>\n<text text-anchor=\"middle\" x=\"6754\" y=\"-111.8\" font-family=\"Helvetica,sans-Serif\" font-size=\"14.00\" fill=\"#000000\">licen02 &lt;= 2.5</text>\n<text text-anchor=\"middle\" x=\"6754\" y=\"-96.8\" font-family=\"Helvetica,sans-Serif\" font-size=\"14.00\" fill=\"#000000\">samples = 44</text>\n<text text-anchor=\"middle\" x=\"6754\" y=\"-81.8\" font-family=\"Helvetica,sans-Serif\" font-size=\"14.00\" fill=\"#000000\">value = [23, 21]</text>\n</g>\n<!-- 108&#45;&gt;109 -->\n<g id=\"edge109\" class=\"edge\">\n<title>108&#45;&gt;109</title>\n<path fill=\"none\" stroke=\"#000000\" d=\"M6754,-162.7971C6754,-154.7887 6754,-145.8597 6754,-137.3198\"/>\n<polygon fill=\"#000000\" stroke=\"#000000\" points=\"6757.5001,-137.1841 6754,-127.1841 6750.5001,-137.1841 6757.5001,-137.1841\"/>\n</g>\n<!-- 112 -->\n<g id=\"node113\" class=\"node\">\n<title>112</title>\n<polygon fill=\"#e78b48\" stroke=\"#000000\" points=\"7027,-127 6887,-127 6887,-74 7027,-74 7027,-127\"/>\n<text text-anchor=\"middle\" x=\"6957\" y=\"-111.8\" font-family=\"Helvetica,sans-Serif\" font-size=\"14.00\" fill=\"#000000\">a145 &lt;= 5.5</text>\n<text text-anchor=\"middle\" x=\"6957\" y=\"-96.8\" font-family=\"Helvetica,sans-Serif\" font-size=\"14.00\" fill=\"#000000\">samples = 1603</text>\n<text text-anchor=\"middle\" x=\"6957\" y=\"-81.8\" font-family=\"Helvetica,sans-Serif\" font-size=\"14.00\" fill=\"#000000\">value = [1487, 116]</text>\n</g>\n<!-- 108&#45;&gt;112 -->\n<g id=\"edge112\" class=\"edge\">\n<title>108&#45;&gt;112</title>\n<path fill=\"none\" stroke=\"#000000\" d=\"M6814.6317,-162.9176C6837.4255,-152.9243 6863.5204,-141.4837 6887.0908,-131.1498\"/>\n<polygon fill=\"#000000\" stroke=\"#000000\" points=\"6888.5771,-134.3199 6896.3302,-127.0991 6885.7663,-127.909 6888.5771,-134.3199\"/>\n</g>\n<!-- 110 -->\n<g id=\"node111\" class=\"node\">\n<title>110</title>\n<polygon fill=\"#eeaf81\" stroke=\"#000000\" points=\"6751.5,-38 6644.5,-38 6644.5,0 6751.5,0 6751.5,-38\"/>\n<text text-anchor=\"middle\" x=\"6698\" y=\"-22.8\" font-family=\"Helvetica,sans-Serif\" font-size=\"14.00\" fill=\"#000000\">samples = 30</text>\n<text text-anchor=\"middle\" x=\"6698\" y=\"-7.8\" font-family=\"Helvetica,sans-Serif\" font-size=\"14.00\" fill=\"#000000\">value = [22, 8]</text>\n</g>\n<!-- 109&#45;&gt;110 -->\n<g id=\"edge110\" class=\"edge\">\n<title>109&#45;&gt;110</title>\n<path fill=\"none\" stroke=\"#000000\" d=\"M6735.6635,-73.8139C6729.6826,-65.1094 6723.0311,-55.4292 6717.0024,-46.6553\"/>\n<polygon fill=\"#000000\" stroke=\"#000000\" points=\"6719.777,-44.5129 6711.2291,-38.2531 6714.0076,-48.4771 6719.777,-44.5129\"/>\n</g>\n<!-- 111 -->\n<g id=\"node112\" class=\"node\">\n<title>111</title>\n<polygon fill=\"#48a5e7\" stroke=\"#000000\" points=\"6876.5,-38 6769.5,-38 6769.5,0 6876.5,0 6876.5,-38\"/>\n<text text-anchor=\"middle\" x=\"6823\" y=\"-22.8\" font-family=\"Helvetica,sans-Serif\" font-size=\"14.00\" fill=\"#000000\">samples = 14</text>\n<text text-anchor=\"middle\" x=\"6823\" y=\"-7.8\" font-family=\"Helvetica,sans-Serif\" font-size=\"14.00\" fill=\"#000000\">value = [1, 13]</text>\n</g>\n<!-- 109&#45;&gt;111 -->\n<g id=\"edge111\" class=\"edge\">\n<title>109&#45;&gt;111</title>\n<path fill=\"none\" stroke=\"#000000\" d=\"M6776.5932,-73.8139C6784.1161,-64.9281 6792.4999,-55.0255 6800.0496,-46.1081\"/>\n<polygon fill=\"#000000\" stroke=\"#000000\" points=\"6802.9095,-48.1467 6806.6999,-38.2531 6797.5671,-43.6236 6802.9095,-48.1467\"/>\n</g>\n<!-- 113 -->\n<g id=\"node114\" class=\"node\">\n<title>113</title>\n<polygon fill=\"#ea995f\" stroke=\"#000000\" points=\"7019,-38 6895,-38 6895,0 7019,0 7019,-38\"/>\n<text text-anchor=\"middle\" x=\"6957\" y=\"-22.8\" font-family=\"Helvetica,sans-Serif\" font-size=\"14.00\" fill=\"#000000\">samples = 281</text>\n<text text-anchor=\"middle\" x=\"6957\" y=\"-7.8\" font-family=\"Helvetica,sans-Serif\" font-size=\"14.00\" fill=\"#000000\">value = [236, 45]</text>\n</g>\n<!-- 112&#45;&gt;113 -->\n<g id=\"edge113\" class=\"edge\">\n<title>112&#45;&gt;113</title>\n<path fill=\"none\" stroke=\"#000000\" d=\"M6957,-73.8139C6957,-65.6535 6957,-56.6354 6957,-48.3105\"/>\n<polygon fill=\"#000000\" stroke=\"#000000\" points=\"6960.5001,-48.253 6957,-38.2531 6953.5001,-48.2531 6960.5001,-48.253\"/>\n</g>\n<!-- 114 -->\n<g id=\"node115\" class=\"node\">\n<title>114</title>\n<polygon fill=\"#e68844\" stroke=\"#000000\" points=\"7169,-38 7037,-38 7037,0 7169,0 7169,-38\"/>\n<text text-anchor=\"middle\" x=\"7103\" y=\"-22.8\" font-family=\"Helvetica,sans-Serif\" font-size=\"14.00\" fill=\"#000000\">samples = 1322</text>\n<text text-anchor=\"middle\" x=\"7103\" y=\"-7.8\" font-family=\"Helvetica,sans-Serif\" font-size=\"14.00\" fill=\"#000000\">value = [1251, 71]</text>\n</g>\n<!-- 112&#45;&gt;114 -->\n<g id=\"edge114\" class=\"edge\">\n<title>112&#45;&gt;114</title>\n<path fill=\"none\" stroke=\"#000000\" d=\"M7004.8059,-73.8139C7022.5106,-63.9307 7042.4689,-52.7896 7059.7457,-43.1454\"/>\n<polygon fill=\"#000000\" stroke=\"#000000\" points=\"7061.4841,-46.1834 7068.5098,-38.2531 7058.0722,-40.0712 7061.4841,-46.1834\"/>\n</g>\n</g>\n</svg>\n"
          },
          "metadata": {}
        }
      ]
    },
    {
      "cell_type": "markdown",
      "source": [
        "#### feature importance"
      ],
      "metadata": {
        "id": "sYEtUSaFKSRV"
      }
    },
    {
      "cell_type": "code",
      "source": [
        "result = tree.feature_importances_\n",
        "print(\"변수의 중요도:\\n\", result)"
      ],
      "metadata": {
        "colab": {
          "base_uri": "https://localhost:8080/"
        },
        "id": "udv3D3wUp8U5",
        "outputId": "b5e9a10e-9c80-41c5-e2c1-6cda7908309c"
      },
      "execution_count": null,
      "outputs": [
        {
          "output_type": "stream",
          "name": "stdout",
          "text": [
            "변수의 중요도:\n",
            " [0.00530684 0.00305934 0.         0.00272027 0.         0.\n",
            " 0.         0.         0.00816023 0.0153777  0.00175879 0.00193779\n",
            " 0.         0.00245077 0.06681938 0.         0.         0.0126579\n",
            " 0.         0.         0.         0.         0.01518907 0.0080133\n",
            " 0.00514321 0.         0.02503242 0.         0.07929502 0.\n",
            " 0.         0.0222233  0.42993376 0.08382328 0.         0.\n",
            " 0.0031753  0.03115218 0.00435131 0.08933269 0.00171497 0.00400168\n",
            " 0.00874192 0.         0.         0.         0.00245282 0.01945443\n",
            " 0.00219197 0.         0.01700244 0.         0.0079489  0.\n",
            " 0.         0.         0.         0.         0.01957702 0.        ]\n"
          ]
        }
      ]
    },
    {
      "cell_type": "code",
      "source": [
        "import numpy as np\n",
        "\n",
        "def plot_feature_importances_wisc(model):\n",
        "    plt.rcParams[\"figure.figsize\"] = (16,12)\n",
        "    n_features = len(df.columns[:60]) \n",
        "    plt.barh(np.arange(n_features), model.feature_importances_, align='center') \n",
        "    plt.yticks(np.arange(n_features), df.columns[:60])  \n",
        "    plt.xlabel(\"feature importance\")\n",
        "    plt.ylabel(\"feature\")\n",
        "    plt.ylim(-1, n_features) \n",
        "\n",
        "plot_feature_importances_wisc(tree)"
      ],
      "metadata": {
        "colab": {
          "base_uri": "https://localhost:8080/",
          "height": 714
        },
        "id": "n0Wn6CVJp851",
        "outputId": "d967a3f2-4969-4a35-c25f-2d6e65b0041d"
      },
      "execution_count": null,
      "outputs": [
        {
          "output_type": "display_data",
          "data": {
            "text/plain": [
              "<Figure size 1152x864 with 1 Axes>"
            ],
            "image/png": "[encoded data removed]"
          },
          "metadata": {
            "needs_background": "light"
          }
        }
      ]
    },
    {
      "cell_type": "code",
      "source": [
        "res = pd.DataFrame(result)\n",
        "res[\"name\"] = df.columns[:60]\n",
        "display(res.info())\n",
        "\n",
        "display(res.sort_values(by=0,ascending=False).head(15))"
      ],
      "metadata": {
        "colab": {
          "base_uri": "https://localhost:8080/",
          "height": 703
        },
        "id": "xGQPKU4hqSdu",
        "outputId": "b429c437-fb0d-4f68-b641-8dbdf30c7d9b"
      },
      "execution_count": null,
      "outputs": [
        {
          "output_type": "stream",
          "name": "stdout",
          "text": [
            "<class 'pandas.core.frame.DataFrame'>\n",
            "RangeIndex: 60 entries, 0 to 59\n",
            "Data columns (total 2 columns):\n",
            " #   Column  Non-Null Count  Dtype  \n",
            "---  ------  --------------  -----  \n",
            " 0   0       60 non-null     float64\n",
            " 1   name    60 non-null     object \n",
            "dtypes: float64(1), object(1)\n",
            "memory usage: 1.1+ KB\n"
          ]
        },
        {
          "output_type": "display_data",
          "data": {
            "text/plain": [
              "None"
            ]
          },
          "metadata": {}
        },
        {
          "output_type": "display_data",
          "data": {
            "text/plain": [
              "           0       name\n",
              "32  0.429934       a131\n",
              "39  0.089333       a142\n",
              "33  0.083823       a133\n",
              "28  0.079295       a126\n",
              "14  0.066819     work04\n",
              "37  0.031152       a138\n",
              "26  0.025032      ins02\n",
              "31  0.022223       a130\n",
              "58  0.019577   jobcode9\n",
              "47  0.019454  majorcat5\n",
              "50  0.017002   jobcode1\n",
              "9   0.015378     period\n",
              "22  0.015189        b04\n",
              "17  0.012658  payment02\n",
              "42  0.008742       a146"
            ],
            "text/html": [
              "\n",
              "  <div id=\"df-d5a09319-36ea-466b-8e2b-38beed65cf79\">\n",
              "    <div class=\"colab-df-container\">\n",
              "      <div>\n",
              "<style scoped>\n",
              "    .dataframe tbody tr th:only-of-type {\n",
              "        vertical-align: middle;\n",
              "    }\n",
              "\n",
              "    .dataframe tbody tr th {\n",
              "        vertical-align: top;\n",
              "    }\n",
              "\n",
              "    .dataframe thead th {\n",
              "        text-align: right;\n",
              "    }\n",
              "</style>\n",
              "<table border=\"1\" class=\"dataframe\">\n",
              "  <thead>\n",
              "    <tr style=\"text-align: right;\">\n",
              "      <th></th>\n",
              "      <th>0</th>\n",
              "      <th>name</th>\n",
              "    </tr>\n",
              "  </thead>\n",
              "  <tbody>\n",
              "    <tr>\n",
              "      <th>32</th>\n",
              "      <td>0.429934</td>\n",
              "      <td>a131</td>\n",
              "    </tr>\n",
              "    <tr>\n",
              "      <th>39</th>\n",
              "      <td>0.089333</td>\n",
              "      <td>a142</td>\n",
              "    </tr>\n",
              "    <tr>\n",
              "      <th>33</th>\n",
              "      <td>0.083823</td>\n",
              "      <td>a133</td>\n",
              "    </tr>\n",
              "    <tr>\n",
              "      <th>28</th>\n",
              "      <td>0.079295</td>\n",
              "      <td>a126</td>\n",
              "    </tr>\n",
              "    <tr>\n",
              "      <th>14</th>\n",
              "      <td>0.066819</td>\n",
              "      <td>work04</td>\n",
              "    </tr>\n",
              "    <tr>\n",
              "      <th>37</th>\n",
              "      <td>0.031152</td>\n",
              "      <td>a138</td>\n",
              "    </tr>\n",
              "    <tr>\n",
              "      <th>26</th>\n",
              "      <td>0.025032</td>\n",
              "      <td>ins02</td>\n",
              "    </tr>\n",
              "    <tr>\n",
              "      <th>31</th>\n",
              "      <td>0.022223</td>\n",
              "      <td>a130</td>\n",
              "    </tr>\n",
              "    <tr>\n",
              "      <th>58</th>\n",
              "      <td>0.019577</td>\n",
              "      <td>jobcode9</td>\n",
              "    </tr>\n",
              "    <tr>\n",
              "      <th>47</th>\n",
              "      <td>0.019454</td>\n",
              "      <td>majorcat5</td>\n",
              "    </tr>\n",
              "    <tr>\n",
              "      <th>50</th>\n",
              "      <td>0.017002</td>\n",
              "      <td>jobcode1</td>\n",
              "    </tr>\n",
              "    <tr>\n",
              "      <th>9</th>\n",
              "      <td>0.015378</td>\n",
              "      <td>period</td>\n",
              "    </tr>\n",
              "    <tr>\n",
              "      <th>22</th>\n",
              "      <td>0.015189</td>\n",
              "      <td>b04</td>\n",
              "    </tr>\n",
              "    <tr>\n",
              "      <th>17</th>\n",
              "      <td>0.012658</td>\n",
              "      <td>payment02</td>\n",
              "    </tr>\n",
              "    <tr>\n",
              "      <th>42</th>\n",
              "      <td>0.008742</td>\n",
              "      <td>a146</td>\n",
              "    </tr>\n",
              "  </tbody>\n",
              "</table>\n",
              "</div>\n",
              "      <button class=\"colab-df-convert\" onclick=\"convertToInteractive('df-d5a09319-36ea-466b-8e2b-38beed65cf79')\"\n",
              "              title=\"Convert this dataframe to an interactive table.\"\n",
              "              style=\"display:none;\">\n",
              "        \n",
              "  <svg xmlns=\"http://www.w3.org/2000/svg\" height=\"24px\"viewBox=\"0 0 24 24\"\n",
              "       width=\"24px\">\n",
              "    <path d=\"M0 0h24v24H0V0z\" fill=\"none\"/>\n",
              "    <path d=\"M18.56 5.44l.94 2.06.94-2.06 2.06-.94-2.06-.94-.94-2.06-.94 2.06-2.06.94zm-11 1L8.5 8.5l.94-2.06 2.06-.94-2.06-.94L8.5 2.5l-.94 2.06-2.06.94zm10 10l.94 2.06.94-2.06 2.06-.94-2.06-.94-.94-2.06-.94 2.06-2.06.94z\"/><path d=\"M17.41 7.96l-1.37-1.37c-.4-.4-.92-.59-1.43-.59-.52 0-1.04.2-1.43.59L10.3 9.45l-7.72 7.72c-.78.78-.78 2.05 0 2.83L4 21.41c.39.39.9.59 1.41.59.51 0 1.02-.2 1.41-.59l7.78-7.78 2.81-2.81c.8-.78.8-2.07 0-2.86zM5.41 20L4 18.59l7.72-7.72 1.47 1.35L5.41 20z\"/>\n",
              "  </svg>\n",
              "      </button>\n",
              "      \n",
              "  <style>\n",
              "    .colab-df-container {\n",
              "      display:flex;\n",
              "      flex-wrap:wrap;\n",
              "      gap: 12px;\n",
              "    }\n",
              "\n",
              "    .colab-df-convert {\n",
              "      background-color: #E8F0FE;\n",
              "      border: none;\n",
              "      border-radius: 50%;\n",
              "      cursor: pointer;\n",
              "      display: none;\n",
              "      fill: #1967D2;\n",
              "      height: 32px;\n",
              "      padding: 0 0 0 0;\n",
              "      width: 32px;\n",
              "    }\n",
              "\n",
              "    .colab-df-convert:hover {\n",
              "      background-color: #E2EBFA;\n",
              "      box-shadow: 0px 1px 2px rgba(60, 64, 67, 0.3), 0px 1px 3px 1px rgba(60, 64, 67, 0.15);\n",
              "      fill: #174EA6;\n",
              "    }\n",
              "\n",
              "    [theme=dark] .colab-df-convert {\n",
              "      background-color: #3B4455;\n",
              "      fill: #D2E3FC;\n",
              "    }\n",
              "\n",
              "    [theme=dark] .colab-df-convert:hover {\n",
              "      background-color: #434B5C;\n",
              "      box-shadow: 0px 1px 3px 1px rgba(0, 0, 0, 0.15);\n",
              "      filter: drop-shadow(0px 1px 2px rgba(0, 0, 0, 0.3));\n",
              "      fill: #FFFFFF;\n",
              "    }\n",
              "  </style>\n",
              "\n",
              "      <script>\n",
              "        const buttonEl =\n",
              "          document.querySelector('#df-d5a09319-36ea-466b-8e2b-38beed65cf79 button.colab-df-convert');\n",
              "        buttonEl.style.display =\n",
              "          google.colab.kernel.accessAllowed ? 'block' : 'none';\n",
              "\n",
              "        async function convertToInteractive(key) {\n",
              "          const element = document.querySelector('#df-d5a09319-36ea-466b-8e2b-38beed65cf79');\n",
              "          const dataTable =\n",
              "            await google.colab.kernel.invokeFunction('convertToInteractive',\n",
              "                                                     [key], {});\n",
              "          if (!dataTable) return;\n",
              "\n",
              "          const docLinkHtml = 'Like what you see? Visit the ' +\n",
              "            '<a target=\"_blank\" href=https://colab.research.google.com/notebooks/data_table.ipynb>data table notebook</a>'\n",
              "            + ' to learn more about interactive tables.';\n",
              "          element.innerHTML = '';\n",
              "          dataTable['output_type'] = 'display_data';\n",
              "          await google.colab.output.renderOutput(dataTable, element);\n",
              "          const docLink = document.createElement('div');\n",
              "          docLink.innerHTML = docLinkHtml;\n",
              "          element.appendChild(docLink);\n",
              "        }\n",
              "      </script>\n",
              "    </div>\n",
              "  </div>\n",
              "  "
            ]
          },
          "metadata": {}
        }
      ]
    },
    {
      "cell_type": "markdown",
      "source": [
        "### 2-2. RandomForest"
      ],
      "metadata": {
        "id": "npz1CXKbrQUC"
      }
    },
    {
      "cell_type": "code",
      "source": [
        "from sklearn.ensemble import RandomForestClassifier"
      ],
      "metadata": {
        "id": "peIONyXtra4B"
      },
      "execution_count": null,
      "outputs": []
    },
    {
      "cell_type": "code",
      "source": [
        "forest = RandomForestClassifier(random_state=60)\n",
        "forest.fit(X_train, y_train)\n",
        "\n",
        "print(\"학습용 데이터 세트 정확도: {:.3f}\".format(forest.score(X_train, y_train)))\n",
        "print(\"시험용 데이터 세트 정확도: {:.3f}\".format(forest.score(X_test, y_test)))"
      ],
      "metadata": {
        "colab": {
          "base_uri": "https://localhost:8080/"
        },
        "id": "_1fYcYd9rRpv",
        "outputId": "15cfbb8d-477a-4b3c-ccd0-303ddc6fa488"
      },
      "execution_count": null,
      "outputs": [
        {
          "output_type": "stream",
          "name": "stdout",
          "text": [
            "학습용 데이터 세트 정확도: 1.000\n",
            "시험용 데이터 세트 정확도: 0.793\n"
          ]
        }
      ]
    },
    {
      "cell_type": "code",
      "source": [
        "# GridSearchCV\n",
        "from sklearn.model_selection import GridSearchCV\n",
        "\n",
        "forest = RandomForestClassifier(random_state=60) \n",
        "params = {\n",
        "    'max_depth' : [6, 8],\n",
        "    'min_samples_split': [8, 16, 20],\n",
        "    'n_estimators': [100, 200, 400]\n",
        "}\n",
        "grid_cv = GridSearchCV(forest, param_grid=params, scoring = 'accuracy', cv=10)\n",
        "grid_cv.fit(X_train, y_train)\n",
        "print('GridSearchCV 최고 평균 정확도 수치: {0: .3f}'.format(grid_cv.best_score_))\n",
        "print('GridSearchCV 최적 하이퍼 파라미터:', grid_cv.best_params_)"
      ],
      "metadata": {
        "id": "8c4ViFVL0vbi",
        "colab": {
          "base_uri": "https://localhost:8080/"
        },
        "outputId": "24a0951f-b5ac-4833-edd3-f14a6a30b0e0"
      },
      "execution_count": null,
      "outputs": [
        {
          "output_type": "stream",
          "name": "stdout",
          "text": [
            "GridSearchCV 최고 평균 정확도 수치:  0.823\n",
            "GridSearchCV 최적 하이퍼 파라미터: {'max_depth': 8, 'min_samples_split': 8, 'n_estimators': 400}\n"
          ]
        }
      ]
    },
    {
      "cell_type": "markdown",
      "source": [
        "#### 평가"
      ],
      "metadata": {
        "id": "FRegsuMvKFzz"
      }
    },
    {
      "cell_type": "code",
      "source": [
        "forest = RandomForestClassifier(random_state=60, max_depth=8, min_samples_split = 8, n_estimators = 400 )\n",
        "forest.fit(X_train, y_train)"
      ],
      "metadata": {
        "colab": {
          "base_uri": "https://localhost:8080/"
        },
        "id": "39NtV7M6_Kyl",
        "outputId": "b3106153-5fe7-4331-bfed-fccfd1d0043e"
      },
      "execution_count": null,
      "outputs": [
        {
          "output_type": "execute_result",
          "data": {
            "text/plain": [
              "RandomForestClassifier(max_depth=8, min_samples_split=8, n_estimators=400,\n",
              "                       random_state=60)"
            ]
          },
          "metadata": {},
          "execution_count": 71
        }
      ]
    },
    {
      "cell_type": "code",
      "source": [
        "print(\"-----학습용-----\")\n",
        "pred = forest.predict(X_train)\n",
        "get_eval(y_train, pred, pred)\n",
        "\n",
        "print(\"-----시험용-----\")\n",
        "pred = forest.predict(X_test)\n",
        "get_eval(y_test, pred, pred)"
      ],
      "metadata": {
        "id": "avQ5Z2lYW8cu",
        "colab": {
          "base_uri": "https://localhost:8080/"
        },
        "outputId": "d4f5b272-ca74-4a2b-84dc-583ff10e86b2"
      },
      "execution_count": null,
      "outputs": [
        {
          "output_type": "stream",
          "name": "stdout",
          "text": [
            "-----학습용-----\n",
            "오차행렬\n",
            "[[4169  637]\n",
            " [ 644 4162]]\n",
            "정확도:  0.867, 정밀도:  0.867, 재현율:  0.866, F1:  0.867, AUC:  0.867\n",
            "-----시험용-----\n",
            "오차행렬\n",
            "[[1697  359]\n",
            " [ 240  288]]\n",
            "정확도:  0.768, 정밀도:  0.445, 재현율:  0.545, F1:  0.490, AUC:  0.685\n"
          ]
        }
      ]
    },
    {
      "cell_type": "code",
      "source": [
        ""
      ],
      "metadata": {
        "id": "W285Z4IWfvay"
      },
      "execution_count": null,
      "outputs": []
    },
    {
      "cell_type": "markdown",
      "source": [
        "#### feature importance"
      ],
      "metadata": {
        "id": "Kj_jrbmTKIWT"
      }
    },
    {
      "cell_type": "code",
      "source": [
        "plot_feature_importances_wisc(forest)"
      ],
      "metadata": {
        "colab": {
          "base_uri": "https://localhost:8080/",
          "height": 714
        },
        "id": "LepfEvdZrbw_",
        "outputId": "e7933d8b-5cd8-4a91-997e-649f0ddd21a4"
      },
      "execution_count": null,
      "outputs": [
        {
          "output_type": "display_data",
          "data": {
            "text/plain": [
              "<Figure size 1152x864 with 1 Axes>"
            ],
            "image/png": "[encoded data removed]"
          },
          "metadata": {
            "needs_background": "light"
          }
        }
      ]
    },
    {
      "cell_type": "code",
      "source": [
        "res = pd.DataFrame(forest.feature_importances_)\n",
        "res[\"name\"] = df.columns[:60]\n",
        "display(res.info())\n",
        "\n",
        "display(res.sort_values(by=0,ascending=False).head(15))"
      ],
      "metadata": {
        "colab": {
          "base_uri": "https://localhost:8080/",
          "height": 703
        },
        "id": "VIbPDBl4r2aa",
        "outputId": "7d172c28-cce8-4f70-e60e-c40ff2cfaaee"
      },
      "execution_count": null,
      "outputs": [
        {
          "output_type": "stream",
          "name": "stdout",
          "text": [
            "<class 'pandas.core.frame.DataFrame'>\n",
            "RangeIndex: 60 entries, 0 to 59\n",
            "Data columns (total 2 columns):\n",
            " #   Column  Non-Null Count  Dtype  \n",
            "---  ------  --------------  -----  \n",
            " 0   0       60 non-null     float64\n",
            " 1   name    60 non-null     object \n",
            "dtypes: float64(1), object(1)\n",
            "memory usage: 1.1+ KB\n"
          ]
        },
        {
          "output_type": "display_data",
          "data": {
            "text/plain": [
              "None"
            ]
          },
          "metadata": {}
        },
        {
          "output_type": "display_data",
          "data": {
            "text/plain": [
              "           0    name\n",
              "32  0.100411    a131\n",
              "28  0.072136    a126\n",
              "38  0.068543    a139\n",
              "39  0.067160    a142\n",
              "29  0.066175    a128\n",
              "34  0.064581    a134\n",
              "36  0.047363    a137\n",
              "40  0.045351    a143\n",
              "37  0.042299    a138\n",
              "33  0.033634    a133\n",
              "14  0.029392  work04\n",
              "31  0.023748    a130\n",
              "22  0.020811     b04\n",
              "35  0.019031    a136\n",
              "30  0.018217    a129"
            ],
            "text/html": [
              "\n",
              "  <div id=\"df-6a230c58-133f-44a5-94fe-d9f7d730c5f3\">\n",
              "    <div class=\"colab-df-container\">\n",
              "      <div>\n",
              "<style scoped>\n",
              "    .dataframe tbody tr th:only-of-type {\n",
              "        vertical-align: middle;\n",
              "    }\n",
              "\n",
              "    .dataframe tbody tr th {\n",
              "        vertical-align: top;\n",
              "    }\n",
              "\n",
              "    .dataframe thead th {\n",
              "        text-align: right;\n",
              "    }\n",
              "</style>\n",
              "<table border=\"1\" class=\"dataframe\">\n",
              "  <thead>\n",
              "    <tr style=\"text-align: right;\">\n",
              "      <th></th>\n",
              "      <th>0</th>\n",
              "      <th>name</th>\n",
              "    </tr>\n",
              "  </thead>\n",
              "  <tbody>\n",
              "    <tr>\n",
              "      <th>32</th>\n",
              "      <td>0.100411</td>\n",
              "      <td>a131</td>\n",
              "    </tr>\n",
              "    <tr>\n",
              "      <th>28</th>\n",
              "      <td>0.072136</td>\n",
              "      <td>a126</td>\n",
              "    </tr>\n",
              "    <tr>\n",
              "      <th>38</th>\n",
              "      <td>0.068543</td>\n",
              "      <td>a139</td>\n",
              "    </tr>\n",
              "    <tr>\n",
              "      <th>39</th>\n",
              "      <td>0.067160</td>\n",
              "      <td>a142</td>\n",
              "    </tr>\n",
              "    <tr>\n",
              "      <th>29</th>\n",
              "      <td>0.066175</td>\n",
              "      <td>a128</td>\n",
              "    </tr>\n",
              "    <tr>\n",
              "      <th>34</th>\n",
              "      <td>0.064581</td>\n",
              "      <td>a134</td>\n",
              "    </tr>\n",
              "    <tr>\n",
              "      <th>36</th>\n",
              "      <td>0.047363</td>\n",
              "      <td>a137</td>\n",
              "    </tr>\n",
              "    <tr>\n",
              "      <th>40</th>\n",
              "      <td>0.045351</td>\n",
              "      <td>a143</td>\n",
              "    </tr>\n",
              "    <tr>\n",
              "      <th>37</th>\n",
              "      <td>0.042299</td>\n",
              "      <td>a138</td>\n",
              "    </tr>\n",
              "    <tr>\n",
              "      <th>33</th>\n",
              "      <td>0.033634</td>\n",
              "      <td>a133</td>\n",
              "    </tr>\n",
              "    <tr>\n",
              "      <th>14</th>\n",
              "      <td>0.029392</td>\n",
              "      <td>work04</td>\n",
              "    </tr>\n",
              "    <tr>\n",
              "      <th>31</th>\n",
              "      <td>0.023748</td>\n",
              "      <td>a130</td>\n",
              "    </tr>\n",
              "    <tr>\n",
              "      <th>22</th>\n",
              "      <td>0.020811</td>\n",
              "      <td>b04</td>\n",
              "    </tr>\n",
              "    <tr>\n",
              "      <th>35</th>\n",
              "      <td>0.019031</td>\n",
              "      <td>a136</td>\n",
              "    </tr>\n",
              "    <tr>\n",
              "      <th>30</th>\n",
              "      <td>0.018217</td>\n",
              "      <td>a129</td>\n",
              "    </tr>\n",
              "  </tbody>\n",
              "</table>\n",
              "</div>\n",
              "      <button class=\"colab-df-convert\" onclick=\"convertToInteractive('df-6a230c58-133f-44a5-94fe-d9f7d730c5f3')\"\n",
              "              title=\"Convert this dataframe to an interactive table.\"\n",
              "              style=\"display:none;\">\n",
              "        \n",
              "  <svg xmlns=\"http://www.w3.org/2000/svg\" height=\"24px\"viewBox=\"0 0 24 24\"\n",
              "       width=\"24px\">\n",
              "    <path d=\"M0 0h24v24H0V0z\" fill=\"none\"/>\n",
              "    <path d=\"M18.56 5.44l.94 2.06.94-2.06 2.06-.94-2.06-.94-.94-2.06-.94 2.06-2.06.94zm-11 1L8.5 8.5l.94-2.06 2.06-.94-2.06-.94L8.5 2.5l-.94 2.06-2.06.94zm10 10l.94 2.06.94-2.06 2.06-.94-2.06-.94-.94-2.06-.94 2.06-2.06.94z\"/><path d=\"M17.41 7.96l-1.37-1.37c-.4-.4-.92-.59-1.43-.59-.52 0-1.04.2-1.43.59L10.3 9.45l-7.72 7.72c-.78.78-.78 2.05 0 2.83L4 21.41c.39.39.9.59 1.41.59.51 0 1.02-.2 1.41-.59l7.78-7.78 2.81-2.81c.8-.78.8-2.07 0-2.86zM5.41 20L4 18.59l7.72-7.72 1.47 1.35L5.41 20z\"/>\n",
              "  </svg>\n",
              "      </button>\n",
              "      \n",
              "  <style>\n",
              "    .colab-df-container {\n",
              "      display:flex;\n",
              "      flex-wrap:wrap;\n",
              "      gap: 12px;\n",
              "    }\n",
              "\n",
              "    .colab-df-convert {\n",
              "      background-color: #E8F0FE;\n",
              "      border: none;\n",
              "      border-radius: 50%;\n",
              "      cursor: pointer;\n",
              "      display: none;\n",
              "      fill: #1967D2;\n",
              "      height: 32px;\n",
              "      padding: 0 0 0 0;\n",
              "      width: 32px;\n",
              "    }\n",
              "\n",
              "    .colab-df-convert:hover {\n",
              "      background-color: #E2EBFA;\n",
              "      box-shadow: 0px 1px 2px rgba(60, 64, 67, 0.3), 0px 1px 3px 1px rgba(60, 64, 67, 0.15);\n",
              "      fill: #174EA6;\n",
              "    }\n",
              "\n",
              "    [theme=dark] .colab-df-convert {\n",
              "      background-color: #3B4455;\n",
              "      fill: #D2E3FC;\n",
              "    }\n",
              "\n",
              "    [theme=dark] .colab-df-convert:hover {\n",
              "      background-color: #434B5C;\n",
              "      box-shadow: 0px 1px 3px 1px rgba(0, 0, 0, 0.15);\n",
              "      filter: drop-shadow(0px 1px 2px rgba(0, 0, 0, 0.3));\n",
              "      fill: #FFFFFF;\n",
              "    }\n",
              "  </style>\n",
              "\n",
              "      <script>\n",
              "        const buttonEl =\n",
              "          document.querySelector('#df-6a230c58-133f-44a5-94fe-d9f7d730c5f3 button.colab-df-convert');\n",
              "        buttonEl.style.display =\n",
              "          google.colab.kernel.accessAllowed ? 'block' : 'none';\n",
              "\n",
              "        async function convertToInteractive(key) {\n",
              "          const element = document.querySelector('#df-6a230c58-133f-44a5-94fe-d9f7d730c5f3');\n",
              "          const dataTable =\n",
              "            await google.colab.kernel.invokeFunction('convertToInteractive',\n",
              "                                                     [key], {});\n",
              "          if (!dataTable) return;\n",
              "\n",
              "          const docLinkHtml = 'Like what you see? Visit the ' +\n",
              "            '<a target=\"_blank\" href=https://colab.research.google.com/notebooks/data_table.ipynb>data table notebook</a>'\n",
              "            + ' to learn more about interactive tables.';\n",
              "          element.innerHTML = '';\n",
              "          dataTable['output_type'] = 'display_data';\n",
              "          await google.colab.output.renderOutput(dataTable, element);\n",
              "          const docLink = document.createElement('div');\n",
              "          docLink.innerHTML = docLinkHtml;\n",
              "          element.appendChild(docLink);\n",
              "        }\n",
              "      </script>\n",
              "    </div>\n",
              "  </div>\n",
              "  "
            ]
          },
          "metadata": {}
        }
      ]
    },
    {
      "cell_type": "code",
      "source": [
        "from sklearn.model_selection import cross_val_score\n",
        "for i in range(5,20):\n",
        "  dt_scores = cross_val_score(tree, X_train, y_train, cv=i, scoring='accuracy')  \n",
        "  rf_scores = cross_val_score(forest, X_train, y_train, cv=i, scoring='accuracy')\n",
        "\n",
        "  print(f\"-------cv:{i}\")\n",
        "#  print(\"Accuracy\")\n",
        "#  print(\"Decision tree: \", dt_scores) \n",
        "#  print(\"Random forest: \", rf_scores) \n",
        "\n",
        "  print(\"Accuracy mean\")\n",
        "  print(\"Decision tree :{:.3f}\".format(dt_scores.mean())) \n",
        "  print(\"Random forest :{:.3f}\".format(rf_scores.mean())) "
      ],
      "metadata": {
        "id": "JtiPBKMXrYvQ"
      },
      "execution_count": null,
      "outputs": []
    },
    {
      "cell_type": "code",
      "source": [
        "dt_scores = cross_val_score(tree, X_train, y_train, cv=11, scoring='accuracy')  \n",
        "rf_scores = cross_val_score(forest, X_train, y_train, cv=11, scoring='accuracy')\n",
        "\n",
        "print(\"Accuracy\")\n",
        "print(\"Decision tree: \", dt_scores) \n",
        "print(\"Random forest: \", rf_scores) \n",
        "\n",
        "print(\"Accuracy mean\")\n",
        "print(\"Decision tree :{:.3f}\".format(dt_scores.mean())) \n",
        "print(\"Random forest :{:.3f}\".format(rf_scores.mean())) "
      ],
      "metadata": {
        "colab": {
          "base_uri": "https://localhost:8080/"
        },
        "id": "Xpk7GNMXuljw",
        "outputId": "30dab846-ed90-4f84-81de-c7167c3f6143"
      },
      "execution_count": null,
      "outputs": [
        {
          "output_type": "stream",
          "name": "stdout",
          "text": [
            "Accuracy\n",
            "Decision tree:  [0.65789474 0.64530892 0.70938215 0.83867277 0.83180778 0.83409611\n",
            " 0.81693364 0.8375286  0.84324943 0.84536082 0.87628866]\n",
            "Random forest:  [0.6819222  0.66933638 0.73226545 0.86155606 0.89473684 0.86956522\n",
            " 0.86155606 0.84782609 0.86155606 0.88888889 0.88201604]\n",
            "Accuracy mean\n",
            "Decision tree :0.794\n",
            "Random forest :0.823\n"
          ]
        }
      ]
    },
    {
      "cell_type": "markdown",
      "source": [
        "#### permutation_importance"
      ],
      "metadata": {
        "id": "xxYiuPYQ3rE1"
      }
    },
    {
      "cell_type": "code",
      "source": [
        "import operator"
      ],
      "metadata": {
        "id": "1MNWWWzx5owD"
      },
      "execution_count": null,
      "outputs": []
    },
    {
      "cell_type": "code",
      "source": [
        "from sklearn.inspection import permutation_importance\n",
        "result = permutation_importance(forest, X_train, y_train, n_jobs=-1,random_state = 60)\n",
        "feature_dict = dict(zip(X.columns, result.importances_mean))\n",
        "sorted(feature_dict.items(), key=operator.itemgetter(1), reverse=True)"
      ],
      "metadata": {
        "colab": {
          "base_uri": "https://localhost:8080/"
        },
        "id": "2jA-x_t53tNM",
        "outputId": "b6579f9b-e1ab-4f6a-f92c-26435ed70001"
      },
      "execution_count": null,
      "outputs": [
        {
          "output_type": "execute_result",
          "data": {
            "text/plain": [
              "[('a126', 0.01762380357885973),\n",
              " ('work04', 0.012879733666250438),\n",
              " ('a131', 0.010986267166042386),\n",
              " ('a142', 0.0106325426550145),\n",
              " ('a134', 0.008343736995422346),\n",
              " ('a128', 0.007615480649188444),\n",
              " ('a139', 0.007469829379941695),\n",
              " ('a143', 0.007365792759051115),\n",
              " ('majorcat4', 0.00734498543487303),\n",
              " ('b04', 0.007136912193091915),\n",
              " ('period', 0.006575114440282914),\n",
              " ('jobcode1', 0.006346233874323715),\n",
              " ('a138', 0.006200582605076943),\n",
              " ('gpa', 0.005867665418227186),\n",
              " ('payment02', 0.005659592176446071),\n",
              " ('a145', 0.005472326258843063),\n",
              " ('b06', 0.0049313358302122134),\n",
              " ('a137', 0.00476487723678729),\n",
              " ('age', 0.00470245526425297),\n",
              " ('time', 0.004244694132334503),\n",
              " ('majorcat5', 0.004099042863087776),\n",
              " ('a130', 0.004015813566375326),\n",
              " ('a133', 0.0039741989180190895),\n",
              " ('a146', 0.00387016229712851),\n",
              " ('sex', 0.0029130253849354304),\n",
              " ('majorcat7', 0.0028922180607573456),\n",
              " ('a129', 0.002829796088223002),\n",
              " ('a136', 0.002559300873907566),\n",
              " ('majorcat1', 0.002455264253017009),\n",
              " ('b05', 0.0023512276321264514),\n",
              " ('ins02', 0.002309612983770237),\n",
              " ('enter02', 0.002267998335414001),\n",
              " ('work05', 0.0022055763628796798),\n",
              " ('loan01', 0.002184769038701595),\n",
              " ('licen02', 0.002143154390345381),\n",
              " ('jobcode2', 0.002143154390345381),\n",
              " ('jobcode3', 0.0019350811485642438),\n",
              " ('com_size', 0.0018726591760299227),\n",
              " ('jobcode5', 0.0018518518518517934),\n",
              " ('jobcode9', 0.0017894298793174723),\n",
              " ('b02', 0.00166458593424883),\n",
              " ('regular', 0.0015397419891801435),\n",
              " ('jobcode4', 0.0014981273408239293),\n",
              " ('lan02', 0.001435705368289586),\n",
              " ('lan01', 0.0013732833957552648),\n",
              " ('majorcat6', 0.0013732833957552648),\n",
              " ('b03', 0.0013524760715771579),\n",
              " ('payment01', 0.000915522263836821),\n",
              " ('b07', 0.000915522263836821),\n",
              " ('jobcode7', 0.0008739076154805847),\n",
              " ('ins05', 0.0008322929671243928),\n",
              " ('com_loc', 0.0008322929671243706),\n",
              " ('majorcat3', 0.0005201831044526761),\n",
              " ('lan03', 0.0004993757802746135),\n",
              " ('majorcat2', 0.0004161464835621631),\n",
              " ('enter01', 0.000374531835205949),\n",
              " ('jobcode6', 0.00016645859342485637),\n",
              " ('fam03', 0.0001456512692467493),\n",
              " ('jobcode8', 0.00010403662089053523),\n",
              " ('jobcode10', 0.0)]"
            ]
          },
          "metadata": {},
          "execution_count": 115
        }
      ]
    },
    {
      "cell_type": "code",
      "source": [
        ""
      ],
      "metadata": {
        "id": "9l-s-q106evi"
      },
      "execution_count": null,
      "outputs": []
    },
    {
      "cell_type": "markdown",
      "source": [
        "### 2-3. XGBoost"
      ],
      "metadata": {
        "id": "5q8fbkx8rpqW"
      }
    },
    {
      "cell_type": "code",
      "source": [
        "xgb_ = XGBClassifier(learning_rate = 0.05, scale_pos_weight=4, early_stopping_rounds = 100)\n",
        "params = {\n",
        "    'max_depth' : [4, 6, 8],\n",
        "    'min_samples_split': [8, 16],\n",
        "    'n_estimators': [50, 100, 200, 400]\n",
        "}\n",
        "grid_cv = GridSearchCV(xgb_, param_grid=params, scoring = 'accuracy', cv=5, verbose=1)\n",
        "grid_cv.fit(X_train, y_train)\n",
        "print('GridSearchCV 최고 평균 정확도 수치: {0: .3f}'.format(grid_cv.best_score_))\n",
        "print('GridSearchCV 최적 하이퍼 파라미터:', grid_cv.best_params_)"
      ],
      "metadata": {
        "colab": {
          "base_uri": "https://localhost:8080/"
        },
        "id": "vNnwSG0EQ7uM",
        "outputId": "ecd0f7a8-d2b2-4e56-d2a0-f8c3af22b6b3"
      },
      "execution_count": null,
      "outputs": [
        {
          "output_type": "stream",
          "name": "stdout",
          "text": [
            "Fitting 5 folds for each of 24 candidates, totalling 120 fits\n",
            "GridSearchCV 최고 평균 정확도 수치:  0.843\n",
            "GridSearchCV 최적 하이퍼 파라미터: {'max_depth': 8, 'min_samples_split': 8, 'n_estimators': 400}\n"
          ]
        }
      ]
    },
    {
      "cell_type": "code",
      "source": [
        "xgb_ = XGBClassifier(n_estimators=400, learning_rate = 0.05, max_depth = 8, scale_pos_weight=4,  early_stopping_rounds = 100,min_samples_split = 8)\n",
        "eval_set = [(X_test, y_test)]\n",
        "xgb_.fit(X_train, y_train, eval_metric='error', eval_set = eval_set, verbose=True)\n",
        "w_preds = xgb_.predict(X_test)\n",
        "w_pred_proba = xgb_.predict_proba(X_test)[:,1]"
      ],
      "metadata": {
        "colab": {
          "base_uri": "https://localhost:8080/"
        },
        "id": "sxEzk3Z_aatw",
        "outputId": "02c4bef2-a985-4f5e-e7f4-edc30d28b7a1"
      },
      "execution_count": null,
      "outputs": [
        {
          "output_type": "stream",
          "name": "stdout",
          "text": [
            "[0]\tvalidation_0-error:0.263545\n",
            "[1]\tvalidation_0-error:0.260836\n",
            "[2]\tvalidation_0-error:0.257353\n",
            "[3]\tvalidation_0-error:0.263545\n",
            "[4]\tvalidation_0-error:0.259288\n",
            "[5]\tvalidation_0-error:0.257353\n",
            "[6]\tvalidation_0-error:0.259288\n",
            "[7]\tvalidation_0-error:0.254257\n",
            "[8]\tvalidation_0-error:0.256192\n",
            "[9]\tvalidation_0-error:0.25\n",
            "[10]\tvalidation_0-error:0.245356\n",
            "[11]\tvalidation_0-error:0.246517\n",
            "[12]\tvalidation_0-error:0.244969\n",
            "[13]\tvalidation_0-error:0.248065\n",
            "[14]\tvalidation_0-error:0.248452\n",
            "[15]\tvalidation_0-error:0.239164\n",
            "[16]\tvalidation_0-error:0.237229\n",
            "[17]\tvalidation_0-error:0.234133\n",
            "[18]\tvalidation_0-error:0.236842\n",
            "[19]\tvalidation_0-error:0.234907\n",
            "[20]\tvalidation_0-error:0.233746\n",
            "[21]\tvalidation_0-error:0.232198\n",
            "[22]\tvalidation_0-error:0.230263\n",
            "[23]\tvalidation_0-error:0.228715\n",
            "[24]\tvalidation_0-error:0.22678\n",
            "[25]\tvalidation_0-error:0.227941\n",
            "[26]\tvalidation_0-error:0.228328\n",
            "[27]\tvalidation_0-error:0.227554\n",
            "[28]\tvalidation_0-error:0.229102\n",
            "[29]\tvalidation_0-error:0.228715\n",
            "[30]\tvalidation_0-error:0.228328\n",
            "[31]\tvalidation_0-error:0.229102\n",
            "[32]\tvalidation_0-error:0.229102\n",
            "[33]\tvalidation_0-error:0.228715\n",
            "[34]\tvalidation_0-error:0.228328\n",
            "[35]\tvalidation_0-error:0.227941\n",
            "[36]\tvalidation_0-error:0.224458\n",
            "[37]\tvalidation_0-error:0.224458\n",
            "[38]\tvalidation_0-error:0.224071\n",
            "[39]\tvalidation_0-error:0.225232\n",
            "[40]\tvalidation_0-error:0.221362\n",
            "[41]\tvalidation_0-error:0.218653\n",
            "[42]\tvalidation_0-error:0.220588\n",
            "[43]\tvalidation_0-error:0.221749\n",
            "[44]\tvalidation_0-error:0.220588\n",
            "[45]\tvalidation_0-error:0.217879\n",
            "[46]\tvalidation_0-error:0.217492\n",
            "[47]\tvalidation_0-error:0.217105\n",
            "[48]\tvalidation_0-error:0.217105\n",
            "[49]\tvalidation_0-error:0.21517\n",
            "[50]\tvalidation_0-error:0.21517\n",
            "[51]\tvalidation_0-error:0.214009\n",
            "[52]\tvalidation_0-error:0.214009\n",
            "[53]\tvalidation_0-error:0.2113\n",
            "[54]\tvalidation_0-error:0.211687\n",
            "[55]\tvalidation_0-error:0.210526\n",
            "[56]\tvalidation_0-error:0.208978\n",
            "[57]\tvalidation_0-error:0.207817\n",
            "[58]\tvalidation_0-error:0.209365\n",
            "[59]\tvalidation_0-error:0.209365\n",
            "[60]\tvalidation_0-error:0.208204\n",
            "[61]\tvalidation_0-error:0.210526\n",
            "[62]\tvalidation_0-error:0.209365\n",
            "[63]\tvalidation_0-error:0.209752\n",
            "[64]\tvalidation_0-error:0.209365\n",
            "[65]\tvalidation_0-error:0.208591\n",
            "[66]\tvalidation_0-error:0.20743\n",
            "[67]\tvalidation_0-error:0.207043\n",
            "[68]\tvalidation_0-error:0.207043\n",
            "[69]\tvalidation_0-error:0.207817\n",
            "[70]\tvalidation_0-error:0.205882\n",
            "[71]\tvalidation_0-error:0.203173\n",
            "[72]\tvalidation_0-error:0.202786\n",
            "[73]\tvalidation_0-error:0.202399\n",
            "[74]\tvalidation_0-error:0.202399\n",
            "[75]\tvalidation_0-error:0.201625\n",
            "[76]\tvalidation_0-error:0.201625\n",
            "[77]\tvalidation_0-error:0.200464\n",
            "[78]\tvalidation_0-error:0.200464\n",
            "[79]\tvalidation_0-error:0.201238\n",
            "[80]\tvalidation_0-error:0.201238\n",
            "[81]\tvalidation_0-error:0.200851\n",
            "[82]\tvalidation_0-error:0.200077\n",
            "[83]\tvalidation_0-error:0.202399\n",
            "[84]\tvalidation_0-error:0.200851\n",
            "[85]\tvalidation_0-error:0.19969\n",
            "[86]\tvalidation_0-error:0.19969\n",
            "[87]\tvalidation_0-error:0.19969\n",
            "[88]\tvalidation_0-error:0.198529\n",
            "[89]\tvalidation_0-error:0.196981\n",
            "[90]\tvalidation_0-error:0.198142\n",
            "[91]\tvalidation_0-error:0.198916\n",
            "[92]\tvalidation_0-error:0.198142\n",
            "[93]\tvalidation_0-error:0.198529\n",
            "[94]\tvalidation_0-error:0.199303\n",
            "[95]\tvalidation_0-error:0.197755\n",
            "[96]\tvalidation_0-error:0.197368\n",
            "[97]\tvalidation_0-error:0.196594\n",
            "[98]\tvalidation_0-error:0.196981\n",
            "[99]\tvalidation_0-error:0.196981\n",
            "[100]\tvalidation_0-error:0.196981\n",
            "[101]\tvalidation_0-error:0.196594\n",
            "[102]\tvalidation_0-error:0.196981\n",
            "[103]\tvalidation_0-error:0.197755\n",
            "[104]\tvalidation_0-error:0.197755\n",
            "[105]\tvalidation_0-error:0.197755\n",
            "[106]\tvalidation_0-error:0.197368\n",
            "[107]\tvalidation_0-error:0.198529\n",
            "[108]\tvalidation_0-error:0.199303\n",
            "[109]\tvalidation_0-error:0.198529\n",
            "[110]\tvalidation_0-error:0.198916\n",
            "[111]\tvalidation_0-error:0.198529\n",
            "[112]\tvalidation_0-error:0.198142\n",
            "[113]\tvalidation_0-error:0.196981\n",
            "[114]\tvalidation_0-error:0.196594\n",
            "[115]\tvalidation_0-error:0.197755\n",
            "[116]\tvalidation_0-error:0.197755\n",
            "[117]\tvalidation_0-error:0.198142\n",
            "[118]\tvalidation_0-error:0.197755\n",
            "[119]\tvalidation_0-error:0.197755\n",
            "[120]\tvalidation_0-error:0.197368\n",
            "[121]\tvalidation_0-error:0.198916\n",
            "[122]\tvalidation_0-error:0.199303\n",
            "[123]\tvalidation_0-error:0.198529\n",
            "[124]\tvalidation_0-error:0.197368\n",
            "[125]\tvalidation_0-error:0.197755\n",
            "[126]\tvalidation_0-error:0.198529\n",
            "[127]\tvalidation_0-error:0.19969\n",
            "[128]\tvalidation_0-error:0.198142\n",
            "[129]\tvalidation_0-error:0.198529\n",
            "[130]\tvalidation_0-error:0.198142\n",
            "[131]\tvalidation_0-error:0.197755\n",
            "[132]\tvalidation_0-error:0.196594\n",
            "[133]\tvalidation_0-error:0.196981\n",
            "[134]\tvalidation_0-error:0.196207\n",
            "[135]\tvalidation_0-error:0.196981\n",
            "[136]\tvalidation_0-error:0.197368\n",
            "[137]\tvalidation_0-error:0.196594\n",
            "[138]\tvalidation_0-error:0.196207\n",
            "[139]\tvalidation_0-error:0.197368\n",
            "[140]\tvalidation_0-error:0.196981\n",
            "[141]\tvalidation_0-error:0.198142\n",
            "[142]\tvalidation_0-error:0.198142\n",
            "[143]\tvalidation_0-error:0.198916\n",
            "[144]\tvalidation_0-error:0.199303\n",
            "[145]\tvalidation_0-error:0.19969\n",
            "[146]\tvalidation_0-error:0.19969\n",
            "[147]\tvalidation_0-error:0.199303\n",
            "[148]\tvalidation_0-error:0.199303\n",
            "[149]\tvalidation_0-error:0.197755\n",
            "[150]\tvalidation_0-error:0.197368\n",
            "[151]\tvalidation_0-error:0.198142\n",
            "[152]\tvalidation_0-error:0.196981\n",
            "[153]\tvalidation_0-error:0.197368\n",
            "[154]\tvalidation_0-error:0.196981\n",
            "[155]\tvalidation_0-error:0.196207\n",
            "[156]\tvalidation_0-error:0.197755\n",
            "[157]\tvalidation_0-error:0.198142\n",
            "[158]\tvalidation_0-error:0.198142\n",
            "[159]\tvalidation_0-error:0.196594\n",
            "[160]\tvalidation_0-error:0.197368\n",
            "[161]\tvalidation_0-error:0.196207\n",
            "[162]\tvalidation_0-error:0.19582\n",
            "[163]\tvalidation_0-error:0.196594\n",
            "[164]\tvalidation_0-error:0.196981\n",
            "[165]\tvalidation_0-error:0.197755\n",
            "[166]\tvalidation_0-error:0.197368\n",
            "[167]\tvalidation_0-error:0.196594\n",
            "[168]\tvalidation_0-error:0.197368\n",
            "[169]\tvalidation_0-error:0.196981\n",
            "[170]\tvalidation_0-error:0.196981\n",
            "[171]\tvalidation_0-error:0.19582\n",
            "[172]\tvalidation_0-error:0.195046\n",
            "[173]\tvalidation_0-error:0.195046\n",
            "[174]\tvalidation_0-error:0.193498\n",
            "[175]\tvalidation_0-error:0.194272\n",
            "[176]\tvalidation_0-error:0.195046\n",
            "[177]\tvalidation_0-error:0.195046\n",
            "[178]\tvalidation_0-error:0.195046\n",
            "[179]\tvalidation_0-error:0.195046\n",
            "[180]\tvalidation_0-error:0.196207\n",
            "[181]\tvalidation_0-error:0.195046\n",
            "[182]\tvalidation_0-error:0.19582\n",
            "[183]\tvalidation_0-error:0.19582\n",
            "[184]\tvalidation_0-error:0.195433\n",
            "[185]\tvalidation_0-error:0.195046\n",
            "[186]\tvalidation_0-error:0.195046\n",
            "[187]\tvalidation_0-error:0.195433\n",
            "[188]\tvalidation_0-error:0.193498\n",
            "[189]\tvalidation_0-error:0.193498\n",
            "[190]\tvalidation_0-error:0.195046\n",
            "[191]\tvalidation_0-error:0.195433\n",
            "[192]\tvalidation_0-error:0.195433\n",
            "[193]\tvalidation_0-error:0.196594\n",
            "[194]\tvalidation_0-error:0.196207\n",
            "[195]\tvalidation_0-error:0.195046\n",
            "[196]\tvalidation_0-error:0.19582\n",
            "[197]\tvalidation_0-error:0.195433\n",
            "[198]\tvalidation_0-error:0.195046\n",
            "[199]\tvalidation_0-error:0.194659\n",
            "[200]\tvalidation_0-error:0.193885\n",
            "[201]\tvalidation_0-error:0.194272\n",
            "[202]\tvalidation_0-error:0.194272\n",
            "[203]\tvalidation_0-error:0.195046\n",
            "[204]\tvalidation_0-error:0.194272\n",
            "[205]\tvalidation_0-error:0.194659\n",
            "[206]\tvalidation_0-error:0.193885\n",
            "[207]\tvalidation_0-error:0.19582\n",
            "[208]\tvalidation_0-error:0.193885\n",
            "[209]\tvalidation_0-error:0.194272\n",
            "[210]\tvalidation_0-error:0.195433\n",
            "[211]\tvalidation_0-error:0.196207\n",
            "[212]\tvalidation_0-error:0.196981\n",
            "[213]\tvalidation_0-error:0.196207\n",
            "[214]\tvalidation_0-error:0.195433\n",
            "[215]\tvalidation_0-error:0.196594\n",
            "[216]\tvalidation_0-error:0.196207\n",
            "[217]\tvalidation_0-error:0.196981\n",
            "[218]\tvalidation_0-error:0.197368\n",
            "[219]\tvalidation_0-error:0.197368\n",
            "[220]\tvalidation_0-error:0.196594\n",
            "[221]\tvalidation_0-error:0.196981\n",
            "[222]\tvalidation_0-error:0.196594\n",
            "[223]\tvalidation_0-error:0.196981\n",
            "[224]\tvalidation_0-error:0.196981\n",
            "[225]\tvalidation_0-error:0.196207\n",
            "[226]\tvalidation_0-error:0.196207\n",
            "[227]\tvalidation_0-error:0.195046\n",
            "[228]\tvalidation_0-error:0.194659\n",
            "[229]\tvalidation_0-error:0.195046\n",
            "[230]\tvalidation_0-error:0.194659\n",
            "[231]\tvalidation_0-error:0.194272\n",
            "[232]\tvalidation_0-error:0.193885\n",
            "[233]\tvalidation_0-error:0.193498\n",
            "[234]\tvalidation_0-error:0.193498\n",
            "[235]\tvalidation_0-error:0.194272\n",
            "[236]\tvalidation_0-error:0.194272\n",
            "[237]\tvalidation_0-error:0.193111\n",
            "[238]\tvalidation_0-error:0.193885\n",
            "[239]\tvalidation_0-error:0.194272\n",
            "[240]\tvalidation_0-error:0.194272\n",
            "[241]\tvalidation_0-error:0.193498\n",
            "[242]\tvalidation_0-error:0.193885\n",
            "[243]\tvalidation_0-error:0.195433\n",
            "[244]\tvalidation_0-error:0.195433\n",
            "[245]\tvalidation_0-error:0.19582\n",
            "[246]\tvalidation_0-error:0.195433\n",
            "[247]\tvalidation_0-error:0.193885\n",
            "[248]\tvalidation_0-error:0.193885\n",
            "[249]\tvalidation_0-error:0.193885\n",
            "[250]\tvalidation_0-error:0.193498\n",
            "[251]\tvalidation_0-error:0.193111\n",
            "[252]\tvalidation_0-error:0.193498\n",
            "[253]\tvalidation_0-error:0.193498\n",
            "[254]\tvalidation_0-error:0.193885\n",
            "[255]\tvalidation_0-error:0.193498\n",
            "[256]\tvalidation_0-error:0.192724\n",
            "[257]\tvalidation_0-error:0.193885\n",
            "[258]\tvalidation_0-error:0.193111\n",
            "[259]\tvalidation_0-error:0.193498\n",
            "[260]\tvalidation_0-error:0.193498\n",
            "[261]\tvalidation_0-error:0.193498\n",
            "[262]\tvalidation_0-error:0.194272\n",
            "[263]\tvalidation_0-error:0.193111\n",
            "[264]\tvalidation_0-error:0.193498\n",
            "[265]\tvalidation_0-error:0.192724\n",
            "[266]\tvalidation_0-error:0.193111\n",
            "[267]\tvalidation_0-error:0.193111\n",
            "[268]\tvalidation_0-error:0.193111\n",
            "[269]\tvalidation_0-error:0.193885\n",
            "[270]\tvalidation_0-error:0.193885\n",
            "[271]\tvalidation_0-error:0.193498\n",
            "[272]\tvalidation_0-error:0.193111\n",
            "[273]\tvalidation_0-error:0.193885\n",
            "[274]\tvalidation_0-error:0.194272\n",
            "[275]\tvalidation_0-error:0.193498\n",
            "[276]\tvalidation_0-error:0.193885\n",
            "[277]\tvalidation_0-error:0.194272\n",
            "[278]\tvalidation_0-error:0.193498\n",
            "[279]\tvalidation_0-error:0.193498\n",
            "[280]\tvalidation_0-error:0.193498\n",
            "[281]\tvalidation_0-error:0.194272\n",
            "[282]\tvalidation_0-error:0.194659\n",
            "[283]\tvalidation_0-error:0.195046\n",
            "[284]\tvalidation_0-error:0.194659\n",
            "[285]\tvalidation_0-error:0.194659\n",
            "[286]\tvalidation_0-error:0.195046\n",
            "[287]\tvalidation_0-error:0.195433\n",
            "[288]\tvalidation_0-error:0.195433\n",
            "[289]\tvalidation_0-error:0.19582\n",
            "[290]\tvalidation_0-error:0.19582\n",
            "[291]\tvalidation_0-error:0.195046\n",
            "[292]\tvalidation_0-error:0.194659\n",
            "[293]\tvalidation_0-error:0.195433\n",
            "[294]\tvalidation_0-error:0.195433\n",
            "[295]\tvalidation_0-error:0.195433\n",
            "[296]\tvalidation_0-error:0.194272\n",
            "[297]\tvalidation_0-error:0.193498\n",
            "[298]\tvalidation_0-error:0.194272\n",
            "[299]\tvalidation_0-error:0.194659\n",
            "[300]\tvalidation_0-error:0.196594\n",
            "[301]\tvalidation_0-error:0.196207\n",
            "[302]\tvalidation_0-error:0.19582\n",
            "[303]\tvalidation_0-error:0.195046\n",
            "[304]\tvalidation_0-error:0.194659\n",
            "[305]\tvalidation_0-error:0.195433\n",
            "[306]\tvalidation_0-error:0.195433\n",
            "[307]\tvalidation_0-error:0.195433\n",
            "[308]\tvalidation_0-error:0.196207\n",
            "[309]\tvalidation_0-error:0.19582\n",
            "[310]\tvalidation_0-error:0.195433\n",
            "[311]\tvalidation_0-error:0.196207\n",
            "[312]\tvalidation_0-error:0.196207\n",
            "[313]\tvalidation_0-error:0.195433\n",
            "[314]\tvalidation_0-error:0.195046\n",
            "[315]\tvalidation_0-error:0.195433\n",
            "[316]\tvalidation_0-error:0.194659\n",
            "[317]\tvalidation_0-error:0.194659\n",
            "[318]\tvalidation_0-error:0.195046\n",
            "[319]\tvalidation_0-error:0.194659\n",
            "[320]\tvalidation_0-error:0.194659\n",
            "[321]\tvalidation_0-error:0.195046\n",
            "[322]\tvalidation_0-error:0.195046\n",
            "[323]\tvalidation_0-error:0.195046\n",
            "[324]\tvalidation_0-error:0.194659\n",
            "[325]\tvalidation_0-error:0.194272\n",
            "[326]\tvalidation_0-error:0.194272\n",
            "[327]\tvalidation_0-error:0.194659\n",
            "[328]\tvalidation_0-error:0.194659\n",
            "[329]\tvalidation_0-error:0.195046\n",
            "[330]\tvalidation_0-error:0.195433\n",
            "[331]\tvalidation_0-error:0.194659\n",
            "[332]\tvalidation_0-error:0.195046\n",
            "[333]\tvalidation_0-error:0.195433\n",
            "[334]\tvalidation_0-error:0.19582\n",
            "[335]\tvalidation_0-error:0.196207\n",
            "[336]\tvalidation_0-error:0.19582\n",
            "[337]\tvalidation_0-error:0.195433\n",
            "[338]\tvalidation_0-error:0.19582\n",
            "[339]\tvalidation_0-error:0.196207\n",
            "[340]\tvalidation_0-error:0.195046\n",
            "[341]\tvalidation_0-error:0.196594\n",
            "[342]\tvalidation_0-error:0.196594\n",
            "[343]\tvalidation_0-error:0.197755\n",
            "[344]\tvalidation_0-error:0.196594\n",
            "[345]\tvalidation_0-error:0.196594\n",
            "[346]\tvalidation_0-error:0.196981\n",
            "[347]\tvalidation_0-error:0.196594\n",
            "[348]\tvalidation_0-error:0.196594\n",
            "[349]\tvalidation_0-error:0.196594\n",
            "[350]\tvalidation_0-error:0.196594\n",
            "[351]\tvalidation_0-error:0.195433\n",
            "[352]\tvalidation_0-error:0.19582\n",
            "[353]\tvalidation_0-error:0.196981\n",
            "[354]\tvalidation_0-error:0.196594\n",
            "[355]\tvalidation_0-error:0.196594\n",
            "[356]\tvalidation_0-error:0.196981\n",
            "[357]\tvalidation_0-error:0.197368\n",
            "[358]\tvalidation_0-error:0.197368\n",
            "[359]\tvalidation_0-error:0.197755\n",
            "[360]\tvalidation_0-error:0.197755\n",
            "[361]\tvalidation_0-error:0.197368\n",
            "[362]\tvalidation_0-error:0.197755\n",
            "[363]\tvalidation_0-error:0.197368\n",
            "[364]\tvalidation_0-error:0.196981\n",
            "[365]\tvalidation_0-error:0.196981\n",
            "[366]\tvalidation_0-error:0.196981\n",
            "[367]\tvalidation_0-error:0.196594\n",
            "[368]\tvalidation_0-error:0.196594\n",
            "[369]\tvalidation_0-error:0.197368\n",
            "[370]\tvalidation_0-error:0.196981\n",
            "[371]\tvalidation_0-error:0.197368\n",
            "[372]\tvalidation_0-error:0.196594\n",
            "[373]\tvalidation_0-error:0.196207\n",
            "[374]\tvalidation_0-error:0.196207\n",
            "[375]\tvalidation_0-error:0.196594\n",
            "[376]\tvalidation_0-error:0.196207\n",
            "[377]\tvalidation_0-error:0.196207\n",
            "[378]\tvalidation_0-error:0.19582\n",
            "[379]\tvalidation_0-error:0.197368\n",
            "[380]\tvalidation_0-error:0.196594\n",
            "[381]\tvalidation_0-error:0.196981\n",
            "[382]\tvalidation_0-error:0.196981\n",
            "[383]\tvalidation_0-error:0.196207\n",
            "[384]\tvalidation_0-error:0.196207\n",
            "[385]\tvalidation_0-error:0.19582\n",
            "[386]\tvalidation_0-error:0.196981\n",
            "[387]\tvalidation_0-error:0.197368\n",
            "[388]\tvalidation_0-error:0.196594\n",
            "[389]\tvalidation_0-error:0.196594\n",
            "[390]\tvalidation_0-error:0.196594\n",
            "[391]\tvalidation_0-error:0.196207\n",
            "[392]\tvalidation_0-error:0.196594\n",
            "[393]\tvalidation_0-error:0.196594\n",
            "[394]\tvalidation_0-error:0.196207\n",
            "[395]\tvalidation_0-error:0.196207\n",
            "[396]\tvalidation_0-error:0.196207\n",
            "[397]\tvalidation_0-error:0.19582\n",
            "[398]\tvalidation_0-error:0.19582\n",
            "[399]\tvalidation_0-error:0.196981\n"
          ]
        }
      ]
    },
    {
      "cell_type": "markdown",
      "source": [
        "#### 평가"
      ],
      "metadata": {
        "id": "ZWlIUz37KwUp"
      }
    },
    {
      "cell_type": "code",
      "source": [
        "#시험용데이터\n",
        "get_eval(y_test, w_preds, w_pred_proba)"
      ],
      "metadata": {
        "colab": {
          "base_uri": "https://localhost:8080/"
        },
        "id": "q8keWRo8vuu0",
        "outputId": "95aa6fd8-a1f4-416e-c9d9-279a8b1b44a4"
      },
      "execution_count": null,
      "outputs": [
        {
          "output_type": "stream",
          "name": "stdout",
          "text": [
            "오차행렬\n",
            "[[1889  167]\n",
            " [ 342  186]]\n",
            "정확도:  0.803, 정밀도:  0.527, 재현율:  0.352, F1:  0.422, AUC:  0.760\n"
          ]
        }
      ]
    },
    {
      "cell_type": "code",
      "source": [
        "#학습용데이터\n",
        "tw_preds = xgb_.predict(X_train)\n",
        "tw_pred_proba = xgb_.predict_proba(X_train)[:,1]\n",
        "\n",
        "get_eval(y_train, tw_preds, tw_pred_proba)"
      ],
      "metadata": {
        "colab": {
          "base_uri": "https://localhost:8080/"
        },
        "id": "dZhLPFilz7O0",
        "outputId": "10a7a2e2-79ea-429d-870c-b7cc68e158f5"
      },
      "execution_count": null,
      "outputs": [
        {
          "output_type": "stream",
          "name": "stdout",
          "text": [
            "오차행렬\n",
            "[[4806    0]\n",
            " [  21 4785]]\n",
            "정확도:  0.998, 정밀도:  1.000, 재현율:  0.996, F1:  0.998, AUC:  1.000\n"
          ]
        }
      ]
    },
    {
      "cell_type": "markdown",
      "source": [
        "#### feature importance"
      ],
      "metadata": {
        "id": "JuEJvaZVdSst"
      }
    },
    {
      "cell_type": "code",
      "source": [
        "xgb_.get_booster().get_score(importance_type=\"gain\")"
      ],
      "metadata": {
        "colab": {
          "base_uri": "https://localhost:8080/"
        },
        "id": "-RWOr-Ltsa0F",
        "outputId": "47032325-fdae-4642-a6e6-547385761148"
      },
      "execution_count": null,
      "outputs": [
        {
          "output_type": "execute_result",
          "data": {
            "text/plain": [
              "{'a126': 12.170443914165812,\n",
              " 'a128': 8.669558472208307,\n",
              " 'a129': 2.9742615378823443,\n",
              " 'a130': 3.735487665780554,\n",
              " 'a131': 29.54231745057319,\n",
              " 'a133': 4.653937221820231,\n",
              " 'a134': 12.997503737491266,\n",
              " 'a136': 3.265333071993642,\n",
              " 'a137': 3.74581261334822,\n",
              " 'a138': 6.606866939624599,\n",
              " 'a139': 8.87498618636957,\n",
              " 'a142': 12.253248526044679,\n",
              " 'a143': 4.812405009836359,\n",
              " 'a145': 5.614811002787781,\n",
              " 'a146': 3.6663125575715454,\n",
              " 'age': 2.840064471908059,\n",
              " 'b02': 3.9766741725179107,\n",
              " 'b03': 2.947905641812342,\n",
              " 'b04': 7.859124369205225,\n",
              " 'b05': 3.74872412142702,\n",
              " 'b06': 6.980522189776865,\n",
              " 'b07': 3.6681493622084753,\n",
              " 'com_loc': 2.870980568779162,\n",
              " 'com_size': 3.1245240453445495,\n",
              " 'enter01': 3.5920138868404092,\n",
              " 'enter02': 5.349263225655493,\n",
              " 'fam03': 2.3025861808170736,\n",
              " 'gpa': 3.4210100160744252,\n",
              " 'ins02': 15.538080558111798,\n",
              " 'ins05': 2.7240731154805204,\n",
              " 'jobcode1': 8.048916745231775,\n",
              " 'jobcode10': 2.1127388474,\n",
              " 'jobcode2': 8.03138081021748,\n",
              " 'jobcode3': 11.470612328165215,\n",
              " 'jobcode4': 15.781635930069447,\n",
              " 'jobcode5': 9.600309859999994,\n",
              " 'jobcode6': 5.357718394103773,\n",
              " 'jobcode7': 11.857875359577152,\n",
              " 'jobcode8': 1.9786993837555549,\n",
              " 'jobcode9': 10.737093636888563,\n",
              " 'lan01': 4.3862509016707305,\n",
              " 'lan02': 2.307768764068229,\n",
              " 'lan03': 2.2518951196333323,\n",
              " 'licen02': 2.8879215136924934,\n",
              " 'loan01': 3.7765345465020173,\n",
              " 'majorcat1': 9.049298551416184,\n",
              " 'majorcat2': 6.858719241437616,\n",
              " 'majorcat3': 8.150111005507352,\n",
              " 'majorcat4': 10.703510784110197,\n",
              " 'majorcat5': 10.00652459880305,\n",
              " 'majorcat6': 16.441540383842522,\n",
              " 'majorcat7': 11.076968613336811,\n",
              " 'payment01': 2.7219102223137845,\n",
              " 'payment02': 3.6758897840117735,\n",
              " 'period': 3.731315469720073,\n",
              " 'regular': 4.8945780029390225,\n",
              " 'sex': 4.871822515634205,\n",
              " 'time': 3.490802925231953,\n",
              " 'work04': 10.200425575863823,\n",
              " 'work05': 2.5089796606476056}"
            ]
          },
          "metadata": {},
          "execution_count": 86
        }
      ]
    },
    {
      "cell_type": "code",
      "source": [
        ""
      ],
      "metadata": {
        "id": "87oRYz-jsbME"
      },
      "execution_count": null,
      "outputs": []
    },
    {
      "cell_type": "code",
      "source": [
        ""
      ],
      "metadata": {
        "id": "lSSueO7J7GBg"
      },
      "execution_count": null,
      "outputs": []
    },
    {
      "cell_type": "markdown",
      "source": [
        "### 2-4. LightGBM"
      ],
      "metadata": {
        "id": "N51rSKMdrmrY"
      }
    },
    {
      "cell_type": "code",
      "source": [
        "from lightgbm import LGBMClassifier"
      ],
      "metadata": {
        "id": "0LFwVcxprpcA"
      },
      "execution_count": null,
      "outputs": []
    },
    {
      "cell_type": "code",
      "source": [
        "X_tr, X_val, y_tr, y_val = train_test_split(X_train, y_train, test_size = 0.1, random_state = 60)"
      ],
      "metadata": {
        "id": "07lmcH_DduRs"
      },
      "execution_count": null,
      "outputs": []
    },
    {
      "cell_type": "code",
      "source": [
        "lgbm_wrapper = LGBMClassifier(n_estimators=400, learning_Rate=0.05)\n",
        "\n",
        "eval_set = [(X_tr,y_tr), (X_val,y_val)]\n",
        "lgbm_wrapper.fit(X_tr, y_tr, early_stopping_rounds = 100, eval_set = eval_set, eval_metric=\"error\",verbose=1)\n",
        "preds = lgbm_wrapper.predict(X_test)\n",
        "pred_proba = lgbm_wrapper.predict_proba(X_test)[:,1]"
      ],
      "metadata": {
        "colab": {
          "base_uri": "https://localhost:8080/"
        },
        "id": "RHYrhTLXrzFC",
        "outputId": "2d548da2-9230-43fe-a6c0-45378312d13f"
      },
      "execution_count": null,
      "outputs": [
        {
          "output_type": "stream",
          "name": "stdout",
          "text": [
            "[1]\ttraining's binary_error: 0.195607\ttraining's binary_logloss: 0.652523\tvalid_1's binary_error: 0.233888\tvalid_1's binary_logloss: 0.6581\n",
            "Training until validation scores don't improve for 100 rounds.\n",
            "[2]\ttraining's binary_error: 0.191329\ttraining's binary_logloss: 0.618836\tvalid_1's binary_error: 0.234927\tvalid_1's binary_logloss: 0.628674\n",
            "[3]\ttraining's binary_error: 0.187861\ttraining's binary_logloss: 0.590287\tvalid_1's binary_error: 0.230769\tvalid_1's binary_logloss: 0.604244\n",
            "[4]\ttraining's binary_error: 0.184277\ttraining's binary_logloss: 0.565261\tvalid_1's binary_error: 0.22973\tvalid_1's binary_logloss: 0.581413\n",
            "[5]\ttraining's binary_error: 0.176994\ttraining's binary_logloss: 0.540888\tvalid_1's binary_error: 0.224532\tvalid_1's binary_logloss: 0.561681\n",
            "[6]\ttraining's binary_error: 0.173526\ttraining's binary_logloss: 0.521201\tvalid_1's binary_error: 0.22973\tvalid_1's binary_logloss: 0.545238\n",
            "[7]\ttraining's binary_error: 0.167399\ttraining's binary_logloss: 0.503664\tvalid_1's binary_error: 0.220374\tvalid_1's binary_logloss: 0.530656\n",
            "[8]\ttraining's binary_error: 0.165434\ttraining's binary_logloss: 0.48766\tvalid_1's binary_error: 0.222453\tvalid_1's binary_logloss: 0.520122\n",
            "[9]\ttraining's binary_error: 0.163699\ttraining's binary_logloss: 0.472903\tvalid_1's binary_error: 0.219335\tvalid_1's binary_logloss: 0.508288\n",
            "[10]\ttraining's binary_error: 0.159653\ttraining's binary_logloss: 0.460193\tvalid_1's binary_error: 0.219335\tvalid_1's binary_logloss: 0.49883\n",
            "[11]\ttraining's binary_error: 0.156301\ttraining's binary_logloss: 0.446012\tvalid_1's binary_error: 0.213098\tvalid_1's binary_logloss: 0.48598\n",
            "[12]\ttraining's binary_error: 0.154566\ttraining's binary_logloss: 0.434667\tvalid_1's binary_error: 0.213098\tvalid_1's binary_logloss: 0.476743\n",
            "[13]\ttraining's binary_error: 0.154335\ttraining's binary_logloss: 0.425264\tvalid_1's binary_error: 0.212058\tvalid_1's binary_logloss: 0.46944\n",
            "[14]\ttraining's binary_error: 0.150636\ttraining's binary_logloss: 0.416471\tvalid_1's binary_error: 0.213098\tvalid_1's binary_logloss: 0.462917\n",
            "[15]\ttraining's binary_error: 0.146474\ttraining's binary_logloss: 0.40537\tvalid_1's binary_error: 0.205821\tvalid_1's binary_logloss: 0.452446\n",
            "[16]\ttraining's binary_error: 0.146012\ttraining's binary_logloss: 0.396457\tvalid_1's binary_error: 0.204782\tvalid_1's binary_logloss: 0.445409\n",
            "[17]\ttraining's binary_error: 0.143121\ttraining's binary_logloss: 0.388738\tvalid_1's binary_error: 0.200624\tvalid_1's binary_logloss: 0.439667\n",
            "[18]\ttraining's binary_error: 0.140347\ttraining's binary_logloss: 0.379655\tvalid_1's binary_error: 0.195426\tvalid_1's binary_logloss: 0.430337\n",
            "[19]\ttraining's binary_error: 0.138035\ttraining's binary_logloss: 0.372916\tvalid_1's binary_error: 0.193347\tvalid_1's binary_logloss: 0.424155\n",
            "[20]\ttraining's binary_error: 0.135376\ttraining's binary_logloss: 0.364998\tvalid_1's binary_error: 0.189189\tvalid_1's binary_logloss: 0.417052\n",
            "[21]\ttraining's binary_error: 0.133526\ttraining's binary_logloss: 0.357877\tvalid_1's binary_error: 0.18815\tvalid_1's binary_logloss: 0.410956\n",
            "[22]\ttraining's binary_error: 0.129827\ttraining's binary_logloss: 0.350023\tvalid_1's binary_error: 0.185031\tvalid_1's binary_logloss: 0.404102\n",
            "[23]\ttraining's binary_error: 0.127283\ttraining's binary_logloss: 0.343889\tvalid_1's binary_error: 0.180873\tvalid_1's binary_logloss: 0.399055\n",
            "[24]\ttraining's binary_error: 0.126127\ttraining's binary_logloss: 0.338252\tvalid_1's binary_error: 0.180873\tvalid_1's binary_logloss: 0.393938\n",
            "[25]\ttraining's binary_error: 0.125087\ttraining's binary_logloss: 0.333619\tvalid_1's binary_error: 0.178794\tvalid_1's binary_logloss: 0.390205\n",
            "[26]\ttraining's binary_error: 0.124046\ttraining's binary_logloss: 0.328919\tvalid_1's binary_error: 0.175676\tvalid_1's binary_logloss: 0.386875\n",
            "[27]\ttraining's binary_error: 0.123353\ttraining's binary_logloss: 0.324473\tvalid_1's binary_error: 0.175676\tvalid_1's binary_logloss: 0.384248\n",
            "[28]\ttraining's binary_error: 0.120231\ttraining's binary_logloss: 0.319164\tvalid_1's binary_error: 0.172557\tvalid_1's binary_logloss: 0.379342\n",
            "[29]\ttraining's binary_error: 0.118497\ttraining's binary_logloss: 0.314629\tvalid_1's binary_error: 0.170478\tvalid_1's binary_logloss: 0.376515\n",
            "[30]\ttraining's binary_error: 0.11526\ttraining's binary_logloss: 0.30722\tvalid_1's binary_error: 0.169439\tvalid_1's binary_logloss: 0.369951\n",
            "[31]\ttraining's binary_error: 0.112139\ttraining's binary_logloss: 0.302669\tvalid_1's binary_error: 0.168399\tvalid_1's binary_logloss: 0.366486\n",
            "[32]\ttraining's binary_error: 0.11052\ttraining's binary_logloss: 0.296816\tvalid_1's binary_error: 0.16632\tvalid_1's binary_logloss: 0.361775\n",
            "[33]\ttraining's binary_error: 0.109133\ttraining's binary_logloss: 0.292229\tvalid_1's binary_error: 0.165281\tvalid_1's binary_logloss: 0.358041\n",
            "[34]\ttraining's binary_error: 0.107052\ttraining's binary_logloss: 0.288174\tvalid_1's binary_error: 0.162162\tvalid_1's binary_logloss: 0.355298\n",
            "[35]\ttraining's binary_error: 0.104624\ttraining's binary_logloss: 0.284549\tvalid_1's binary_error: 0.160083\tvalid_1's binary_logloss: 0.352435\n",
            "[36]\ttraining's binary_error: 0.103006\ttraining's binary_logloss: 0.280439\tvalid_1's binary_error: 0.160083\tvalid_1's binary_logloss: 0.348856\n",
            "[37]\ttraining's binary_error: 0.101272\ttraining's binary_logloss: 0.276114\tvalid_1's binary_error: 0.156965\tvalid_1's binary_logloss: 0.345001\n",
            "[38]\ttraining's binary_error: 0.100347\ttraining's binary_logloss: 0.272768\tvalid_1's binary_error: 0.153846\tvalid_1's binary_logloss: 0.342447\n",
            "[39]\ttraining's binary_error: 0.1\ttraining's binary_logloss: 0.269707\tvalid_1's binary_error: 0.154886\tvalid_1's binary_logloss: 0.339335\n",
            "[40]\ttraining's binary_error: 0.0990751\ttraining's binary_logloss: 0.26591\tvalid_1's binary_error: 0.152807\tvalid_1's binary_logloss: 0.336006\n",
            "[41]\ttraining's binary_error: 0.0974566\ttraining's binary_logloss: 0.26324\tvalid_1's binary_error: 0.154886\tvalid_1's binary_logloss: 0.335284\n",
            "[42]\ttraining's binary_error: 0.096185\ttraining's binary_logloss: 0.259876\tvalid_1's binary_error: 0.151767\tvalid_1's binary_logloss: 0.333049\n",
            "[43]\ttraining's binary_error: 0.0950289\ttraining's binary_logloss: 0.257572\tvalid_1's binary_error: 0.155925\tvalid_1's binary_logloss: 0.3327\n",
            "[44]\ttraining's binary_error: 0.0942197\ttraining's binary_logloss: 0.254034\tvalid_1's binary_error: 0.152807\tvalid_1's binary_logloss: 0.330415\n",
            "[45]\ttraining's binary_error: 0.092948\ttraining's binary_logloss: 0.251091\tvalid_1's binary_error: 0.149688\tvalid_1's binary_logloss: 0.328406\n",
            "[46]\ttraining's binary_error: 0.0936416\ttraining's binary_logloss: 0.248363\tvalid_1's binary_error: 0.149688\tvalid_1's binary_logloss: 0.326504\n",
            "[47]\ttraining's binary_error: 0.0927168\ttraining's binary_logloss: 0.246285\tvalid_1's binary_error: 0.14657\tvalid_1's binary_logloss: 0.325996\n",
            "[48]\ttraining's binary_error: 0.0923699\ttraining's binary_logloss: 0.244066\tvalid_1's binary_error: 0.144491\tvalid_1's binary_logloss: 0.324861\n",
            "[49]\ttraining's binary_error: 0.090289\ttraining's binary_logloss: 0.241851\tvalid_1's binary_error: 0.141372\tvalid_1's binary_logloss: 0.324814\n",
            "[50]\ttraining's binary_error: 0.0898266\ttraining's binary_logloss: 0.239828\tvalid_1's binary_error: 0.141372\tvalid_1's binary_logloss: 0.324231\n",
            "[51]\ttraining's binary_error: 0.0890173\ttraining's binary_logloss: 0.238229\tvalid_1's binary_error: 0.139293\tvalid_1's binary_logloss: 0.323551\n",
            "[52]\ttraining's binary_error: 0.0875145\ttraining's binary_logloss: 0.235718\tvalid_1's binary_error: 0.142412\tvalid_1's binary_logloss: 0.322527\n",
            "[53]\ttraining's binary_error: 0.0868208\ttraining's binary_logloss: 0.233914\tvalid_1's binary_error: 0.142412\tvalid_1's binary_logloss: 0.322915\n",
            "[54]\ttraining's binary_error: 0.0868208\ttraining's binary_logloss: 0.231651\tvalid_1's binary_error: 0.144491\tvalid_1's binary_logloss: 0.32183\n",
            "[55]\ttraining's binary_error: 0.0847399\ttraining's binary_logloss: 0.229925\tvalid_1's binary_error: 0.142412\tvalid_1's binary_logloss: 0.322313\n",
            "[56]\ttraining's binary_error: 0.0842775\ttraining's binary_logloss: 0.228431\tvalid_1's binary_error: 0.142412\tvalid_1's binary_logloss: 0.321666\n",
            "[57]\ttraining's binary_error: 0.0834682\ttraining's binary_logloss: 0.226771\tvalid_1's binary_error: 0.139293\tvalid_1's binary_logloss: 0.321695\n",
            "[58]\ttraining's binary_error: 0.0828902\ttraining's binary_logloss: 0.225199\tvalid_1's binary_error: 0.140333\tvalid_1's binary_logloss: 0.322651\n",
            "[59]\ttraining's binary_error: 0.0821965\ttraining's binary_logloss: 0.223078\tvalid_1's binary_error: 0.139293\tvalid_1's binary_logloss: 0.321362\n",
            "[60]\ttraining's binary_error: 0.0809249\ttraining's binary_logloss: 0.221643\tvalid_1's binary_error: 0.138254\tvalid_1's binary_logloss: 0.320876\n",
            "[61]\ttraining's binary_error: 0.0796532\ttraining's binary_logloss: 0.220087\tvalid_1's binary_error: 0.141372\tvalid_1's binary_logloss: 0.320328\n",
            "[62]\ttraining's binary_error: 0.0793064\ttraining's binary_logloss: 0.218659\tvalid_1's binary_error: 0.143451\tvalid_1's binary_logloss: 0.319917\n",
            "[63]\ttraining's binary_error: 0.0784971\ttraining's binary_logloss: 0.217181\tvalid_1's binary_error: 0.142412\tvalid_1's binary_logloss: 0.319123\n",
            "[64]\ttraining's binary_error: 0.0776879\ttraining's binary_logloss: 0.215911\tvalid_1's binary_error: 0.142412\tvalid_1's binary_logloss: 0.319047\n",
            "[65]\ttraining's binary_error: 0.0768786\ttraining's binary_logloss: 0.214552\tvalid_1's binary_error: 0.141372\tvalid_1's binary_logloss: 0.319684\n",
            "[66]\ttraining's binary_error: 0.0765318\ttraining's binary_logloss: 0.213168\tvalid_1's binary_error: 0.140333\tvalid_1's binary_logloss: 0.319793\n",
            "[67]\ttraining's binary_error: 0.0756069\ttraining's binary_logloss: 0.211795\tvalid_1's binary_error: 0.140333\tvalid_1's binary_logloss: 0.319531\n",
            "[68]\ttraining's binary_error: 0.0746821\ttraining's binary_logloss: 0.210441\tvalid_1's binary_error: 0.141372\tvalid_1's binary_logloss: 0.319769\n",
            "[69]\ttraining's binary_error: 0.0737572\ttraining's binary_logloss: 0.209117\tvalid_1's binary_error: 0.142412\tvalid_1's binary_logloss: 0.319531\n",
            "[70]\ttraining's binary_error: 0.0734104\ttraining's binary_logloss: 0.207977\tvalid_1's binary_error: 0.144491\tvalid_1's binary_logloss: 0.319496\n",
            "[71]\ttraining's binary_error: 0.0727168\ttraining's binary_logloss: 0.20671\tvalid_1's binary_error: 0.140333\tvalid_1's binary_logloss: 0.318971\n",
            "[72]\ttraining's binary_error: 0.0723699\ttraining's binary_logloss: 0.205689\tvalid_1's binary_error: 0.141372\tvalid_1's binary_logloss: 0.318875\n",
            "[73]\ttraining's binary_error: 0.0717919\ttraining's binary_logloss: 0.204451\tvalid_1's binary_error: 0.139293\tvalid_1's binary_logloss: 0.318883\n",
            "[74]\ttraining's binary_error: 0.0708671\ttraining's binary_logloss: 0.203201\tvalid_1's binary_error: 0.139293\tvalid_1's binary_logloss: 0.318045\n",
            "[75]\ttraining's binary_error: 0.0698266\ttraining's binary_logloss: 0.202147\tvalid_1's binary_error: 0.140333\tvalid_1's binary_logloss: 0.318479\n",
            "[76]\ttraining's binary_error: 0.0686705\ttraining's binary_logloss: 0.200986\tvalid_1's binary_error: 0.140333\tvalid_1's binary_logloss: 0.318486\n",
            "[77]\ttraining's binary_error: 0.0683237\ttraining's binary_logloss: 0.199907\tvalid_1's binary_error: 0.141372\tvalid_1's binary_logloss: 0.318363\n",
            "[78]\ttraining's binary_error: 0.0675145\ttraining's binary_logloss: 0.198885\tvalid_1's binary_error: 0.140333\tvalid_1's binary_logloss: 0.318686\n",
            "[79]\ttraining's binary_error: 0.0672832\ttraining's binary_logloss: 0.197762\tvalid_1's binary_error: 0.140333\tvalid_1's binary_logloss: 0.318443\n",
            "[80]\ttraining's binary_error: 0.0669364\ttraining's binary_logloss: 0.196432\tvalid_1's binary_error: 0.137214\tvalid_1's binary_logloss: 0.318102\n",
            "[81]\ttraining's binary_error: 0.0662428\ttraining's binary_logloss: 0.195065\tvalid_1's binary_error: 0.135135\tvalid_1's binary_logloss: 0.317634\n",
            "[82]\ttraining's binary_error: 0.065896\ttraining's binary_logloss: 0.194205\tvalid_1's binary_error: 0.135135\tvalid_1's binary_logloss: 0.317714\n",
            "[83]\ttraining's binary_error: 0.0654335\ttraining's binary_logloss: 0.192764\tvalid_1's binary_error: 0.136175\tvalid_1's binary_logloss: 0.316592\n",
            "[84]\ttraining's binary_error: 0.0645087\ttraining's binary_logloss: 0.191565\tvalid_1's binary_error: 0.136175\tvalid_1's binary_logloss: 0.316719\n",
            "[85]\ttraining's binary_error: 0.0636994\ttraining's binary_logloss: 0.190526\tvalid_1's binary_error: 0.136175\tvalid_1's binary_logloss: 0.316795\n",
            "[86]\ttraining's binary_error: 0.0628902\ttraining's binary_logloss: 0.189177\tvalid_1's binary_error: 0.138254\tvalid_1's binary_logloss: 0.316341\n",
            "[87]\ttraining's binary_error: 0.0619653\ttraining's binary_logloss: 0.188099\tvalid_1's binary_error: 0.134096\tvalid_1's binary_logloss: 0.316339\n",
            "[88]\ttraining's binary_error: 0.0610405\ttraining's binary_logloss: 0.187176\tvalid_1's binary_error: 0.135135\tvalid_1's binary_logloss: 0.316652\n",
            "[89]\ttraining's binary_error: 0.0604624\ttraining's binary_logloss: 0.186002\tvalid_1's binary_error: 0.135135\tvalid_1's binary_logloss: 0.316617\n",
            "[90]\ttraining's binary_error: 0.0597688\ttraining's binary_logloss: 0.184847\tvalid_1's binary_error: 0.133056\tvalid_1's binary_logloss: 0.316595\n",
            "[91]\ttraining's binary_error: 0.0589595\ttraining's binary_logloss: 0.183851\tvalid_1's binary_error: 0.130977\tvalid_1's binary_logloss: 0.316018\n",
            "[92]\ttraining's binary_error: 0.0586127\ttraining's binary_logloss: 0.182815\tvalid_1's binary_error: 0.134096\tvalid_1's binary_logloss: 0.31605\n",
            "[93]\ttraining's binary_error: 0.0582659\ttraining's binary_logloss: 0.181913\tvalid_1's binary_error: 0.134096\tvalid_1's binary_logloss: 0.316219\n",
            "[94]\ttraining's binary_error: 0.0578035\ttraining's binary_logloss: 0.180737\tvalid_1's binary_error: 0.135135\tvalid_1's binary_logloss: 0.316356\n",
            "[95]\ttraining's binary_error: 0.0564162\ttraining's binary_logloss: 0.179591\tvalid_1's binary_error: 0.137214\tvalid_1's binary_logloss: 0.316612\n",
            "[96]\ttraining's binary_error: 0.0560694\ttraining's binary_logloss: 0.178504\tvalid_1's binary_error: 0.138254\tvalid_1's binary_logloss: 0.316694\n",
            "[97]\ttraining's binary_error: 0.0547977\ttraining's binary_logloss: 0.177383\tvalid_1's binary_error: 0.137214\tvalid_1's binary_logloss: 0.316455\n",
            "[98]\ttraining's binary_error: 0.0544509\ttraining's binary_logloss: 0.176533\tvalid_1's binary_error: 0.139293\tvalid_1's binary_logloss: 0.316475\n",
            "[99]\ttraining's binary_error: 0.0534104\ttraining's binary_logloss: 0.175677\tvalid_1's binary_error: 0.139293\tvalid_1's binary_logloss: 0.316374\n",
            "[100]\ttraining's binary_error: 0.0537572\ttraining's binary_logloss: 0.17456\tvalid_1's binary_error: 0.138254\tvalid_1's binary_logloss: 0.315832\n",
            "[101]\ttraining's binary_error: 0.0528324\ttraining's binary_logloss: 0.173503\tvalid_1's binary_error: 0.138254\tvalid_1's binary_logloss: 0.315678\n",
            "[102]\ttraining's binary_error: 0.0523699\ttraining's binary_logloss: 0.172524\tvalid_1's binary_error: 0.140333\tvalid_1's binary_logloss: 0.315421\n",
            "[103]\ttraining's binary_error: 0.0524855\ttraining's binary_logloss: 0.171829\tvalid_1's binary_error: 0.139293\tvalid_1's binary_logloss: 0.315556\n",
            "[104]\ttraining's binary_error: 0.0522543\ttraining's binary_logloss: 0.171149\tvalid_1's binary_error: 0.139293\tvalid_1's binary_logloss: 0.315214\n",
            "[105]\ttraining's binary_error: 0.0521387\ttraining's binary_logloss: 0.1701\tvalid_1's binary_error: 0.139293\tvalid_1's binary_logloss: 0.31447\n",
            "[106]\ttraining's binary_error: 0.0509827\ttraining's binary_logloss: 0.168824\tvalid_1's binary_error: 0.138254\tvalid_1's binary_logloss: 0.313965\n",
            "[107]\ttraining's binary_error: 0.0510983\ttraining's binary_logloss: 0.168055\tvalid_1's binary_error: 0.135135\tvalid_1's binary_logloss: 0.313932\n",
            "[108]\ttraining's binary_error: 0.050289\ttraining's binary_logloss: 0.167255\tvalid_1's binary_error: 0.135135\tvalid_1's binary_logloss: 0.314586\n",
            "[109]\ttraining's binary_error: 0.0498266\ttraining's binary_logloss: 0.166539\tvalid_1's binary_error: 0.134096\tvalid_1's binary_logloss: 0.314588\n",
            "[110]\ttraining's binary_error: 0.0491329\ttraining's binary_logloss: 0.165395\tvalid_1's binary_error: 0.135135\tvalid_1's binary_logloss: 0.314205\n",
            "[111]\ttraining's binary_error: 0.0482081\ttraining's binary_logloss: 0.16444\tvalid_1's binary_error: 0.136175\tvalid_1's binary_logloss: 0.314265\n",
            "[112]\ttraining's binary_error: 0.0471676\ttraining's binary_logloss: 0.163594\tvalid_1's binary_error: 0.135135\tvalid_1's binary_logloss: 0.314764\n",
            "[113]\ttraining's binary_error: 0.0467052\ttraining's binary_logloss: 0.162642\tvalid_1's binary_error: 0.137214\tvalid_1's binary_logloss: 0.314359\n",
            "[114]\ttraining's binary_error: 0.0462428\ttraining's binary_logloss: 0.161847\tvalid_1's binary_error: 0.136175\tvalid_1's binary_logloss: 0.314065\n",
            "[115]\ttraining's binary_error: 0.045896\ttraining's binary_logloss: 0.161191\tvalid_1's binary_error: 0.134096\tvalid_1's binary_logloss: 0.314512\n",
            "[116]\ttraining's binary_error: 0.0453179\ttraining's binary_logloss: 0.160469\tvalid_1's binary_error: 0.136175\tvalid_1's binary_logloss: 0.314387\n",
            "[117]\ttraining's binary_error: 0.0449711\ttraining's binary_logloss: 0.159801\tvalid_1's binary_error: 0.136175\tvalid_1's binary_logloss: 0.314461\n",
            "[118]\ttraining's binary_error: 0.0448555\ttraining's binary_logloss: 0.158934\tvalid_1's binary_error: 0.132017\tvalid_1's binary_logloss: 0.314564\n",
            "[119]\ttraining's binary_error: 0.0446243\ttraining's binary_logloss: 0.158365\tvalid_1's binary_error: 0.132017\tvalid_1's binary_logloss: 0.314455\n",
            "[120]\ttraining's binary_error: 0.0445087\ttraining's binary_logloss: 0.157611\tvalid_1's binary_error: 0.130977\tvalid_1's binary_logloss: 0.314362\n",
            "[121]\ttraining's binary_error: 0.0439306\ttraining's binary_logloss: 0.156899\tvalid_1's binary_error: 0.132017\tvalid_1's binary_logloss: 0.314488\n",
            "[122]\ttraining's binary_error: 0.0434682\ttraining's binary_logloss: 0.156311\tvalid_1's binary_error: 0.133056\tvalid_1's binary_logloss: 0.314421\n",
            "[123]\ttraining's binary_error: 0.0427746\ttraining's binary_logloss: 0.155211\tvalid_1's binary_error: 0.134096\tvalid_1's binary_logloss: 0.314231\n",
            "[124]\ttraining's binary_error: 0.0424277\ttraining's binary_logloss: 0.15438\tvalid_1's binary_error: 0.134096\tvalid_1's binary_logloss: 0.313917\n",
            "[125]\ttraining's binary_error: 0.0423121\ttraining's binary_logloss: 0.15353\tvalid_1's binary_error: 0.134096\tvalid_1's binary_logloss: 0.314054\n",
            "[126]\ttraining's binary_error: 0.0418497\ttraining's binary_logloss: 0.152882\tvalid_1's binary_error: 0.135135\tvalid_1's binary_logloss: 0.314113\n",
            "[127]\ttraining's binary_error: 0.0417341\ttraining's binary_logloss: 0.152314\tvalid_1's binary_error: 0.135135\tvalid_1's binary_logloss: 0.314144\n",
            "[128]\ttraining's binary_error: 0.0411561\ttraining's binary_logloss: 0.151292\tvalid_1's binary_error: 0.134096\tvalid_1's binary_logloss: 0.313801\n",
            "[129]\ttraining's binary_error: 0.0411561\ttraining's binary_logloss: 0.150554\tvalid_1's binary_error: 0.134096\tvalid_1's binary_logloss: 0.313552\n",
            "[130]\ttraining's binary_error: 0.0408092\ttraining's binary_logloss: 0.149736\tvalid_1's binary_error: 0.133056\tvalid_1's binary_logloss: 0.313152\n",
            "[131]\ttraining's binary_error: 0.0404624\ttraining's binary_logloss: 0.148792\tvalid_1's binary_error: 0.133056\tvalid_1's binary_logloss: 0.313248\n",
            "[132]\ttraining's binary_error: 0.0396532\ttraining's binary_logloss: 0.147714\tvalid_1's binary_error: 0.133056\tvalid_1's binary_logloss: 0.312424\n",
            "[133]\ttraining's binary_error: 0.0388439\ttraining's binary_logloss: 0.14681\tvalid_1's binary_error: 0.133056\tvalid_1's binary_logloss: 0.312594\n",
            "[134]\ttraining's binary_error: 0.0382659\ttraining's binary_logloss: 0.146113\tvalid_1's binary_error: 0.134096\tvalid_1's binary_logloss: 0.312884\n",
            "[135]\ttraining's binary_error: 0.037341\ttraining's binary_logloss: 0.145354\tvalid_1's binary_error: 0.133056\tvalid_1's binary_logloss: 0.312855\n",
            "[136]\ttraining's binary_error: 0.0372254\ttraining's binary_logloss: 0.14449\tvalid_1's binary_error: 0.133056\tvalid_1's binary_logloss: 0.31223\n",
            "[137]\ttraining's binary_error: 0.0369942\ttraining's binary_logloss: 0.143793\tvalid_1's binary_error: 0.133056\tvalid_1's binary_logloss: 0.312357\n",
            "[138]\ttraining's binary_error: 0.0366474\ttraining's binary_logloss: 0.14302\tvalid_1's binary_error: 0.133056\tvalid_1's binary_logloss: 0.312266\n",
            "[139]\ttraining's binary_error: 0.0363006\ttraining's binary_logloss: 0.142193\tvalid_1's binary_error: 0.132017\tvalid_1's binary_logloss: 0.31238\n",
            "[140]\ttraining's binary_error: 0.0360694\ttraining's binary_logloss: 0.141416\tvalid_1's binary_error: 0.133056\tvalid_1's binary_logloss: 0.312464\n",
            "[141]\ttraining's binary_error: 0.0354913\ttraining's binary_logloss: 0.140682\tvalid_1's binary_error: 0.132017\tvalid_1's binary_logloss: 0.312339\n",
            "[142]\ttraining's binary_error: 0.0349133\ttraining's binary_logloss: 0.140063\tvalid_1's binary_error: 0.132017\tvalid_1's binary_logloss: 0.31274\n",
            "[143]\ttraining's binary_error: 0.0345665\ttraining's binary_logloss: 0.139415\tvalid_1's binary_error: 0.129938\tvalid_1's binary_logloss: 0.312507\n",
            "[144]\ttraining's binary_error: 0.0344509\ttraining's binary_logloss: 0.138937\tvalid_1's binary_error: 0.130977\tvalid_1's binary_logloss: 0.313132\n",
            "[145]\ttraining's binary_error: 0.0345665\ttraining's binary_logloss: 0.137974\tvalid_1's binary_error: 0.134096\tvalid_1's binary_logloss: 0.313218\n",
            "[146]\ttraining's binary_error: 0.0342197\ttraining's binary_logloss: 0.137388\tvalid_1's binary_error: 0.135135\tvalid_1's binary_logloss: 0.314041\n",
            "[147]\ttraining's binary_error: 0.0336416\ttraining's binary_logloss: 0.13664\tvalid_1's binary_error: 0.135135\tvalid_1's binary_logloss: 0.314517\n",
            "[148]\ttraining's binary_error: 0.0332948\ttraining's binary_logloss: 0.135917\tvalid_1's binary_error: 0.135135\tvalid_1's binary_logloss: 0.314115\n",
            "[149]\ttraining's binary_error: 0.0330636\ttraining's binary_logloss: 0.135257\tvalid_1's binary_error: 0.135135\tvalid_1's binary_logloss: 0.313947\n",
            "[150]\ttraining's binary_error: 0.0328324\ttraining's binary_logloss: 0.13475\tvalid_1's binary_error: 0.135135\tvalid_1's binary_logloss: 0.314301\n",
            "[151]\ttraining's binary_error: 0.0324855\ttraining's binary_logloss: 0.134087\tvalid_1's binary_error: 0.134096\tvalid_1's binary_logloss: 0.314603\n",
            "[152]\ttraining's binary_error: 0.0322543\ttraining's binary_logloss: 0.133458\tvalid_1's binary_error: 0.133056\tvalid_1's binary_logloss: 0.315116\n",
            "[153]\ttraining's binary_error: 0.0313295\ttraining's binary_logloss: 0.13272\tvalid_1's binary_error: 0.133056\tvalid_1's binary_logloss: 0.315231\n",
            "[154]\ttraining's binary_error: 0.0308671\ttraining's binary_logloss: 0.131875\tvalid_1's binary_error: 0.132017\tvalid_1's binary_logloss: 0.314914\n",
            "[155]\ttraining's binary_error: 0.030289\ttraining's binary_logloss: 0.131256\tvalid_1's binary_error: 0.132017\tvalid_1's binary_logloss: 0.314268\n",
            "[156]\ttraining's binary_error: 0.0295954\ttraining's binary_logloss: 0.130623\tvalid_1's binary_error: 0.132017\tvalid_1's binary_logloss: 0.314051\n",
            "[157]\ttraining's binary_error: 0.0291329\ttraining's binary_logloss: 0.130008\tvalid_1's binary_error: 0.133056\tvalid_1's binary_logloss: 0.314505\n",
            "[158]\ttraining's binary_error: 0.0285549\ttraining's binary_logloss: 0.129156\tvalid_1's binary_error: 0.130977\tvalid_1's binary_logloss: 0.31494\n",
            "[159]\ttraining's binary_error: 0.0283237\ttraining's binary_logloss: 0.128587\tvalid_1's binary_error: 0.129938\tvalid_1's binary_logloss: 0.314784\n",
            "[160]\ttraining's binary_error: 0.0279769\ttraining's binary_logloss: 0.127999\tvalid_1's binary_error: 0.132017\tvalid_1's binary_logloss: 0.314586\n",
            "[161]\ttraining's binary_error: 0.0276301\ttraining's binary_logloss: 0.127462\tvalid_1's binary_error: 0.132017\tvalid_1's binary_logloss: 0.315079\n",
            "[162]\ttraining's binary_error: 0.0271676\ttraining's binary_logloss: 0.126568\tvalid_1's binary_error: 0.130977\tvalid_1's binary_logloss: 0.315166\n",
            "[163]\ttraining's binary_error: 0.0271676\ttraining's binary_logloss: 0.126148\tvalid_1's binary_error: 0.132017\tvalid_1's binary_logloss: 0.31533\n",
            "[164]\ttraining's binary_error: 0.027052\ttraining's binary_logloss: 0.125389\tvalid_1's binary_error: 0.134096\tvalid_1's binary_logloss: 0.3149\n",
            "[165]\ttraining's binary_error: 0.0265896\ttraining's binary_logloss: 0.124678\tvalid_1's binary_error: 0.132017\tvalid_1's binary_logloss: 0.314424\n",
            "[166]\ttraining's binary_error: 0.0263584\ttraining's binary_logloss: 0.124062\tvalid_1's binary_error: 0.132017\tvalid_1's binary_logloss: 0.314522\n",
            "[167]\ttraining's binary_error: 0.0263584\ttraining's binary_logloss: 0.123501\tvalid_1's binary_error: 0.130977\tvalid_1's binary_logloss: 0.314555\n",
            "[168]\ttraining's binary_error: 0.0260116\ttraining's binary_logloss: 0.122738\tvalid_1's binary_error: 0.129938\tvalid_1's binary_logloss: 0.314601\n",
            "[169]\ttraining's binary_error: 0.0253179\ttraining's binary_logloss: 0.122028\tvalid_1's binary_error: 0.129938\tvalid_1's binary_logloss: 0.314483\n",
            "[170]\ttraining's binary_error: 0.0253179\ttraining's binary_logloss: 0.121347\tvalid_1's binary_error: 0.129938\tvalid_1's binary_logloss: 0.314643\n",
            "[171]\ttraining's binary_error: 0.0249711\ttraining's binary_logloss: 0.120931\tvalid_1's binary_error: 0.132017\tvalid_1's binary_logloss: 0.314848\n",
            "[172]\ttraining's binary_error: 0.0248555\ttraining's binary_logloss: 0.120544\tvalid_1's binary_error: 0.133056\tvalid_1's binary_logloss: 0.314792\n",
            "[173]\ttraining's binary_error: 0.0243931\ttraining's binary_logloss: 0.120059\tvalid_1's binary_error: 0.133056\tvalid_1's binary_logloss: 0.315062\n",
            "[174]\ttraining's binary_error: 0.023815\ttraining's binary_logloss: 0.119519\tvalid_1's binary_error: 0.133056\tvalid_1's binary_logloss: 0.315653\n",
            "[175]\ttraining's binary_error: 0.0240462\ttraining's binary_logloss: 0.118923\tvalid_1's binary_error: 0.133056\tvalid_1's binary_logloss: 0.316299\n",
            "[176]\ttraining's binary_error: 0.023815\ttraining's binary_logloss: 0.118287\tvalid_1's binary_error: 0.133056\tvalid_1's binary_logloss: 0.316289\n",
            "[177]\ttraining's binary_error: 0.0236994\ttraining's binary_logloss: 0.117763\tvalid_1's binary_error: 0.133056\tvalid_1's binary_logloss: 0.316418\n",
            "[178]\ttraining's binary_error: 0.0239306\ttraining's binary_logloss: 0.117147\tvalid_1's binary_error: 0.134096\tvalid_1's binary_logloss: 0.315887\n",
            "[179]\ttraining's binary_error: 0.023815\ttraining's binary_logloss: 0.116622\tvalid_1's binary_error: 0.135135\tvalid_1's binary_logloss: 0.316129\n",
            "[180]\ttraining's binary_error: 0.0234682\ttraining's binary_logloss: 0.116162\tvalid_1's binary_error: 0.135135\tvalid_1's binary_logloss: 0.316078\n",
            "[181]\ttraining's binary_error: 0.022659\ttraining's binary_logloss: 0.115327\tvalid_1's binary_error: 0.133056\tvalid_1's binary_logloss: 0.316127\n",
            "[182]\ttraining's binary_error: 0.0221965\ttraining's binary_logloss: 0.114574\tvalid_1's binary_error: 0.134096\tvalid_1's binary_logloss: 0.315992\n",
            "[183]\ttraining's binary_error: 0.0218497\ttraining's binary_logloss: 0.113961\tvalid_1's binary_error: 0.136175\tvalid_1's binary_logloss: 0.316233\n",
            "[184]\ttraining's binary_error: 0.0217341\ttraining's binary_logloss: 0.113342\tvalid_1's binary_error: 0.136175\tvalid_1's binary_logloss: 0.316095\n",
            "[185]\ttraining's binary_error: 0.0216185\ttraining's binary_logloss: 0.112756\tvalid_1's binary_error: 0.135135\tvalid_1's binary_logloss: 0.316292\n",
            "[186]\ttraining's binary_error: 0.0212717\ttraining's binary_logloss: 0.112278\tvalid_1's binary_error: 0.135135\tvalid_1's binary_logloss: 0.316785\n",
            "[187]\ttraining's binary_error: 0.0210405\ttraining's binary_logloss: 0.111688\tvalid_1's binary_error: 0.135135\tvalid_1's binary_logloss: 0.316967\n",
            "[188]\ttraining's binary_error: 0.0209249\ttraining's binary_logloss: 0.111152\tvalid_1's binary_error: 0.134096\tvalid_1's binary_logloss: 0.316975\n",
            "[189]\ttraining's binary_error: 0.0208092\ttraining's binary_logloss: 0.110481\tvalid_1's binary_error: 0.136175\tvalid_1's binary_logloss: 0.316376\n",
            "[190]\ttraining's binary_error: 0.0203468\ttraining's binary_logloss: 0.11004\tvalid_1's binary_error: 0.133056\tvalid_1's binary_logloss: 0.316182\n",
            "[191]\ttraining's binary_error: 0.0203468\ttraining's binary_logloss: 0.10964\tvalid_1's binary_error: 0.134096\tvalid_1's binary_logloss: 0.316827\n",
            "[192]\ttraining's binary_error: 0.0201156\ttraining's binary_logloss: 0.109142\tvalid_1's binary_error: 0.135135\tvalid_1's binary_logloss: 0.316879\n",
            "[193]\ttraining's binary_error: 0.0196532\ttraining's binary_logloss: 0.108552\tvalid_1's binary_error: 0.135135\tvalid_1's binary_logloss: 0.316506\n",
            "[194]\ttraining's binary_error: 0.0196532\ttraining's binary_logloss: 0.10814\tvalid_1's binary_error: 0.134096\tvalid_1's binary_logloss: 0.316499\n",
            "[195]\ttraining's binary_error: 0.0195376\ttraining's binary_logloss: 0.107693\tvalid_1's binary_error: 0.135135\tvalid_1's binary_logloss: 0.316566\n",
            "[196]\ttraining's binary_error: 0.0191908\ttraining's binary_logloss: 0.107262\tvalid_1's binary_error: 0.135135\tvalid_1's binary_logloss: 0.317275\n",
            "[197]\ttraining's binary_error: 0.0191908\ttraining's binary_logloss: 0.106742\tvalid_1's binary_error: 0.133056\tvalid_1's binary_logloss: 0.317162\n",
            "[198]\ttraining's binary_error: 0.0188439\ttraining's binary_logloss: 0.105998\tvalid_1's binary_error: 0.130977\tvalid_1's binary_logloss: 0.317199\n",
            "[199]\ttraining's binary_error: 0.0180347\ttraining's binary_logloss: 0.105493\tvalid_1's binary_error: 0.133056\tvalid_1's binary_logloss: 0.317433\n",
            "[200]\ttraining's binary_error: 0.0180347\ttraining's binary_logloss: 0.105082\tvalid_1's binary_error: 0.134096\tvalid_1's binary_logloss: 0.317382\n",
            "[201]\ttraining's binary_error: 0.0180347\ttraining's binary_logloss: 0.104633\tvalid_1's binary_error: 0.134096\tvalid_1's binary_logloss: 0.317547\n",
            "[202]\ttraining's binary_error: 0.0178035\ttraining's binary_logloss: 0.104246\tvalid_1's binary_error: 0.133056\tvalid_1's binary_logloss: 0.318409\n",
            "[203]\ttraining's binary_error: 0.0176879\ttraining's binary_logloss: 0.103698\tvalid_1's binary_error: 0.133056\tvalid_1's binary_logloss: 0.319223\n",
            "[204]\ttraining's binary_error: 0.0175723\ttraining's binary_logloss: 0.103349\tvalid_1's binary_error: 0.134096\tvalid_1's binary_logloss: 0.319347\n",
            "[205]\ttraining's binary_error: 0.0175723\ttraining's binary_logloss: 0.102752\tvalid_1's binary_error: 0.132017\tvalid_1's binary_logloss: 0.318778\n",
            "[206]\ttraining's binary_error: 0.0174566\ttraining's binary_logloss: 0.102322\tvalid_1's binary_error: 0.132017\tvalid_1's binary_logloss: 0.318703\n",
            "[207]\ttraining's binary_error: 0.0166474\ttraining's binary_logloss: 0.101889\tvalid_1's binary_error: 0.132017\tvalid_1's binary_logloss: 0.319024\n",
            "[208]\ttraining's binary_error: 0.0166474\ttraining's binary_logloss: 0.101382\tvalid_1's binary_error: 0.132017\tvalid_1's binary_logloss: 0.31936\n",
            "[209]\ttraining's binary_error: 0.0166474\ttraining's binary_logloss: 0.100921\tvalid_1's binary_error: 0.135135\tvalid_1's binary_logloss: 0.319225\n",
            "[210]\ttraining's binary_error: 0.0163006\ttraining's binary_logloss: 0.100461\tvalid_1's binary_error: 0.135135\tvalid_1's binary_logloss: 0.319724\n",
            "[211]\ttraining's binary_error: 0.016185\ttraining's binary_logloss: 0.0999217\tvalid_1's binary_error: 0.134096\tvalid_1's binary_logloss: 0.31967\n",
            "[212]\ttraining's binary_error: 0.016185\ttraining's binary_logloss: 0.0995617\tvalid_1's binary_error: 0.134096\tvalid_1's binary_logloss: 0.320085\n",
            "[213]\ttraining's binary_error: 0.0163006\ttraining's binary_logloss: 0.0991476\tvalid_1's binary_error: 0.136175\tvalid_1's binary_logloss: 0.320067\n",
            "[214]\ttraining's binary_error: 0.0163006\ttraining's binary_logloss: 0.0988261\tvalid_1's binary_error: 0.135135\tvalid_1's binary_logloss: 0.320148\n",
            "[215]\ttraining's binary_error: 0.016185\ttraining's binary_logloss: 0.0984117\tvalid_1's binary_error: 0.133056\tvalid_1's binary_logloss: 0.320437\n",
            "[216]\ttraining's binary_error: 0.016185\ttraining's binary_logloss: 0.0980795\tvalid_1's binary_error: 0.134096\tvalid_1's binary_logloss: 0.320245\n",
            "[217]\ttraining's binary_error: 0.0160694\ttraining's binary_logloss: 0.0975429\tvalid_1's binary_error: 0.134096\tvalid_1's binary_logloss: 0.32014\n",
            "[218]\ttraining's binary_error: 0.0159538\ttraining's binary_logloss: 0.0971845\tvalid_1's binary_error: 0.134096\tvalid_1's binary_logloss: 0.320967\n",
            "[219]\ttraining's binary_error: 0.0159538\ttraining's binary_logloss: 0.0969133\tvalid_1's binary_error: 0.135135\tvalid_1's binary_logloss: 0.321272\n",
            "[220]\ttraining's binary_error: 0.0159538\ttraining's binary_logloss: 0.0965131\tvalid_1's binary_error: 0.135135\tvalid_1's binary_logloss: 0.322132\n",
            "[221]\ttraining's binary_error: 0.0157225\ttraining's binary_logloss: 0.0960139\tvalid_1's binary_error: 0.135135\tvalid_1's binary_logloss: 0.321763\n",
            "[222]\ttraining's binary_error: 0.0150289\ttraining's binary_logloss: 0.0956058\tvalid_1's binary_error: 0.135135\tvalid_1's binary_logloss: 0.322243\n",
            "[223]\ttraining's binary_error: 0.0147977\ttraining's binary_logloss: 0.0951272\tvalid_1's binary_error: 0.135135\tvalid_1's binary_logloss: 0.322025\n",
            "[224]\ttraining's binary_error: 0.0146821\ttraining's binary_logloss: 0.0947422\tvalid_1's binary_error: 0.136175\tvalid_1's binary_logloss: 0.321289\n",
            "[225]\ttraining's binary_error: 0.0145665\ttraining's binary_logloss: 0.0941524\tvalid_1's binary_error: 0.137214\tvalid_1's binary_logloss: 0.3213\n",
            "[226]\ttraining's binary_error: 0.014104\ttraining's binary_logloss: 0.0935408\tvalid_1's binary_error: 0.135135\tvalid_1's binary_logloss: 0.321812\n",
            "[227]\ttraining's binary_error: 0.0138728\ttraining's binary_logloss: 0.0930212\tvalid_1's binary_error: 0.136175\tvalid_1's binary_logloss: 0.321601\n",
            "[228]\ttraining's binary_error: 0.0137572\ttraining's binary_logloss: 0.0926778\tvalid_1's binary_error: 0.137214\tvalid_1's binary_logloss: 0.321885\n",
            "[229]\ttraining's binary_error: 0.0137572\ttraining's binary_logloss: 0.0923306\tvalid_1's binary_error: 0.137214\tvalid_1's binary_logloss: 0.322002\n",
            "[230]\ttraining's binary_error: 0.0137572\ttraining's binary_logloss: 0.092082\tvalid_1's binary_error: 0.137214\tvalid_1's binary_logloss: 0.322408\n",
            "[231]\ttraining's binary_error: 0.0136416\ttraining's binary_logloss: 0.0915929\tvalid_1's binary_error: 0.137214\tvalid_1's binary_logloss: 0.322768\n",
            "[232]\ttraining's binary_error: 0.0136416\ttraining's binary_logloss: 0.0912803\tvalid_1's binary_error: 0.138254\tvalid_1's binary_logloss: 0.322643\n",
            "[233]\ttraining's binary_error: 0.0134104\ttraining's binary_logloss: 0.090929\tvalid_1's binary_error: 0.138254\tvalid_1's binary_logloss: 0.32252\n",
            "[234]\ttraining's binary_error: 0.013526\ttraining's binary_logloss: 0.0906281\tvalid_1's binary_error: 0.138254\tvalid_1's binary_logloss: 0.322433\n",
            "[235]\ttraining's binary_error: 0.0130636\ttraining's binary_logloss: 0.0901933\tvalid_1's binary_error: 0.137214\tvalid_1's binary_logloss: 0.3221\n",
            "[236]\ttraining's binary_error: 0.0130636\ttraining's binary_logloss: 0.0898474\tvalid_1's binary_error: 0.137214\tvalid_1's binary_logloss: 0.322439\n",
            "Early stopping, best iteration is:\n",
            "[136]\ttraining's binary_error: 0.0372254\ttraining's binary_logloss: 0.14449\tvalid_1's binary_error: 0.133056\tvalid_1's binary_logloss: 0.31223\n"
          ]
        }
      ]
    },
    {
      "cell_type": "markdown",
      "source": [
        "#### 평가"
      ],
      "metadata": {
        "id": "xAjyjkoKK9-w"
      }
    },
    {
      "cell_type": "code",
      "source": [
        "#시험용데이터\n",
        "get_eval(y_test, preds, pred_proba)"
      ],
      "metadata": {
        "colab": {
          "base_uri": "https://localhost:8080/"
        },
        "id": "CA68G8-HrsUN",
        "outputId": "f5fe7f1d-efae-4cd9-8bfc-493958d1871b"
      },
      "execution_count": null,
      "outputs": [
        {
          "output_type": "stream",
          "name": "stdout",
          "text": [
            "오차행렬\n",
            "[[1859  197]\n",
            " [ 329  199]]\n",
            "정확도:  0.796, 정밀도:  0.503, 재현율:  0.377, F1:  0.431, AUC:  0.766\n"
          ]
        }
      ]
    },
    {
      "cell_type": "code",
      "source": [
        "# 학습용데이터\n",
        "tpreds = lgbm_wrapper.predict(X_train)\n",
        "tpred_proba = lgbm_wrapper.predict_proba(X_train)[:,1]\n",
        "get_eval(y_train, tpreds, tpred_proba)"
      ],
      "metadata": {
        "colab": {
          "base_uri": "https://localhost:8080/"
        },
        "id": "AW1gJ_kszc5f",
        "outputId": "470fa0c2-53c0-46a4-87d1-e0c57e39b13e"
      },
      "execution_count": null,
      "outputs": [
        {
          "output_type": "stream",
          "name": "stdout",
          "text": [
            "오차행렬\n",
            "[[4729   77]\n",
            " [ 373 4433]]\n",
            "정확도:  0.953, 정밀도:  0.983, 재현율:  0.922, F1:  0.952, AUC:  0.990\n"
          ]
        }
      ]
    },
    {
      "cell_type": "markdown",
      "source": [
        "#### feature importance"
      ],
      "metadata": {
        "id": "WI0tpzrYLBvF"
      }
    },
    {
      "cell_type": "code",
      "source": [
        "from lightgbm import plot_importance\n",
        "\n",
        "plot_importance(lgbm_wrapper)"
      ],
      "metadata": {
        "colab": {
          "base_uri": "https://localhost:8080/",
          "height": 748
        },
        "id": "bjvSSxD2rsHO",
        "outputId": "33c1b00f-4ebe-4fe3-fdd0-ab59595dcb0b"
      },
      "execution_count": null,
      "outputs": [
        {
          "output_type": "execute_result",
          "data": {
            "text/plain": [
              "<matplotlib.axes._subplots.AxesSubplot at 0x7f7f6e254e10>"
            ]
          },
          "metadata": {},
          "execution_count": 112
        },
        {
          "output_type": "display_data",
          "data": {
            "text/plain": [
              "<Figure size 1152x864 with 1 Axes>"
            ],
            "image/png": "[encoded data removed]"
          },
          "metadata": {
            "needs_background": "light"
          }
        }
      ]
    },
    {
      "cell_type": "code",
      "source": [
        ""
      ],
      "metadata": {
        "id": "2Rzq1_BQrr9L"
      },
      "execution_count": null,
      "outputs": []
    }
  ]
}